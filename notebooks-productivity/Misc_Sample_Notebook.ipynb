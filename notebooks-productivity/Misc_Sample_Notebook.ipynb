{
 "cells": [
  {
   "cell_type": "code",
   "execution_count": 21,
   "metadata": {
    "collapsed": true
   },
   "outputs": [],
   "source": [
    "from __future__ import division\n",
    "\n",
    "from faculty_hiring.misc.util import *\n",
    "from faculty_hiring.misc.plotting import *  # Definitions for LABEL_SIZE, colors, etc.\n",
    "from faculty_hiring.parse import faculty_parser, institution_parser\n",
    "from faculty_hiring.parse import load\n",
    "from faculty_hiring.misc.subfield import topic_descriptions, longer_topic_descriptions, num_topics \n",
    "\n",
    "import numpy as np\n",
    "import scipy as sp\n",
    "import os\n",
    "import palettable\n",
    "\n",
    "from scipy.stats.stats import pearsonr, mannwhitneyu, ttest_ind\n",
    "from scipy.stats import ttest_ind, ks_2samp, chi2_contingency, mannwhitneyu\n",
    "from collections import Counter"
   ]
  },
  {
   "cell_type": "markdown",
   "metadata": {},
   "source": [
    "***File locations***: Update these to the appropriate paths on your machine."
   ]
  },
  {
   "cell_type": "code",
   "execution_count": 4,
   "metadata": {
    "collapsed": true
   },
   "outputs": [],
   "source": [
    "faculty_file = '/Users/samway/Documents/Work/ClausetLab/projects/faculty_hiring/data/faculty_cs_CURRENT.txt'\n",
    "inst_file = '/Users/samway/Documents/Work/ClausetLab/projects/faculty_hiring/data/inst_cs_CURRENT.txt'\n",
    "figures_dir = '/Users/samway/Documents/Work/ClausetLab/projects/faculty_hiring/notebooks-productivity/figures/'\n",
    "\n",
    "# Path to prepped DBLP pickles\n",
    "dblp_dir = '/Users/samway/Documents/Work/ClausetLab/projects/faculty_hiring/data/profiles_DBLP_Nov16/'"
   ]
  },
  {
   "cell_type": "markdown",
   "metadata": {},
   "source": [
    "*** Load some data ***"
   ]
  },
  {
   "cell_type": "code",
   "execution_count": 5,
   "metadata": {
    "collapsed": false
   },
   "outputs": [],
   "source": [
    "inst = institution_parser.parse_institution_records(open(inst_file))\n",
    "asst_faculty = load.load_assistant_profs(open(faculty_file), inst, ranking='pi')\n",
    "load.load_all_publications(asst_faculty, dblp_dir)  # This takes a minute.."
   ]
  },
  {
   "cell_type": "code",
   "execution_count": 6,
   "metadata": {
    "collapsed": false
   },
   "outputs": [
    {
     "data": {
      "text/plain": [
       "{'NRC95': 37,\n",
       " 'Region': 'West',\n",
       " 'USN2010': 39,\n",
       " 'flagship': 1,\n",
       " 'pi': 68.17,\n",
       " 'pi_inv': 0.014669209329617133,\n",
       " 'pi_rescaled': 0.67797073704362099,\n",
       " 'private': 0,\n",
       " 'state': 'CO',\n",
       " 'u': 56}"
      ]
     },
     "execution_count": 6,
     "metadata": {},
     "output_type": "execute_result"
    }
   ],
   "source": [
    "\"\"\"\n",
    "    inst is a dictionary of institutional attributes, indexed by school name.\n",
    "\n",
    "    pi is the ranking from Aaron and Dan's first paper. Use this for prestige.\n",
    "    pirvate is a boolean: 1=Private, 0=Public.\n",
    "    flagship is defined by state; some early studies looked at this.\n",
    "    NRC95 is the national research council's 1995 ranking.\n",
    "    USN2010 is the US News' ranking.\n",
    "\"\"\" \n",
    "inst['University of Colorado, Boulder']"
   ]
  },
  {
   "cell_type": "code",
   "execution_count": 7,
   "metadata": {
    "collapsed": false
   },
   "outputs": [
    {
     "data": {
      "text/plain": [
       "['__contains__',\n",
       " '__doc__',\n",
       " '__getitem__',\n",
       " '__init__',\n",
       " '__module__',\n",
       " '__setitem__',\n",
       " 'alma_mater',\n",
       " 'current',\n",
       " 'current_job',\n",
       " 'dblp',\n",
       " 'dblp_pubs',\n",
       " 'dblp_stats',\n",
       " 'dblp_z',\n",
       " 'department',\n",
       " 'education',\n",
       " 'email',\n",
       " 'faculty',\n",
       " 'facultyName',\n",
       " 'first_asst_job_location',\n",
       " 'first_asst_job_rank',\n",
       " 'first_asst_job_region',\n",
       " 'first_asst_job_year',\n",
       " 'first_asst_prof',\n",
       " 'first_job',\n",
       " 'first_job_location',\n",
       " 'first_job_year',\n",
       " 'full_professor',\n",
       " 'gs',\n",
       " 'has_postdoc',\n",
       " 'is_female',\n",
       " 'num_asst_jobs',\n",
       " 'num_asst_jobs_kd',\n",
       " 'phd',\n",
       " 'phd_location',\n",
       " 'phd_rank',\n",
       " 'phd_region',\n",
       " 'phd_year',\n",
       " 'place',\n",
       " 'recordDate',\n",
       " 'sex',\n",
       " 'topic_dist']"
      ]
     },
     "execution_count": 7,
     "metadata": {},
     "output_type": "execute_result"
    }
   ],
   "source": [
    "# What do these records look like?\n",
    "person = asst_faculty[0]\n",
    "dir(person)"
   ]
  },
  {
   "cell_type": "code",
   "execution_count": 15,
   "metadata": {
    "collapsed": false
   },
   "outputs": [
    {
     "name": "stdout",
     "output_type": "stream",
     "text": [
      "Gail-Joon Ahn graduated from George Mason University, which is ranked 97.34.\n",
      "Or just... 97.34\n"
     ]
    }
   ],
   "source": [
    "print '%s graduated from %s, which is ranked %.2f.' % (person.facultyName, \n",
    "                                                      person.phd_location, \n",
    "                                                      inst[person.phd_location]['pi'])\n",
    "\n",
    "print 'Or just...', person.phd_rank  # Requires specifying ranking='pi' in the call to load_assistant_profs()"
   ]
  },
  {
   "cell_type": "code",
   "execution_count": 16,
   "metadata": {
    "collapsed": false
   },
   "outputs": [
    {
     "name": "stdout",
     "output_type": "stream",
     "text": [
      "{'author_ids': [u'Zhao:Ziming', u'Sankaran:Mukund', '', u'Holt:Thomas_J=', u'Jing:Yiming', u'Hu:Hongxin'], 'title': u'Mules, Seals, and Attacking Tools: Analyzing 12 Online Marketplaces.', 'pub_type': u'article', 'year': 2016, 'venue': u'IEEE Security & Privacy', 'authors': [u'Ziming Zhao', u'Mukund Sankaran', u'Gail-Joon Ahn', u'Thomas J. Holt', u'Yiming Jing', u'Hongxin Hu'], 'author_role': 1}\n"
     ]
    }
   ],
   "source": [
    "# Publications are in 'dblp_pubs'\n",
    "for person in asst_faculty:\n",
    "    if 'dblp_pubs' in person: # if we have publication data for them\n",
    "        for pub in person['dblp_pubs']:\n",
    "            print pub  # Another dictionary \n",
    "            break\n",
    "        break"
   ]
  },
  {
   "cell_type": "markdown",
   "metadata": {},
   "source": [
    "NOTE: pub['author_role'] will be one of [0,1,2] for first-, middle-, or last-author publication. This field gets filled in by running fuzzy string matching with person.facultyName against pub['authors']. Whichever position most closely matches the person's name determines the author position and therefore author role. \n",
    "\n",
    "For convenience the following globals are also set:\n",
    "* FAP == 0  \n",
    "* MAP == 1\n",
    "* LAP == 2\n",
    "\n",
    "(These are defined in faculty_hiring.misc.util.)"
   ]
  },
  {
   "cell_type": "code",
   "execution_count": 23,
   "metadata": {
    "collapsed": false
   },
   "outputs": [
    {
     "name": "stdout",
     "output_type": "stream",
     "text": [
      "0 1 2\n"
     ]
    }
   ],
   "source": [
    "print FAP, MAP, LAP"
   ]
  },
  {
   "cell_type": "code",
   "execution_count": 18,
   "metadata": {
    "collapsed": false
   },
   "outputs": [],
   "source": [
    "num_publications = []  # number of publications *excluding* middle author pubs\n",
    "\n",
    "for person in asst_faculty:\n",
    "    if 'dblp_pubs' in person:\n",
    "        pub_count = 0\n",
    "        for pub in person['dblp_pubs']:\n",
    "            if pub['author_role'] != MAP:\n",
    "                pub_count += 1\n",
    "        num_publications.append(pub_count)"
   ]
  },
  {
   "cell_type": "code",
   "execution_count": 19,
   "metadata": {
    "collapsed": false
   },
   "outputs": [
    {
     "data": {
      "image/png": "[encoded data removed]",
      "text/plain": [
       "<matplotlib.figure.Figure at 0x1081e7090>"
      ]
     },
     "metadata": {},
     "output_type": "display_data"
    }
   ],
   "source": [
    "# misc.plotting has lots of predefined sizes, colors, functions for making plots\n",
    "fig, ax = plt.subplots(figsize=SINGLE_FIG_SIZE)\n",
    "\n",
    "bins = np.linspace(0, 400, 50)\n",
    "plt.hist(num_publications, bins=bins, color=ACCENT_COLOR_1, edgecolor='w')\n",
    "\n",
    "ax.set_xlabel('Number of first- or last-author publications')\n",
    "ax.set_ylabel('Number of faculty')\n",
    "ax.set_xlim(0, 300)\n",
    "\n",
    "finalize(ax)  \n",
    "\n",
    "plt.show()"
   ]
  },
  {
   "cell_type": "code",
   "execution_count": null,
   "metadata": {
    "collapsed": true
   },
   "outputs": [],
   "source": []
  }
 ],
 "metadata": {
  "kernelspec": {
   "display_name": "Python 2",
   "language": "python",
   "name": "python2"
  },
  "language_info": {
   "codemirror_mode": {
    "name": "ipython",
    "version": 2
   },
   "file_extension": ".py",
   "mimetype": "text/x-python",
   "name": "python",
   "nbconvert_exporter": "python",
   "pygments_lexer": "ipython2",
   "version": "2.7.9"
  }
 },
 "nbformat": 4,
 "nbformat_minor": 1
}
