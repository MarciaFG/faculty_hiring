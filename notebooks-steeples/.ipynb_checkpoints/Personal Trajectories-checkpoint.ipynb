{
 "metadata": {
  "name": "",
  "signature": "sha256:71e4b2f4dab556d1ebc0be44f0bdbc99339f273bd603c7d62a585423364f4279"
 },
 "nbformat": 3,
 "nbformat_minor": 0,
 "worksheets": []
}