{
 "metadata": {
  "name": "",
  "signature": "sha256:57ff6e036c984e534aec288ee0385c2be124e9091e2f5f50283ad3d38d80c324"
 },
 "nbformat": 3,
 "nbformat_minor": 0,
 "worksheets": [
  {
   "cells": [
    {
     "cell_type": "code",
     "collapsed": false,
     "input": [
      "from __future__ import division\n",
      "\n",
      "from faculty_hiring.misc.plotting import *  # Definitions for LABEL_SIZE and such\n",
      "from faculty_hiring.misc.gaussian_kde import gaussian_kde\n",
      "from faculty_hiring.parse import faculty_parser, institution_parser\n",
      "from faculty_hiring.parse import load\n",
      "from faculty_hiring.parse.nces import parse_phds_awarded\n",
      "from faculty_hiring.misc.subfield import topic_descriptions, num_topics \n",
      "# topic_descriptions is a list of topic descriptions, num_topics is the length of that list.\n",
      "\n",
      "from scipy.stats.stats import pearsonr, mannwhitneyu\n",
      "from collections import Counter\n",
      "import numpy as np\n",
      "import scipy as sp\n",
      "import os\n",
      "\n",
      "# File locations\n",
      "faculty_file = '/Users/samway/Documents/Work/ClausetLab/projects/faculty_hiring/data/faculty_cs_CURRENT.txt'\n",
      "inst_file = '/Users/samway/Documents/Work/ClausetLab/projects/faculty_hiring/data/inst_cs.txt'\n",
      "figures_dir = '/Users/samway/Documents/Work/ClausetLab/projects/faculty_hiring/notebooks/figures/'\n",
      "nces_table = '/Users/samway/Documents/Work/ClausetLab/projects/faculty_hiring/data/nces_table.txt'\n",
      "\n",
      "rank_type = 'pi_rescaled'\n",
      "inst = institution_parser.parse_institution_records(open(inst_file))\n",
      "faculty = load.load_assistant_profs(open(faculty_file), inst, ranking=rank_type)"
     ],
     "language": "python",
     "metadata": {},
     "outputs": [],
     "prompt_number": 9
    },
    {
     "cell_type": "heading",
     "level": 2,
     "metadata": {},
     "source": [
      "How many postdocs are at one of our 205 institutions?"
     ]
    },
    {
     "cell_type": "code",
     "collapsed": false,
     "input": [
      "yes = 0.\n",
      "tot = 0.\n",
      "for person in faculty:\n",
      "    for job in person.faculty:\n",
      "        if job['rank'] == 'PostDoc': \n",
      "            tot += 1\n",
      "            if job['place'] in inst:\n",
      "                yes += 1\n",
      "print '%.2f%% of postdocs are an an in-sample institution' % (100*yes/tot)"
     ],
     "language": "python",
     "metadata": {},
     "outputs": [
      {
       "output_type": "stream",
       "stream": "stdout",
       "text": [
        "73.43% of postdocs are an an in-sample institution\n"
       ]
      }
     ],
     "prompt_number": 15
    },
    {
     "cell_type": "heading",
     "level": 2,
     "metadata": {},
     "source": [
      "How many postdocs do people do?"
     ]
    },
    {
     "cell_type": "code",
     "collapsed": false,
     "input": [
      "fig, ax = plt.subplots(1, 1, figsize=(4,4))\n",
      "\n",
      "num_postdocs = []\n",
      "\n",
      "for person in faculty:\n",
      "    per_person = 0\n",
      "    for job in person.faculty:\n",
      "        if job['rank'] == 'PostDoc':\n",
      "            per_person += 1\n",
      "            \n",
      "    '''\n",
      "    if per_person > 1:\n",
      "        print person.facultyName\n",
      "        for job in person.faculty:\n",
      "            if job['rank'] == 'PostDoc':\n",
      "                print job\n",
      "    '''\n",
      "\n",
      "    num_postdocs.append(per_person)\n",
      "\n",
      "plot_x = np.arange(0, np.max(num_postdocs)+1, dtype=int)\n",
      "counts = Counter(num_postdocs)\n",
      "total = 1.*len(num_postdocs)\n",
      "y = [100*counts[x]/total for x in plot_x]\n",
      "ax.bar(plot_x, y, align='center', width=0.75, color=ALMOST_BLACK, edgecolor='None')\n",
      "ax.set_xticks(plot_x)\n",
      "ax.set_ylim(0,90)\n",
      "plt.show()"
     ],
     "language": "python",
     "metadata": {},
     "outputs": [
      {
       "metadata": {},
       "output_type": "display_data",
       "png": "[encoded data removed]",
       "text": [
        "<matplotlib.figure.Figure at 0x1083b2510>"
       ]
      }
     ],
     "prompt_number": 42
    },
    {
     "cell_type": "heading",
     "level": 2,
     "metadata": {},
     "source": [
      "Do people postdoc at more or less prestigious institutions?"
     ]
    },
    {
     "cell_type": "code",
     "collapsed": false,
     "input": [
      "fig, ax = plt.subplots(1, 1, figsize=(4,4))\n",
      "\n",
      "diffs = []\n",
      "\n",
      "for person in faculty:\n",
      "    per_person = 0\n",
      "    for job in person.faculty:\n",
      "        if job['rank'] == 'PostDoc':\n",
      "            if job['place'] in inst:\n",
      "                diffs.append(inst[job['place']][rank_type] - person.phd_rank)\n",
      "\n",
      "bins = np.linspace(-1, 1, 100)\n",
      "ax.hist(diffs, bins=bins, color=ALMOST_BLACK, normed=True)\n",
      "plt.show()"
     ],
     "language": "python",
     "metadata": {},
     "outputs": [
      {
       "metadata": {},
       "output_type": "display_data",
       "png": "[encoded data removed]",
       "text": [
        "<matplotlib.figure.Figure at 0x107cbb650>"
       ]
      }
     ],
     "prompt_number": 45
    },
    {
     "cell_type": "code",
     "collapsed": false,
     "input": [
      "(inst['Stanford University'][rank_type] - inst['University of Michigan'][rank_type]) * 27.1"
     ],
     "language": "python",
     "metadata": {},
     "outputs": [
      {
       "metadata": {},
       "output_type": "pyout",
       "prompt_number": 49,
       "text": [
        "0.13254282979429977"
       ]
      }
     ],
     "prompt_number": 49
    },
    {
     "cell_type": "code",
     "collapsed": false,
     "input": [
      "fig, ax = plt.subplots(1, 1, figsize=(4,4))\n",
      "\n",
      "diffs = []\n",
      "\n",
      "for person in faculty:\n",
      "    per_person = 0\n",
      "    for job in person.faculty:\n",
      "        if job['rank'] == 'PostDoc':\n",
      "            if job['place'] in inst and job['place'] != person.phd_location:\n",
      "                diffs.append(inst[job['place']][rank_type] - person.phd_rank)\n",
      "\n",
      "bins = np.linspace(-1, 1, 200)\n",
      "ax.hist(diffs, bins=bins, color=ALMOST_BLACK, normed=True)\n",
      "plt.show()"
     ],
     "language": "python",
     "metadata": {},
     "outputs": [
      {
       "metadata": {},
       "output_type": "display_data",
       "png": "[encoded data removed]",
       "text": [
        "<matplotlib.figure.Figure at 0x107f78390>"
       ]
      }
     ],
     "prompt_number": 53
    },
    {
     "cell_type": "heading",
     "level": 2,
     "metadata": {},
     "source": [
      "How many are at the same institution?"
     ]
    },
    {
     "cell_type": "code",
     "collapsed": false,
     "input": [
      "yes = 0.\n",
      "tot = 0.\n",
      "\n",
      "for person in faculty:\n",
      "    per_person = 0\n",
      "    for job in person.faculty:\n",
      "        if job['rank'] == 'PostDoc' and job['place'] in inst:\n",
      "            if job['place'] == person.phd_location:\n",
      "                yes += 1\n",
      "            tot += 1\n",
      "            \n",
      "print yes/tot"
     ],
     "language": "python",
     "metadata": {},
     "outputs": [
      {
       "output_type": "stream",
       "stream": "stdout",
       "text": [
        "0.315668202765\n"
       ]
      }
     ],
     "prompt_number": 55
    },
    {
     "cell_type": "heading",
     "level": 2,
     "metadata": {},
     "source": [
      "Where do these people start?"
     ]
    },
    {
     "cell_type": "code",
     "collapsed": false,
     "input": [
      "fig, ax = plt.subplots(1, 1, figsize=(4,4))\n",
      "\n",
      "ranks = []\n",
      "\n",
      "for person in faculty:\n",
      "    per_person = 0\n",
      "    for job in person.faculty:\n",
      "        if job['rank'] == 'PostDoc':\n",
      "            if job['place'] in inst:\n",
      "                ranks.append(person.phd_rank)\n",
      "\n",
      "bins = np.linspace(0, 1, 200)\n",
      "ax.hist(ranks, bins=bins, color=ALMOST_BLACK, normed=True)\n",
      "plt.show()"
     ],
     "language": "python",
     "metadata": {},
     "outputs": [
      {
       "metadata": {},
       "output_type": "display_data",
       "png": "[encoded data removed]",
       "text": [
        "<matplotlib.figure.Figure at 0x107cc2750>"
       ]
      }
     ],
     "prompt_number": 57
    },
    {
     "cell_type": "heading",
     "level": 2,
     "metadata": {},
     "source": [
      "And where do they place?"
     ]
    },
    {
     "cell_type": "code",
     "collapsed": false,
     "input": [
      "fig, ax = plt.subplots(1, 1, figsize=(4,4))\n",
      "\n",
      "ranks = []\n",
      "\n",
      "for person in faculty:\n",
      "    per_person = 0\n",
      "    for job in person.faculty:\n",
      "        if job['rank'] == 'PostDoc':\n",
      "            if job['place'] in inst:\n",
      "                ranks.append(person.first_asst_job_rank)\n",
      "\n",
      "bins = np.linspace(0, 1, 200)\n",
      "ax.hist(ranks, bins=bins, color=ALMOST_BLACK, normed=True)\n",
      "plt.show()"
     ],
     "language": "python",
     "metadata": {},
     "outputs": [
      {
       "metadata": {},
       "output_type": "display_data",
       "png": "[encoded data removed]",
       "text": [
        "<matplotlib.figure.Figure at 0x10bd51150>"
       ]
      }
     ],
     "prompt_number": 58
    },
    {
     "cell_type": "code",
     "collapsed": false,
     "input": [],
     "language": "python",
     "metadata": {},
     "outputs": []
    }
   ],
   "metadata": {}
  }
 ]
}