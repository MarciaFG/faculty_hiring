{
 "metadata": {
  "name": "",
  "signature": "sha256:bb835bd655aba80a4c0253ca3c68a031f86db84f99e43d9e90f2f5c142a5eeb2"
 },
 "nbformat": 3,
 "nbformat_minor": 0,
 "worksheets": [
  {
   "cells": [
    {
     "cell_type": "code",
     "collapsed": false,
     "input": [
      "from faculty_hiring.misc.plotting import *  # Definitions for LABEL_SIZE and such\n",
      "from faculty_hiring.misc.gaussian_kde import gaussian_kde\n",
      "from faculty_hiring.parse import faculty_parser, institution_parser\n",
      "from faculty_hiring.parse import load\n",
      "from faculty_hiring.misc.subfield import topic_descriptions, num_topics \n",
      "# topic_descriptions is a list of topic descriptions, num_topics is the length of that list.\n",
      "\n",
      "from collections import Counter\n",
      "import numpy as np\n",
      "import scipy as sp\n",
      "import palettable\n",
      "import os\n",
      "\n",
      "# Color stuff\n",
      "cmap = palettable.tableau.Tableau_10.mpl_colormap\n",
      "colors = palettable.tableau.Tableau_10.mpl_colors\n",
      "\n",
      "# File locations\n",
      "faculty_file = '/Users/samway/Documents/Work/ClausetLab/projects/faculty_hiring/data/faculty_cs_0930.txt'\n",
      "inst_file = '/Users/samway/Documents/Work/ClausetLab/projects/faculty_hiring/data/inst_cs.txt'\n",
      "figures_dir = '/Users/samway/Documents/Work/ClausetLab/projects/faculty_hiring/notebooks/figures/'\n",
      "\n",
      "# (Optional, these are for loading publication profiles)\n",
      "# dblp_dir = '/Users/samway/Documents/Work/ClausetLab/projects/faculty_hiring/data/profiles_DBLP_all/'\n",
      "# gs_dir = '/Users/samway/Documents/Work/ClausetLab/projects/faculty_hiring/data/profiles_GS_all/'"
     ],
     "language": "python",
     "metadata": {},
     "outputs": [],
     "prompt_number": 1
    },
    {
     "cell_type": "heading",
     "level": 2,
     "metadata": {},
     "source": [
      "Loading the dataset"
     ]
    },
    {
     "cell_type": "code",
     "collapsed": false,
     "input": [
      "inst = institution_parser.parse_institution_records(open(inst_file))\n",
      "faculty = load.load_assistant_profs(open(faculty_file))\n",
      "# load.load_all_publications(faculty, dblp_dir, gs_dir) # <-- need to have gs_dir and dblp_dir defined"
     ],
     "language": "python",
     "metadata": {},
     "outputs": [],
     "prompt_number": 2
    },
    {
     "cell_type": "heading",
     "level": 5,
     "metadata": {},
     "source": [
      "Wait, what are those things?"
     ]
    },
    {
     "cell_type": "markdown",
     "metadata": {},
     "source": [
      "They're dictionaries. Here's the entry for Stanford:"
     ]
    },
    {
     "cell_type": "code",
     "collapsed": false,
     "input": [
      "inst['Stanford University']"
     ],
     "language": "python",
     "metadata": {},
     "outputs": [
      {
       "metadata": {},
       "output_type": "pyout",
       "prompt_number": 3,
       "text": [
        "{'NRC95': 1,\n",
        " 'Region': 'West',\n",
        " 'USN2010': 1,\n",
        " 'pi': 2.23,\n",
        " 'pi_inv': 0.4484304932735426,\n",
        " 'pi_rescaled': 1.0,\n",
        " 'u': 1}"
       ]
      }
     ],
     "prompt_number": 3
    },
    {
     "cell_type": "markdown",
     "metadata": {},
     "source": [
      "For institutions that aren't in our records, there's an 'UNKNOWN' entry. Assume that if we haven't heard of the institution that the hiring committees haven't either. Here's code to grab the institution profile for a person, which, if it doesn't exists grabs the 'UNKNOWN' profile:"
     ]
    },
    {
     "cell_type": "code",
     "collapsed": false,
     "input": [
      "inst.get('Weird University', inst['UNKNOWN'])"
     ],
     "language": "python",
     "metadata": {},
     "outputs": [
      {
       "metadata": {},
       "output_type": "pyout",
       "prompt_number": 4,
       "text": [
        "{'Region': 'Earth',\n",
        " 'pi': 206.0,\n",
        " 'pi_inv': 0.0048543689320388345,\n",
        " 'pi_rescaled': 0.0048543689320388328}"
       ]
      }
     ],
     "prompt_number": 4
    },
    {
     "cell_type": "markdown",
     "metadata": {},
     "source": [
      "What about the faculty records?"
     ]
    },
    {
     "cell_type": "code",
     "collapsed": false,
     "input": [
      "f = faculty[0]\n",
      "print len(faculty)\n",
      "dir(f)"
     ],
     "language": "python",
     "metadata": {},
     "outputs": [
      {
       "output_type": "stream",
       "stream": "stdout",
       "text": [
        "3038\n"
       ]
      },
      {
       "metadata": {},
       "output_type": "pyout",
       "prompt_number": 5,
       "text": [
        "['__contains__',\n",
        " '__doc__',\n",
        " '__getitem__',\n",
        " '__init__',\n",
        " '__module__',\n",
        " '__setitem__',\n",
        " 'alma_mater',\n",
        " 'current',\n",
        " 'current_job',\n",
        " 'dblp',\n",
        " 'dblp_z',\n",
        " 'department',\n",
        " 'education',\n",
        " 'email',\n",
        " 'faculty',\n",
        " 'facultyName',\n",
        " 'first_asst_job_location',\n",
        " 'first_asst_job_year',\n",
        " 'first_asst_prof',\n",
        " 'first_job',\n",
        " 'first_job_location',\n",
        " 'first_job_year',\n",
        " 'full_professor',\n",
        " 'gs',\n",
        " 'has_postdoc',\n",
        " 'is_female',\n",
        " 'phd',\n",
        " 'phd_location',\n",
        " 'phd_year',\n",
        " 'place',\n",
        " 'recordDate',\n",
        " 'sex',\n",
        " 'topic_dist']"
       ]
      }
     ],
     "prompt_number": 5
    },
    {
     "cell_type": "code",
     "collapsed": false,
     "input": [
      "# These will do the same thing:\n",
      "print f['facultyName']\n",
      "print f.facultyName"
     ],
     "language": "python",
     "metadata": {},
     "outputs": [
      {
       "output_type": "stream",
       "stream": "stdout",
       "text": [
        "Gail-Joon Ahn\n",
        "Gail-Joon Ahn\n"
       ]
      }
     ],
     "prompt_number": 6
    },
    {
     "cell_type": "code",
     "collapsed": false,
     "input": [
      "# These are often important \n",
      "print f.first_asst_job_location, f.first_asst_job_year\n",
      "print f.phd_location, f.phd_year"
     ],
     "language": "python",
     "metadata": {},
     "outputs": [
      {
       "output_type": "stream",
       "stream": "stdout",
       "text": [
        "University of North Carolina, Charlotte 2000\n",
        "George Mason University 2000\n"
       ]
      }
     ],
     "prompt_number": 7
    },
    {
     "cell_type": "heading",
     "level": 2,
     "metadata": {},
     "source": [
      "Basic Stats"
     ]
    },
    {
     "cell_type": "code",
     "collapsed": false,
     "input": [
      "len(faculty)"
     ],
     "language": "python",
     "metadata": {},
     "outputs": [
      {
       "metadata": {},
       "output_type": "pyout",
       "prompt_number": 3,
       "text": [
        "3038"
       ]
      }
     ],
     "prompt_number": 3
    },
    {
     "cell_type": "heading",
     "level": 2,
     "metadata": {},
     "source": [
      "Plotting example"
     ]
    },
    {
     "cell_type": "code",
     "collapsed": false,
     "input": [
      "fig, ax = plt.subplots(1, 1, figsize=(6,4))\n",
      "\n",
      "start_years = np.zeros(len(faculty), dtype=int)\n",
      "female_start_years = []\n",
      "\n",
      "for i, f in enumerate(faculty):\n",
      "    start_years[i] = f.first_asst_job_year\n",
      "    if f.sex == 'F':\n",
      "        female_start_years.append(f.first_asst_job_year)\n",
      "        \n",
      "bins = np.arange(1955, 2012) + 0.5\n",
      "\n",
      "temp = FEMALE_COLOR\n",
      "FEMALE_COLOR = (0.40254901960784313, 0.75274509803921569, 0.50254901960784313)\n",
      "    \n",
      "# I have a lot of pre-defined font sizes and stuff that are in faculty_hiring.misc.plotting\n",
      "# Try to use these wherever possible to help keep things consistent. \n",
      "x_pad = 0.5\n",
      "ax.set_xlim(1970-x_pad, 2012-x_pad)\n",
      "ax.hist(start_years, bins=bins, color=DARK_COLOR, edgecolor='w', clip_on=False, label='All hires')\n",
      "ax.hist(female_start_years, bins=bins, color=FEMALE_COLOR, edgecolor='w', clip_on=False, label='Female hires')\n",
      "ax.set_xlabel('Start year', fontsize=LABEL_SIZE)\n",
      "ax.set_ylabel('Number of faculty hired', fontsize=LABEL_SIZE)\n",
      "ax.tick_params(axis='both', which='major', labelsize=TICK_SIZE)\n",
      "hide_right_top_axis(ax)\n",
      "\n",
      "fake_line_all = Line2D(range(1), range(1), color=DARK_COLOR, marker='o',markersize=15, linestyle='None', markeredgecolor='w')\n",
      "fake_line_f = Line2D(range(1), range(1), color=FEMALE_COLOR, marker='o',markersize=15, linestyle='None', markeredgecolor='w')\n",
      "plt.legend((fake_line_all,fake_line_f),('All hires','Female hires'), numpoints=1, loc='upper left', frameon=False, fontsize=LABEL_SIZE)\n",
      "#ax.legend(loc='upper left', frameon=False)\n",
      "plt.savefig(os.path.join(figures_dir, 'faculty_per_year.pdf'))\n",
      "\n",
      "FEMALE_COLOR = temp\n",
      "\n",
      "plt.show()"
     ],
     "language": "python",
     "metadata": {},
     "outputs": [
      {
       "metadata": {},
       "output_type": "display_data",
       "png": "[encoded data removed]",
       "text": [
        "<matplotlib.figure.Figure at 0x108865090>"
       ]
      }
     ],
     "prompt_number": 15
    },
    {
     "cell_type": "code",
     "collapsed": false,
     "input": [
      "fig, ax = plt.subplots(1, 1, figsize=(6,4))\n",
      "\n",
      "start_years = np.zeros(len(faculty), dtype=int)\n",
      "female_start_years = []\n",
      "\n",
      "for i, f in enumerate(faculty):\n",
      "    start_years[i] = f.first_asst_job_year\n",
      "    if f.sex == 'F':\n",
      "        female_start_years.append(f.first_asst_job_year)\n",
      "        \n",
      "bins = np.arange(1970, 2012)\n",
      "    \n",
      "# I have a lot of pre-defined font sizes and stuff that are in faculty_hiring.misc.plotting\n",
      "# Try to use these wherever possible to help keep things consistent. \n",
      "ax.set_xlim(1970, 2011)\n",
      "start_years_hist,_ = np.histogram(start_years, bins=bins)\n",
      "start_years_hist_women,_ = np.histogram(female_start_years, bins=bins)\n",
      "\n",
      "cumulative_all = np.cumsum(start_years_hist)\n",
      "cumulative_women = np.cumsum(start_years_hist_women)\n",
      "\n",
      "ax.bar(bins[:-1], cumulative_all / float(cumulative_all[-1]), color=DARK_COLOR, width=1, edgecolor='w', align='center', clip_on=False)\n",
      "ax.bar(bins[:-1], cumulative_women / float(cumulative_women[-1]), color=FEMALE_COLOR, width=1, edgecolor='w', align='center', clip_on=False)\n",
      "\n",
      "'''\n",
      "fraction_women = cumulative_women / float(cumulative_women[-1])\n",
      "for b, f in zip(bins[:-1], fraction_women):\n",
      "    print b,f\n",
      "    \n",
      "ax.plot([bins[0], bins[-1]], [0.5, 0.5], '--', color=DARK_COLOR)\n",
      "'''\n",
      "\n",
      "\n",
      "ax.set_xlabel('Start year', fontsize=LABEL_SIZE)\n",
      "ax.set_ylabel('Cumulative fraction of hires', fontsize=LABEL_SIZE)\n",
      "ax.tick_params(axis='both', which='major', labelsize=TICK_SIZE)\n",
      "hide_right_top_axis(ax)\n",
      "fake_line_all = Line2D(range(1), range(1), color=DARK_COLOR, marker='o',markersize=15, linestyle='None', markeredgecolor='w')\n",
      "fake_line_f = Line2D(range(1), range(1), color=FEMALE_COLOR, marker='o',markersize=15, linestyle='None', markeredgecolor='w')\n",
      "plt.legend((fake_line_all,fake_line_f),('All hires','Female hires'), numpoints=1, loc='upper left', frameon=False, fontsize=LABEL_SIZE)\n",
      "\n",
      "plt.savefig(os.path.join(figures_dir, 'cumulative_fraction.pdf'))\n",
      "plt.show()"
     ],
     "language": "python",
     "metadata": {},
     "outputs": [
      {
       "metadata": {},
       "output_type": "display_data",
       "png": "[encoded data removed]",
       "text": [
        "<matplotlib.figure.Figure at 0x10973cf10>"
       ]
      }
     ],
     "prompt_number": 21
    },
    {
     "cell_type": "code",
     "collapsed": false,
     "input": [
      "fig, ax = plt.subplots(1, 1, figsize=(6,4))\n",
      "\n",
      "def mean_confidence(positives, total, confidence=0.95, iters=1000, z=1.96):\n",
      "    upper = np.zeros_like(total, dtype=float)\n",
      "    lower = np.zeros_like(upper)\n",
      "    avg = np.zeros_like(lower)\n",
      "    \n",
      "    for i in xrange(len(positives)):\n",
      "        pos = positives[i]\n",
      "        tot = float(total[i])\n",
      "        if tot == 0:\n",
      "            continue\n",
      "        p = pos / tot\n",
      "        avg[i] = p\n",
      "        pm = z*np.sqrt((1./tot)*p*(1-p))\n",
      "        upper[i] = p + pm\n",
      "        lower[i] = np.max(p - pm, 0.)\n",
      "        \n",
      "    return avg, upper, lower\n",
      "        \n",
      "    \n",
      "avg, upper, lower = mean_confidence(cumulative_women, cumulative_all)    \n",
      "ax.fill_between(bins[:-1], lower, upper, color=FEMALE_COLOR, alpha=0.4, edgecolor=\"None\")\n",
      "ax.plot(bins[:-1], avg, color=FEMALE_COLOR, linewidth=LINE_WIDTH, solid_capstyle=\"round\")\n",
      "ax.set_ylim(0, .2)\n",
      "ax.set_xlim(1970, 2011)\n",
      "ax.set_xticks([1970, 1980, 1990, 2000, 2010])\n",
      "\n",
      "ax.set_xlabel('Start year', fontsize=LABEL_SIZE)\n",
      "ax.set_ylabel('Fraction of women\\nrelative to total', fontsize=LABEL_SIZE)\n",
      "ax.tick_params(axis='both', which='major', labelsize=TICK_SIZE)\n",
      "hide_right_top_axis(ax)\n",
      "\n",
      "plt.savefig(os.path.join(figures_dir, 'fraction_of_women.pdf'))\n",
      "plt.show()"
     ],
     "language": "python",
     "metadata": {},
     "outputs": [
      {
       "metadata": {},
       "output_type": "display_data",
       "png": "[encoded data removed]",
       "text": [
        "<matplotlib.figure.Figure at 0x108c764d0>"
       ]
      }
     ],
     "prompt_number": 14
    },
    {
     "cell_type": "code",
     "collapsed": false,
     "input": [],
     "language": "python",
     "metadata": {},
     "outputs": [],
     "prompt_number": 10
    }
   ],
   "metadata": {}
  }
 ]
}