{
 "metadata": {
  "name": "",
  "signature": "sha256:5b659045c0c10bff1364750dd99cd9ffa48bd7a96356a59eedd1a4a7e3c68751"
 },
 "nbformat": 3,
 "nbformat_minor": 0,
 "worksheets": [
  {
   "cells": [
    {
     "cell_type": "code",
     "collapsed": false,
     "input": [
      "from __future__ import division\n",
      "\n",
      "from faculty_hiring.misc.plotting import *  # Definitions for LABEL_SIZE and such\n",
      "from faculty_hiring.misc.gaussian_kde import gaussian_kde\n",
      "from faculty_hiring.parse import faculty_parser, institution_parser\n",
      "from faculty_hiring.parse import load\n",
      "from faculty_hiring.parse.nces import parse_phds_awarded\n",
      "from faculty_hiring.misc.subfield import topic_descriptions, num_topics \n",
      "# topic_descriptions is a list of topic descriptions, num_topics is the length of that list.\n",
      "\n",
      "from scipy.stats.stats import pearsonr, mannwhitneyu\n",
      "from collections import Counter\n",
      "import numpy as np\n",
      "import scipy as sp\n",
      "import os\n",
      "\n",
      "# File locations\n",
      "faculty_file = '/Users/samway/Documents/Work/ClausetLab/projects/faculty_hiring/data/faculty_cs_CURRENT.txt'\n",
      "inst_file = '/Users/samway/Documents/Work/ClausetLab/projects/faculty_hiring/data/inst_cs.txt'\n",
      "figures_dir = '/Users/samway/Documents/Work/ClausetLab/projects/faculty_hiring/notebooks/figures/'\n",
      "nces_table = '/Users/samway/Documents/Work/ClausetLab/projects/faculty_hiring/data/nces_table.txt'\n",
      "\n",
      "# (Optional, these are for loading publication profiles)\n",
      "# dblp_dir = '/Users/samway/Documents/Work/ClausetLab/projects/faculty_hiring/data/profiles_DBLP_all/'\n",
      "# gs_dir = '/Users/samway/Documents/Work/ClausetLab/projects/faculty_hiring/data/profiles_GS_all/'"
     ],
     "language": "python",
     "metadata": {},
     "outputs": [],
     "prompt_number": 78
    },
    {
     "cell_type": "heading",
     "level": 2,
     "metadata": {},
     "source": [
      "Loading the dataset"
     ]
    },
    {
     "cell_type": "code",
     "collapsed": false,
     "input": [
      "inst = institution_parser.parse_institution_records(open(inst_file))\n",
      "faculty = load.load_assistant_profs(open(faculty_file), inst)\n",
      "# load.load_all_publications(faculty, dblp_dir, gs_dir) # <-- need to have gs_dir and dblp_dir defined\n",
      "nces_years, nces_women, nces_total = parse_phds_awarded(nces_table)\n",
      "\n",
      "discarded = [f for f in faculty_parser.parse_faculty_records(open(faculty_file,'rU')) \n",
      "             if (f.first_asst_job_year is not None and \n",
      "                 f.first_asst_job_year >= 1970 and\n",
      "                 f.first_asst_job_year < 2012 and\n",
      "                 f.phd_location is not None and \n",
      "                 (f.phd_location not in inst or f.first_asst_job_location not in inst))]\n",
      "\n",
      "all_faculty = [f for f in faculty_parser.parse_faculty_records(open(faculty_file,'rU'))]"
     ],
     "language": "python",
     "metadata": {},
     "outputs": [],
     "prompt_number": 79
    },
    {
     "cell_type": "heading",
     "level": 5,
     "metadata": {},
     "source": [
      "Wait, what are those things?"
     ]
    },
    {
     "cell_type": "markdown",
     "metadata": {},
     "source": [
      "They're dictionaries. Here's the entry for Stanford:"
     ]
    },
    {
     "cell_type": "code",
     "collapsed": false,
     "input": [
      "inst['Stanford University']"
     ],
     "language": "python",
     "metadata": {},
     "outputs": [
      {
       "metadata": {},
       "output_type": "pyout",
       "prompt_number": 64,
       "text": [
        "{'NRC95': 1,\n",
        " 'Region': 'West',\n",
        " 'USN2010': 1,\n",
        " 'pi': 2.23,\n",
        " 'pi_inv': 0.4484304932735426,\n",
        " 'pi_rescaled': 1.0,\n",
        " 'u': 1}"
       ]
      }
     ],
     "prompt_number": 64
    },
    {
     "cell_type": "markdown",
     "metadata": {},
     "source": [
      "For institutions that aren't in our records, there's an 'UNKNOWN' entry. Assume that if we haven't heard of the institution that the hiring committees haven't either. Here's code to grab the institution profile for a person, which, if it doesn't exists grabs the 'UNKNOWN' profile:"
     ]
    },
    {
     "cell_type": "code",
     "collapsed": false,
     "input": [
      "inst.get('Weird University', inst['UNKNOWN'])"
     ],
     "language": "python",
     "metadata": {},
     "outputs": [
      {
       "metadata": {},
       "output_type": "pyout",
       "prompt_number": 65,
       "text": [
        "{'Region': 'Earth',\n",
        " 'pi': 206.0,\n",
        " 'pi_inv': 0.0048543689320388345,\n",
        " 'pi_rescaled': 0.0048543689320388328}"
       ]
      }
     ],
     "prompt_number": 65
    },
    {
     "cell_type": "markdown",
     "metadata": {},
     "source": [
      "What about the faculty records?"
     ]
    },
    {
     "cell_type": "code",
     "collapsed": false,
     "input": [
      "# These will do the same thing:\n",
      "f = faculty[0]\n",
      "print f['facultyName']\n",
      "print f.facultyName"
     ],
     "language": "python",
     "metadata": {},
     "outputs": [
      {
       "output_type": "stream",
       "stream": "stdout",
       "text": [
        "Gail-Joon Ahn\n",
        "Gail-Joon Ahn\n"
       ]
      }
     ],
     "prompt_number": 66
    },
    {
     "cell_type": "code",
     "collapsed": false,
     "input": [
      "# These are often important \n",
      "print f.first_asst_job_location, f.first_asst_job_year\n",
      "print f.phd_location, f.phd_year"
     ],
     "language": "python",
     "metadata": {},
     "outputs": [
      {
       "output_type": "stream",
       "stream": "stdout",
       "text": [
        "University of North Carolina, Charlotte 2000\n",
        "George Mason University 2000\n"
       ]
      }
     ],
     "prompt_number": 67
    },
    {
     "cell_type": "heading",
     "level": 2,
     "metadata": {},
     "source": [
      "Basic Stats"
     ]
    },
    {
     "cell_type": "code",
     "collapsed": false,
     "input": [
      "''' Fraction of women '''\n",
      "print len(faculty)\n",
      "print np.sum([f.is_female for f in faculty])\n",
      "print float(np.sum([f.is_female for f in faculty])) / len(faculty)"
     ],
     "language": "python",
     "metadata": {},
     "outputs": [
      {
       "output_type": "stream",
       "stream": "stdout",
       "text": [
        "2659\n",
        "427\n",
        "0.160586686724\n"
       ]
      }
     ],
     "prompt_number": 68
    },
    {
     "cell_type": "code",
     "collapsed": false,
     "input": [
      "''' Fraction of placements within the same geographical region '''\n",
      "c = 0\n",
      "for person in faculty:\n",
      "    if person.first_asst_job_region == person.phd_region:\n",
      "        c += 1.\n",
      "print c / len(faculty)"
     ],
     "language": "python",
     "metadata": {},
     "outputs": [
      {
       "output_type": "stream",
       "stream": "stdout",
       "text": [
        "0.405415569763\n"
       ]
      }
     ],
     "prompt_number": 69
    },
    {
     "cell_type": "code",
     "collapsed": false,
     "input": [
      "''' How many people have publication profiles '''\n",
      "c = 0\n",
      "for person in faculty:\n",
      "    if 'dblp' in person:\n",
      "        c += 1.\n",
      "        \n",
      "print c, c / len(faculty)"
     ],
     "language": "python",
     "metadata": {},
     "outputs": [
      {
       "output_type": "stream",
       "stream": "stdout",
       "text": [
        "2528.0 0.950733358405\n"
       ]
      }
     ],
     "prompt_number": 70
    },
    {
     "cell_type": "code",
     "collapsed": false,
     "input": [
      "''' How many people have publication profiles '''\n",
      "b = 0.\n",
      "a = 0.\n",
      "for person in faculty:\n",
      "    if not person.is_female:\n",
      "        if person.first_asst_job_year > 2002:\n",
      "            a += 1\n",
      "        else:\n",
      "            b += 1\n",
      "        \n",
      "print a/(a+b)"
     ],
     "language": "python",
     "metadata": {},
     "outputs": [
      {
       "output_type": "stream",
       "stream": "stdout",
       "text": [
        "0.337813620072\n"
       ]
      }
     ],
     "prompt_number": 71
    },
    {
     "cell_type": "code",
     "collapsed": false,
     "input": [
      "''' Average z-scores ''' \n",
      "zscores_m_up = []\n",
      "zscores_w_up = []\n",
      "zscores_m_down = []\n",
      "zscores_w_down = []\n",
      "\n",
      "for person in faculty:\n",
      "    female = person.is_female\n",
      "    up = person.first_asst_job_rank > person.phd_rank\n",
      "    down = person.first_asst_job_rank < person.phd_rank\n",
      "    \n",
      "    if not female and up:\n",
      "        zscores_m_up.append(person.dblp_z)\n",
      "    elif not female and down:\n",
      "        zscores_m_down.append(person.dblp_z)\n",
      "    elif female and up:\n",
      "        zscores_w_up.append(person.dblp_z)\n",
      "    elif female and down:\n",
      "        zscores_w_down.append(person.dblp_z)\n",
      "        \n",
      "print 'Men, up: \\t', np.median(zscores_m_up)\n",
      "print 'Men, down: \\t', np.median(zscores_m_down)\n",
      "print ''\n",
      "print 'Women, up: \\t', np.median(zscores_w_up)\n",
      "print 'Women, down: \\t', np.median(zscores_w_down)"
     ],
     "language": "python",
     "metadata": {},
     "outputs": [
      {
       "output_type": "stream",
       "stream": "stdout",
       "text": [
        "Men, up: \t-0.206791\n",
        "Men, down: \t-0.321756\n",
        "\n",
        "Women, up: \t-0.214618\n",
        "Women, down: \t-0.3308355\n"
       ]
      }
     ],
     "prompt_number": 72
    },
    {
     "cell_type": "code",
     "collapsed": false,
     "input": [
      "stat, pval = mannwhitneyu(zscores_m_up, zscores_w_up)\n",
      "sig = pval < 0.05    \n",
      "print sig, pval"
     ],
     "language": "python",
     "metadata": {},
     "outputs": [
      {
       "output_type": "stream",
       "stream": "stdout",
       "text": [
        "False 0.473303845995\n"
       ]
      }
     ],
     "prompt_number": 73
    },
    {
     "cell_type": "code",
     "collapsed": false,
     "input": [
      "''' Median z-scores ''' \n",
      "men = []\n",
      "women = []\n",
      "\n",
      "for person in faculty:\n",
      "    if True:\n",
      "        if person.is_female:\n",
      "            women.append(person.dblp_z)\n",
      "        else:\n",
      "            men.append(person.dblp_z)\n",
      "\n",
      "stat, pval = mannwhitneyu(men, women)\n",
      "sig = pval < 0.05    \n",
      "print sig, pval\n",
      "\n",
      "print 'Men:   ', np.median(men)\n",
      "print 'Women: ', np.median(women)"
     ],
     "language": "python",
     "metadata": {},
     "outputs": [
      {
       "output_type": "stream",
       "stream": "stdout",
       "text": [
        "False 0.407037369774\n",
        "Men:    -0.327106\n",
        "Women:  -0.329075\n"
       ]
      }
     ],
     "prompt_number": 74
    },
    {
     "cell_type": "code",
     "collapsed": false,
     "input": [
      "''' Since year X ''' \n",
      "men = 0.\n",
      "women = 0.\n",
      "\n",
      "for person in faculty:\n",
      "    if person.first_asst_job_year < 2002:\n",
      "        if person.is_female:\n",
      "            women += 1\n",
      "        else:\n",
      "            men += 1\n",
      "\n",
      "print women/(men+women)"
     ],
     "language": "python",
     "metadata": {},
     "outputs": [
      {
       "output_type": "stream",
       "stream": "stdout",
       "text": [
        "0.127482383088\n"
       ]
      }
     ],
     "prompt_number": 88
    },
    {
     "cell_type": "heading",
     "level": 2,
     "metadata": {},
     "source": [
      "Plotting example"
     ]
    },
    {
     "cell_type": "code",
     "collapsed": false,
     "input": [
      "fig, ax = plt.subplots(1, 1, figsize=(6,4))\n",
      "\n",
      "start_years = np.zeros(len(faculty), dtype=int)\n",
      "female_start_years = []\n",
      "\n",
      "for i, f in enumerate(faculty):\n",
      "    start_years[i] = f.first_asst_job_year\n",
      "    if f.sex == 'F':\n",
      "        female_start_years.append(f.first_asst_job_year)\n",
      "        \n",
      "bins = np.arange(1955, 2012) + 0.5\n",
      "\n",
      "temp = FEMALE_COLOR\n",
      "FEMALE_COLOR = (0.40254901960784313, 0.75274509803921569, 0.50254901960784313)\n",
      "    \n",
      "# I have a lot of pre-defined font sizes and stuff that are in faculty_hiring.misc.plotting\n",
      "# Try to use these wherever possible to help keep things consistent. \n",
      "x_pad = 0.5\n",
      "ax.set_xlim(1970-x_pad, 2012-x_pad)\n",
      "ax.hist(start_years, bins=bins, color=DARK_COLOR, edgecolor='w', clip_on=False, label='All hires')\n",
      "ax.hist(female_start_years, bins=bins, color=FEMALE_COLOR, edgecolor='w', clip_on=False, label='Female hires')\n",
      "ax.set_xlabel('Start year', fontsize=LABEL_SIZE)\n",
      "ax.set_ylabel('Number of faculty hired', fontsize=LABEL_SIZE)\n",
      "ax.tick_params(axis='both', which='major', labelsize=TICK_SIZE)\n",
      "hide_right_top_axis(ax)\n",
      "\n",
      "fake_line_all = Line2D(range(1), range(1), color=DARK_COLOR, marker='o',markersize=15, linestyle='None', markeredgecolor='w')\n",
      "fake_line_f = Line2D(range(1), range(1), color=FEMALE_COLOR, marker='o',markersize=15, linestyle='None', markeredgecolor='w')\n",
      "plt.legend((fake_line_all,fake_line_f),('All hires','Female hires'), numpoints=1, loc='upper left', frameon=False, fontsize=LABEL_SIZE)\n",
      "#ax.legend(loc='upper left', frameon=False)\n",
      "plt.savefig(os.path.join(figures_dir, 'faculty_per_year.pdf'))\n",
      "\n",
      "FEMALE_COLOR = temp\n",
      "\n",
      "plt.show()"
     ],
     "language": "python",
     "metadata": {},
     "outputs": [
      {
       "metadata": {},
       "output_type": "display_data",
       "png": "[encoded data removed]",
       "text": [
        "<matplotlib.figure.Figure at 0x1083a9e50>"
       ]
      }
     ],
     "prompt_number": 40
    },
    {
     "cell_type": "code",
     "collapsed": false,
     "input": [
      "fig, ax = plt.subplots(1, 1, figsize=(6,4))\n",
      "\n",
      "start_years = np.zeros(len(faculty), dtype=int)\n",
      "female_start_years = []\n",
      "\n",
      "for i, f in enumerate(faculty):\n",
      "    start_years[i] = f.first_asst_job_year\n",
      "    if f.sex == 'F':\n",
      "        female_start_years.append(f.first_asst_job_year)\n",
      "        \n",
      "bin_offset = 0.5\n",
      "bins = np.arange(1969, 2012) + bin_offset\n",
      "year_range = np.arange(1970, 2012)\n",
      "    \n",
      "# I have a lot of pre-defined font sizes and stuff that are in faculty_hiring.misc.plotting\n",
      "# Try to use these wherever possible to help keep things consistent. \n",
      "ax.set_xlim(1970, 2012)\n",
      "start_years_hist,_ = np.histogram(start_years, bins=bins)\n",
      "start_years_hist_women,_ = np.histogram(female_start_years, bins=bins)\n",
      "\n",
      "cumulative_all = np.cumsum(start_years_hist)\n",
      "cumulative_women = np.cumsum(start_years_hist_women)\n",
      "\n",
      "ax.bar(year_range, cumulative_all / float(cumulative_all[-1]), color=DARK_COLOR, width=1, edgecolor='w', align='center', clip_on=False)\n",
      "ax.bar(year_range, cumulative_women / float(cumulative_women[-1]), color=FEMALE_COLOR, width=1, edgecolor='w', align='center', clip_on=False)\n",
      "\n",
      "ax.plot([1971,2011], [0.5, 0.5], '--', color=ALMOST_BLACK)\n",
      "\n",
      "ax.set_xlabel('Start year', fontsize=LABEL_SIZE)\n",
      "ax.set_ylabel('Cumulative fraction of hires', fontsize=LABEL_SIZE)\n",
      "ax.tick_params(axis='both', which='major', labelsize=TICK_SIZE)\n",
      "hide_right_top_axis(ax)\n",
      "fake_line_all = Line2D(range(1), range(1), color=DARK_COLOR, marker='o',markersize=15, linestyle='None', markeredgecolor='w')\n",
      "fake_line_f = Line2D(range(1), range(1), color=FEMALE_COLOR, marker='o',markersize=15, linestyle='None', markeredgecolor='w')\n",
      "plt.legend((fake_line_all,fake_line_f),('All hires','Female hires'), numpoints=1, loc='upper left', frameon=False, fontsize=LABEL_SIZE)\n",
      "\n",
      "plt.savefig(os.path.join(figures_dir, 'cumulative_fraction.pdf'))\n",
      "plt.show()"
     ],
     "language": "python",
     "metadata": {},
     "outputs": [
      {
       "metadata": {},
       "output_type": "display_data",
       "png": "[encoded data removed]",
       "text": [
        "<matplotlib.figure.Figure at 0x109bbbd50>"
       ]
      }
     ],
     "prompt_number": 41
    },
    {
     "cell_type": "code",
     "collapsed": false,
     "input": [
      "print 'Correlation coefficient:'\n",
      "keep = np.array([i for i, y in enumerate(year_range) if y in nces_years])\n",
      "avg = np.array(avg)\n",
      "print pearsonr(np.cumsum(nces_women)/np.cumsum(nces_total), avg[keep])[0]"
     ],
     "language": "python",
     "metadata": {},
     "outputs": [
      {
       "output_type": "stream",
       "stream": "stdout",
       "text": [
        "Correlation coefficient:\n",
        "0.982318385111\n"
       ]
      }
     ],
     "prompt_number": 43
    },
    {
     "cell_type": "code",
     "collapsed": false,
     "input": [
      "print 'Correlation coefficient (Past 1990):'\n",
      "keep = np.array([i for i, y in enumerate(year_range) if y in nces_years])\n",
      "nces = np.cumsum(nces_women)/np.cumsum(nces_total)\n",
      "us = np.array(avg)[keep]\n",
      "select = np.where(nces_years >= 1990)[0]\n",
      "\n",
      "print pearsonr(nces[select], us[select])[0]"
     ],
     "language": "python",
     "metadata": {},
     "outputs": [
      {
       "output_type": "stream",
       "stream": "stdout",
       "text": [
        "Correlation coefficient (Past 1990):\n",
        "0.9786311862\n"
       ]
      }
     ],
     "prompt_number": 44
    },
    {
     "cell_type": "code",
     "collapsed": false,
     "input": [
      "fig, ax = plt.subplots(1, 1, figsize=(6,4))\n",
      "\n",
      "#http://www.nsf.gov/statistics/infbrief/nsf08308/\n",
      "\n",
      "nsf_years = np.array([1985, 1987, 1989, 1991, 1993, 1995, 1997, 1999, 2001, 2003, 2006])\n",
      "nsf_fracs = np.array([12.6, 13.1, 13.9, 15.2, 18.4, 17.2, 20.4, 22.2, 19.9, 17.7, 21.2]) / 100.\n",
      "\n",
      "def mean_confidence(positives, total, confidence=0.95, iters=1000, z=1.96):\n",
      "    upper = np.zeros_like(total, dtype=float)\n",
      "    lower = np.zeros_like(upper)\n",
      "    avg = np.zeros_like(lower)\n",
      "    \n",
      "    for i in xrange(len(positives)):\n",
      "        pos = positives[i]\n",
      "        tot = float(total[i])\n",
      "        if tot == 0:\n",
      "            continue\n",
      "        p = pos / tot\n",
      "        avg[i] = p\n",
      "        pm = z*np.sqrt((1./tot)*p*(1-p))\n",
      "        upper[i] = p + pm\n",
      "        lower[i] = np.max(p - pm, 0.)\n",
      "        \n",
      "    return avg, upper, lower\n",
      "        \n",
      "    \n",
      "avg, upper, lower = mean_confidence(start_years_hist_women, start_years_hist)    \n",
      "avg, upper, lower = mean_confidence(cumulative_women, cumulative_all)    \n",
      "ax.fill_between(year_range, lower, upper, color=FEMALE_COLOR, alpha=0.4, edgecolor=\"None\")\n",
      "ax.plot(year_range, avg, '-o', color=FEMALE_COLOR, linewidth=LINE_WIDTH, solid_capstyle=\"round\", markeredgecolor='w',\n",
      "        label='Faculty')\n",
      "#ax.set_ylim(0, .2)\n",
      "x_pad = 0.5\n",
      "ax.set_xlim(1970-x_pad, 2012+x_pad)\n",
      "ax.set_xticks([1970, 1980, 1990, 2000, 2010])\n",
      "\n",
      "# NSF\n",
      "ax.plot(nsf_years, nsf_fracs, '-s', color=DARK_COLOR, linewidth=LINE_WIDTH, label='Faculty (NSF)', markeredgecolor='w')\n",
      "# NCES\n",
      "ax.plot(nces_years, np.cumsum(nces_women)/np.cumsum(nces_total), '-o', color=ALMOST_BLACK, linewidth=LINE_WIDTH, label='PhDs (NCES)', markeredgecolor='w')\n",
      "\n",
      "ax.set_xlabel('Start year', fontsize=LABEL_SIZE)\n",
      "ax.set_ylabel('Fraction of women', fontsize=LABEL_SIZE)\n",
      "ax.tick_params(axis='both', which='major', labelsize=TICK_SIZE)\n",
      "hide_right_top_axis(ax)\n",
      "\n",
      "'''\n",
      "f1 = Line2D(range(1), range(1), color=FEMALE_COLOR, marker='o',markersize=15, linestyle='None', markeredgecolor='w')\n",
      "f2 = Line2D(range(1), range(1), color=DARK_COLOR, marker='o',markersize=15, linestyle='None', markeredgecolor='w')\n",
      "f3 = Line2D(range(1), range(1), color=ALMOST_BLACK, marker='o',markersize=15, linestyle='None', markeredgecolor='w')\n",
      "\n",
      "f1 = Line2D(range(1), range(1), color=FEMALE_COLOR, linestyle='-', linewidth=LINE_WIDTH, markeredgecolor=FEMALE_COLOR)\n",
      "f2 = Line2D(range(1), range(1), color=DARK_COLOR, linestyle='-', linewidth=LINE_WIDTH)\n",
      "f3 = Line2D(range(1), range(1), color=ALMOST_BLACK, linestyle=':', linewidth=LINE_WIDTH)\n",
      "plt.legend((f1,f2,f3),('Faculty','Faculty (NSF)', 'PhDs (NCES)'), numpoints=1, loc='upper left', frameon=False, fontsize=LABEL_SIZE)\n",
      "'''\n",
      "plt.legend(numpoints=1, loc='upper left', frameon=False, fontsize=LABEL_SIZE)\n",
      "\n",
      "plt.savefig(os.path.join(figures_dir, 'fraction_of_women_by_year.pdf'))\n",
      "plt.show()"
     ],
     "language": "python",
     "metadata": {},
     "outputs": [
      {
       "metadata": {},
       "output_type": "display_data",
       "png": "[encoded data removed]",
       "text": [
        "<matplotlib.figure.Figure at 0x10a6a5a10>"
       ]
      }
     ],
     "prompt_number": 45
    },
    {
     "cell_type": "code",
     "collapsed": false,
     "input": [
      "print 'Correlation coefficient:'\n",
      "keep = np.array([i for i, y in enumerate(year_range) if y in nsf_years])\n",
      "avg = np.array(avg)\n",
      "print pearsonr(nsf_fracs, avg[keep])[0]"
     ],
     "language": "python",
     "metadata": {},
     "outputs": [
      {
       "output_type": "stream",
       "stream": "stdout",
       "text": [
        "Correlation coefficient:\n",
        "0.837554498911\n"
       ]
      }
     ],
     "prompt_number": 46
    },
    {
     "cell_type": "code",
     "collapsed": false,
     "input": [
      "fig, ax = plt.subplots(1, 1, figsize=(6,4))\n",
      "\n",
      "#http://www.nsf.gov/statistics/infbrief/nsf08308/\n",
      "\n",
      "nsf_years = np.array([1985, 1987, 1989, 1991, 1993, 1995, 1997, 1999, 2001, 2003, 2006])\n",
      "nsf_fracs = np.array([12.6, 13.1, 13.9, 15.2, 18.4, 17.2, 20.4, 22.2, 19.9, 17.7, 21.2]) / 100.\n",
      "\n",
      "def mean_confidence(positives, total, confidence=0.95, iters=1000, z=1.96):\n",
      "    upper = np.zeros_like(total, dtype=float)\n",
      "    lower = np.zeros_like(upper)\n",
      "    avg = np.zeros_like(lower)\n",
      "    \n",
      "    for i in xrange(len(positives)):\n",
      "        pos = positives[i]\n",
      "        tot = float(total[i])\n",
      "        if tot == 0:\n",
      "            continue\n",
      "        p = pos / tot\n",
      "        avg[i] = p\n",
      "        pm = z*np.sqrt((1./tot)*p*(1-p))\n",
      "        upper[i] = p + pm\n",
      "        lower[i] = np.max(p - pm, 0.)\n",
      "        \n",
      "    return avg, upper, lower\n",
      "        \n",
      "    \n",
      "avg, upper, lower = mean_confidence(start_years_hist_women, start_years_hist)    \n",
      "avg, upper, lower = mean_confidence(cumulative_women, cumulative_all)    \n",
      "ax.fill_between(year_range, lower, upper, color=FEMALE_COLOR, alpha=0.4, edgecolor=\"None\")\n",
      "ax.plot(year_range, avg, '-o', color=FEMALE_COLOR, linewidth=LINE_WIDTH, solid_capstyle=\"round\", markeredgecolor='w',\n",
      "        label='Faculty')\n",
      "\n",
      "slope, intercept, r_value, p_value, std_err = sp.stats.linregress(year_range,avg)\n",
      "ax.plot(year_range, intercept + year_range*slope, '--', color=ALMOST_BLACK)\n",
      "\n",
      "#ax.set_ylim(0, .2)\n",
      "x_pad = 0.5\n",
      "ax.set_xlim(1970-x_pad, 2012+x_pad)\n",
      "ax.set_xticks([1970, 1980, 1990, 2000, 2010])\n",
      "\n",
      "# NSF\n",
      "#ax.plot(nsf_years, nsf_fracs, '-s', color=DARK_COLOR, linewidth=LINE_WIDTH, label='Faculty (NSF)', markeredgecolor='w')\n",
      "# NCES\n",
      "#ax.plot(nces_years, np.cumsum(nces_women)/np.cumsum(nces_total), '-o', color=ALMOST_BLACK, linewidth=LINE_WIDTH, label='PhDs (NCES)', markeredgecolor='w')\n",
      "\n",
      "ax.set_xlabel('Start year', fontsize=LABEL_SIZE)\n",
      "ax.set_ylabel('Fraction of women', fontsize=LABEL_SIZE)\n",
      "ax.tick_params(axis='both', which='major', labelsize=TICK_SIZE)\n",
      "hide_right_top_axis(ax)\n",
      "\n",
      "'''\n",
      "f1 = Line2D(range(1), range(1), color=FEMALE_COLOR, marker='o',markersize=15, linestyle='None', markeredgecolor='w')\n",
      "f2 = Line2D(range(1), range(1), color=DARK_COLOR, marker='o',markersize=15, linestyle='None', markeredgecolor='w')\n",
      "f3 = Line2D(range(1), range(1), color=ALMOST_BLACK, marker='o',markersize=15, linestyle='None', markeredgecolor='w')\n",
      "\n",
      "f1 = Line2D(range(1), range(1), color=FEMALE_COLOR, linestyle='-', linewidth=LINE_WIDTH, markeredgecolor=FEMALE_COLOR)\n",
      "f2 = Line2D(range(1), range(1), color=DARK_COLOR, linestyle='-', linewidth=LINE_WIDTH)\n",
      "f3 = Line2D(range(1), range(1), color=ALMOST_BLACK, linestyle=':', linewidth=LINE_WIDTH)\n",
      "plt.legend((f1,f2,f3),('Faculty','Faculty (NSF)', 'PhDs (NCES)'), numpoints=1, loc='upper left', frameon=False, fontsize=LABEL_SIZE)\n",
      "'''\n",
      "plt.legend(numpoints=1, loc='upper left', frameon=False, fontsize=LABEL_SIZE)\n",
      "\n",
      "plt.show()"
     ],
     "language": "python",
     "metadata": {},
     "outputs": [
      {
       "metadata": {},
       "output_type": "display_data",
       "png": "[encoded data removed]",
       "text": [
        "<matplotlib.figure.Figure at 0x10bed0790>"
       ]
      }
     ],
     "prompt_number": 61
    },
    {
     "cell_type": "code",
     "collapsed": false,
     "input": [
      "slope, intercept, r_value, p_value, std_err = sp.stats.linregress(year_range,avg)\n",
      "print slope, intercept"
     ],
     "language": "python",
     "metadata": {},
     "outputs": [
      {
       "output_type": "stream",
       "stream": "stdout",
       "text": [
        " 0.00309018334866 -6.05149718549\n"
       ]
      }
     ],
     "prompt_number": 53
    },
    {
     "cell_type": "code",
     "collapsed": false,
     "input": [
      "year = 1970\n",
      "while year < 2200:\n",
      "    print year, year*slope + intercept\n",
      "    year += 1"
     ],
     "language": "python",
     "metadata": {},
     "outputs": [
      {
       "output_type": "stream",
       "stream": "stdout",
       "text": [
        "1970 0.0361640113796\n",
        "1971 0.0392541947282\n",
        "1972 0.0423443780769\n",
        "1973 0.0454345614256\n",
        "1974 0.0485247447742\n",
        "1975 0.0516149281229\n",
        "1976 0.0547051114715\n",
        "1977 0.0577952948202\n",
        "1978 0.0608854781689\n",
        "1979 0.0639756615175\n",
        "1980 0.0670658448662\n",
        "1981 0.0701560282149\n",
        "1982 0.0732462115635\n",
        "1983 0.0763363949122\n",
        "1984 0.0794265782609\n",
        "1985 0.0825167616095\n",
        "1986 0.0856069449582\n",
        "1987 0.0886971283068\n",
        "1988 0.0917873116555\n",
        "1989 0.0948774950042\n",
        "1990 0.0979676783528\n",
        "1991 0.101057861701\n",
        "1992 0.10414804505\n",
        "1993 0.107238228399\n",
        "1994 0.110328411747\n",
        "1995 0.113418595096\n",
        "1996 0.116508778445\n",
        "1997 0.119598961793\n",
        "1998 0.122689145142\n",
        "1999 0.125779328491\n",
        "2000 0.128869511839\n",
        "2001 0.131959695188\n",
        "2002 0.135049878537\n",
        "2003 0.138140061885\n",
        "2004 0.141230245234\n",
        "2005 0.144320428583\n",
        "2006 0.147410611931\n",
        "2007 0.15050079528\n",
        "2008 0.153590978629\n",
        "2009 0.156681161977\n",
        "2010 0.159771345326\n",
        "2011 0.162861528675\n",
        "2012 0.165951712023\n",
        "2013 0.169041895372\n",
        "2014 0.172132078721\n",
        "2015 0.175222262069\n",
        "2016 0.178312445418\n",
        "2017 0.181402628767\n",
        "2018 0.184492812115\n",
        "2019 0.187582995464\n",
        "2020 0.190673178813\n",
        "2021 0.193763362161\n",
        "2022 0.19685354551\n",
        "2023 0.199943728859\n",
        "2024 0.203033912207\n",
        "2025 0.206124095556\n",
        "2026 0.209214278905\n",
        "2027 0.212304462253\n",
        "2028 0.215394645602\n",
        "2029 0.218484828951\n",
        "2030 0.221575012299\n",
        "2031 0.224665195648\n",
        "2032 0.227755378997\n",
        "2033 0.230845562345\n",
        "2034 0.233935745694\n",
        "2035 0.237025929043\n",
        "2036 0.240116112391\n",
        "2037 0.24320629574\n",
        "2038 0.246296479089\n",
        "2039 0.249386662437\n",
        "2040 0.252476845786\n",
        "2041 0.255567029135\n",
        "2042 0.258657212483\n",
        "2043 0.261747395832\n",
        "2044 0.264837579181\n",
        "2045 0.267927762529\n",
        "2046 0.271017945878\n",
        "2047 0.274108129227\n",
        "2048 0.277198312575\n",
        "2049 0.280288495924\n",
        "2050 0.283378679273\n",
        "2051 0.286468862621\n",
        "2052 0.28955904597\n",
        "2053 0.292649229319\n",
        "2054 0.295739412667\n",
        "2055 0.298829596016\n",
        "2056 0.301919779365\n",
        "2057 0.305009962713\n",
        "2058 0.308100146062\n",
        "2059 0.311190329411\n",
        "2060 0.314280512759\n",
        "2061 0.317370696108\n",
        "2062 0.320460879457\n",
        "2063 0.323551062805\n",
        "2064 0.326641246154\n",
        "2065 0.329731429503\n",
        "2066 0.332821612851\n",
        "2067 0.3359117962\n",
        "2068 0.339001979549\n",
        "2069 0.342092162897\n",
        "2070 0.345182346246\n",
        "2071 0.348272529595\n",
        "2072 0.351362712943\n",
        "2073 0.354452896292\n",
        "2074 0.357543079641\n",
        "2075 0.360633262989\n",
        "2076 0.363723446338\n",
        "2077 0.366813629687\n",
        "2078 0.369903813035\n",
        "2079 0.372993996384\n",
        "2080 0.376084179733\n",
        "2081 0.379174363081\n",
        "2082 0.38226454643\n",
        "2083 0.385354729779\n",
        "2084 0.388444913127\n",
        "2085 0.391535096476\n",
        "2086 0.394625279825\n",
        "2087 0.397715463173\n",
        "2088 0.400805646522\n",
        "2089 0.403895829871\n",
        "2090 0.406986013219\n",
        "2091 0.410076196568\n",
        "2092 0.413166379917\n",
        "2093 0.416256563265\n",
        "2094 0.419346746614\n",
        "2095 0.422436929963\n",
        "2096 0.425527113311\n",
        "2097 0.42861729666\n",
        "2098 0.431707480008\n",
        "2099 0.434797663357\n",
        "2100 0.437887846706\n",
        "2101 0.440978030054\n",
        "2102 0.444068213403\n",
        "2103 0.447158396752\n",
        "2104 0.4502485801\n",
        "2105 0.453338763449\n",
        "2106 0.456428946798\n",
        "2107 0.459519130146\n",
        "2108 0.462609313495\n",
        "2109 0.465699496844\n",
        "2110 0.468789680192\n",
        "2111 0.471879863541\n",
        "2112 0.47497004689\n",
        "2113 0.478060230238\n",
        "2114 0.481150413587\n",
        "2115 0.484240596936\n",
        "2116 0.487330780284\n",
        "2117 0.490420963633\n",
        "2118 0.493511146982\n",
        "2119 0.49660133033\n",
        "2120 0.499691513679\n",
        "2121 0.502781697028\n",
        "2122 0.505871880376\n",
        "2123 0.508962063725\n",
        "2124 0.512052247074\n",
        "2125 0.515142430422\n",
        "2126 0.518232613771\n",
        "2127 0.52132279712\n",
        "2128 0.524412980468\n",
        "2129 0.527503163817\n",
        "2130 0.530593347166\n",
        "2131 0.533683530514\n",
        "2132 0.536773713863\n",
        "2133 0.539863897212\n",
        "2134 0.54295408056\n",
        "2135 0.546044263909\n",
        "2136 0.549134447258\n",
        "2137 0.552224630606\n",
        "2138 0.555314813955\n",
        "2139 0.558404997304\n",
        "2140 0.561495180652\n",
        "2141 0.564585364001\n",
        "2142 0.56767554735\n",
        "2143 0.570765730698\n",
        "2144 0.573855914047\n",
        "2145 0.576946097396\n",
        "2146 0.580036280744\n",
        "2147 0.583126464093\n",
        "2148 0.586216647442\n",
        "2149 0.58930683079\n",
        "2150 0.592397014139\n",
        "2151 0.595487197488\n",
        "2152 0.598577380836\n",
        "2153 0.601667564185\n",
        "2154 0.604757747534\n",
        "2155 0.607847930882\n",
        "2156 0.610938114231\n",
        "2157 0.61402829758\n",
        "2158 0.617118480928\n",
        "2159 0.620208664277\n",
        "2160 0.623298847626\n",
        "2161 0.626389030974\n",
        "2162 0.629479214323\n",
        "2163 0.632569397672\n",
        "2164 0.63565958102\n",
        "2165 0.638749764369\n",
        "2166 0.641839947718\n",
        "2167 0.644930131066\n",
        "2168 0.648020314415\n",
        "2169 0.651110497764\n",
        "2170 0.654200681112\n",
        "2171 0.657290864461\n",
        "2172 0.66038104781\n",
        "2173 0.663471231158\n",
        "2174 0.666561414507\n",
        "2175 0.669651597856\n",
        "2176 0.672741781204\n",
        "2177 0.675831964553\n",
        "2178 0.678922147902\n",
        "2179 0.68201233125\n",
        "2180 0.685102514599\n",
        "2181 0.688192697948\n",
        "2182 0.691282881296\n",
        "2183 0.694373064645\n",
        "2184 0.697463247994\n",
        "2185 0.700553431342\n",
        "2186 0.703643614691\n",
        "2187 0.70673379804\n",
        "2188 0.709823981388\n",
        "2189 0.712914164737\n",
        "2190 0.716004348086\n",
        "2191 0.719094531434\n",
        "2192 0.722184714783\n",
        "2193 0.725274898132\n",
        "2194 0.72836508148\n",
        "2195 0.731455264829\n",
        "2196 0.734545448178\n",
        "2197 0.737635631526\n",
        "2198 0.740725814875\n",
        "2199 0.743815998224\n"
       ]
      }
     ],
     "prompt_number": 57
    },
    {
     "cell_type": "code",
     "collapsed": false,
     "input": [
      "fig, ax = plt.subplots(1, 1, figsize=(6,4))\n",
      "\n",
      "#http://www.nsf.gov/statistics/infbrief/nsf08308/\n",
      "\n",
      "nsf_years = np.array([1985, 1987, 1989, 1991, 1993, 1995, 1997, 1999, 2001, 2003, 2006])\n",
      "nsf_fracs = np.array([12.6, 13.1, 13.9, 15.2, 18.4, 17.2, 20.4, 22.2, 19.9, 17.7, 21.2]) / 100.\n",
      "\n",
      "def mean_confidence(positives, total, confidence=0.95, iters=1000, z=1.96):\n",
      "    upper = np.zeros_like(total, dtype=float)\n",
      "    lower = np.zeros_like(upper)\n",
      "    avg = np.zeros_like(lower)\n",
      "    \n",
      "    for i in xrange(len(positives)):\n",
      "        pos = positives[i]\n",
      "        tot = float(total[i])\n",
      "        if tot == 0:\n",
      "            continue\n",
      "        p = pos / tot\n",
      "        avg[i] = p\n",
      "        pm = z*np.sqrt((1./tot)*p*(1-p))\n",
      "        upper[i] = p + pm\n",
      "        lower[i] = np.max(p - pm, 0.)\n",
      "        \n",
      "    return avg, upper, lower\n",
      "\n",
      "ax.plot(year_range, start_years_hist_women/start_years_hist, '-o', color=FEMALE_COLOR, linewidth=LINE_WIDTH, solid_capstyle=\"round\", markeredgecolor='w',\n",
      "        label='Women', clip_on=False)\n",
      "\n",
      "ax.plot(year_range, 1.-(start_years_hist_women/start_years_hist), '-o', color=ALMOST_BLACK, linewidth=LINE_WIDTH, solid_capstyle=\"round\", markeredgecolor='w',\n",
      "        label='Men', clip_on=False)\n",
      "\n",
      "plot_x = np.arange(1970, 2101)\n",
      "\n",
      "slope, intercept, r_value, p_value, std_err = sp.stats.linregress(year_range,start_years_hist_women/start_years_hist)\n",
      "ax.plot(plot_x, intercept + plot_x*slope, ':', color=ALMOST_BLACK)\n",
      "m1, b1 = slope, intercept\n",
      "\n",
      "slope, intercept, r_value, p_value, std_err = sp.stats.linregress(year_range,1.-(start_years_hist_women/start_years_hist))\n",
      "ax.plot(plot_x, intercept + plot_x*slope, ':', color=ALMOST_BLACK)\n",
      "m2, b2 = slope, intercept\n",
      "x_parity = (b2-b1)/(m1-m2)\n",
      "y_parity = intercept + x_parity*slope\n",
      "\n",
      "ax.plot([x_parity, x_parity], [0, y_parity], '-', color=ALMOST_BLACK)\n",
      "ax.text(x_parity-3, y_parity+.05, '%d' % np.round(x_parity))\n",
      "\n",
      "ax.set_xlim(1970,2100)\n",
      "ax.set_ylabel('Fraction hired per year', fontsize=LABEL_SIZE)\n",
      "hide_right_top_axis(ax)\n",
      "plt.legend(numpoints=1, loc='upper right', frameon=False, fontsize=LABEL_SIZE)\n",
      "\n",
      "plt.show()"
     ],
     "language": "python",
     "metadata": {},
     "outputs": [
      {
       "metadata": {},
       "output_type": "display_data",
       "png": "[encoded data removed]",
       "text": [
        "<matplotlib.figure.Figure at 0x10c1a9790>"
       ]
      }
     ],
     "prompt_number": 120
    },
    {
     "cell_type": "code",
     "collapsed": false,
     "input": [
      "fig, ax = plt.subplots(1, 1, figsize=(6,4))\n",
      "\n",
      "#http://www.nsf.gov/statistics/infbrief/nsf08308/\n",
      "\n",
      "nsf_years = np.array([1985, 1987, 1989, 1991, 1993, 1995, 1997, 1999, 2001, 2003, 2006])\n",
      "nsf_fracs = np.array([12.6, 13.1, 13.9, 15.2, 18.4, 17.2, 20.4, 22.2, 19.9, 17.7, 21.2]) / 100.\n",
      "\n",
      "def mean_confidence(positives, total, confidence=0.95, iters=1000, z=1.96):\n",
      "    upper = np.zeros_like(total, dtype=float)\n",
      "    lower = np.zeros_like(upper)\n",
      "    avg = np.zeros_like(lower)\n",
      "    \n",
      "    for i in xrange(len(positives)):\n",
      "        pos = positives[i]\n",
      "        tot = float(total[i])\n",
      "        if tot == 0:\n",
      "            continue\n",
      "        p = pos / tot\n",
      "        avg[i] = p\n",
      "        pm = z*np.sqrt((1./tot)*p*(1-p))\n",
      "        upper[i] = p + pm\n",
      "        lower[i] = np.max(p - pm, 0.)\n",
      "        \n",
      "    return avg, upper, lower\n",
      "\n",
      "slope, intercept, r_value, p_value, std_err = sp.stats.linregress(year_range,start_years_hist)\n",
      "ax.plot(year_range, intercept + year_range*slope, '--', color=ALMOST_BLACK)\n",
      "            \n",
      "ax.plot(year_range, start_years_hist, '-o', color=FEMALE_COLOR, linewidth=LINE_WIDTH, solid_capstyle=\"round\", markeredgecolor='w',\n",
      "        label='Faculty', clip_on=False)\n",
      "ax.set_xlim(1970,2011)\n",
      "ax.set_ylabel('Number of people hired per year', fontsize=LABEL_SIZE)\n",
      "hide_right_top_axis(ax)\n",
      "\n",
      "plt.show()"
     ],
     "language": "python",
     "metadata": {},
     "outputs": [
      {
       "metadata": {},
       "output_type": "display_data",
       "png": "[encoded data removed]",
       "text": [
        "<matplotlib.figure.Figure at 0x10aad2f90>"
       ]
      }
     ],
     "prompt_number": 101
    },
    {
     "cell_type": "code",
     "collapsed": false,
     "input": [],
     "language": "python",
     "metadata": {},
     "outputs": []
    }
   ],
   "metadata": {}
  }
 ]
}