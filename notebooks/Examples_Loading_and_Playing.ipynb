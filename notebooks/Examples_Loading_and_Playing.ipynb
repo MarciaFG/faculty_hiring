{
 "metadata": {
  "name": "",
  "signature": "sha256:10773c85ff78451527fa40f22dcc69c349523af10dc604e22f24a3a6bd42f57e"
 },
 "nbformat": 3,
 "nbformat_minor": 0,
 "worksheets": [
  {
   "cells": [
    {
     "cell_type": "code",
     "collapsed": false,
     "input": [
      "from matplotlib import rcParams\n",
      "rcParams['font.family'] = 'sans-serif'\n",
      "rcParams['font.sans-serif'] = ['Helvetica']\n",
      "rcParams['xtick.major.pad']='8'\n",
      "import matplotlib.pyplot as plt\n",
      "import matplotlib as mpl\n",
      "\n",
      "from faculty_hiring.misc.plotting import *  # Definitions for LABEL_SIZE and such\n",
      "from faculty_hiring.misc.gaussian_kde import gaussian_kde\n",
      "from faculty_hiring.parse import faculty_parser, institution_parser\n",
      "from faculty_hiring.parse import load\n",
      "from faculty_hiring.misc.subfield import topic_descriptions, num_topics \n",
      "# topic_descriptions is a list of topic descriptions, num_topics is the length of that list.\n",
      "\n",
      "from collections import Counter\n",
      "import numpy as np\n",
      "import palettable\n",
      "\n",
      "# Color stuff\n",
      "cmap = palettable.tableau.Tableau_10.mpl_colormap\n",
      "colors = palettable.tableau.Tableau_10.mpl_colors\n",
      "\n",
      "# File locations\n",
      "faculty_file = '/Users/samway/Documents/Work/ClausetLab/projects/faculty_hiring/data/faculty_cs_linked_all_subfield.txt'\n",
      "inst_file = '/Users/samway/Documents/Work/ClausetLab/projects/faculty_hiring/data/inst_cs.txt'\n",
      "\n",
      "# (Optional, these are for loading publication profiles)\n",
      "# dblp_dir = '/Users/samway/Documents/Work/ClausetLab/projects/faculty_hiring/data/profiles_DBLP_all/'\n",
      "# gs_dir = '/Users/samway/Documents/Work/ClausetLab/projects/faculty_hiring/data/profiles_GS_all/'"
     ],
     "language": "python",
     "metadata": {},
     "outputs": [],
     "prompt_number": 12
    },
    {
     "cell_type": "heading",
     "level": 2,
     "metadata": {},
     "source": [
      "Loading the dataset"
     ]
    },
    {
     "cell_type": "code",
     "collapsed": false,
     "input": [
      "inst = institution_parser.parse_institution_records(open(inst_file))\n",
      "faculty = load.load_assistant_profs(open(faculty_file))\n",
      "# load.load_all_publications(faculty, dblp_dir, gs_dir) # <-- need to have gs_dir and dblp_dir defined"
     ],
     "language": "python",
     "metadata": {},
     "outputs": [],
     "prompt_number": 3
    },
    {
     "cell_type": "heading",
     "level": 5,
     "metadata": {},
     "source": [
      "Wait, what are those things?"
     ]
    },
    {
     "cell_type": "markdown",
     "metadata": {},
     "source": [
      "They're dictionaries. Here's the entry for Stanford:"
     ]
    },
    {
     "cell_type": "code",
     "collapsed": false,
     "input": [
      "inst['Stanford University']"
     ],
     "language": "python",
     "metadata": {},
     "outputs": [
      {
       "metadata": {},
       "output_type": "pyout",
       "prompt_number": 5,
       "text": [
        "{'NRC95': 1,\n",
        " 'Region': 'West',\n",
        " 'USN2010': 1,\n",
        " 'pi': 2.23,\n",
        " 'pi_inv': 0.4484304932735426,\n",
        " 'pi_rescaled': 1.0,\n",
        " 'u': 1}"
       ]
      }
     ],
     "prompt_number": 5
    },
    {
     "cell_type": "markdown",
     "metadata": {},
     "source": [
      "For institutions that aren't in our records, there's an 'UNKNOWN' entry. Assume that if we haven't heard of the institution that the hiring committees haven't either. Here's code to grab the institution profile for a person, which, if it doesn't exists grabs the 'UNKNOWN' profile:"
     ]
    },
    {
     "cell_type": "code",
     "collapsed": false,
     "input": [
      "inst.get('Weird University', inst['UNKNOWN'])"
     ],
     "language": "python",
     "metadata": {},
     "outputs": [
      {
       "metadata": {},
       "output_type": "pyout",
       "prompt_number": 6,
       "text": [
        "{'pi': 206.0,\n",
        " 'pi_inv': 0.0048543689320388345,\n",
        " 'pi_rescaled': 0.0048543689320388328}"
       ]
      }
     ],
     "prompt_number": 6
    },
    {
     "cell_type": "markdown",
     "metadata": {},
     "source": [
      "What about the faculty records?"
     ]
    },
    {
     "cell_type": "code",
     "collapsed": false,
     "input": [
      "f = faculty[0]\n",
      "dir(f)"
     ],
     "language": "python",
     "metadata": {},
     "outputs": [
      {
       "metadata": {},
       "output_type": "pyout",
       "prompt_number": 7,
       "text": [
        "['__contains__',\n",
        " '__doc__',\n",
        " '__getitem__',\n",
        " '__init__',\n",
        " '__module__',\n",
        " '__setitem__',\n",
        " 'alma_mater',\n",
        " 'current',\n",
        " 'current_job',\n",
        " 'dblp',\n",
        " 'department',\n",
        " 'education',\n",
        " 'email',\n",
        " 'faculty',\n",
        " 'facultyName',\n",
        " 'first_asst_job_location',\n",
        " 'first_asst_job_year',\n",
        " 'first_asst_prof',\n",
        " 'first_job',\n",
        " 'first_job_location',\n",
        " 'first_job_year',\n",
        " 'full_professor',\n",
        " 'gs',\n",
        " 'has_postdoc',\n",
        " 'phd',\n",
        " 'phd_location',\n",
        " 'phd_year',\n",
        " 'place',\n",
        " 'recordDate',\n",
        " 'sex',\n",
        " 'topic_dist']"
       ]
      }
     ],
     "prompt_number": 7
    },
    {
     "cell_type": "code",
     "collapsed": false,
     "input": [
      "# These do the same thing:\n",
      "print f['facultyName']\n",
      "print f.facultyName"
     ],
     "language": "python",
     "metadata": {},
     "outputs": [
      {
       "output_type": "stream",
       "stream": "stdout",
       "text": [
        "Gail-Joon Ahn\n",
        "Gail-Joon Ahn\n"
       ]
      }
     ],
     "prompt_number": 8
    },
    {
     "cell_type": "code",
     "collapsed": false,
     "input": [
      "# These are often important \n",
      "print f.first_asst_job_location, f.first_asst_job_year\n",
      "print f.phd_location, f.phd_year"
     ],
     "language": "python",
     "metadata": {},
     "outputs": [
      {
       "output_type": "stream",
       "stream": "stdout",
       "text": [
        "University of North Carolina, Charlotte 2000\n",
        "George Mason University 2000\n"
       ]
      }
     ],
     "prompt_number": 9
    },
    {
     "cell_type": "heading",
     "level": 2,
     "metadata": {},
     "source": [
      "Plotting example"
     ]
    },
    {
     "cell_type": "code",
     "collapsed": false,
     "input": [],
     "language": "python",
     "metadata": {},
     "outputs": []
    },
    {
     "cell_type": "code",
     "collapsed": false,
     "input": [
      "fig, ax = plt.subplots(1, 1, figsize=(6,4))\n",
      "\n",
      "start_years = np.zeros(len(faculty), dtype=int)\n",
      "for i, f in enumerate(faculty):\n",
      "    start_years[i] = f.first_asst_job_year\n",
      "    \n",
      "bins = np.arange(1950, 2012)\n",
      "    \n",
      "# I have a lot of pre-defined font sizes and stuff that are in faculty_hiring.misc.plotting\n",
      "# Try to use these wherever possible to help keep things consistent. \n",
      "ax.set_xlim(1950, 2011)\n",
      "ax.hist(start_years, bins=bins, color=LIGHT_COLOR, edgecolor=DARK_COLOR, clip_on=False)\n",
      "ax.set_xlabel('Start year', fontsize=LABEL_SIZE)\n",
      "ax.set_ylabel('Number of faculty hired', fontsize=LABEL_SIZE)\n",
      "ax.tick_params(axis='both', which='major', labelsize=TICK_SIZE)\n",
      "hide_right_top_axis(ax)\n",
      "\n",
      "plt.show()"
     ],
     "language": "python",
     "metadata": {},
     "outputs": [
      {
       "metadata": {},
       "output_type": "display_data",
       "png": "[encoded data removed]",
       "text": [
        "<matplotlib.figure.Figure at 0x1082ddfd0>"
       ]
      }
     ],
     "prompt_number": 11
    },
    {
     "cell_type": "code",
     "collapsed": false,
     "input": [],
     "language": "python",
     "metadata": {},
     "outputs": [],
     "prompt_number": 10
    }
   ],
   "metadata": {}
  }
 ]
}