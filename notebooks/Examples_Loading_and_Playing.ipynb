{
 "metadata": {
  "name": "",
  "signature": "sha256:d47da7b0e3e215c2810fa0f73392ac2cc72b1b67438a43443edbdcfe1348e556"
 },
 "nbformat": 3,
 "nbformat_minor": 0,
 "worksheets": [
  {
   "cells": [
    {
     "cell_type": "code",
     "collapsed": false,
     "input": [
      "from __future__ import division\n",
      "\n",
      "from faculty_hiring.misc.plotting import *  # Definitions for LABEL_SIZE and such\n",
      "from faculty_hiring.misc.gaussian_kde import gaussian_kde\n",
      "from faculty_hiring.parse import faculty_parser, institution_parser\n",
      "from faculty_hiring.parse import load\n",
      "from faculty_hiring.parse.nces import parse_phds_awarded\n",
      "from faculty_hiring.misc.subfield import topic_descriptions, num_topics \n",
      "# topic_descriptions is a list of topic descriptions, num_topics is the length of that list.\n",
      "\n",
      "from scipy.stats.stats import pearsonr, mannwhitneyu\n",
      "from collections import Counter\n",
      "import numpy as np\n",
      "import scipy as sp\n",
      "import os\n",
      "\n",
      "# File locations\n",
      "faculty_file = '/Users/samway/Documents/Work/ClausetLab/projects/faculty_hiring/data/faculty_cs_CURRENT.txt'\n",
      "inst_file = '/Users/samway/Documents/Work/ClausetLab/projects/faculty_hiring/data/inst_cs.txt'\n",
      "figures_dir = '/Users/samway/Documents/Work/ClausetLab/projects/faculty_hiring/notebooks/figures/'\n",
      "nces_table = '/Users/samway/Documents/Work/ClausetLab/projects/faculty_hiring/data/nces_table.txt'\n",
      "\n",
      "# (Optional, these are for loading publication profiles)\n",
      "# dblp_dir = '/Users/samway/Documents/Work/ClausetLab/projects/faculty_hiring/data/profiles_DBLP_all/'\n",
      "# gs_dir = '/Users/samway/Documents/Work/ClausetLab/projects/faculty_hiring/data/profiles_GS_all/'"
     ],
     "language": "python",
     "metadata": {},
     "outputs": [],
     "prompt_number": 13
    },
    {
     "cell_type": "heading",
     "level": 2,
     "metadata": {},
     "source": [
      "Loading the dataset"
     ]
    },
    {
     "cell_type": "code",
     "collapsed": false,
     "input": [
      "inst = institution_parser.parse_institution_records(open(inst_file))\n",
      "faculty = load.load_assistant_profs(open(faculty_file), inst)\n",
      "# load.load_all_publications(faculty, dblp_dir, gs_dir) # <-- need to have gs_dir and dblp_dir defined\n",
      "nces_years, nces_women, nces_total = parse_phds_awarded(nces_table)\n",
      "\n",
      "discarded = [f for f in faculty_parser.parse_faculty_records(open(faculty_file,'rU')) \n",
      "             if (f.first_asst_job_year is not None and \n",
      "                 f.first_asst_job_year >= 1970 and\n",
      "                 f.first_asst_job_year < 2012 and\n",
      "                 f.phd_location is not None and \n",
      "                 (f.phd_location not in inst or f.first_asst_job_location not in inst))]\n",
      "\n",
      "all_faculty = [f for f in faculty_parser.parse_faculty_records(open(faculty_file,'rU')) if f.current not in ['Emeritus',\n",
      "                                                                                                             'Research Staff',\n",
      "                                                                                                             'Research Assistant Professor',\n",
      "                                                                                                             'Research Associate Professor',\n",
      "                                                                                                             'Research Full Professor']]\n",
      "\n",
      "all_faculty = [f for f in faculty_parser.parse_faculty_records(open(faculty_file,'rU'))]"
     ],
     "language": "python",
     "metadata": {},
     "outputs": [],
     "prompt_number": 36
    },
    {
     "cell_type": "heading",
     "level": 5,
     "metadata": {},
     "source": [
      "Wait, what are those things?"
     ]
    },
    {
     "cell_type": "markdown",
     "metadata": {},
     "source": [
      "They're dictionaries. Here's the entry for Stanford:"
     ]
    },
    {
     "cell_type": "code",
     "collapsed": false,
     "input": [
      "inst['Stanford University']"
     ],
     "language": "python",
     "metadata": {},
     "outputs": [
      {
       "metadata": {},
       "output_type": "pyout",
       "prompt_number": 15,
       "text": [
        "{'NRC95': 1,\n",
        " 'Region': 'West',\n",
        " 'USN2010': 1,\n",
        " 'pi': 2.23,\n",
        " 'pi_inv': 0.4484304932735426,\n",
        " 'pi_rescaled': 1.0,\n",
        " 'u': 1}"
       ]
      }
     ],
     "prompt_number": 15
    },
    {
     "cell_type": "markdown",
     "metadata": {},
     "source": [
      "For institutions that aren't in our records, there's an 'UNKNOWN' entry. Assume that if we haven't heard of the institution that the hiring committees haven't either. Here's code to grab the institution profile for a person, which, if it doesn't exists grabs the 'UNKNOWN' profile:"
     ]
    },
    {
     "cell_type": "code",
     "collapsed": false,
     "input": [
      "inst.get('Weird University', inst['UNKNOWN'])"
     ],
     "language": "python",
     "metadata": {},
     "outputs": [
      {
       "metadata": {},
       "output_type": "pyout",
       "prompt_number": 16,
       "text": [
        "{'Region': 'Earth',\n",
        " 'pi': 206.0,\n",
        " 'pi_inv': 0.0048543689320388345,\n",
        " 'pi_rescaled': 0.0048543689320388328}"
       ]
      }
     ],
     "prompt_number": 16
    },
    {
     "cell_type": "markdown",
     "metadata": {},
     "source": [
      "What about the faculty records?"
     ]
    },
    {
     "cell_type": "code",
     "collapsed": false,
     "input": [
      "# These will do the same thing:\n",
      "f = faculty[0]\n",
      "print f['facultyName']\n",
      "print f.facultyName"
     ],
     "language": "python",
     "metadata": {},
     "outputs": [
      {
       "output_type": "stream",
       "stream": "stdout",
       "text": [
        "Gail-Joon Ahn\n",
        "Gail-Joon Ahn\n"
       ]
      }
     ],
     "prompt_number": 17
    },
    {
     "cell_type": "code",
     "collapsed": false,
     "input": [
      "# These are often important \n",
      "print f.first_asst_job_location, f.first_asst_job_year\n",
      "print f.phd_location, f.phd_year"
     ],
     "language": "python",
     "metadata": {},
     "outputs": [
      {
       "output_type": "stream",
       "stream": "stdout",
       "text": [
        "University of North Carolina, Charlotte 2000\n",
        "George Mason University 2000\n"
       ]
      }
     ],
     "prompt_number": 18
    },
    {
     "cell_type": "heading",
     "level": 2,
     "metadata": {},
     "source": [
      "Basic Stats"
     ]
    },
    {
     "cell_type": "code",
     "collapsed": false,
     "input": [
      "''' Fraction of women '''\n",
      "print len(faculty)\n",
      "print np.sum([f.is_female for f in faculty])\n",
      "print float(np.sum([f.is_female for f in faculty])) / len(faculty)"
     ],
     "language": "python",
     "metadata": {},
     "outputs": [
      {
       "output_type": "stream",
       "stream": "stdout",
       "text": [
        "2659\n",
        "427\n",
        "0.160586686724\n"
       ]
      }
     ],
     "prompt_number": 19
    },
    {
     "cell_type": "code",
     "collapsed": false,
     "input": [
      "''' Fraction of placements within the same geographical region '''\n",
      "c = 0\n",
      "for person in faculty:\n",
      "    if person.first_asst_job_region == person.phd_region:\n",
      "        c += 1.\n",
      "print c / len(faculty)"
     ],
     "language": "python",
     "metadata": {},
     "outputs": [
      {
       "output_type": "stream",
       "stream": "stdout",
       "text": [
        "0.405415569763\n"
       ]
      }
     ],
     "prompt_number": 20
    },
    {
     "cell_type": "code",
     "collapsed": false,
     "input": [
      "''' How many people have publication profiles '''\n",
      "c = 0\n",
      "for person in faculty:\n",
      "    if 'dblp' in person:\n",
      "        c += 1.\n",
      "        \n",
      "print c, c / len(faculty)"
     ],
     "language": "python",
     "metadata": {},
     "outputs": [
      {
       "output_type": "stream",
       "stream": "stdout",
       "text": [
        "2528.0 0.950733358405\n"
       ]
      }
     ],
     "prompt_number": 21
    },
    {
     "cell_type": "code",
     "collapsed": false,
     "input": [
      "''' Average z-scores ''' \n",
      "zscores_m_up = []\n",
      "zscores_w_up = []\n",
      "zscores_m_down = []\n",
      "zscores_w_down = []\n",
      "\n",
      "for person in faculty:\n",
      "    female = person.is_female\n",
      "    up = person.first_asst_job_rank > person.phd_rank\n",
      "    down = person.first_asst_job_rank < person.phd_rank\n",
      "    \n",
      "    if not female and up:\n",
      "        zscores_m_up.append(person.dblp_z)\n",
      "    elif not female and down:\n",
      "        zscores_m_down.append(person.dblp_z)\n",
      "    elif female and up:\n",
      "        zscores_w_up.append(person.dblp_z)\n",
      "    elif female and down:\n",
      "        zscores_w_down.append(person.dblp_z)\n",
      "        \n",
      "print 'Men, up: \\t', np.median(zscores_m_up)\n",
      "print 'Men, down: \\t', np.median(zscores_m_down)\n",
      "print ''\n",
      "print 'Women, up: \\t', np.median(zscores_w_up)\n",
      "print 'Women, down: \\t', np.median(zscores_w_down)"
     ],
     "language": "python",
     "metadata": {},
     "outputs": [
      {
       "output_type": "stream",
       "stream": "stdout",
       "text": [
        "Men, up: \t-0.206791\n",
        "Men, down: \t-0.321756\n",
        "\n",
        "Women, up: \t-0.214618\n",
        "Women, down: \t-0.3308355\n"
       ]
      }
     ],
     "prompt_number": 22
    },
    {
     "cell_type": "code",
     "collapsed": false,
     "input": [
      "stat, pval = mannwhitneyu(zscores_m_up, zscores_w_up)\n",
      "sig = pval < 0.05    \n",
      "print sig, pval"
     ],
     "language": "python",
     "metadata": {},
     "outputs": [
      {
       "output_type": "stream",
       "stream": "stdout",
       "text": [
        "False 0.473303845995\n"
       ]
      }
     ],
     "prompt_number": 23
    },
    {
     "cell_type": "code",
     "collapsed": false,
     "input": [
      "''' Median z-scores ''' \n",
      "men = []\n",
      "women = []\n",
      "\n",
      "for person in faculty:\n",
      "    if True:\n",
      "        if person.is_female:\n",
      "            women.append(person.dblp_z)\n",
      "        else:\n",
      "            men.append(person.dblp_z)\n",
      "\n",
      "stat, pval = mannwhitneyu(men, women)\n",
      "sig = pval < 0.05    \n",
      "print sig, pval\n",
      "\n",
      "print 'Men:   ', np.median(men)\n",
      "print 'Women: ', np.median(women)"
     ],
     "language": "python",
     "metadata": {},
     "outputs": [
      {
       "output_type": "stream",
       "stream": "stdout",
       "text": [
        "False 0.407037369774\n",
        "Men:    -0.327106\n",
        "Women:  -0.329075\n"
       ]
      }
     ],
     "prompt_number": 24
    },
    {
     "cell_type": "code",
     "collapsed": false,
     "input": [
      "all_women = [person for person in all_faculty if person.is_female]\n",
      "women = [person for person in faculty if person.is_female]\n",
      "\n",
      "all_place_counts = Counter([person.first_asst_job_location for person in all_women])\n",
      "place_counts = Counter([person.first_asst_job_location for person in women])"
     ],
     "language": "python",
     "metadata": {},
     "outputs": [],
     "prompt_number": 37
    },
    {
     "cell_type": "code",
     "collapsed": false,
     "input": [
      "[(all_place_counts[p] - place_counts[p], p) for p in place_counts]"
     ],
     "language": "python",
     "metadata": {},
     "outputs": [
      {
       "metadata": {},
       "output_type": "pyout",
       "prompt_number": 38,
       "text": [
        "[(0, 'Syracuse University'),\n",
        " (0, 'Brown University'),\n",
        " (0, 'Michigan Technological University'),\n",
        " (0, 'University of Connecticut'),\n",
        " (0, 'University of Florida'),\n",
        " (0, 'UC Santa Barbara'),\n",
        " (0, 'State University of New York, Binghamton'),\n",
        " (1, 'State University of New York, Stony Brook'),\n",
        " (0, 'Dalhousie University'),\n",
        " (1, 'MIT'),\n",
        " (0, 'University of Memphis'),\n",
        " (0, 'State University of New York, Buffalo'),\n",
        " (0, 'UC Irvine'),\n",
        " (0, 'North Carolina State University'),\n",
        " (0, 'University of Arkansas, Fayetteville'),\n",
        " (0, 'Arizona State University'),\n",
        " (0, 'University of South Florida'),\n",
        " (1, 'University of Saskatchewan'),\n",
        " (0, 'University of Pittsburgh'),\n",
        " (0, 'University of Michigan'),\n",
        " (0, 'University of Pennsylvania'),\n",
        " (0, 'Stanford University'),\n",
        " (2, 'University of British Columbia'),\n",
        " (0, 'University of Manitoba'),\n",
        " (0, 'UC Riverside'),\n",
        " (1, 'Missouri University of Science and Technology'),\n",
        " (0, 'Wright State University'),\n",
        " (0, 'University of New Brunswick'),\n",
        " (0, 'University of Kansas, Lawrence'),\n",
        " (0, 'University of Texas, Dallas'),\n",
        " (0, 'University of Kentucky'),\n",
        " (1, 'Southern Methodist University'),\n",
        " (0, 'Temple University'),\n",
        " (0, 'University of Louisiana, Lafayette'),\n",
        " (1, 'Boston University'),\n",
        " (0, 'UC Santa Cruz'),\n",
        " (0, 'Texas Tech University'),\n",
        " (1, 'University of Illinois, Urbana Champaign'),\n",
        " (1, 'University of Texas, El Paso'),\n",
        " (0, 'University of Central Florida'),\n",
        " (0, 'Oregon State University'),\n",
        " (0, 'Florida Institute of Technology'),\n",
        " (0, 'University of Cincinnati'),\n",
        " (0, 'University of Waterloo'),\n",
        " (3, 'New York University'),\n",
        " (3, 'Memorial University of Newfoundland'),\n",
        " (1, 'University of Texas, San Antonio'),\n",
        " (0, 'University of Illinois, Chicago'),\n",
        " (0, 'Harvard University'),\n",
        " (0, 'Ohio State University'),\n",
        " (0, 'Santa Clara University'),\n",
        " (0, 'Lehigh University'),\n",
        " (0, 'Drexel University'),\n",
        " (0, 'UC Berkeley'),\n",
        " (0, 'Nova Southeastern University'),\n",
        " (0, 'UC Davis'),\n",
        " (0, 'University of Colorado, Denver'),\n",
        " (0, 'Brandeis University'),\n",
        " (0, 'Vanderbilt University'),\n",
        " (0, 'University of Colorado, Boulder'),\n",
        " (0, 'University of Wisconsin, Madison'),\n",
        " (2, 'New Mexico State University'),\n",
        " (0, 'Northeastern University'),\n",
        " (0, 'University of Minnesota, Minneapolis'),\n",
        " (0, 'University of New Hampshire'),\n",
        " (0, 'Pennsylvania State University'),\n",
        " (0, 'Georgia State University'),\n",
        " (0, 'University of Missouri, Columbia'),\n",
        " (1, 'University of Ottawa'),\n",
        " (0, 'McGill University'),\n",
        " (0, 'Naval Postgraduate School'),\n",
        " (0, 'Iowa State University'),\n",
        " (0, 'Johns Hopkins University'),\n",
        " (0, 'DePaul University'),\n",
        " (1, 'University of Massachusetts, Boston'),\n",
        " (0, 'Georgia Tech'),\n",
        " (0, 'University of Arizona'),\n",
        " (0, 'Rutgers University'),\n",
        " (0, 'Virginia Tech'),\n",
        " (1, 'North Dakota State University'),\n",
        " (0, 'University of Houston'),\n",
        " (0, 'University of Texas, Austin'),\n",
        " (0, 'Mississippi State University'),\n",
        " (0, 'University of Maryland, Baltimore County'),\n",
        " (2, 'University of Nebraska, Lincoln'),\n",
        " (0, 'University of Texas, Arlington'),\n",
        " (0, 'Queens University'),\n",
        " (0, 'University of North Carolina, Chapel Hill'),\n",
        " (0, 'Colorado School of Mines'),\n",
        " (0, 'Rochester Institute of Technology'),\n",
        " (0, 'California Institute of Technology'),\n",
        " (0, 'University of Bridgeport'),\n",
        " (0, 'Clarkson University'),\n",
        " (0, 'College of William and Mary'),\n",
        " (1, 'York University'),\n",
        " (0, 'University of Nevada, Reno'),\n",
        " (0, 'Worcester Polytechnic Institute'),\n",
        " (0, 'University of Southern California'),\n",
        " (0, 'Columbia University'),\n",
        " (1, 'University of North Texas, Denton'),\n",
        " (0, 'Simon Fraser University'),\n",
        " (0, 'Oklahoma State University'),\n",
        " (0, 'Long Island University'),\n",
        " (0, 'Southern Illinois University, Carbondale'),\n",
        " (0, 'University of Victoria'),\n",
        " (0, 'Carleton University'),\n",
        " (0, 'University of Virginia'),\n",
        " (0, 'University of Southern Mississippi'),\n",
        " (0, 'George Washington University'),\n",
        " (0, 'UC San Diego'),\n",
        " (1, 'University of Massachusetts, Amherst'),\n",
        " (0, 'Princeton University'),\n",
        " (0, 'University of Iowa'),\n",
        " (1, 'University of Alabama, Birmingham'),\n",
        " (0, 'Old Dominion University'),\n",
        " (0, 'Michigan State University'),\n",
        " (0, 'University of Nebraska, Omaha'),\n",
        " (0, 'University of Wisconsin, Milwaukee'),\n",
        " (0, 'UCLA'),\n",
        " (0, 'Clemson University'),\n",
        " (0, 'University of Missouri, Kansas City'),\n",
        " (0, 'Texas A&M'),\n",
        " (0, 'University of Toledo'),\n",
        " (0, 'Kent State University'),\n",
        " (0, 'University of Rhode Island'),\n",
        " (2, 'Concordia University, Montreal'),\n",
        " (0, 'Utah State University'),\n",
        " (3, 'University of Hawaii, Manoa'),\n",
        " (0, 'University of Wyoming'),\n",
        " (0, 'University of Alabama, Tuscaloosa'),\n",
        " (0, 'University of Washington'),\n",
        " (0, 'Purdue University'),\n",
        " (0, 'Kansas State University'),\n",
        " (0, 'University of Notre Dame'),\n",
        " (0, 'University of Oklahoma'),\n",
        " (0, 'Carnegie Mellon University'),\n",
        " (0, 'New Jersey Institute of Technology'),\n",
        " (0, 'University of Mississippi'),\n",
        " (0, 'Washington University, St. Louis'),\n",
        " (0, 'Northwestern University'),\n",
        " (0, 'University of Nevada, Las Vegas'),\n",
        " (0, 'University of Toronto'),\n",
        " (0, 'University of North Carolina, Charlotte'),\n",
        " (0, 'University of Maryland, College Park'),\n",
        " (0, 'Rensselaer Polytechnic Institute'),\n",
        " (0, 'University of Oregon'),\n",
        " (1, 'University of Delaware'),\n",
        " (0, 'Auburn University'),\n",
        " (0, 'University of Calgary'),\n",
        " (0, 'New Mexico Institute of Mining and Technology'),\n",
        " (0, 'Florida Atlantic University'),\n",
        " (0, 'Colorado State University'),\n",
        " (0, 'Cornell University'),\n",
        " (0, 'Claremont Graduate University'),\n",
        " (0, 'Tufts University'),\n",
        " (0, 'Portland State University'),\n",
        " (0, 'George Mason University'),\n",
        " (0, 'University of Alabama, Huntsville'),\n",
        " (0, 'University of Georgia'),\n",
        " (1, 'University of Western Ontario'),\n",
        " (0, 'University of Utah'),\n",
        " (0, 'Illinois Institute of Technology'),\n",
        " (1, 'Indiana University'),\n",
        " (0, 'University of New Mexico'),\n",
        " (1, 'University of Alberta'),\n",
        " (0, 'Dartmouth College'),\n",
        " (0, 'University of Tennessee, Knoxville'),\n",
        " (1, 'Stevens Institute of Technology'),\n",
        " (0, 'University of South Carolina')]"
       ]
      }
     ],
     "prompt_number": 38
    },
    {
     "cell_type": "heading",
     "level": 2,
     "metadata": {},
     "source": [
      "Plotting example"
     ]
    },
    {
     "cell_type": "code",
     "collapsed": false,
     "input": [
      "fig, ax = plt.subplots(1, 1, figsize=(6,4))\n",
      "\n",
      "start_years = np.zeros(len(faculty), dtype=int)\n",
      "female_start_years = []\n",
      "\n",
      "for i, f in enumerate(faculty):\n",
      "    start_years[i] = f.first_asst_job_year\n",
      "    if f.sex == 'F':\n",
      "        female_start_years.append(f.first_asst_job_year)\n",
      "        \n",
      "bins = np.arange(1955, 2012) + 0.5\n",
      "\n",
      "temp = FEMALE_COLOR\n",
      "FEMALE_COLOR = (0.40254901960784313, 0.75274509803921569, 0.50254901960784313)\n",
      "    \n",
      "# I have a lot of pre-defined font sizes and stuff that are in faculty_hiring.misc.plotting\n",
      "# Try to use these wherever possible to help keep things consistent. \n",
      "x_pad = 0.5\n",
      "ax.set_xlim(1970-x_pad, 2012-x_pad)\n",
      "ax.hist(start_years, bins=bins, color=DARK_COLOR, edgecolor='w', clip_on=False, label='All hires')\n",
      "ax.hist(female_start_years, bins=bins, color=FEMALE_COLOR, edgecolor='w', clip_on=False, label='Female hires')\n",
      "ax.set_xlabel('Start year', fontsize=LABEL_SIZE)\n",
      "ax.set_ylabel('Number of faculty hired', fontsize=LABEL_SIZE)\n",
      "ax.tick_params(axis='both', which='major', labelsize=TICK_SIZE)\n",
      "hide_right_top_axis(ax)\n",
      "\n",
      "fake_line_all = Line2D(range(1), range(1), color=DARK_COLOR, marker='o',markersize=15, linestyle='None', markeredgecolor='w')\n",
      "fake_line_f = Line2D(range(1), range(1), color=FEMALE_COLOR, marker='o',markersize=15, linestyle='None', markeredgecolor='w')\n",
      "plt.legend((fake_line_all,fake_line_f),('All hires','Female hires'), numpoints=1, loc='upper left', frameon=False, fontsize=LABEL_SIZE)\n",
      "#ax.legend(loc='upper left', frameon=False)\n",
      "plt.savefig(os.path.join(figures_dir, 'faculty_per_year.pdf'))\n",
      "\n",
      "FEMALE_COLOR = temp\n",
      "\n",
      "plt.show()"
     ],
     "language": "python",
     "metadata": {},
     "outputs": [
      {
       "metadata": {},
       "output_type": "display_data",
       "png": "[encoded data removed]",
       "text": [
        "<matplotlib.figure.Figure at 0x1077b4f50>"
       ]
      }
     ],
     "prompt_number": 40
    },
    {
     "cell_type": "code",
     "collapsed": false,
     "input": [
      "fig, ax = plt.subplots(1, 1, figsize=(6,4))\n",
      "\n",
      "start_years = np.zeros(len(faculty), dtype=int)\n",
      "female_start_years = []\n",
      "\n",
      "for i, f in enumerate(faculty):\n",
      "    start_years[i] = f.first_asst_job_year\n",
      "    if f.sex == 'F':\n",
      "        female_start_years.append(f.first_asst_job_year)\n",
      "        \n",
      "bin_offset = 0.5\n",
      "bins = np.arange(1969, 2012) + bin_offset\n",
      "year_range = np.arange(1970, 2012)\n",
      "    \n",
      "# I have a lot of pre-defined font sizes and stuff that are in faculty_hiring.misc.plotting\n",
      "# Try to use these wherever possible to help keep things consistent. \n",
      "ax.set_xlim(1970, 2012)\n",
      "start_years_hist,_ = np.histogram(start_years, bins=bins)\n",
      "start_years_hist_women,_ = np.histogram(female_start_years, bins=bins)\n",
      "\n",
      "cumulative_all = np.cumsum(start_years_hist)\n",
      "cumulative_women = np.cumsum(start_years_hist_women)\n",
      "\n",
      "ax.bar(year_range, cumulative_all / float(cumulative_all[-1]), color=DARK_COLOR, width=1, edgecolor='w', align='center', clip_on=False)\n",
      "ax.bar(year_range, cumulative_women / float(cumulative_women[-1]), color=FEMALE_COLOR, width=1, edgecolor='w', align='center', clip_on=False)\n",
      "\n",
      "ax.plot([1971,2011], [0.5, 0.5], '--', color=ALMOST_BLACK)\n",
      "\n",
      "ax.set_xlabel('Start year', fontsize=LABEL_SIZE)\n",
      "ax.set_ylabel('Cumulative fraction of hires', fontsize=LABEL_SIZE)\n",
      "ax.tick_params(axis='both', which='major', labelsize=TICK_SIZE)\n",
      "hide_right_top_axis(ax)\n",
      "fake_line_all = Line2D(range(1), range(1), color=DARK_COLOR, marker='o',markersize=15, linestyle='None', markeredgecolor='w')\n",
      "fake_line_f = Line2D(range(1), range(1), color=FEMALE_COLOR, marker='o',markersize=15, linestyle='None', markeredgecolor='w')\n",
      "plt.legend((fake_line_all,fake_line_f),('All hires','Female hires'), numpoints=1, loc='upper left', frameon=False, fontsize=LABEL_SIZE)\n",
      "\n",
      "plt.savefig(os.path.join(figures_dir, 'cumulative_fraction.pdf'))\n",
      "plt.show()"
     ],
     "language": "python",
     "metadata": {},
     "outputs": [
      {
       "metadata": {},
       "output_type": "display_data",
       "png": "[encoded data removed]",
       "text": [
        "<matplotlib.figure.Figure at 0x1091675d0>"
       ]
      }
     ],
     "prompt_number": 43
    },
    {
     "cell_type": "code",
     "collapsed": false,
     "input": [
      "fig, ax = plt.subplots(1, 1, figsize=(6,4))\n",
      "\n",
      "#http://www.nsf.gov/statistics/infbrief/nsf08308/\n",
      "\n",
      "nsf_years = np.array([1985, 1987, 1989, 1991, 1993, 1995, 1997, 1999, 2001, 2003, 2006])\n",
      "nsf_fracs = np.array([12.6, 13.1, 13.9, 15.2, 18.4, 17.2, 20.4, 22.2, 19.9, 17.7, 21.2]) / 100.\n",
      "#nsf_fracs = np.array([4.5, 4.8, 4.7, 4.8, 5.4, 6.0, 6.7, 7.3, 8.2, 9.0, 9.8, 11.4, 11.7, 14.0, 15.8, 17.9]) / 100.\n",
      "#nsf_fracs = np.array([9.5, 10.2, 11.4, 12.7, 13.7, 14.9, 16.2, 17.6, 19.5, 20.7, 21.9, 23.7, 25.5]) / 100.\n",
      "\n",
      "def mean_confidence(positives, total, confidence=0.95, iters=1000, z=1.96):\n",
      "    upper = np.zeros_like(total, dtype=float)\n",
      "    lower = np.zeros_like(upper)\n",
      "    avg = np.zeros_like(lower)\n",
      "    \n",
      "    for i in xrange(len(positives)):\n",
      "        pos = positives[i]\n",
      "        tot = float(total[i])\n",
      "        if tot == 0:\n",
      "            continue\n",
      "        p = pos / tot\n",
      "        avg[i] = p\n",
      "        pm = z*np.sqrt((1./tot)*p*(1-p))\n",
      "        upper[i] = p + pm\n",
      "        lower[i] = np.max(p - pm, 0.)\n",
      "        \n",
      "    return avg, upper, lower\n",
      "        \n",
      "    \n",
      "avg, upper, lower = mean_confidence(cumulative_women, cumulative_all)    \n",
      "ax.fill_between(year_range, lower, upper, color=FEMALE_COLOR, alpha=0.4, edgecolor=\"None\")\n",
      "ax.plot(year_range, avg, color=FEMALE_COLOR, linewidth=LINE_WIDTH, solid_capstyle=\"round\")\n",
      "#ax.set_ylim(0, .2)\n",
      "ax.set_xlim(1970, 2012)\n",
      "ax.set_xticks([1970, 1980, 1990, 2000, 2010])\n",
      "\n",
      "# NCES\n",
      "ax.plot(nces_years, np.cumsum(nces_women)/np.cumsum(nces_total), '-', color=ALMOST_BLACK, linewidth=LINE_WIDTH)\n",
      "\n",
      "# NSF\n",
      "#ax.plot(nsf_years, nsf_fracs, '-', color=ALMOST_BLACK, linewidth=LINE_WIDTH)\n",
      "\n",
      "ax.set_xlabel('Start year', fontsize=LABEL_SIZE)\n",
      "ax.set_ylabel('Fraction of women\\nrelative to total', fontsize=LABEL_SIZE)\n",
      "ax.tick_params(axis='both', which='major', labelsize=TICK_SIZE)\n",
      "hide_right_top_axis(ax)\n",
      "\n",
      "fake_line_all = Line2D(range(1), range(1), color=FEMALE_COLOR, marker='o',markersize=15, linestyle='None', markeredgecolor='w')\n",
      "fake_line_f = Line2D(range(1), range(1), color=ALMOST_BLACK, marker='o',markersize=15, linestyle='None', markeredgecolor='w')\n",
      "plt.legend((fake_line_all,fake_line_f),('Faculty','PhDs (NCES)'), numpoints=1, loc='upper left', frameon=False, fontsize=LABEL_SIZE)\n",
      "\n",
      "plt.savefig(os.path.join(figures_dir, 'fraction_of_women.pdf'))\n",
      "plt.show()"
     ],
     "language": "python",
     "metadata": {},
     "outputs": [
      {
       "metadata": {},
       "output_type": "display_data",
       "png": "[encoded data removed]",
       "text": [
        "<matplotlib.figure.Figure at 0x108190850>"
       ]
      }
     ],
     "prompt_number": 27
    },
    {
     "cell_type": "code",
     "collapsed": false,
     "input": [
      "print 'Correlation coefficient:'\n",
      "keep = np.array([i for i, y in enumerate(year_range) if y in nces_years])\n",
      "avg = np.array(avg)\n",
      "print pearsonr(np.cumsum(nces_women)/np.cumsum(nces_total), avg[keep])[0]"
     ],
     "language": "python",
     "metadata": {},
     "outputs": [
      {
       "output_type": "stream",
       "stream": "stdout",
       "text": [
        "Correlation coefficient:\n",
        "0.982318385111\n"
       ]
      }
     ],
     "prompt_number": 28
    },
    {
     "cell_type": "code",
     "collapsed": false,
     "input": [
      "print 'Correlation coefficient (Past 1990):'\n",
      "keep = np.array([i for i, y in enumerate(year_range) if y in nces_years])\n",
      "nces = np.cumsum(nces_women)/np.cumsum(nces_total)\n",
      "us = np.array(avg)[keep]\n",
      "select = np.where(nces_years >= 1990)[0]\n",
      "\n",
      "print pearsonr(nces[select], us[select])[0]"
     ],
     "language": "python",
     "metadata": {},
     "outputs": [
      {
       "output_type": "stream",
       "stream": "stdout",
       "text": [
        "Correlation coefficient (Past 1990):\n",
        "0.9786311862\n"
       ]
      }
     ],
     "prompt_number": 29
    },
    {
     "cell_type": "code",
     "collapsed": false,
     "input": [
      "fig, ax = plt.subplots(1, 1, figsize=(6,4))\n",
      "\n",
      "#http://www.nsf.gov/statistics/infbrief/nsf08308/\n",
      "\n",
      "nsf_years = np.array([1985, 1987, 1989, 1991, 1993, 1995, 1997, 1999, 2001, 2003, 2006])\n",
      "nsf_fracs = np.array([12.6, 13.1, 13.9, 15.2, 18.4, 17.2, 20.4, 22.2, 19.9, 17.7, 21.2]) / 100.\n",
      "\n",
      "def mean_confidence(positives, total, confidence=0.95, iters=1000, z=1.96):\n",
      "    upper = np.zeros_like(total, dtype=float)\n",
      "    lower = np.zeros_like(upper)\n",
      "    avg = np.zeros_like(lower)\n",
      "    \n",
      "    for i in xrange(len(positives)):\n",
      "        pos = positives[i]\n",
      "        tot = float(total[i])\n",
      "        if tot == 0:\n",
      "            continue\n",
      "        p = pos / tot\n",
      "        avg[i] = p\n",
      "        pm = z*np.sqrt((1./tot)*p*(1-p))\n",
      "        upper[i] = p + pm\n",
      "        lower[i] = np.max(p - pm, 0.)\n",
      "        \n",
      "    return avg, upper, lower\n",
      "        \n",
      "    \n",
      "avg, upper, lower = mean_confidence(start_years_hist_women, start_years_hist)    \n",
      "avg, upper, lower = mean_confidence(cumulative_women, cumulative_all)    \n",
      "ax.fill_between(year_range, lower, upper, color=FEMALE_COLOR, alpha=0.4, edgecolor=\"None\")\n",
      "ax.plot(year_range, avg, '-o', color=FEMALE_COLOR, linewidth=LINE_WIDTH, solid_capstyle=\"round\", markeredgecolor='w',\n",
      "        label='Faculty')\n",
      "#ax.set_ylim(0, .2)\n",
      "x_pad = 0.5\n",
      "ax.set_xlim(1970-x_pad, 2012+x_pad)\n",
      "ax.set_xticks([1970, 1980, 1990, 2000, 2010])\n",
      "\n",
      "# NSF\n",
      "ax.plot(nsf_years, nsf_fracs, '-s', color=DARK_COLOR, linewidth=LINE_WIDTH, label='Faculty (NSF)', markeredgecolor='w')\n",
      "# NCES\n",
      "ax.plot(nces_years, np.cumsum(nces_women)/np.cumsum(nces_total), '-o', color=ALMOST_BLACK, linewidth=LINE_WIDTH, label='PhDs (NCES)', markeredgecolor='w')\n",
      "\n",
      "ax.set_xlabel('Start year', fontsize=LABEL_SIZE)\n",
      "ax.set_ylabel('Fraction of women', fontsize=LABEL_SIZE)\n",
      "ax.tick_params(axis='both', which='major', labelsize=TICK_SIZE)\n",
      "hide_right_top_axis(ax)\n",
      "\n",
      "'''\n",
      "f1 = Line2D(range(1), range(1), color=FEMALE_COLOR, marker='o',markersize=15, linestyle='None', markeredgecolor='w')\n",
      "f2 = Line2D(range(1), range(1), color=DARK_COLOR, marker='o',markersize=15, linestyle='None', markeredgecolor='w')\n",
      "f3 = Line2D(range(1), range(1), color=ALMOST_BLACK, marker='o',markersize=15, linestyle='None', markeredgecolor='w')\n",
      "\n",
      "f1 = Line2D(range(1), range(1), color=FEMALE_COLOR, linestyle='-', linewidth=LINE_WIDTH, markeredgecolor=FEMALE_COLOR)\n",
      "f2 = Line2D(range(1), range(1), color=DARK_COLOR, linestyle='-', linewidth=LINE_WIDTH)\n",
      "f3 = Line2D(range(1), range(1), color=ALMOST_BLACK, linestyle=':', linewidth=LINE_WIDTH)\n",
      "plt.legend((f1,f2,f3),('Faculty','Faculty (NSF)', 'PhDs (NCES)'), numpoints=1, loc='upper left', frameon=False, fontsize=LABEL_SIZE)\n",
      "'''\n",
      "plt.legend(numpoints=1, loc='upper left', frameon=False, fontsize=LABEL_SIZE)\n",
      "\n",
      "plt.savefig(os.path.join(figures_dir, 'fraction_of_women_by_year.pdf'))\n",
      "plt.show()"
     ],
     "language": "python",
     "metadata": {},
     "outputs": [
      {
       "metadata": {},
       "output_type": "display_data",
       "png": "[encoded data removed]",
       "text": [
        "<matplotlib.figure.Figure at 0x107a64e10>"
       ]
      }
     ],
     "prompt_number": 30
    },
    {
     "cell_type": "code",
     "collapsed": false,
     "input": [
      "print 'Correlation coefficient:'\n",
      "keep = np.array([i for i, y in enumerate(year_range) if y in nsf_years])\n",
      "avg = np.array(avg)\n",
      "print pearsonr(nsf_fracs, avg[keep])[0]"
     ],
     "language": "python",
     "metadata": {},
     "outputs": [
      {
       "output_type": "stream",
       "stream": "stdout",
       "text": [
        "Correlation coefficient:\n",
        "0.837554498911\n"
       ]
      }
     ],
     "prompt_number": 31
    },
    {
     "cell_type": "code",
     "collapsed": false,
     "input": [],
     "language": "python",
     "metadata": {},
     "outputs": [],
     "prompt_number": 31
    }
   ],
   "metadata": {}
  }
 ]
}