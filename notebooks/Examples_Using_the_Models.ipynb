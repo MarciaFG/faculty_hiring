{
 "metadata": {
  "name": "",
  "signature": "sha256:101fe55b173db49686f82b13920a8e34253ce865d66736de613e348cf2fd7864"
 },
 "nbformat": 3,
 "nbformat_minor": 0,
 "worksheets": [
  {
   "cells": [
    {
     "cell_type": "code",
     "collapsed": false,
     "input": [
      "from matplotlib import rcParams\n",
      "rcParams['font.family'] = 'sans-serif'\n",
      "rcParams['font.sans-serif'] = ['Helvetica']\n",
      "rcParams['xtick.major.pad']='8'\n",
      "import matplotlib.pyplot as plt\n",
      "import matplotlib as mpl\n",
      "\n",
      "from faculty_hiring.misc.plotting import *  # Definitions for LABEL_SIZE and such\n",
      "from faculty_hiring.misc.gaussian_kde import gaussian_kde\n",
      "from faculty_hiring.parse import faculty_parser, institution_parser\n",
      "from faculty_hiring.parse import load\n",
      "from faculty_hiring.misc.subfield import topic_descriptions, num_topics\n",
      "# topic_descriptions is a list of topic descriptions, num_topics is the length of that list.\n",
      "from faculty_hiring.models.simulation_engine import SimulationEngine\n",
      "from faculty_hiring.models.null_models import BestFirstModel, ConfigurationModel\n",
      "from faculty_hiring.models.sigmoid_models import SigmoidModel\n",
      "\n",
      "from collections import Counter\n",
      "import numpy as np\n",
      "import palettable\n",
      "\n",
      "# Color stuff\n",
      "cmap = palettable.tableau.Tableau_10.mpl_colormap\n",
      "colors = palettable.tableau.Tableau_10.mpl_colors\n",
      "\n",
      "# File locations\n",
      "faculty_file = '/Users/samway/Documents/Work/ClausetLab/projects/faculty_hiring/data/faculty_cs_linked_all_subfield.txt'\n",
      "inst_file = '/Users/samway/Documents/Work/ClausetLab/projects/faculty_hiring/data/inst_cs.txt'\n",
      "\n",
      "# (Optional, these are for loading publication profiles)\n",
      "# dblp_dir = '/Users/samway/Documents/Work/ClausetLab/projects/faculty_hiring/data/profiles_DBLP_all/'\n",
      "# gs_dir = '/Users/samway/Documents/Work/ClausetLab/projects/faculty_hiring/data/profiles_GS_all/'"
     ],
     "language": "python",
     "metadata": {},
     "outputs": [],
     "prompt_number": 1
    },
    {
     "cell_type": "heading",
     "level": 2,
     "metadata": {},
     "source": [
      "Load the dataset"
     ]
    },
    {
     "cell_type": "code",
     "collapsed": false,
     "input": [
      "inst = institution_parser.parse_institution_records(open(inst_file))\n",
      "candidate_pools, job_pools, job_ranks, year_range = load.load_assistant_prof_pools(open(faculty_file), \n",
      "                                                                                   school_info=inst, \n",
      "                                                                                   ranking='pi_rescaled',\n",
      "                                                                                   year_start=1970, \n",
      "                                                                                   year_stop=2012, \n",
      "                                                                                   year_step=1)"
     ],
     "language": "python",
     "metadata": {},
     "outputs": [],
     "prompt_number": 2
    },
    {
     "cell_type": "heading",
     "level": 2,
     "metadata": {},
     "source": [
      "Simulate some hires"
     ]
    },
    {
     "cell_type": "code",
     "collapsed": false,
     "input": [
      "model = ConfigurationModel()\n",
      "simulator = SimulationEngine(candidate_pools, job_pools, job_ranks, inst, model)"
     ],
     "language": "python",
     "metadata": {},
     "outputs": [],
     "prompt_number": 3
    },
    {
     "cell_type": "code",
     "collapsed": false,
     "input": [
      "hires = simulator.generate_network()\n",
      "print hires[0]  # (Faculty record, Hiring instution)"
     ],
     "language": "python",
     "metadata": {},
     "outputs": [
      {
       "output_type": "stream",
       "stream": "stdout",
       "text": [
        "(<faculty_hiring.parse.faculty_parser.faculty_record instance at 0x1069c5290>, 'Colorado State University')\n"
       ]
      }
     ],
     "prompt_number": 4
    },
    {
     "cell_type": "code",
     "collapsed": false,
     "input": [
      "person, place = hires[0]\n",
      "print person.facultyName\n",
      "print 'Real:    \\t%s \\nSimulated: \\t%s' % (person.first_asst_job_location, place)"
     ],
     "language": "python",
     "metadata": {},
     "outputs": [
      {
       "output_type": "stream",
       "stream": "stdout",
       "text": [
        "Donald H. Kraft\n",
        "Real:    \tUniversity of Maryland, College Park \n",
        "Simulated: \tColorado State University\n"
       ]
      }
     ],
     "prompt_number": 6
    },
    {
     "cell_type": "code",
     "collapsed": false,
     "input": [],
     "language": "python",
     "metadata": {},
     "outputs": []
    }
   ],
   "metadata": {}
  }
 ]
}