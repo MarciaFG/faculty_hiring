{
 "metadata": {
  "name": "",
  "signature": "sha256:b921fb72092dffde83e043c94c1558eb4fac199d72ae30289cd595c2e92bd3b6"
 },
 "nbformat": 3,
 "nbformat_minor": 0,
 "worksheets": [
  {
   "cells": [
    {
     "cell_type": "code",
     "collapsed": false,
     "input": [
      "from matplotlib import rcParams\n",
      "rcParams['font.family'] = 'sans-serif'\n",
      "rcParams['font.sans-serif'] = ['Helvetica']\n",
      "import matplotlib.pyplot as plt\n",
      "import matplotlib as mpl\n",
      "\n",
      "from faculty_hiring.misc.plotting import *  # Definitions for LABEL_SIZE and such\n",
      "from faculty_hiring.misc.gaussian_kde import gaussian_kde\n",
      "\n",
      "from collections import Counter\n",
      "from faculty_hiring.parse import faculty_parser, institution_parser\n",
      "from faculty_hiring.parse import load\n",
      "from faculty_hiring.scripts import add_zscores as cur\n",
      "from scipy.stats import ttest_ind, ks_2samp, chi2_contingency, mannwhitneyu\n",
      "from scipy.optimize import curve_fit, minimize\n",
      "from scipy.misc import factorial, comb\n",
      "\n",
      "import scipy as sp\n",
      "import numpy as np\n",
      "import palettable"
     ],
     "language": "python",
     "metadata": {},
     "outputs": [],
     "prompt_number": 1
    },
    {
     "cell_type": "code",
     "collapsed": false,
     "input": [
      "cmap = palettable.tableau.Tableau_10.mpl_colormap\n",
      "colors = palettable.tableau.Tableau_10.mpl_colors\n",
      "sig_level = 0.05\n",
      "split_at = 2002"
     ],
     "language": "python",
     "metadata": {},
     "outputs": [],
     "prompt_number": 2
    },
    {
     "cell_type": "code",
     "collapsed": false,
     "input": [
      "faculty_file = '/Users/samway//Documents/Work/ClausetLab/projects/faculty_hiring/data/faculty_cs_CURRENT.txt'\n",
      "inst_file = '/Users/samway/Documents/Work/ClausetLab/projects/faculty_hiring/data/inst_cs.txt'\n",
      "dblp_dir = '/Users/samway/Documents/Work/ClausetLab/projects/faculty_hiring/data/profiles_DBLP_all/'\n",
      "gs_dir = '/Users/samway/Documents/Work/ClausetLab/projects/faculty_hiring/data/profiles_GS_all/'"
     ],
     "language": "python",
     "metadata": {},
     "outputs": [],
     "prompt_number": 3
    },
    {
     "cell_type": "code",
     "collapsed": false,
     "input": [
      "inst = institution_parser.parse_institution_records(open(inst_file))\n",
      "faculty = load.load_assistant_profs(open(faculty_file), inst, ranking='pi_rescaled')\n",
      "#load.load_all_publications(faculty, dblp_dir, gs_dir)\n",
      "print 'Loaded %d faculty.' % len(faculty)"
     ],
     "language": "python",
     "metadata": {},
     "outputs": [
      {
       "output_type": "stream",
       "stream": "stdout",
       "text": [
        "Loaded 2659 faculty.\n"
       ]
      }
     ],
     "prompt_number": 4
    },
    {
     "cell_type": "heading",
     "level": 2,
     "metadata": {},
     "source": [
      "Rank Difference"
     ]
    },
    {
     "cell_type": "code",
     "collapsed": false,
     "input": [
      "''' \n",
      "    Are rank changes in general larger for men compared to women?\n",
      "    \n",
      "    Answer: No.\n",
      "'''\n",
      "\n",
      "men, women = [], []\n",
      "for f in faculty:\n",
      "    val = f.first_asst_job_rank - f.phd_rank\n",
      "    if f.is_female:\n",
      "        women.append(val)\n",
      "    else:\n",
      "        men.append(val)\n",
      "        \n",
      "stat, pval = mannwhitneyu(men, women)\n",
      "sig = pval < sig_level    \n",
      "print sig, pval\n",
      "\n",
      "print 'Men avg.   :', np.median(men)\n",
      "print 'Women avg. :', np.median(women)"
     ],
     "language": "python",
     "metadata": {},
     "outputs": [
      {
       "output_type": "stream",
       "stream": "stdout",
       "text": [
        "False 0.337576051033\n",
        "Men avg.   : -0.180378386826\n",
        "Women avg. : -0.198716571272\n"
       ]
      }
     ],
     "prompt_number": 10
    },
    {
     "cell_type": "code",
     "collapsed": false,
     "input": [
      "''' \n",
      "    Excluding self-hires, are rank changes in general larger for men compared to women?\n",
      "    \n",
      "    Answer: No.\n",
      "'''\n",
      "\n",
      "men, women = [], []\n",
      "for f in faculty:\n",
      "    val = f.first_asst_job_rank - f.phd_rank\n",
      "    if val != 0:\n",
      "        if f.is_female:\n",
      "            women.append(val)\n",
      "        else:\n",
      "            men.append(val)\n",
      "        \n",
      "stat, pval = mannwhitneyu(men, women)\n",
      "sig = pval < sig_level    \n",
      "print sig, pval\n",
      "\n",
      "print 'Men avg.   :', np.median(men)\n",
      "print 'Women avg. :', np.median(women)"
     ],
     "language": "python",
     "metadata": {},
     "outputs": [
      {
       "output_type": "stream",
       "stream": "stdout",
       "text": [
        "False 0.113148531772\n",
        "Men avg.   : -0.196885194663\n",
        "Women avg. : -0.221572151355\n"
       ]
      }
     ],
     "prompt_number": 11
    },
    {
     "cell_type": "code",
     "collapsed": false,
     "input": [
      "''' \n",
      "    Post2002, excluding self-hires, are rank changes in general larger for men compared to women?\n",
      "    \n",
      "    Answer: No.\n",
      "'''\n",
      "\n",
      "men, women = [], []\n",
      "for f in faculty:\n",
      "    val = f.first_asst_job_rank - f.phd_rank\n",
      "    if f.first_asst_job_year > 2002:\n",
      "        if f.is_female:\n",
      "            women.append(val)\n",
      "        else:\n",
      "            men.append(val)\n",
      "        \n",
      "stat, pval = mannwhitneyu(men, women)\n",
      "sig = pval < sig_level    \n",
      "print sig, pval\n",
      "\n",
      "print 'Men avg.   :', np.median(men)\n",
      "print 'Women avg. :', np.median(women)"
     ],
     "language": "python",
     "metadata": {},
     "outputs": [
      {
       "output_type": "stream",
       "stream": "stdout",
       "text": [
        "False 0.462104418283\n",
        "Men avg.   : -0.235295266746\n",
        "Women avg. : -0.251704401164\n"
       ]
      }
     ],
     "prompt_number": 12
    },
    {
     "cell_type": "code",
     "collapsed": false,
     "input": [
      "''' \n",
      "    Conditioned on moving up, are rank changes in general larger for men compared to women?\n",
      "    \n",
      "    Answer: \n",
      "'''\n",
      "\n",
      "men, women = [], []\n",
      "for f in faculty:\n",
      "    if f.first_asst_job_rank > f.phd_rank:\n",
      "        val = f.first_asst_job_rank - f.phd_rank\n",
      "        if f.is_female:\n",
      "            women.append(val)\n",
      "        else:\n",
      "            men.append(val)\n",
      "        \n",
      "stat, pval = mannwhitneyu(men, women)\n",
      "sig = pval < sig_level    \n",
      "print sig, pval\n",
      "\n",
      "print 'Men avg.   :', np.median(men)\n",
      "print 'Women avg. :', np.median(women)"
     ],
     "language": "python",
     "metadata": {},
     "outputs": [
      {
       "output_type": "stream",
       "stream": "stdout",
       "text": [
        "False 0.389113670974\n",
        "Men avg.   : 0.0544040944697\n",
        "Women avg. : 0.0371158992792\n"
       ]
      }
     ],
     "prompt_number": 13
    },
    {
     "cell_type": "code",
     "collapsed": false,
     "input": [
      "''' \n",
      "    Conditioned on moving down, are rank changes in general larger for men compared to women?\n",
      "    \n",
      "    Answer: \n",
      "'''\n",
      "\n",
      "men, women = [], []\n",
      "for f in faculty:\n",
      "    if f.first_asst_job_rank < f.phd_rank:\n",
      "        val = f.first_asst_job_rank - f.phd_rank\n",
      "        if f.is_female:\n",
      "            women.append(val)\n",
      "        else:\n",
      "            men.append(val)\n",
      "        \n",
      "stat, pval = mannwhitneyu(men, women)\n",
      "sig = pval < sig_level    \n",
      "print sig, pval\n",
      "\n",
      "print 'Men avg.   :', np.median(men)\n",
      "print 'Women avg. :', np.median(women)"
     ],
     "language": "python",
     "metadata": {},
     "outputs": [
      {
       "output_type": "stream",
       "stream": "stdout",
       "text": [
        "False 0.439022979301\n",
        "Men avg.   : -0.243988201051\n",
        "Women avg. : -0.26086128421\n"
       ]
      }
     ],
     "prompt_number": 14
    },
    {
     "cell_type": "code",
     "collapsed": false,
     "input": [
      "''' \n",
      "    After 2002, are rank changes in general larger for men compared to women?\n",
      "    \n",
      "    Answer: No.\n",
      "'''\n",
      "\n",
      "men, women = [], []\n",
      "for f in faculty:\n",
      "    if f.first_asst_job_year > split_at:\n",
      "        val = f.first_asst_job_rank - f.phd_rank\n",
      "        if f.is_female:\n",
      "            women.append(val)\n",
      "        else:\n",
      "            men.append(val)\n",
      "        \n",
      "stat, pval = mannwhitneyu(men, women)\n",
      "sig = pval < sig_level    \n",
      "print sig, pval\n",
      "\n",
      "print 'Men avg.   :', np.median(men)\n",
      "print 'Women avg. :', np.median(women)"
     ],
     "language": "python",
     "metadata": {},
     "outputs": [
      {
       "output_type": "stream",
       "stream": "stdout",
       "text": [
        "False 0.462104418283\n",
        "Men avg.   : -0.235295266746\n",
        "Women avg. : -0.251704401164\n"
       ]
      }
     ],
     "prompt_number": 15
    },
    {
     "cell_type": "code",
     "collapsed": false,
     "input": [
      "''' \n",
      "    Are rank changes in general larger for men compared to women, conditioned on moving up?\n",
      "    \n",
      "    Answer: No.\n",
      "'''\n",
      "men, women = [], []\n",
      "for f in faculty:\n",
      "    if f.first_asst_job_rank > f.phd_rank:  #MOVED UP\n",
      "        val = f.first_asst_job_rank - f.phd_rank\n",
      "        if f.is_female:\n",
      "            women.append(val)\n",
      "        else:\n",
      "            men.append(val)\n",
      "        \n",
      "stat, pval = mannwhitneyu(men, women)\n",
      "sig = pval < sig_level    \n",
      "print sig, pval\n",
      "\n",
      "print 'Men avg.   :', np.mean(men)\n",
      "print 'Women avg. :', np.mean(women)"
     ],
     "language": "python",
     "metadata": {},
     "outputs": [
      {
       "output_type": "stream",
       "stream": "stdout",
       "text": [
        "False 0.389113670974\n",
        "Men avg.   : 0.0901812121485\n",
        "Women avg. : 0.0865924949748\n"
       ]
      }
     ],
     "prompt_number": 16
    },
    {
     "cell_type": "code",
     "collapsed": false,
     "input": [
      "'''\n",
      "    Is the average rank change different for women pre-/post-2002?\n",
      "    \n",
      "    Answer: YES. Women are moving down further post-2002. \n",
      "'''\n",
      "\n",
      "split_at = 2002\n",
      "pre, post = [], []\n",
      "\n",
      "for f in faculty:\n",
      "    if f.is_female:\n",
      "        val = f.first_asst_job_rank - f.phd_rank\n",
      "        \n",
      "        if f.first_asst_job_year <= split_at:\n",
      "            pre.append(val)\n",
      "        else:\n",
      "            post.append(val)\n",
      "        \n",
      "stat, pval = mannwhitneyu(pre, post)\n",
      "sig = pval < sig_level    \n",
      "print sig, pval\n",
      "\n",
      "print 'pre avg.   :', np.median(pre)\n",
      "print 'post avg. :', np.median(post)"
     ],
     "language": "python",
     "metadata": {},
     "outputs": [
      {
       "output_type": "stream",
       "stream": "stdout",
       "text": [
        "True 0.000425399232487\n",
        "pre avg.   : -0.163944834053\n",
        "post avg. : -0.251704401164\n"
       ]
      }
     ],
     "prompt_number": 17
    },
    {
     "cell_type": "code",
     "collapsed": false,
     "input": [
      "'''\n",
      "    Men and women who move up, more or less productive?\n",
      "    \n",
      "    Answer: \n",
      "'''\n",
      "\n",
      "all_after = 1970\n",
      "men, women = [], []\n",
      "\n",
      "for f in faculty:\n",
      "    if f.first_asst_job_year >= all_after:\n",
      "        if f.is_female:\n",
      "            women.append(f.dblp_z)\n",
      "        else:\n",
      "            men.append(f.dblp_z)\n",
      "        \n",
      "stat, pval = mannwhitneyu(men, women)\n",
      "sig = pval < sig_level    \n",
      "print sig, pval\n",
      "\n",
      "print 'men avg.   :', np.median(men)\n",
      "print 'women avg. :', np.median(women)"
     ],
     "language": "python",
     "metadata": {},
     "outputs": [
      {
       "output_type": "stream",
       "stream": "stdout",
       "text": [
        "False 0.407037369774\n",
        "men avg.   : -0.327106\n",
        "women avg. : -0.329075\n"
       ]
      }
     ],
     "prompt_number": 7
    },
    {
     "cell_type": "code",
     "collapsed": false,
     "input": [
      "'''\n",
      "    Is the average rank change different for men pre-/post-2002?\n",
      "    \n",
      "    Answer: YES. Women are moving down further post-2002. \n",
      "'''\n",
      "\n",
      "split_at = 2002\n",
      "pre, post = [], []\n",
      "\n",
      "for f in faculty:\n",
      "    if not f.is_female:\n",
      "        val = f.first_asst_job_rank - f.phd_rank\n",
      "        \n",
      "        if f.first_asst_job_year <= split_at:\n",
      "            pre.append(val)\n",
      "        else:\n",
      "            post.append(val)\n",
      "        \n",
      "stat, pval = mannwhitneyu(pre, post)\n",
      "sig = pval < sig_level    \n",
      "print sig, pval\n",
      "\n",
      "print 'pre avg.   :', np.median(pre)\n",
      "print 'post avg. :', np.median(post)"
     ],
     "language": "python",
     "metadata": {},
     "outputs": [
      {
       "output_type": "stream",
       "stream": "stdout",
       "text": [
        "True 3.78823350046e-09\n",
        "pre avg.   : -0.155642593425\n",
        "post avg. : -0.235295266746\n"
       ]
      }
     ],
     "prompt_number": 18
    },
    {
     "cell_type": "code",
     "collapsed": false,
     "input": [
      "'''\n",
      "    Do more women move up post 2002?\n",
      "    \n",
      "    Answer: No.\n",
      "'''\n",
      "\n",
      "split_at = 2002\n",
      "counts = np.zeros((2,2), dtype=float)\n",
      "\n",
      "for f in faculty:\n",
      "    if f.is_female:\n",
      "        post = int(f.first_asst_job_year > split_at)\n",
      "        \n",
      "        if f.first_asst_job_rank < f.phd_rank:\n",
      "            movement_index = 0\n",
      "        elif f.first_asst_job_rank > f.phd_rank:\n",
      "            movement_index = 1\n",
      "        else:\n",
      "            continue # skip self-hires\n",
      "            \n",
      "        counts[post][movement_index] += 1.\n",
      "                \n",
      "print 'pre \\t', counts[0,:]\n",
      "print 'post\\t', counts[1,:]\n",
      "chi2, pval, dof, ex = chi2_contingency(counts)\n",
      "\n",
      "print '\\nchi2 pval: ', pval\n",
      "print \"pre fraction:\", (counts[0,1] / np.sum(counts[0,:]))\n",
      "print \"post fraction:\", (counts[1,1] / np.sum(counts[1,:]))"
     ],
     "language": "python",
     "metadata": {},
     "outputs": [
      {
       "output_type": "stream",
       "stream": "stdout",
       "text": [
        "pre \t[ 173.   26.]\n",
        "post\t[ 175.   13.]\n",
        "\n",
        "chi2 pval:  0.0657820129746\n",
        "pre fraction: 0.130653266332\n",
        "post fraction: 0.0691489361702\n"
       ]
      }
     ],
     "prompt_number": 19
    },
    {
     "cell_type": "code",
     "collapsed": false,
     "input": [
      "'''\n",
      "    Do more women move up compared to men? \n",
      "    \n",
      "    Answer: No.\n",
      "'''\n",
      "\n",
      "counts = np.zeros((2,2), dtype=float)\n",
      "\n",
      "for f in faculty:\n",
      "    if f.is_female:\n",
      "        gender_index = 0\n",
      "    else:\n",
      "        gender_index = 1\n",
      "\n",
      "    if f.first_asst_job_rank < f.phd_rank:\n",
      "        movement_index = 0\n",
      "    elif f.first_asst_job_rank > f.phd_rank:\n",
      "        movement_index = 1\n",
      "    else:\n",
      "        continue # skip self-hires\n",
      "\n",
      "    counts[gender_index][movement_index] += 1.\n",
      "\n",
      "print 'W \\t', counts[0,:]\n",
      "print 'M\\t', counts[1,:]\n",
      "chi2, pval, dof, ex = chi2_contingency(counts)\n",
      "\n",
      "print '\\nchi2 pval: ', pval\n",
      "print \"W fraction:\", (counts[0,1] / np.sum(counts[0,:]))\n",
      "print \"M fraction:\", (counts[1,1] / np.sum(counts[1,:]))"
     ],
     "language": "python",
     "metadata": {},
     "outputs": [
      {
       "output_type": "stream",
       "stream": "stdout",
       "text": [
        "W \t[ 348.   39.]\n",
        "M\t[ 1813.   283.]\n",
        "\n",
        "chi2 pval:  0.0784101934303\n",
        "W fraction: 0.100775193798\n",
        "M fraction: 0.135019083969\n"
       ]
      }
     ],
     "prompt_number": 20
    },
    {
     "cell_type": "code",
     "collapsed": false,
     "input": [
      "''' \n",
      "    Are rank changes different for women with postdoc vs. men without?\n",
      "    \n",
      "    Answer: No. Which is surprising.\n",
      "'''\n",
      "\n",
      "men, women = [], []\n",
      "for f in faculty:\n",
      "    val = f.first_asst_job_rank - f.phd_rank\n",
      "    if f.is_female and f.has_postdoc:\n",
      "        women.append(val)\n",
      "    elif not f.is_female and not f.has_postdoc:\n",
      "        men.append(val)\n",
      "        \n",
      "stat, pval = mannwhitneyu(men, women)\n",
      "sig = pval < sig_level    \n",
      "print sig, pval\n",
      "\n",
      "print 'Men avg.   :', np.median(men)\n",
      "print 'Women avg. :', np.median(women)"
     ],
     "language": "python",
     "metadata": {},
     "outputs": [
      {
       "output_type": "stream",
       "stream": "stdout",
       "text": [
        "False 0.131421612214\n",
        "Men avg.   : -0.182160926725\n",
        "Women avg. : -0.133568400695\n"
       ]
      }
     ],
     "prompt_number": 21
    },
    {
     "cell_type": "code",
     "collapsed": false,
     "input": [
      "''' \n",
      "    Are productivity scores different for women with postdoc vs. men without?\n",
      "    \n",
      "    Answer: No. Which is surprising.\n",
      "'''\n",
      "\n",
      "men, women = [], []\n",
      "for f in faculty:\n",
      "    val = f.dblp_z\n",
      "    if f.is_female and f.has_postdoc:\n",
      "        women.append(val)\n",
      "    elif not f.is_female and not f.has_postdoc:\n",
      "        men.append(val)\n",
      "        \n",
      "stat, pval = mannwhitneyu(men, women)\n",
      "sig = pval < sig_level    \n",
      "print sig, pval\n",
      "\n",
      "print 'Men avg.   :', np.median(men)\n",
      "print 'Women avg. :', np.median(women)"
     ],
     "language": "python",
     "metadata": {},
     "outputs": [
      {
       "output_type": "stream",
       "stream": "stdout",
       "text": [
        "True 9.72986130694e-05\n",
        "Men avg.   : -0.406276\n",
        "Women avg. : 0.005528\n"
       ]
      }
     ],
     "prompt_number": 22
    },
    {
     "cell_type": "code",
     "collapsed": false,
     "input": [
      "''' \n",
      "    Post 2002, are productivity scores different for women with postdoc vs. men without?\n",
      "    \n",
      "    Answer: No. Which is surprising.\n",
      "'''\n",
      "\n",
      "men, women = [], []\n",
      "for f in faculty:\n",
      "    if f.first_asst_job_year > 2002:\n",
      "        val = f.dblp_z\n",
      "        if f.is_female and f.has_postdoc:\n",
      "            women.append(val)\n",
      "        elif not f.is_female and not f.has_postdoc:\n",
      "            men.append(val)\n",
      "        \n",
      "stat, pval = mannwhitneyu(men, women)\n",
      "sig = pval < sig_level    \n",
      "print sig, pval\n",
      "\n",
      "print 'Men avg.   :', np.median(men)\n",
      "print 'Women avg. :', np.median(women)"
     ],
     "language": "python",
     "metadata": {},
     "outputs": [
      {
       "output_type": "stream",
       "stream": "stdout",
       "text": [
        "False 0.44601277598\n",
        "Men avg.   : 0.203799\n",
        "Women avg. : 0.249243\n"
       ]
      }
     ],
     "prompt_number": 23
    },
    {
     "cell_type": "code",
     "collapsed": false,
     "input": [
      "''' \n",
      "    Post 2002, are productivity scores different for women?\n",
      "    \n",
      "    Answer: \n",
      "'''\n",
      "\n",
      "men, women = [], []\n",
      "for f in faculty:\n",
      "    if f.first_asst_job_year > 2002:\n",
      "        val = f.dblp_z\n",
      "        if f.is_female:\n",
      "            women.append(val)\n",
      "        else:\n",
      "            men.append(val)\n",
      "        \n",
      "stat, pval = mannwhitneyu(men, women)\n",
      "sig = pval < sig_level    \n",
      "print sig, pval\n",
      "\n",
      "print 'Men avg.   :', np.median(men)\n",
      "print 'Women avg. :', np.median(women)"
     ],
     "language": "python",
     "metadata": {},
     "outputs": [
      {
       "output_type": "stream",
       "stream": "stdout",
       "text": [
        "True 5.03173746831e-05\n",
        "Men avg.   : 0.2657775\n",
        "Women avg. : 0.04926\n"
       ]
      }
     ],
     "prompt_number": 24
    },
    {
     "cell_type": "heading",
     "level": 2,
     "metadata": {},
     "source": [
      "Rank of Placing Institution"
     ]
    },
    {
     "cell_type": "code",
     "collapsed": false,
     "input": [
      "''' \n",
      "    Are PhD ranks significantly different between men and women?\n",
      "    \n",
      "    Answer: No.\n",
      "'''\n",
      "men, women = [], []\n",
      "for f in faculty:\n",
      "    val = f.phd_rank\n",
      "    if f.is_female:\n",
      "        women.append(val)\n",
      "    else:\n",
      "        men.append(val)\n",
      "        \n",
      "stat, pval = mannwhitneyu(men, women)\n",
      "sig = pval < sig_level    \n",
      "print sig, pval"
     ],
     "language": "python",
     "metadata": {},
     "outputs": [
      {
       "output_type": "stream",
       "stream": "stdout",
       "text": [
        "False 0.410385498316\n"
       ]
      }
     ],
     "prompt_number": 25
    },
    {
     "cell_type": "code",
     "collapsed": false,
     "input": [
      "''' \n",
      "    Are PhD ranks significantly different between men and women, conditioned on moving up?\n",
      "    \n",
      "    Answer: No.\n",
      "'''\n",
      "men, women = [], []\n",
      "for f in faculty:\n",
      "    if f.phd_rank < f.first_asst_job_rank:\n",
      "        val = f.phd_rank\n",
      "        if f.is_female:\n",
      "            women.append(val)\n",
      "        else:\n",
      "            men.append(val)\n",
      "        \n",
      "stat, pval = mannwhitneyu(men, women)\n",
      "sig = pval < sig_level    \n",
      "print sig, pval\n",
      "print 'Number of men  : ', len(men)\n",
      "print 'Number of women: ', len(women)\n",
      "print 'Men median     : ', np.median(men)\n",
      "print 'Women median   : ', np.median(women)"
     ],
     "language": "python",
     "metadata": {},
     "outputs": [
      {
       "output_type": "stream",
       "stream": "stdout",
       "text": [
        "False 0.459074081317\n",
        "Number of men  :  283\n",
        "Number of women:  39\n",
        "Men median     :  0.817057685921\n",
        "Women median   :  0.813297259284\n"
       ]
      }
     ],
     "prompt_number": 26
    },
    {
     "cell_type": "code",
     "collapsed": false,
     "input": [
      "bins = np.linspace(0,1,25)\n",
      "hist(men, bins=bins, normed=True, color=ALMOST_BLACK)\n",
      "hist(women, bins=bins, normed=True, alpha=0.8, color=FEMALE_COLOR)\n",
      "plt.show()"
     ],
     "language": "python",
     "metadata": {},
     "outputs": [
      {
       "metadata": {},
       "output_type": "display_data",
       "png": "[encoded data removed]",
       "text": [
        "<matplotlib.figure.Figure at 0x10a6b1fd0>"
       ]
      }
     ],
     "prompt_number": 27
    },
    {
     "cell_type": "code",
     "collapsed": false,
     "input": [
      "''' \n",
      "    Are PhD ranks for women different before/after 2002?\n",
      "    \n",
      "    Answer: No.\n",
      "'''\n",
      "pre, post = [], []\n",
      "split_at = 2002\n",
      "for f in faculty:\n",
      "    if f.is_female:\n",
      "        val = f.phd_rank\n",
      "        if f.first_asst_job_year <= split_at:\n",
      "            pre.append(val)\n",
      "        else:\n",
      "            post.append(val)\n",
      "        \n",
      "stat, pval = mannwhitneyu(pre, post)\n",
      "sig = pval < sig_level    \n",
      "print sig, pval\n",
      "print 'Number of pre  : ', len(pre)\n",
      "print 'Number of post : ', len(post)\n",
      "print 'pre average    : ', np.mean(pre)\n",
      "print 'post average   : ', np.mean(post)"
     ],
     "language": "python",
     "metadata": {},
     "outputs": [
      {
       "output_type": "stream",
       "stream": "stdout",
       "text": [
        "False 0.131317915794\n",
        "Number of pre  :  220\n",
        "Number of post :  207\n",
        "pre average    :  0.782591400122\n",
        "post average   :  0.810401030072\n"
       ]
      }
     ],
     "prompt_number": 28
    },
    {
     "cell_type": "heading",
     "level": 2,
     "metadata": {},
     "source": [
      "Rank of Hiring Institution"
     ]
    },
    {
     "cell_type": "code",
     "collapsed": false,
     "input": [
      "''' \n",
      "    Are job ranks different between men and women?\n",
      "    \n",
      "    Answer: No.\n",
      "'''\n",
      "men, women = [], []\n",
      "for f in faculty:\n",
      "    val = f.first_asst_job_rank\n",
      "    if f.is_female:\n",
      "        women.append(val)\n",
      "    else:\n",
      "        men.append(val)\n",
      "        \n",
      "stat, pval = mannwhitneyu(men, women)\n",
      "sig = pval < sig_level    \n",
      "print sig, pval"
     ],
     "language": "python",
     "metadata": {},
     "outputs": [
      {
       "output_type": "stream",
       "stream": "stdout",
       "text": [
        "False 0.116005519963\n"
       ]
      }
     ],
     "prompt_number": 29
    },
    {
     "cell_type": "code",
     "collapsed": false,
     "input": [
      "''' \n",
      "    Conditioned on moving up, are job ranks different between men and women?\n",
      "    \n",
      "    Answer: No.\n",
      "'''\n",
      "men, women = [], []\n",
      "for f in faculty:\n",
      "    if f.phd_rank < f.first_asst_job_rank:\n",
      "        val = f.first_asst_job_rank\n",
      "        if f.is_female:\n",
      "            women.append(val)\n",
      "        else:\n",
      "            men.append(val)\n",
      "        \n",
      "stat, pval = mannwhitneyu(men, women)\n",
      "sig = pval < sig_level    \n",
      "print sig, pval\n",
      "print 'Number of men  : ', len(men)\n",
      "print 'Number of women: ', len(women)\n",
      "print 'Men median     : ', np.median(men)\n",
      "print 'Women median   : ', np.median(women)"
     ],
     "language": "python",
     "metadata": {},
     "outputs": [
      {
       "output_type": "stream",
       "stream": "stdout",
       "text": [
        "False 0.46671671063\n",
        "Number of men  :  283\n",
        "Number of women:  39\n",
        "Men median     :  0.885673262878\n",
        "Women median   :  0.889824383192\n"
       ]
      }
     ],
     "prompt_number": 30
    },
    {
     "cell_type": "code",
     "collapsed": false,
     "input": [
      "bins = np.linspace(0,1,25)\n",
      "hist(men, bins=bins, normed=True, color=ALMOST_BLACK)\n",
      "hist(women, bins=bins, normed=True, alpha=0.8, color=FEMALE_COLOR)\n",
      "plt.show()"
     ],
     "language": "python",
     "metadata": {},
     "outputs": [
      {
       "metadata": {},
       "output_type": "display_data",
       "png": "[encoded data removed]",
       "text": [
        "<matplotlib.figure.Figure at 0x1077cbe90>"
       ]
      }
     ],
     "prompt_number": 31
    },
    {
     "cell_type": "code",
     "collapsed": false,
     "input": [
      "''' \n",
      "    Are job ranks for women different before/after 2002?\n",
      "    \n",
      "    Answer: No.\n",
      "'''\n",
      "pre, post = [], []\n",
      "split_at = 2002\n",
      "for f in faculty:\n",
      "    if f.is_female:\n",
      "        val = f.first_asst_job_rank\n",
      "        if f.first_asst_job_year <= split_at:\n",
      "            pre.append(val)\n",
      "        else:\n",
      "            post.append(val)\n",
      "        \n",
      "stat, pval = mannwhitneyu(pre, post)\n",
      "sig = pval < sig_level    \n",
      "print sig, pval\n",
      "print 'Number of pre  : ', len(pre)\n",
      "print 'Number of post : ', len(post)\n",
      "print 'pre average    : ', np.mean(pre)\n",
      "print 'post average   : ', np.mean(post)"
     ],
     "language": "python",
     "metadata": {},
     "outputs": [
      {
       "output_type": "stream",
       "stream": "stdout",
       "text": [
        "False 0.0517408243201\n",
        "Number of pre  :  220\n",
        "Number of post :  207\n",
        "pre average    :  0.594192027718\n",
        "post average   :  0.552079372723\n"
       ]
      }
     ],
     "prompt_number": 32
    },
    {
     "cell_type": "heading",
     "level": 2,
     "metadata": {},
     "source": [
      "Productivity"
     ]
    },
    {
     "cell_type": "code",
     "collapsed": false,
     "input": [
      "''' \n",
      "    Are productivity scores different between men and women?\n",
      "    \n",
      "    Answer: No.\n",
      "'''\n",
      "men, women = [], []\n",
      "for f in faculty:\n",
      "    val = f.dblp_z\n",
      "    if f.is_female:\n",
      "        women.append(val)\n",
      "    else:\n",
      "        men.append(val)\n",
      "        \n",
      "stat, pval = mannwhitneyu(men, women)\n",
      "sig = pval < sig_level    \n",
      "print sig, pval\n",
      "\n",
      "print np.median(men)\n",
      "print np.median(women)"
     ],
     "language": "python",
     "metadata": {},
     "outputs": [
      {
       "output_type": "stream",
       "stream": "stdout",
       "text": [
        "False 0.407037369774\n",
        "-0.327106\n",
        "-0.329075\n"
       ]
      }
     ],
     "prompt_number": 33
    },
    {
     "cell_type": "code",
     "collapsed": false,
     "input": [
      "''' \n",
      "    Conditioned on having a postdoc, are productivity scores different between men and women?\n",
      "    \n",
      "    Answer: No.\n",
      "'''\n",
      "men, women = [], []\n",
      "for f in faculty:\n",
      "    if f.has_postdoc:\n",
      "        val = f.dblp_z\n",
      "        if f.is_female:\n",
      "            women.append(val)\n",
      "        else:\n",
      "            men.append(val)\n",
      "        \n",
      "stat, pval = mannwhitneyu(men, women)\n",
      "sig = pval < sig_level    \n",
      "print sig, pval\n",
      "\n",
      "print np.median(men)\n",
      "print np.median(women)"
     ],
     "language": "python",
     "metadata": {},
     "outputs": [
      {
       "output_type": "stream",
       "stream": "stdout",
       "text": [
        "False 0.0719435077403\n",
        "0.132926\n",
        "0.005528\n"
       ]
      }
     ],
     "prompt_number": 34
    },
    {
     "cell_type": "code",
     "collapsed": false,
     "input": [
      "''' \n",
      "    Conditioned on having a postdoc, are productivity scores different between men and women post-2002?\n",
      "    \n",
      "    Answer: YES. Men with postdocs are more productive.\n",
      "'''\n",
      "men, women = [], []\n",
      "for f in faculty:\n",
      "    if f.has_postdoc and f.first_asst_job_year > split_at:\n",
      "        val = f.dblp_z\n",
      "        if f.is_female:\n",
      "            women.append(val)\n",
      "        else:\n",
      "            men.append(val)\n",
      "        \n",
      "stat, pval = mannwhitneyu(men, women)\n",
      "sig = pval < sig_level    \n",
      "print sig, pval\n",
      "\n",
      "print np.median(men)\n",
      "print np.median(women)"
     ],
     "language": "python",
     "metadata": {},
     "outputs": [
      {
       "output_type": "stream",
       "stream": "stdout",
       "text": [
        "True 0.0283480952543\n",
        "0.476602\n",
        "0.249243\n"
       ]
      }
     ],
     "prompt_number": 35
    },
    {
     "cell_type": "code",
     "collapsed": false,
     "input": [
      "''' \n",
      "    Conditioned on not having a postdoc, are productivity scores different between men and women post-2002?\n",
      "    \n",
      "    Answer: \n",
      "'''\n",
      "men, women = [], []\n",
      "for f in faculty:\n",
      "    if not f.has_postdoc and f.first_asst_job_year > split_at:\n",
      "        val = f.dblp_z\n",
      "        if f.is_female:\n",
      "            women.append(val)\n",
      "        else:\n",
      "            men.append(val)\n",
      "        \n",
      "stat, pval = mannwhitneyu(men, women)\n",
      "sig = pval < sig_level    \n",
      "print sig, pval\n",
      "\n",
      "print np.median(men)\n",
      "print np.median(women)"
     ],
     "language": "python",
     "metadata": {},
     "outputs": [
      {
       "output_type": "stream",
       "stream": "stdout",
       "text": [
        "True 0.000237947671316\n",
        "0.203799\n",
        "-0.0352295\n"
       ]
      }
     ],
     "prompt_number": 36
    },
    {
     "cell_type": "code",
     "collapsed": false,
     "input": [
      "''' \n",
      "    Conditioned on having a postdoc, are productivity scores different between men and women pre-2002?\n",
      "    \n",
      "    Answer: YES. Men with postdocs are more productive.\n",
      "'''\n",
      "men, women = [], []\n",
      "for f in faculty:\n",
      "     if f.first_asst_job_year > split_at and not f.has_postdoc:\n",
      "        val = f.dblp_z\n",
      "        if f.is_female:\n",
      "            women.append(val)\n",
      "        else:\n",
      "            men.append(val)\n",
      "        \n",
      "stat, pval = mannwhitneyu(men, women)\n",
      "sig = pval < sig_level    \n",
      "print sig, pval\n",
      "\n",
      "print np.median(men)\n",
      "print np.median(women)"
     ],
     "language": "python",
     "metadata": {},
     "outputs": [
      {
       "output_type": "stream",
       "stream": "stdout",
       "text": [
        "True 0.000237947671316\n",
        "0.203799\n",
        "-0.0352295\n"
       ]
      }
     ],
     "prompt_number": 37
    },
    {
     "cell_type": "code",
     "collapsed": false,
     "input": [
      "'''\n",
      "    Do men/women tend to have more positive productivity scores?\n",
      "    \n",
      "    Answer: No. \n",
      "'''\n",
      "\n",
      "counts = np.zeros((2,2), dtype=float)\n",
      "\n",
      "for f in faculty:\n",
      "    if f.is_female:\n",
      "        gender_index = 0\n",
      "    else:\n",
      "        gender_index = 1\n",
      "    val_index = int(f.dblp_z > 0.)\n",
      "\n",
      "    counts[gender_index][val_index] += 1.\n",
      "\n",
      "print 'W  \\t', counts[0,:]\n",
      "print 'M  \\t', counts[1,:]\n",
      "chi2, pval, dof, ex = chi2_contingency(counts)\n",
      "\n",
      "print '\\n', pval < sig_level\n",
      "print 'chi2 pval: ', pval\n",
      "print \"W  fraction:\", (counts[0,1] / np.sum(counts[0,:]))\n",
      "print \"M fraction:\", (counts[1,1] / np.sum(counts[1,:]))"
     ],
     "language": "python",
     "metadata": {},
     "outputs": [
      {
       "output_type": "stream",
       "stream": "stdout",
       "text": [
        "W  \t[ 276.  151.]\n",
        "M  \t[ 1430.   802.]\n",
        "\n",
        "False\n",
        "chi2 pval:  0.865378457607\n",
        "W  fraction: 0.353629976581\n",
        "M fraction: 0.359318996416\n"
       ]
      }
     ],
     "prompt_number": 38
    },
    {
     "cell_type": "code",
     "collapsed": false,
     "input": [
      "''' \n",
      "    Conditioned on moving up, are productivity scores different between men and women?\n",
      "    \n",
      "    Answer: No.\n",
      "'''\n",
      "men, women = [], []\n",
      "for f in faculty:\n",
      "    if f.first_asst_job_rank > f.phd_rank:       \n",
      "        val = f.dblp_z\n",
      "        if f.is_female:\n",
      "            women.append(val)\n",
      "        else:\n",
      "            men.append(val)\n",
      "        \n",
      "stat, pval = mannwhitneyu(men, women)\n",
      "sig = pval < sig_level    \n",
      "print sig, pval"
     ],
     "language": "python",
     "metadata": {},
     "outputs": [
      {
       "output_type": "stream",
       "stream": "stdout",
       "text": [
        "False 0.473303845995\n"
       ]
      }
     ],
     "prompt_number": 39
    },
    {
     "cell_type": "code",
     "collapsed": false,
     "input": [
      "''' \n",
      "    Men without postdoc experience vs. women with postdoc experience\n",
      "    \n",
      "    Answer: YES. Postdocing is still an advantage in terms of productivity.\n",
      "'''\n",
      "men, women = [], []\n",
      "for f in faculty:\n",
      "    val = f.dblp_z\n",
      "    if f.is_female and f.has_postdoc:\n",
      "        women.append(val)\n",
      "    elif not f.is_female and not f.has_postdoc:\n",
      "        men.append(val)\n",
      "        \n",
      "stat, pval = mannwhitneyu(men, women)\n",
      "sig = pval < sig_level    \n",
      "print sig, pval\n",
      "\n",
      "print np.median(men)\n",
      "print np.median(women)"
     ],
     "language": "python",
     "metadata": {},
     "outputs": [
      {
       "output_type": "stream",
       "stream": "stdout",
       "text": [
        "True 9.72986130694e-05\n",
        "-0.406276\n",
        "0.005528\n"
       ]
      }
     ],
     "prompt_number": 40
    },
    {
     "cell_type": "code",
     "collapsed": false,
     "input": [
      "''' \n",
      "    Post-2002, men without postdoc experience vs. women with postdoc experience\n",
      "    \n",
      "    Answer: \n",
      "'''\n",
      "men, women = [], []\n",
      "for f in faculty:\n",
      "    if f.first_asst_job_year > split_at:\n",
      "        val = f.dblp_z\n",
      "        if f.is_female and f.has_postdoc:\n",
      "            women.append(val)\n",
      "        elif not f.is_female and not f.has_postdoc:\n",
      "            men.append(val)\n",
      "        \n",
      "stat, pval = mannwhitneyu(men, women)\n",
      "sig = pval < sig_level    \n",
      "print sig, pval\n",
      "\n",
      "print np.median(men)\n",
      "print np.median(women)"
     ],
     "language": "python",
     "metadata": {},
     "outputs": [
      {
       "output_type": "stream",
       "stream": "stdout",
       "text": [
        "False 0.44601277598\n",
        "0.203799\n",
        "0.249243\n"
       ]
      }
     ],
     "prompt_number": 41
    },
    {
     "cell_type": "code",
     "collapsed": false,
     "input": [
      "len(men), len(women)"
     ],
     "language": "python",
     "metadata": {},
     "outputs": [
      {
       "metadata": {},
       "output_type": "pyout",
       "prompt_number": 42,
       "text": [
        "(545, 61)"
       ]
      }
     ],
     "prompt_number": 42
    },
    {
     "cell_type": "code",
     "collapsed": false,
     "input": [
      "''' \n",
      "    Post-2002, with postdocs, men vs. women\n",
      "    \n",
      "    Answer: YES. The men are more productive.\n",
      "'''\n",
      "men, women = [], []\n",
      "for f in faculty:\n",
      "    if f.first_asst_job_year > split_at and f.has_postdoc:\n",
      "        val = f.dblp_z\n",
      "        if f.is_female:\n",
      "            women.append(val)\n",
      "        else:\n",
      "            men.append(val)\n",
      "        \n",
      "stat, pval = mannwhitneyu(men, women)\n",
      "sig = pval < sig_level    \n",
      "print sig, pval\n",
      "\n",
      "print np.median(men)\n",
      "print np.median(women)"
     ],
     "language": "python",
     "metadata": {},
     "outputs": [
      {
       "output_type": "stream",
       "stream": "stdout",
       "text": [
        "True 0.0283480952543\n",
        "0.476602\n",
        "0.249243\n"
       ]
      }
     ],
     "prompt_number": 43
    },
    {
     "cell_type": "code",
     "collapsed": false,
     "input": [
      "''' \n",
      "    Without postdoc experience, are men and women different?\n",
      "    \n",
      "    Answer: No.\n",
      "'''\n",
      "men, women = [], []\n",
      "for f in faculty:\n",
      "    if not f.has_postdoc:\n",
      "        val = f.dblp_z\n",
      "        if f.is_female:\n",
      "            women.append(val)\n",
      "        else:\n",
      "            men.append(val)\n",
      "        \n",
      "stat, pval = mannwhitneyu(men, women)\n",
      "sig = pval < sig_level    \n",
      "print sig, pval\n",
      "\n",
      "print np.median(men)\n",
      "print np.median(women)"
     ],
     "language": "python",
     "metadata": {},
     "outputs": [
      {
       "output_type": "stream",
       "stream": "stdout",
       "text": [
        "False 0.435073546783\n",
        "-0.406276\n",
        "-0.3927615\n"
       ]
      }
     ],
     "prompt_number": 44
    },
    {
     "cell_type": "code",
     "collapsed": false,
     "input": [
      "''' \n",
      "    Are productivity scores different for people moving up/down?\n",
      "    \n",
      "    Answer: YES. Productivity scores are higher for people who moved up the ranks.\n",
      "'''\n",
      "up, down = [], []\n",
      "for f in faculty:\n",
      "    val = f.dblp_z\n",
      "    if f.phd_rank < f.first_asst_job_rank:\n",
      "        up.append(val)\n",
      "    elif f.phd_rank > f.first_asst_job_rank:\n",
      "        down.append(val)\n",
      "        \n",
      "stat, pval = mannwhitneyu(up, down)\n",
      "sig = pval < sig_level    \n",
      "print sig, pval\n",
      "\n",
      "print np.median(up)\n",
      "print np.median(down)"
     ],
     "language": "python",
     "metadata": {},
     "outputs": [
      {
       "output_type": "stream",
       "stream": "stdout",
       "text": [
        "False 0.0796012969885\n",
        "-0.2081385\n",
        "-0.325294\n"
       ]
      }
     ],
     "prompt_number": 45
    },
    {
     "cell_type": "code",
     "collapsed": false,
     "input": [
      "''' \n",
      "    Are productivity scores different for people with postdoc experience?\n",
      "    \n",
      "    Answer: YES. Productivity scores are much higher for people with postdocs.\n",
      "'''\n",
      "yes, no = [], []\n",
      "for f in faculty:\n",
      "    val = f.dblp_z\n",
      "    if f.has_postdoc:\n",
      "        yes.append(val)\n",
      "    else:\n",
      "        no.append(val)\n",
      "        \n",
      "stat, pval = mannwhitneyu(yes, no)\n",
      "sig = pval < sig_level    \n",
      "print sig, pval\n",
      "\n",
      "print np.median(yes)\n",
      "print np.median(no)"
     ],
     "language": "python",
     "metadata": {},
     "outputs": [
      {
       "output_type": "stream",
       "stream": "stdout",
       "text": [
        "True 2.98233548569e-28\n",
        "0.108977\n",
        "-0.404848\n"
       ]
      }
     ],
     "prompt_number": 46
    },
    {
     "cell_type": "code",
     "collapsed": false,
     "input": [
      "''' \n",
      "    Are productivity scores different for men/women with postdoc experience post-2002?\n",
      "    \n",
      "    Answer: YES. Productivity scores are much higher for men. \n",
      "'''\n",
      "women, men = [], []\n",
      "for f in faculty:\n",
      "    if f.first_asst_job_year > split_at and f.has_postdoc:\n",
      "        val = f.dblp_z\n",
      "        if f.is_female:\n",
      "            women.append(val)\n",
      "        else:\n",
      "            men.append(val)\n",
      "        \n",
      "stat, pval = mannwhitneyu(women, men)\n",
      "sig = pval < sig_level    \n",
      "print sig, pval\n",
      "\n",
      "print 'MEDIAN W', np.median(women)\n",
      "print 'MEDIAN M', np.median(men)\n",
      "\n",
      "bins = np.linspace(-3,12,50)\n",
      "hist(men, bins=bins, normed=True, color=ALMOST_BLACK)\n",
      "hist(women, bins=bins, normed=True, alpha=0.8, color=FEMALE_COLOR)\n",
      "plt.show()"
     ],
     "language": "python",
     "metadata": {},
     "outputs": [
      {
       "output_type": "stream",
       "stream": "stdout",
       "text": [
        "True 0.0283480952543\n",
        "MEDIAN W 0.249243\n",
        "MEDIAN M 0.476602\n"
       ]
      },
      {
       "metadata": {},
       "output_type": "display_data",
       "png": "[encoded data removed]",
       "text": [
        "<matplotlib.figure.Figure at 0x1084a8d50>"
       ]
      }
     ],
     "prompt_number": 47
    },
    {
     "cell_type": "code",
     "collapsed": false,
     "input": [
      "''' \n",
      "    Are productivity scores different for men/women WITHOUT postdoc experience post-2002?\n",
      "    \n",
      "    Answer: YES. Productivity scores are much higher for men. \n",
      "'''\n",
      "women, men = [], []\n",
      "for f in faculty:\n",
      "    if f.first_asst_job_year > split_at and not f.has_postdoc:\n",
      "        val = f.dblp_z\n",
      "        if f.is_female:\n",
      "            women.append(val)\n",
      "        else:\n",
      "            men.append(val)\n",
      "        \n",
      "stat, pval = mannwhitneyu(women, men)\n",
      "sig = pval < sig_level    \n",
      "print sig, pval\n",
      "\n",
      "print 'MEDIAN W', np.median(women)\n",
      "print 'MEDIAN M', np.median(men)\n",
      "\n",
      "bins = np.linspace(-3,12,50)\n",
      "hist(men, bins=bins, normed=True, color=ALMOST_BLACK)\n",
      "hist(women, bins=bins, normed=True, alpha=0.8, color=FEMALE_COLOR)\n",
      "plt.show()"
     ],
     "language": "python",
     "metadata": {},
     "outputs": [
      {
       "output_type": "stream",
       "stream": "stdout",
       "text": [
        "True 0.000237947671316\n",
        "MEDIAN W -0.0352295\n",
        "MEDIAN M 0.203799\n"
       ]
      },
      {
       "metadata": {},
       "output_type": "display_data",
       "png": "[encoded data removed]",
       "text": [
        "<matplotlib.figure.Figure at 0x1084c7cd0>"
       ]
      }
     ],
     "prompt_number": 48
    },
    {
     "cell_type": "code",
     "collapsed": false,
     "input": [
      "''' \n",
      "    Are productivity scores different for men/women WITHOUT postdoc experience?\n",
      "    \n",
      "    Answer: No.\n",
      "'''\n",
      "women, men = [], []\n",
      "for f in faculty:\n",
      "    if not f.has_postdoc:\n",
      "        val = f.dblp_z\n",
      "        if f.is_female:\n",
      "            women.append(val)\n",
      "        else:\n",
      "            men.append(val)\n",
      "        \n",
      "stat, pval = mannwhitneyu(women, men)\n",
      "sig = pval < sig_level    \n",
      "print sig, pval\n",
      "\n",
      "print 'MEDIAN W', np.median(women)\n",
      "print 'MEDIAN M', np.median(men)\n",
      "\n",
      "bins = np.linspace(-3,12,50)\n",
      "hist(men, bins=bins, normed=True, color=ALMOST_BLACK)\n",
      "hist(women, bins=bins, normed=True, alpha=0.8, color=FEMALE_COLOR)\n",
      "plt.show()"
     ],
     "language": "python",
     "metadata": {},
     "outputs": [
      {
       "output_type": "stream",
       "stream": "stdout",
       "text": [
        "False 0.435073546783\n",
        "MEDIAN W -0.3927615\n",
        "MEDIAN M -0.406276\n"
       ]
      },
      {
       "metadata": {},
       "output_type": "display_data",
       "png": "[encoded data removed]",
       "text": [
        "<matplotlib.figure.Figure at 0x10a6da590>"
       ]
      }
     ],
     "prompt_number": 49
    },
    {
     "cell_type": "code",
     "collapsed": false,
     "input": [
      "''' \n",
      "    Are productivity scores different for women pre-/post-2002?\n",
      "    \n",
      "    Answer: YES. Productivity scores are much higher post-2002.\n",
      "'''\n",
      "pre, post = [], []\n",
      "for f in faculty:\n",
      "    if f.is_female:\n",
      "        val = f.dblp_z\n",
      "        if f.first_asst_job_year <= split_at:\n",
      "            pre.append(val)\n",
      "        else:\n",
      "            post.append(val)\n",
      "        \n",
      "stat, pval = mannwhitneyu(pre, post)\n",
      "sig = pval < sig_level    \n",
      "print sig, pval\n",
      "\n",
      "print np.median(pre)\n",
      "print np.median(post)"
     ],
     "language": "python",
     "metadata": {},
     "outputs": [
      {
       "output_type": "stream",
       "stream": "stdout",
       "text": [
        "True 1.8126766447e-12\n",
        "-0.5405055\n",
        "0.04926\n"
       ]
      }
     ],
     "prompt_number": 50
    },
    {
     "cell_type": "code",
     "collapsed": false,
     "input": [
      "bins = np.linspace(-3,12,50)\n",
      "hist(pre, bins=bins, normed=True, color=ALMOST_BLACK)\n",
      "hist(post, bins=bins, normed=True, alpha=0.8, color=LIGHT_COLOR)\n",
      "plt.show()"
     ],
     "language": "python",
     "metadata": {},
     "outputs": [
      {
       "metadata": {},
       "output_type": "display_data",
       "png": "[encoded data removed]",
       "text": [
        "<matplotlib.figure.Figure at 0x10848c650>"
       ]
      }
     ],
     "prompt_number": 51
    },
    {
     "cell_type": "code",
     "collapsed": false,
     "input": [
      "''' \n",
      "    Regardless of gender, are productivity scores different pre-/post-2002?\n",
      "    \n",
      "    Answer: YES. Productivity scores are much higher post-2002. This is to be expected, as older papers\n",
      "            are likely harder to track down online!\n",
      "'''\n",
      "pre, post = [], []\n",
      "for f in faculty:\n",
      "    val = f.dblp_z\n",
      "    if f.first_asst_job_year <= split_at:\n",
      "        pre.append(val)\n",
      "    else:\n",
      "        post.append(val)\n",
      "        \n",
      "stat, pval = mannwhitneyu(pre, post)\n",
      "sig = pval < sig_level    \n",
      "print sig, pval\n",
      "\n",
      "print np.median(pre)\n",
      "print np.median(post)"
     ],
     "language": "python",
     "metadata": {},
     "outputs": [
      {
       "output_type": "stream",
       "stream": "stdout",
       "text": [
        "True 2.49664224832e-103\n",
        "-0.54322\n",
        "0.224087\n"
       ]
      }
     ],
     "prompt_number": 52
    },
    {
     "cell_type": "code",
     "collapsed": false,
     "input": [
      "bins = np.linspace(-3,12,50)\n",
      "hist(pre, bins=bins, normed=True, color=ALMOST_BLACK)\n",
      "hist(post, bins=bins, normed=True, alpha=0.8, color=LIGHT_COLOR)\n",
      "plt.show()"
     ],
     "language": "python",
     "metadata": {},
     "outputs": [
      {
       "metadata": {},
       "output_type": "display_data",
       "png": "[encoded data removed]",
       "text": [
        "<matplotlib.figure.Figure at 0x1079e9390>"
       ]
      }
     ],
     "prompt_number": 53
    },
    {
     "cell_type": "code",
     "collapsed": false,
     "input": [
      "''' \n",
      "    Are productivity scores different for men and women pre-2002?\n",
      "    \n",
      "    Answer: No.\n",
      "'''\n",
      "men, women = [], []\n",
      "for f in faculty:\n",
      "    if f.first_asst_job_year <= split_at:\n",
      "        val = f.dblp_z\n",
      "        if f.is_female:\n",
      "            women.append(val)\n",
      "        else:\n",
      "            men.append(val)\n",
      "        \n",
      "stat, pval = mannwhitneyu(men, women)\n",
      "sig = pval < sig_level    \n",
      "print sig, pval\n",
      "\n",
      "print np.median(men)\n",
      "print np.median(women)"
     ],
     "language": "python",
     "metadata": {},
     "outputs": [
      {
       "output_type": "stream",
       "stream": "stdout",
       "text": [
        "False 0.388962423272\n",
        "-0.5433585\n",
        "-0.5405055\n"
       ]
      }
     ],
     "prompt_number": 54
    },
    {
     "cell_type": "code",
     "collapsed": false,
     "input": [
      "bins = np.linspace(-3,12,50)\n",
      "hist(men, bins=bins, normed=True, color=ALMOST_BLACK)\n",
      "hist(women, bins=bins, normed=True, alpha=0.8, color=FEMALE_COLOR)\n",
      "plt.show()"
     ],
     "language": "python",
     "metadata": {},
     "outputs": [
      {
       "metadata": {},
       "output_type": "display_data",
       "png": "[encoded data removed]",
       "text": [
        "<matplotlib.figure.Figure at 0x1077bc850>"
       ]
      }
     ],
     "prompt_number": 55
    },
    {
     "cell_type": "code",
     "collapsed": false,
     "input": [
      "''' \n",
      "    Are productivity scores different for men and women post-2002?\n",
      "    \n",
      "    Answer: YES.\n",
      "'''\n",
      "men, women = [], []\n",
      "for f in faculty:\n",
      "    if f.first_asst_job_year > split_at:\n",
      "        val = f.dblp_z\n",
      "        if f.is_female:\n",
      "            women.append(val)\n",
      "        else:\n",
      "            men.append(val)\n",
      "        \n",
      "stat, pval = mannwhitneyu(men, women)\n",
      "sig = pval < sig_level    \n",
      "print sig, pval\n",
      "\n",
      "print np.median(men)\n",
      "print np.median(women)"
     ],
     "language": "python",
     "metadata": {},
     "outputs": [
      {
       "output_type": "stream",
       "stream": "stdout",
       "text": [
        "True 5.03173746831e-05\n",
        "0.2657775\n",
        "0.04926\n"
       ]
      }
     ],
     "prompt_number": 56
    },
    {
     "cell_type": "code",
     "collapsed": false,
     "input": [
      "bins = np.linspace(-3,12,50)\n",
      "hist(men, bins=bins, normed=True, color=ALMOST_BLACK)\n",
      "hist(women, bins=bins, normed=True, alpha=0.8, color=FEMALE_COLOR)\n",
      "plt.show()"
     ],
     "language": "python",
     "metadata": {},
     "outputs": [
      {
       "metadata": {},
       "output_type": "display_data",
       "png": "[encoded data removed]",
       "text": [
        "<matplotlib.figure.Figure at 0x107d0bb50>"
       ]
      }
     ],
     "prompt_number": 57
    },
    {
     "cell_type": "heading",
     "level": 2,
     "metadata": {},
     "source": [
      "Has Postdoc Experience"
     ]
    },
    {
     "cell_type": "code",
     "collapsed": false,
     "input": [
      "''' \n",
      "    Conditioned on having a postdoc, are women more likely than men to move up the ranks?\n",
      "    \n",
      "    Answer: No. \n",
      "'''\n",
      "\n",
      "counts = np.zeros((2,2), dtype=float)\n",
      "\n",
      "for f in faculty:\n",
      "    if f.has_postdoc:\n",
      "        if f.is_female:\n",
      "            gender_index = 0\n",
      "        else:\n",
      "            gender_index = 1\n",
      "\n",
      "        if f.first_asst_job_rank < f.phd_rank:\n",
      "            movement_index = 0\n",
      "        elif f.first_asst_job_rank > f.phd_rank:\n",
      "            movement_index = 1\n",
      "        else:\n",
      "            continue # skip self-hires\n",
      "            \n",
      "        counts[gender_index][movement_index] += 1.\n",
      "\n",
      "print 'W\\t', counts[0,:]\n",
      "print 'M\\t', counts[1,:]\n",
      "chi2, pval, dof, ex = chi2_contingency(counts)\n",
      "\n",
      "print '\\n', pval < sig_level\n",
      "print 'chi2 pval: ', pval\n",
      "print \"Women fraction:\", (counts[0,1] / np.sum(counts[0,:]))\n",
      "print \"Men fraction:\", (counts[1,1] / np.sum(counts[1,:]))"
     ],
     "language": "python",
     "metadata": {},
     "outputs": [
      {
       "output_type": "stream",
       "stream": "stdout",
       "text": [
        "W\t[ 80.  13.]\n",
        "M\t[ 347.   55.]\n",
        "\n",
        "False\n",
        "chi2 pval:  0.926559133814\n",
        "Women fraction: 0.139784946237\n",
        "Men fraction: 0.136815920398\n"
       ]
      }
     ],
     "prompt_number": 58
    },
    {
     "cell_type": "code",
     "collapsed": false,
     "input": [
      "''' \n",
      "    Conditioned on moving up, are women more likely than men to have a postdoc?\n",
      "    \n",
      "    Answer: No. \n",
      "'''\n",
      "\n",
      "counts = np.zeros((2,2), dtype=float)\n",
      "\n",
      "for f in faculty:\n",
      "    if f.first_asst_job_rank > f.phd_rank:\n",
      "        if f.is_female:\n",
      "            gender_index = 0\n",
      "        else:\n",
      "            gender_index = 1\n",
      "\n",
      "        movement_index = int(f.has_postdoc)    \n",
      "        counts[gender_index][movement_index] += 1.\n",
      "\n",
      "print 'W\\t', counts[0,:]\n",
      "print 'M\\t', counts[1,:]\n",
      "chi2, pval, dof, ex = chi2_contingency(counts)\n",
      "\n",
      "print '\\n', pval < sig_level\n",
      "print 'chi2 pval: ', pval\n",
      "print \"Women fraction:\", (counts[0,1] / np.sum(counts[0,:]))\n",
      "print \"Men fraction:\", (counts[1,1] / np.sum(counts[1,:]))"
     ],
     "language": "python",
     "metadata": {},
     "outputs": [
      {
       "output_type": "stream",
       "stream": "stdout",
       "text": [
        "W\t[ 26.  13.]\n",
        "M\t[ 228.   55.]\n",
        "\n",
        "False\n",
        "chi2 pval:  0.0743524048201\n",
        "Women fraction: 0.333333333333\n",
        "Men fraction: 0.194346289753\n"
       ]
      }
     ],
     "prompt_number": 59
    },
    {
     "cell_type": "code",
     "collapsed": false,
     "input": [],
     "language": "python",
     "metadata": {},
     "outputs": [],
     "prompt_number": 59
    },
    {
     "cell_type": "code",
     "collapsed": false,
     "input": [
      "''' \n",
      "    Are women more likely than men to have postdoc experience?\n",
      "    \n",
      "    Answer: YES. Significantly more women have postdocs. 24.1% versus 19.3%.\n",
      "'''\n",
      "\n",
      "counts = np.zeros((2,2), dtype=float)\n",
      "\n",
      "for f in faculty:\n",
      "    if f.is_female:\n",
      "        gender_index = 0\n",
      "    else:\n",
      "        gender_index = 1\n",
      "\n",
      "    val_index = int(f.has_postdoc)\n",
      "    counts[gender_index][val_index] += 1.\n",
      "        \n",
      "print 'W\\t', counts[0,:]\n",
      "print 'M\\t', counts[1,:]\n",
      "chi2, pval, dof, ex = chi2_contingency(counts)\n",
      "print '\\n', pval < sig_level\n",
      "print 'chi2 pval: ', pval\n",
      "print \"Women fraction:\", (counts[0,1] / np.sum(counts[0,:]))\n",
      "print \"Men fraction:\", (counts[1,1] / np.sum(counts[1,:]))"
     ],
     "language": "python",
     "metadata": {},
     "outputs": [
      {
       "output_type": "stream",
       "stream": "stdout",
       "text": [
        "W\t[ 324.  103.]\n",
        "M\t[ 1801.   431.]\n",
        "\n",
        "True\n",
        "chi2 pval:  0.027245410857\n",
        "Women fraction: 0.241217798595\n",
        "Men fraction: 0.193100358423\n"
       ]
      }
     ],
     "prompt_number": 60
    },
    {
     "cell_type": "code",
     "collapsed": false,
     "input": [
      "''' \n",
      "    Post 2002, are women more likely than men to have postdoc experience?\n",
      "    \n",
      "    Answer: \n",
      "'''\n",
      "\n",
      "counts = np.zeros((2,2), dtype=float)\n",
      "\n",
      "for f in faculty:\n",
      "    if f.first_asst_job_year > 2002:\n",
      "        if f.is_female:\n",
      "            gender_index = 0\n",
      "        else:\n",
      "            gender_index = 1\n",
      "\n",
      "        val_index = int(f.has_postdoc)\n",
      "        counts[gender_index][val_index] += 1.\n",
      "        \n",
      "print 'W\\t', counts[0,:]\n",
      "print 'M\\t', counts[1,:]\n",
      "chi2, pval, dof, ex = chi2_contingency(counts)\n",
      "print '\\n', pval < sig_level\n",
      "print 'chi2 pval: ', pval\n",
      "print \"Women fraction:\", (counts[0,1] / np.sum(counts[0,:]))\n",
      "print \"Men fraction:\", (counts[1,1] / np.sum(counts[1,:]))"
     ],
     "language": "python",
     "metadata": {},
     "outputs": [
      {
       "output_type": "stream",
       "stream": "stdout",
       "text": [
        "W\t[ 146.   61.]\n",
        "M\t[ 545.  209.]\n",
        "\n",
        "False\n",
        "chi2 pval:  0.6826601369\n",
        "Women fraction: 0.294685990338\n",
        "Men fraction: 0.277188328912\n"
       ]
      }
     ],
     "prompt_number": 61
    },
    {
     "cell_type": "code",
     "collapsed": false,
     "input": [
      "''' \n",
      "    More likely to post-doc before/after 2002? \n",
      "    \n",
      "    Answer: YES. Much\n",
      "'''\n",
      "\n",
      "counts = np.zeros((2,2), dtype=float)\n",
      "\n",
      "for f in faculty:\n",
      "    prepost = int(f.first_asst_job_year > 2002)\n",
      "    val_index = int(f.has_postdoc)\n",
      "    counts[prepost][val_index] += 1.\n",
      "        \n",
      "print 'PRE\\t', counts[0,:]\n",
      "print 'POST\\t', counts[1,:]\n",
      "chi2, pval, dof, ex = chi2_contingency(counts)\n",
      "print '\\n', pval < sig_level\n",
      "print 'chi2 pval: ', pval\n",
      "print \"PRE fraction:\", (counts[0,1] / np.sum(counts[0,:]))\n",
      "print \"POST fraction:\", (counts[1,1] / np.sum(counts[1,:]))"
     ],
     "language": "python",
     "metadata": {},
     "outputs": [
      {
       "output_type": "stream",
       "stream": "stdout",
       "text": [
        "PRE\t[ 1434.   264.]\n",
        "POST\t[ 691.  270.]\n",
        "\n",
        "True\n",
        "chi2 pval:  1.2701889749e-14\n",
        "PRE fraction: 0.155477031802\n",
        "POST fraction: 0.280957336108\n"
       ]
      }
     ],
     "prompt_number": 62
    },
    {
     "cell_type": "code",
     "collapsed": false,
     "input": [
      "''' \n",
      "    Are rank changes different for people with postdocs?\n",
      "    \n",
      "    Answer: No.\n",
      "'''\n",
      "\n",
      "yes = []\n",
      "no = []\n",
      "\n",
      "for f in faculty:\n",
      "    val = f.first_asst_job_rank - f.phd_rank\n",
      "    if f.has_postdoc:\n",
      "        yes.append(val)\n",
      "    else:\n",
      "        no.append(val)\n",
      "    \n",
      "stat, pval = mannwhitneyu(yes, no)\n",
      "sig = pval < sig_level    \n",
      "print sig, pval\n",
      "\n",
      "print 'yes median   :', np.median(yes)\n",
      "print 'no  median   :', np.median(no)"
     ],
     "language": "python",
     "metadata": {},
     "outputs": [
      {
       "output_type": "stream",
       "stream": "stdout",
       "text": [
        "False 0.0555103921157\n",
        "yes median   : -0.166142485984\n",
        "no  median   : -0.18631204704\n"
       ]
      }
     ],
     "prompt_number": 63
    },
    {
     "cell_type": "code",
     "collapsed": false,
     "input": [
      "''' \n",
      "    Do people with postdocs tend to move up more than people without?\n",
      "    \n",
      "    Answer: No.\n",
      "'''\n",
      "counts = np.zeros((2,2), dtype=float)\n",
      "\n",
      "for f in faculty:\n",
      "    if f.has_postdoc:\n",
      "        val_index = 1\n",
      "    else:\n",
      "        val_index = 0\n",
      "\n",
      "    if f.first_asst_job_rank < f.phd_rank:\n",
      "        movement_index = 0\n",
      "    elif f.first_asst_job_rank > f.phd_rank:\n",
      "        movement_index = 1\n",
      "    else:\n",
      "        continue # skip self-hires\n",
      "            \n",
      "    counts[val_index][movement_index] += 1.\n",
      "\n",
      "print 'N\\t', counts[0,:]\n",
      "print 'Y\\t', counts[1,:]\n",
      "chi2, pval, dof, ex = chi2_contingency(counts)\n",
      "print '\\n', pval < sig_level\n",
      "print 'chi2 pval: ', pval\n",
      "print \"N fraction:\", (counts[0,1] / np.sum(counts[0,:]))\n",
      "print \"Y fraction:\", (counts[1,1] / np.sum(counts[1,:]))"
     ],
     "language": "python",
     "metadata": {},
     "outputs": [
      {
       "output_type": "stream",
       "stream": "stdout",
       "text": [
        "N\t[ 1734.   254.]\n",
        "Y\t[ 427.   68.]\n",
        "\n",
        "False\n",
        "chi2 pval:  0.620927912135\n",
        "N fraction: 0.127766599598\n",
        "Y fraction: 0.137373737374\n"
       ]
      }
     ],
     "prompt_number": 64
    },
    {
     "cell_type": "code",
     "collapsed": false,
     "input": [
      "'''\n",
      "    Do women postdoc more after/before 2002?\n",
      "    \n",
      "    Answer: YES. Far more women are doing postdocs post-2002. 35.8% vs. 18.7% (!)\n",
      "'''\n",
      "\n",
      "counts = np.zeros((2,2), dtype=float)\n",
      "\n",
      "for f in faculty:\n",
      "    if f.is_female:\n",
      "        val_index = int(f.has_postdoc)\n",
      "\n",
      "        if f.first_asst_job_year <= split_at:\n",
      "            prepost = 0\n",
      "        else:\n",
      "            prepost = 1\n",
      "\n",
      "        counts[prepost][val_index] += 1.\n",
      "\n",
      "print 'PRE  \\t', counts[0,:]\n",
      "print 'POST \\t', counts[1,:]\n",
      "chi2, pval, dof, ex = chi2_contingency(counts)\n",
      "\n",
      "print '\\n', pval < sig_level\n",
      "print 'chi2 pval: ', pval\n",
      "print \"PRE  fraction:\", (counts[0,1] / np.sum(counts[0,:]))\n",
      "print \"POST fraction:\", (counts[1,1] / np.sum(counts[1,:]))"
     ],
     "language": "python",
     "metadata": {},
     "outputs": [
      {
       "output_type": "stream",
       "stream": "stdout",
       "text": [
        "PRE  \t[ 178.   42.]\n",
        "POST \t[ 146.   61.]\n",
        "\n",
        "True\n",
        "chi2 pval:  0.0167612819943\n",
        "PRE  fraction: 0.190909090909\n",
        "POST fraction: 0.294685990338\n"
       ]
      }
     ],
     "prompt_number": 65
    },
    {
     "cell_type": "code",
     "collapsed": false,
     "input": [
      "'''\n",
      "    Do men postdoc more after/before 2002?\n",
      "    \n",
      "    Answer: \n",
      "'''\n",
      "\n",
      "counts = np.zeros((2,2), dtype=float)\n",
      "\n",
      "for f in faculty:\n",
      "    if not f.is_female:\n",
      "        val_index = int(f.has_postdoc)\n",
      "\n",
      "        if f.first_asst_job_year <= split_at:\n",
      "            prepost = 0\n",
      "        else:\n",
      "            prepost = 1\n",
      "\n",
      "        counts[prepost][val_index] += 1.\n",
      "\n",
      "print 'PRE  \\t', counts[0,:]\n",
      "print 'POST \\t', counts[1,:]\n",
      "chi2, pval, dof, ex = chi2_contingency(counts)\n",
      "\n",
      "print '\\n', pval < sig_level\n",
      "print 'chi2 pval: ', pval\n",
      "print \"PRE  fraction:\", (counts[0,1] / np.sum(counts[0,:]))\n",
      "print \"POST fraction:\", (counts[1,1] / np.sum(counts[1,:]))"
     ],
     "language": "python",
     "metadata": {},
     "outputs": [
      {
       "output_type": "stream",
       "stream": "stdout",
       "text": [
        "PRE  \t[ 1256.   222.]\n",
        "POST \t[ 545.  209.]\n",
        "\n",
        "True\n",
        "chi2 pval:  9.91773665531e-13\n",
        "PRE  fraction: 0.150202976996\n",
        "POST fraction: 0.277188328912\n"
       ]
      }
     ],
     "prompt_number": 66
    },
    {
     "cell_type": "code",
     "collapsed": false,
     "input": [
      "''' \n",
      "    For people with postdocs, do men/women postdoc longer?\n",
      "    \n",
      "    Answer: \n",
      "'''\n",
      "men, women = [], []\n",
      "for f in faculty:\n",
      "    if f.has_postdoc and f.phd_year is not None:\n",
      "        if f.is_female:\n",
      "            women.append(f.first_asst_job_year - f.phd_year)\n",
      "        else:\n",
      "            men.append(f.first_asst_job_year - f.phd_year)\n",
      "        \n",
      "stat, pval = mannwhitneyu(men, women)\n",
      "sig = pval < sig_level    \n",
      "print sig, pval\n",
      "\n",
      "print np.median(men)\n",
      "print np.median(women)"
     ],
     "language": "python",
     "metadata": {},
     "outputs": [
      {
       "output_type": "stream",
       "stream": "stdout",
       "text": [
        "False 0.404846499606\n",
        "2.0\n",
        "2.0\n"
       ]
      }
     ],
     "prompt_number": 67
    },
    {
     "cell_type": "code",
     "collapsed": false,
     "input": [
      "''' \n",
      "    For people with postdocs, when did they start?\n",
      "    \n",
      "    Answer: \n",
      "'''\n",
      "men, women = [], []\n",
      "for f in faculty:\n",
      "    if f.has_postdoc:\n",
      "        if f.is_female:\n",
      "            women.append(f.first_asst_job_year)\n",
      "        else:\n",
      "            men.append(f.first_asst_job_year)\n",
      "        \n",
      "stat, pval = ks_2samp(men, women)\n",
      "sig = pval < sig_level    \n",
      "print sig, pval\n",
      "\n",
      "print np.median(men)\n",
      "print np.median(women)"
     ],
     "language": "python",
     "metadata": {},
     "outputs": [
      {
       "output_type": "stream",
       "stream": "stdout",
       "text": [
        "False 0.224715760268\n",
        "2002.0\n",
        "2005.0\n"
       ]
      }
     ],
     "prompt_number": 68
    },
    {
     "cell_type": "code",
     "collapsed": false,
     "input": [
      "bins = np.arange(1969,2011) + 0.5\n",
      "hist(men, bins=bins, normed=True)\n",
      "hist(women, bins=bins, normed=True)"
     ],
     "language": "python",
     "metadata": {},
     "outputs": [
      {
       "metadata": {},
       "output_type": "pyout",
       "prompt_number": 69,
       "text": [
        "(array([ 0.        ,  0.        ,  0.        ,  0.        ,  0.        ,\n",
        "         0.        ,  0.        ,  0.        ,  0.        ,  0.        ,\n",
        "         0.        ,  0.        ,  0.01075269,  0.        ,  0.        ,\n",
        "         0.01075269,  0.        ,  0.01075269,  0.01075269,  0.01075269,\n",
        "         0.02150538,  0.        ,  0.04301075,  0.01075269,  0.05376344,\n",
        "         0.02150538,  0.01075269,  0.05376344,  0.01075269,  0.03225806,\n",
        "         0.05376344,  0.05376344,  0.03225806,  0.03225806,  0.04301075,\n",
        "         0.11827957,  0.06451613,  0.09677419,  0.04301075,  0.07526882,\n",
        "         0.07526882]),\n",
        " array([ 1969.5,  1970.5,  1971.5,  1972.5,  1973.5,  1974.5,  1975.5,\n",
        "         1976.5,  1977.5,  1978.5,  1979.5,  1980.5,  1981.5,  1982.5,\n",
        "         1983.5,  1984.5,  1985.5,  1986.5,  1987.5,  1988.5,  1989.5,\n",
        "         1990.5,  1991.5,  1992.5,  1993.5,  1994.5,  1995.5,  1996.5,\n",
        "         1997.5,  1998.5,  1999.5,  2000.5,  2001.5,  2002.5,  2003.5,\n",
        "         2004.5,  2005.5,  2006.5,  2007.5,  2008.5,  2009.5,  2010.5]),\n",
        " <a list of 41 Patch objects>)"
       ]
      },
      {
       "metadata": {},
       "output_type": "display_data",
       "png": "[encoded data removed]",
       "text": [
        "<matplotlib.figure.Figure at 0x107944910>"
       ]
      }
     ],
     "prompt_number": 69
    },
    {
     "cell_type": "code",
     "collapsed": false,
     "input": [
      "''' \n",
      "    If you're a female, does postdocing making you more likely to move up?\n",
      "    \n",
      "    Answer: \n",
      "'''\n",
      "\n",
      "counts = np.zeros((2,2), dtype=float)\n",
      "\n",
      "for f in faculty:\n",
      "    if f.is_female:        \n",
      "        if f.first_asst_job_rank < f.phd_rank:\n",
      "            movement_index = 0\n",
      "        elif f.first_asst_job_rank > f.phd_rank:\n",
      "            movement_index = 1\n",
      "        else:\n",
      "            continue # skip self-hires\n",
      "        \n",
      "        pd_index = int(f.has_postdoc)    \n",
      "        counts[pd_index][movement_index] += 1.\n",
      "\n",
      "print 'N\\t', counts[0,:]\n",
      "print 'Y\\t', counts[1,:]\n",
      "chi2, pval, dof, ex = chi2_contingency(counts)\n",
      "\n",
      "print '\\n', pval < sig_level\n",
      "print 'chi2 pval: ', pval\n",
      "print \"N fraction:\", (counts[0,1] / np.sum(counts[0,:]))\n",
      "print \"Y fraction:\", (counts[1,1] / np.sum(counts[1,:]))"
     ],
     "language": "python",
     "metadata": {},
     "outputs": [
      {
       "output_type": "stream",
       "stream": "stdout",
       "text": [
        "N\t[ 268.   26.]\n",
        "Y\t[ 80.  13.]\n",
        "\n",
        "False\n",
        "chi2 pval:  0.216390078164\n",
        "N fraction: 0.0884353741497\n",
        "Y fraction: 0.139784946237\n"
       ]
      }
     ],
     "prompt_number": 70
    },
    {
     "cell_type": "code",
     "collapsed": false,
     "input": [
      "''' \n",
      "    If you're a male, does postdocing making you more likely to move up?\n",
      "    \n",
      "    Answer: \n",
      "'''\n",
      "\n",
      "counts = np.zeros((2,2), dtype=float)\n",
      "\n",
      "for f in faculty:\n",
      "    if not f.is_female:        \n",
      "        if f.first_asst_job_rank < f.phd_rank:\n",
      "            movement_index = 0\n",
      "        elif f.first_asst_job_rank > f.phd_rank:\n",
      "            movement_index = 1\n",
      "        else:\n",
      "            continue # skip self-hires\n",
      "        \n",
      "        pd_index = int(f.has_postdoc)    \n",
      "        counts[pd_index][movement_index] += 1.\n",
      "\n",
      "print 'N\\t', counts[0,:]\n",
      "print 'Y\\t', counts[1,:]\n",
      "chi2, pval, dof, ex = chi2_contingency(counts)\n",
      "\n",
      "print '\\n', pval < sig_level\n",
      "print 'chi2 pval: ', pval\n",
      "print \"N fraction:\", (counts[0,1] / np.sum(counts[0,:]))\n",
      "print \"Y fraction:\", (counts[1,1] / np.sum(counts[1,:]))"
     ],
     "language": "python",
     "metadata": {},
     "outputs": [
      {
       "output_type": "stream",
       "stream": "stdout",
       "text": [
        "N\t[ 1466.   228.]\n",
        "Y\t[ 347.   55.]\n",
        "\n",
        "False\n",
        "chi2 pval:  0.971208420908\n",
        "N fraction: 0.134592680047\n",
        "Y fraction: 0.136815920398\n"
       ]
      }
     ],
     "prompt_number": 71
    },
    {
     "cell_type": "code",
     "collapsed": false,
     "input": [
      "''' \n",
      "    If you're a male, does postdocing making you more likely to move up?\n",
      "    \n",
      "    Answer: \n",
      "'''\n",
      "\n",
      "counts = np.zeros((2,2), dtype=float)\n",
      "\n",
      "for f in faculty:\n",
      "    if f.first_asst_job_rank < f.phd_rank:\n",
      "        movement_index = 0\n",
      "    elif f.first_asst_job_rank > f.phd_rank:\n",
      "        movement_index = 1\n",
      "    else:\n",
      "        continue # skip self-hires\n",
      "\n",
      "    pd_index = int(f.has_postdoc)    \n",
      "    counts[pd_index][movement_index] += 1.\n",
      "\n",
      "print 'N\\t', counts[0,:]\n",
      "print 'Y\\t', counts[1,:]\n",
      "chi2, pval, dof, ex = chi2_contingency(counts)\n",
      "\n",
      "print '\\n', pval < sig_level\n",
      "print 'chi2 pval: ', pval\n",
      "print \"N fraction:\", (counts[0,1] / np.sum(counts[0,:]))\n",
      "print \"Y fraction:\", (counts[1,1] / np.sum(counts[1,:]))"
     ],
     "language": "python",
     "metadata": {},
     "outputs": [
      {
       "output_type": "stream",
       "stream": "stdout",
       "text": [
        "N\t[ 1734.   254.]\n",
        "Y\t[ 427.   68.]\n",
        "\n",
        "False\n",
        "chi2 pval:  0.620927912135\n",
        "N fraction: 0.127766599598\n",
        "Y fraction: 0.137373737374\n"
       ]
      }
     ],
     "prompt_number": 72
    },
    {
     "cell_type": "heading",
     "level": 2,
     "metadata": {},
     "source": [
      "Geography"
     ]
    },
    {
     "cell_type": "code",
     "collapsed": false,
     "input": [
      "'''\n",
      "    For people who stayed in the same region, are gender and movement up/down linked?\n",
      "    \n",
      "    Answer: No.\n",
      "'''\n",
      "\n",
      "counts = np.zeros((2,2), dtype=float)\n",
      "\n",
      "for f in faculty:\n",
      "    if f.first_asst_job_region != f.phd_region:\n",
      "        if f.is_female:\n",
      "            gender_index = 0\n",
      "        else:\n",
      "            gender_index = 1\n",
      "\n",
      "        if f.first_asst_job_rank < f.phd_rank:\n",
      "            movement_index = 0\n",
      "        elif f.first_asst_job_rank > f.phd_rank:\n",
      "            movement_index = 1\n",
      "        else:\n",
      "            continue # skip self-hires\n",
      "            \n",
      "        counts[gender_index][movement_index] += 1.\n",
      "\n",
      "print 'W\\t', counts[0,:]\n",
      "print 'M\\t', counts[1,:]\n",
      "chi2, pval, dof, ex = chi2_contingency(counts)\n",
      "print '\\n', pval < sig_level\n",
      "print 'chi2 pval: ', pval\n",
      "print \"Women fraction:\", (counts[0,1] / np.sum(counts[0,:]))\n",
      "print \"Men fraction:\", (counts[1,1] / np.sum(counts[1,:]))"
     ],
     "language": "python",
     "metadata": {},
     "outputs": [
      {
       "output_type": "stream",
       "stream": "stdout",
       "text": [
        "W\t[ 220.   19.]\n",
        "M\t[ 1150.   192.]\n",
        "\n",
        "True\n",
        "chi2 pval:  0.0104860053915\n",
        "Women fraction: 0.0794979079498\n",
        "Men fraction: 0.143070044709\n"
       ]
      }
     ],
     "prompt_number": 73
    },
    {
     "cell_type": "code",
     "collapsed": false,
     "input": [
      "'''\n",
      "    Do women stay in the same spot more often than men?\n",
      "    \n",
      "    Answer: No.\n",
      "'''\n",
      "\n",
      "counts = np.zeros((2,2), dtype=float)\n",
      "\n",
      "for f in faculty:\n",
      "    if f.is_female:\n",
      "        gender_index = 0\n",
      "    else:\n",
      "        gender_index = 1\n",
      "\n",
      "    val_index = int(f.phd_region == f.first_asst_job_region)\n",
      "    counts[gender_index][val_index] += 1.\n",
      "        \n",
      "print 'W\\t', counts[0,:]\n",
      "print 'M\\t', counts[1,:]\n",
      "chi2, pval, dof, ex = chi2_contingency(counts)\n",
      "\n",
      "print '\\n', pval < sig_level\n",
      "print 'chi2 pval: ', pval\n",
      "print \"Women fraction:\", (counts[0,1] / np.sum(counts[0,:]))\n",
      "print \"Men fraction:\", (counts[1,1] / np.sum(counts[1,:]))"
     ],
     "language": "python",
     "metadata": {},
     "outputs": [
      {
       "output_type": "stream",
       "stream": "stdout",
       "text": [
        "W\t[ 239.  188.]\n",
        "M\t[ 1342.   890.]\n",
        "\n",
        "False\n",
        "chi2 pval:  0.121659115467\n",
        "Women fraction: 0.440281030445\n",
        "Men fraction: 0.398745519713\n"
       ]
      }
     ],
     "prompt_number": 74
    },
    {
     "cell_type": "code",
     "collapsed": false,
     "input": [
      "'''\n",
      "    Do people who stay in the same spot tend to move up/down more than we'd expect?\n",
      "    \n",
      "    Answer: No.\n",
      "'''\n",
      "\n",
      "counts = np.zeros((2,2), dtype=float)\n",
      "\n",
      "for f in faculty:\n",
      "    val_index = int(f.first_asst_job_region == f.phd_region)\n",
      "\n",
      "    if f.first_asst_job_rank < f.phd_rank:\n",
      "        movement_index = 0\n",
      "    elif f.first_asst_job_rank > f.phd_rank:\n",
      "        movement_index = 1\n",
      "    else:\n",
      "        continue # skip self-hires\n",
      "\n",
      "    counts[val_index][movement_index] += 1.\n",
      "\n",
      "print 'N\\t', counts[0,:]\n",
      "print 'Y\\t', counts[1,:]\n",
      "chi2, pval, dof, ex = chi2_contingency(counts)\n",
      "\n",
      "print '\\n', pval < sig_level\n",
      "print 'chi2 pval: ', pval\n",
      "print \"N fraction:\", (counts[0,1] / np.sum(counts[0,:]))\n",
      "print \"Y fraction:\", (counts[1,1] / np.sum(counts[1,:]))"
     ],
     "language": "python",
     "metadata": {},
     "outputs": [
      {
       "output_type": "stream",
       "stream": "stdout",
       "text": [
        "N\t[ 1370.   211.]\n",
        "Y\t[ 791.  111.]\n",
        "\n",
        "False\n",
        "chi2 pval:  0.496644831053\n",
        "N fraction: 0.133459835547\n",
        "Y fraction: 0.123059866962\n"
       ]
      }
     ],
     "prompt_number": 75
    },
    {
     "cell_type": "code",
     "collapsed": false,
     "input": [
      "'''\n",
      "    Conditioned on moving up, do women move more or less frequently than men? \n",
      "    \n",
      "    Answer: YES. Men more more than women.\n",
      "'''\n",
      "counts = np.zeros((2,2), dtype=float)\n",
      "\n",
      "for f in faculty:\n",
      "    if f.first_asst_job_rank > f.phd_rank:\n",
      "        gender_index = int(not f.is_female)\n",
      "        val_index = int(f.first_asst_job_region != f.phd_region)\n",
      "        counts[gender_index][val_index] += 1.\n",
      "\n",
      "print 'W\\t', counts[0,:]\n",
      "print 'M\\t', counts[1,:]\n",
      "chi2, pval, dof, ex = chi2_contingency(counts)\n",
      "\n",
      "print '\\n', pval < sig_level\n",
      "print 'chi2 pval: ', pval\n",
      "print \"Women fraction:\", (counts[0,1] / np.sum(counts[0,:]))\n",
      "print \"Men fraction:\", (counts[1,1] / np.sum(counts[1,:]))"
     ],
     "language": "python",
     "metadata": {},
     "outputs": [
      {
       "output_type": "stream",
       "stream": "stdout",
       "text": [
        "W\t[ 20.  19.]\n",
        "M\t[  91.  192.]\n",
        "\n",
        "True\n",
        "chi2 pval:  0.0295270142915\n",
        "Women fraction: 0.487179487179\n",
        "Men fraction: 0.678445229682\n"
       ]
      }
     ],
     "prompt_number": 76
    },
    {
     "cell_type": "code",
     "collapsed": false,
     "input": [
      "'''\n",
      "    Do people stay in the same spot more after/before 2002?\n",
      "    \n",
      "    Answer: YES. People are moving more post-2002.\n",
      "'''\n",
      "\n",
      "counts = np.zeros((2,2), dtype=float)\n",
      "\n",
      "for f in faculty:\n",
      "    val_index = int(f.first_asst_job_region != f.phd_region)\n",
      "\n",
      "    if f.first_asst_job_year <= split_at:\n",
      "        prepost = 0\n",
      "    else:\n",
      "        prepost = 1\n",
      "    \n",
      "    counts[prepost][val_index] += 1.\n",
      "\n",
      "print 'PRE  \\t', counts[0,:]\n",
      "print 'POST \\t', counts[1,:]\n",
      "chi2, pval, dof, ex = chi2_contingency(counts)\n",
      "\n",
      "print '\\n', pval < sig_level\n",
      "print 'chi2 pval: ', pval\n",
      "print \"PRE  fraction:\", (counts[0,1] / np.sum(counts[0,:]))\n",
      "print \"POST fraction:\", (counts[1,1] / np.sum(counts[1,:]))"
     ],
     "language": "python",
     "metadata": {},
     "outputs": [
      {
       "output_type": "stream",
       "stream": "stdout",
       "text": [
        "PRE  \t[ 737.  961.]\n",
        "POST \t[ 341.  620.]\n",
        "\n",
        "True\n",
        "chi2 pval:  7.65065824279e-05\n",
        "PRE  fraction: 0.565959952886\n",
        "POST fraction: 0.645161290323\n"
       ]
      }
     ],
     "prompt_number": 77
    },
    {
     "cell_type": "code",
     "collapsed": false,
     "input": [
      "'''\n",
      "    Do women stay in the same spot more after/before 2002?\n",
      "    \n",
      "    Answer: No. They don't. \n",
      "'''\n",
      "\n",
      "counts = np.zeros((2,2), dtype=float)\n",
      "\n",
      "for f in faculty:\n",
      "    if f.is_female:\n",
      "        val_index = int(f.first_asst_job_region == f.phd_region)\n",
      "\n",
      "        if f.first_asst_job_year <= split_at:\n",
      "            prepost = 0\n",
      "        else:\n",
      "            prepost = 1\n",
      "\n",
      "        counts[prepost][val_index] += 1.\n",
      "\n",
      "print 'PRE  \\t', counts[0,:]\n",
      "print 'POST \\t', counts[1,:]\n",
      "chi2, pval, dof, ex = chi2_contingency(counts)\n",
      "\n",
      "print '\\n', pval < sig_level\n",
      "print 'chi2 pval: ', pval\n",
      "print \"PRE  fraction:\", (counts[0,1] / np.sum(counts[0,:]))\n",
      "print \"POST fraction:\", (counts[1,1] / np.sum(counts[1,:]))"
     ],
     "language": "python",
     "metadata": {},
     "outputs": [
      {
       "output_type": "stream",
       "stream": "stdout",
       "text": [
        "PRE  \t[ 125.   95.]\n",
        "POST \t[ 114.   93.]\n",
        "\n",
        "False\n",
        "chi2 pval:  0.790518456661\n",
        "PRE  fraction: 0.431818181818\n",
        "POST fraction: 0.449275362319\n"
       ]
      }
     ],
     "prompt_number": 78
    },
    {
     "cell_type": "code",
     "collapsed": false,
     "input": [
      "'''\n",
      "    Prior to 2002, do men/women move around more?\n",
      "    \n",
      "    Answer: No.\n",
      "'''\n",
      "\n",
      "counts = np.zeros((2,2), dtype=float)\n",
      "\n",
      "for f in faculty:\n",
      "    if f.first_asst_job_year <= split_at:\n",
      "        \n",
      "        if f.is_female:\n",
      "            gender_index = 0\n",
      "        else:\n",
      "            gender_index = 1\n",
      "            \n",
      "        val_index = int(f.first_asst_job_region != f.phd_region)\n",
      "\n",
      "\n",
      "        counts[gender_index][val_index] += 1.\n",
      "\n",
      "print 'F  \\t', counts[0,:]\n",
      "print 'M \\t', counts[1,:]\n",
      "chi2, pval, dof, ex = chi2_contingency(counts)\n",
      "\n",
      "print '\\n', pval < sig_level\n",
      "print 'chi2 pval: ', pval\n",
      "print \"F  fraction:\", (counts[0,1] / np.sum(counts[0,:]))\n",
      "print \"M fraction:\", (counts[1,1] / np.sum(counts[1,:]))"
     ],
     "language": "python",
     "metadata": {},
     "outputs": [
      {
       "output_type": "stream",
       "stream": "stdout",
       "text": [
        "F  \t[  95.  125.]\n",
        "M \t[ 642.  836.]\n",
        "\n",
        "False\n",
        "chi2 pval:  0.998698277782\n",
        "F  fraction: 0.568181818182\n",
        "M fraction: 0.565629228687\n"
       ]
      }
     ],
     "prompt_number": 79
    },
    {
     "cell_type": "code",
     "collapsed": false,
     "input": [
      "'''\n",
      "    After 2002, do men/women move around more?\n",
      "    \n",
      "    Answer: YES. The men do.\n",
      "'''\n",
      "\n",
      "counts = np.zeros((2,2), dtype=float)\n",
      "\n",
      "for f in faculty:\n",
      "    if f.first_asst_job_year > split_at:\n",
      "        \n",
      "        if f.is_female:\n",
      "            gender_index = 0\n",
      "        else:\n",
      "            gender_index = 1\n",
      "            \n",
      "        val_index = int(f.first_asst_job_region != f.phd_region)\n",
      "\n",
      "\n",
      "        counts[gender_index][val_index] += 1.\n",
      "\n",
      "print 'F  \\t', counts[0,:]\n",
      "print 'M \\t', counts[1,:]\n",
      "chi2, pval, dof, ex = chi2_contingency(counts)\n",
      "\n",
      "print '\\n', pval < sig_level\n",
      "print 'chi2 pval: ', pval\n",
      "print \"F  fraction:\", (counts[0,1] / np.sum(counts[0,:]))\n",
      "print \"M fraction:\", (counts[1,1] / np.sum(counts[1,:]))"
     ],
     "language": "python",
     "metadata": {},
     "outputs": [
      {
       "output_type": "stream",
       "stream": "stdout",
       "text": [
        "F  \t[  93.  114.]\n",
        "M \t[ 248.  506.]\n",
        "\n",
        "True\n",
        "chi2 pval:  0.00178461124776\n",
        "F  fraction: 0.550724637681\n",
        "M fraction: 0.671087533156\n"
       ]
      }
     ],
     "prompt_number": 80
    },
    {
     "cell_type": "code",
     "collapsed": false,
     "input": [
      "'''\n",
      "    Do men stay in the same spot more after/before 2002?\n",
      "    \n",
      "    Answer: YES. They move around way more.\n",
      "'''\n",
      "\n",
      "counts = np.zeros((2,2), dtype=float)\n",
      "\n",
      "for f in faculty:\n",
      "    if not f.is_female:\n",
      "        val_index = int(f.first_asst_job_region != f.phd_region)\n",
      "\n",
      "        if f.first_asst_job_year <= split_at:\n",
      "            prepost = 0\n",
      "        else:\n",
      "            prepost = 1\n",
      "\n",
      "        counts[prepost][val_index] += 1.\n",
      "\n",
      "print 'PRE  \\t', counts[0,:]\n",
      "print 'POST \\t', counts[1,:]\n",
      "chi2, pval, dof, ex = chi2_contingency(counts)\n",
      "\n",
      "print '\\n', pval < sig_level\n",
      "print 'chi2 pval: ', pval\n",
      "print \"PRE  fraction:\", (counts[0,1] / np.sum(counts[0,:]))\n",
      "print \"POST fraction:\", (counts[1,1] / np.sum(counts[1,:]))"
     ],
     "language": "python",
     "metadata": {},
     "outputs": [
      {
       "output_type": "stream",
       "stream": "stdout",
       "text": [
        "PRE  \t[ 642.  836.]\n",
        "POST \t[ 248.  506.]\n",
        "\n",
        "True\n",
        "chi2 pval:  1.87084853689e-06\n",
        "PRE  fraction: 0.565629228687\n",
        "POST fraction: 0.671087533156\n"
       ]
      }
     ],
     "prompt_number": 81
    },
    {
     "cell_type": "code",
     "collapsed": false,
     "input": [
      "'''\n",
      "    After 2002, do men and women move at different rates?\n",
      "    \n",
      "    Answer: YES. Men move more. \n",
      "'''\n",
      "\n",
      "counts = np.zeros((2,2), dtype=float)\n",
      "\n",
      "for f in faculty:\n",
      "    if f.first_asst_job_year > split_at:\n",
      "        if f.is_female:\n",
      "            gender_index = 0\n",
      "        else:\n",
      "            gender_index = 1\n",
      "        val_index = int(f.first_asst_job_region != f.phd_region)\n",
      "\n",
      "        counts[gender_index][val_index] += 1.\n",
      "\n",
      "print 'W  \\t', counts[0,:]\n",
      "print 'M  \\t', counts[1,:]\n",
      "chi2, pval, dof, ex = chi2_contingency(counts)\n",
      "\n",
      "print '\\n', pval < sig_level\n",
      "print 'chi2 pval: ', pval\n",
      "print \"W  fraction:\", (counts[0,1] / np.sum(counts[0,:]))\n",
      "print \"M fraction:\", (counts[1,1] / np.sum(counts[1,:]))"
     ],
     "language": "python",
     "metadata": {},
     "outputs": [
      {
       "output_type": "stream",
       "stream": "stdout",
       "text": [
        "W  \t[  93.  114.]\n",
        "M  \t[ 248.  506.]\n",
        "\n",
        "True\n",
        "chi2 pval:  0.00178461124776\n",
        "W  fraction: 0.550724637681\n",
        "M fraction: 0.671087533156\n"
       ]
      }
     ],
     "prompt_number": 82
    },
    {
     "cell_type": "code",
     "collapsed": false,
     "input": [
      "'''\n",
      "    Do people who stay in the same spot tend to move up/down more than we'd expect?\n",
      "    \n",
      "    Answer: No.\n",
      "'''\n",
      "\n",
      "counts = np.zeros((2,2), dtype=float)\n",
      "\n",
      "for f in faculty:\n",
      "    val_index = int(f.first_asst_job_region == f.phd_region)\n",
      "\n",
      "    if f.first_asst_job_rank < f.phd_rank:\n",
      "        movement_index = 0\n",
      "    elif f.first_asst_job_rank > f.phd_rank:\n",
      "        movement_index = 1\n",
      "    else:\n",
      "        continue # skip self-hires\n",
      "\n",
      "    counts[val_index][movement_index] += 1.\n",
      "\n",
      "print 'N\\t', counts[0,:]\n",
      "print 'Y\\t', counts[1,:]\n",
      "chi2, pval, dof, ex = chi2_contingency(counts)\n",
      "\n",
      "print '\\n', pval < sig_level\n",
      "print 'chi2 pval: ', pval\n",
      "print \"N fraction:\", (counts[0,1] / np.sum(counts[0,:]))\n",
      "print \"Y fraction:\", (counts[1,1] / np.sum(counts[1,:]))"
     ],
     "language": "python",
     "metadata": {},
     "outputs": [
      {
       "output_type": "stream",
       "stream": "stdout",
       "text": [
        "N\t[ 1370.   211.]\n",
        "Y\t[ 791.  111.]\n",
        "\n",
        "False\n",
        "chi2 pval:  0.496644831053\n",
        "N fraction: 0.133459835547\n",
        "Y fraction: 0.123059866962\n"
       ]
      }
     ],
     "prompt_number": 83
    },
    {
     "cell_type": "heading",
     "level": 2,
     "metadata": {},
     "source": [
      "Self-hiring"
     ]
    },
    {
     "cell_type": "code",
     "collapsed": false,
     "input": [
      "'''\n",
      "    Are men and women self-hired at different rates?\n",
      "    \n",
      "    Answer: YES. Women are self-hired slightly more often.\n",
      "'''\n",
      "\n",
      "counts = np.zeros((2,2), dtype=float)\n",
      "\n",
      "for f in faculty:\n",
      "    if f.is_female:\n",
      "        gender_index = 0\n",
      "    else:\n",
      "        gender_index = 1\n",
      "    val_index = int(f.first_asst_job_location == f.phd_location)\n",
      "\n",
      "    counts[gender_index][val_index] += 1.\n",
      "\n",
      "print 'W  \\t', counts[0,:]\n",
      "print 'M  \\t', counts[1,:]\n",
      "chi2, pval, dof, ex = chi2_contingency(counts)\n",
      "\n",
      "print '\\n', pval < sig_level\n",
      "print 'chi2 pval: ', pval\n",
      "print \"W  fraction:\", (counts[0,1] / np.sum(counts[0,:]))\n",
      "print \"M fraction:\", (counts[1,1] / np.sum(counts[1,:]))"
     ],
     "language": "python",
     "metadata": {},
     "outputs": [
      {
       "output_type": "stream",
       "stream": "stdout",
       "text": [
        "W  \t[ 387.   40.]\n",
        "M  \t[ 2096.   136.]\n",
        "\n",
        "True\n",
        "chi2 pval:  0.0169713062471\n",
        "W  fraction: 0.0936768149883\n",
        "M fraction: 0.0609318996416\n"
       ]
      }
     ],
     "prompt_number": 84
    },
    {
     "cell_type": "code",
     "collapsed": false,
     "input": [
      "'''\n",
      "    Post 2002, are men and women self-hired at different rates?\n",
      "    \n",
      "    Answer:\n",
      "'''\n",
      "\n",
      "counts = np.zeros((2,2), dtype=float)\n",
      "\n",
      "for f in faculty:\n",
      "    if f.first_asst_job_year > split_at:\n",
      "        if f.is_female:\n",
      "            gender_index = 0\n",
      "        else:\n",
      "            gender_index = 1\n",
      "        val_index = int(f.first_asst_job_location == f.phd_location)\n",
      "\n",
      "        counts[gender_index][val_index] += 1.\n",
      "\n",
      "print 'W  \\t', counts[0,:]\n",
      "print 'M  \\t', counts[1,:]\n",
      "chi2, pval, dof, ex = chi2_contingency(counts)\n",
      "\n",
      "print '\\n', pval < sig_level\n",
      "print 'chi2 pval: ', pval\n",
      "print \"W  fraction:\", (counts[0,1] / np.sum(counts[0,:]))\n",
      "print \"M fraction:\", (counts[1,1] / np.sum(counts[1,:]))"
     ],
     "language": "python",
     "metadata": {},
     "outputs": [
      {
       "output_type": "stream",
       "stream": "stdout",
       "text": [
        "W  \t[ 188.   19.]\n",
        "M  \t[ 733.   21.]\n",
        "\n",
        "True\n",
        "chi2 pval:  0.000103104716675\n",
        "W  fraction: 0.0917874396135\n",
        "M fraction: 0.0278514588859\n"
       ]
      }
     ],
     "prompt_number": 85
    },
    {
     "cell_type": "code",
     "collapsed": false,
     "input": [
      "'''\n",
      "    Pre 2002, are men and women self-hired at different rates?\n",
      "    \n",
      "    Answer: Nope. \n",
      "'''\n",
      "\n",
      "counts = np.zeros((2,2), dtype=float)\n",
      "\n",
      "for f in faculty:\n",
      "    if f.first_asst_job_year <= split_at:\n",
      "        if f.is_female:\n",
      "            gender_index = 0\n",
      "        else:\n",
      "            gender_index = 1\n",
      "        val_index = int(f.first_asst_job_location == f.phd_location)\n",
      "\n",
      "        counts[gender_index][val_index] += 1.\n",
      "\n",
      "print 'W  \\t', counts[0,:]\n",
      "print 'M  \\t', counts[1,:]\n",
      "chi2, pval, dof, ex = chi2_contingency(counts)\n",
      "\n",
      "print '\\n', pval < sig_level\n",
      "print 'chi2 pval: ', pval\n",
      "print \"W  fraction:\", (counts[0,1] / np.sum(counts[0,:]))\n",
      "print \"M fraction:\", (counts[1,1] / np.sum(counts[1,:]))"
     ],
     "language": "python",
     "metadata": {},
     "outputs": [
      {
       "output_type": "stream",
       "stream": "stdout",
       "text": [
        "W  \t[ 199.   21.]\n",
        "M  \t[ 1363.   115.]\n",
        "\n",
        "False\n",
        "chi2 pval:  0.443359751748\n",
        "W  fraction: 0.0954545454545\n",
        "M fraction: 0.0778078484438\n"
       ]
      }
     ],
     "prompt_number": 86
    },
    {
     "cell_type": "code",
     "collapsed": false,
     "input": [
      "'''\n",
      "    Are self-hiring rates different pre/post 2002?\n",
      "    \n",
      "    Answer: YES. Much lower after.\n",
      "'''\n",
      "\n",
      "counts = np.zeros((2,2), dtype=float)\n",
      "\n",
      "for f in faculty:\n",
      "    prepost = int(f.first_asst_job_year > split_at)\n",
      "    val_index = int(f.first_asst_job_location == f.phd_location)\n",
      "\n",
      "    counts[prepost][val_index] += 1.\n",
      "\n",
      "print 'PRE  \\t', counts[0,:]\n",
      "print 'POST  \\t', counts[1,:]\n",
      "chi2, pval, dof, ex = chi2_contingency(counts)\n",
      "\n",
      "print '\\n', pval < sig_level\n",
      "print 'chi2 pval: ', pval\n",
      "print \"PRE  fraction:\", (counts[0,1] / np.sum(counts[0,:]))\n",
      "print \"POST fraction:\", (counts[1,1] / np.sum(counts[1,:]))"
     ],
     "language": "python",
     "metadata": {},
     "outputs": [
      {
       "output_type": "stream",
       "stream": "stdout",
       "text": [
        "PRE  \t[ 1562.   136.]\n",
        "POST  \t[ 921.   40.]\n",
        "\n",
        "True\n",
        "chi2 pval:  0.000175319086026\n",
        "PRE  fraction: 0.0800942285041\n",
        "POST fraction: 0.0416233090531\n"
       ]
      }
     ],
     "prompt_number": 87
    },
    {
     "cell_type": "code",
     "collapsed": false,
     "input": [
      "'''\n",
      "    For just women, are self-hiring rates different pre/post 2002?\n",
      "    \n",
      "    Answer: \n",
      "'''\n",
      "\n",
      "counts = np.zeros((2,2), dtype=float)\n",
      "\n",
      "for f in faculty:\n",
      "    if f.is_female:\n",
      "        prepost = int(f.first_asst_job_year > split_at)\n",
      "        val_index = int(f.first_asst_job_location == f.phd_location)\n",
      "\n",
      "        counts[prepost][val_index] += 1.\n",
      "\n",
      "print 'PRE  \\t', counts[0,:]\n",
      "print 'POST  \\t', counts[1,:]\n",
      "chi2, pval, dof, ex = chi2_contingency(counts)\n",
      "\n",
      "print '\\n', pval < sig_level\n",
      "print 'chi2 pval: ', pval\n",
      "print \"PRE  fraction:\", (counts[0,1] / np.sum(counts[0,:]))\n",
      "print \"POST fraction:\", (counts[1,1] / np.sum(counts[1,:]))"
     ],
     "language": "python",
     "metadata": {},
     "outputs": [
      {
       "output_type": "stream",
       "stream": "stdout",
       "text": [
        "PRE  \t[ 199.   21.]\n",
        "POST  \t[ 188.   19.]\n",
        "\n",
        "False\n",
        "chi2 pval:  0.971131104394\n",
        "PRE  fraction: 0.0954545454545\n",
        "POST fraction: 0.0917874396135\n"
       ]
      }
     ],
     "prompt_number": 88
    },
    {
     "cell_type": "code",
     "collapsed": false,
     "input": [
      "'''\n",
      "    For just men, are self-hiring rates different pre/post 2002?\n",
      "    \n",
      "    Answer: \n",
      "'''\n",
      "\n",
      "counts = np.zeros((2,2), dtype=float)\n",
      "\n",
      "for f in faculty:\n",
      "    if not f.is_female:\n",
      "        prepost = int(f.first_asst_job_year > split_at)\n",
      "        val_index = int(f.first_asst_job_location == f.phd_location)\n",
      "\n",
      "        counts[prepost][val_index] += 1.\n",
      "\n",
      "print 'PRE  \\t', counts[0,:]\n",
      "print 'POST  \\t', counts[1,:]\n",
      "chi2, pval, dof, ex = chi2_contingency(counts)\n",
      "\n",
      "print '\\n', pval < sig_level\n",
      "print 'chi2 pval: ', pval\n",
      "print \"PRE  fraction:\", (counts[0,1] / np.sum(counts[0,:]))\n",
      "print \"POST fraction:\", (counts[1,1] / np.sum(counts[1,:]))"
     ],
     "language": "python",
     "metadata": {},
     "outputs": [
      {
       "output_type": "stream",
       "stream": "stdout",
       "text": [
        "PRE  \t[ 1363.   115.]\n",
        "POST  \t[ 733.   21.]\n",
        "\n",
        "True\n",
        "chi2 pval:  4.80779717668e-06\n",
        "PRE  fraction: 0.0778078484438\n",
        "POST fraction: 0.0278514588859\n"
       ]
      }
     ],
     "prompt_number": 89
    },
    {
     "cell_type": "code",
     "collapsed": false,
     "input": [
      "''' \n",
      "    Do self-hired individuals have higher/lower productivity scores?\n",
      "    \n",
      "    Answer: \n",
      "'''\n",
      "selfhires, nonselfhires = [], []\n",
      "for f in faculty:\n",
      "    val = f.dblp_z\n",
      "    if f.first_asst_job_location == f.phd_location:       \n",
      "        selfhires.append(val)\n",
      "    else:\n",
      "        nonselfhires.append(val)\n",
      "        \n",
      "stat, pval = mannwhitneyu(selfhires, nonselfhires)\n",
      "sig = pval < sig_level    \n",
      "print sig, pval\n",
      "\n",
      "print \"SELF-HIRES median :\", np.median(selfhires)\n",
      "print \"OTHERS median     :\", np.median(nonselfhires)"
     ],
     "language": "python",
     "metadata": {},
     "outputs": [
      {
       "output_type": "stream",
       "stream": "stdout",
       "text": [
        "True 0.00196512170556\n",
        "SELF-HIRES median : -0.5972835\n",
        "OTHERS median     : -0.312233\n"
       ]
      }
     ],
     "prompt_number": 90
    },
    {
     "cell_type": "code",
     "collapsed": false,
     "input": [
      "''' \n",
      "    Do self-hired individuals have higher/lower phd ranks?\n",
      "    \n",
      "    Answer: \n",
      "'''\n",
      "selfhires, nonselfhires = [], []\n",
      "for f in faculty:\n",
      "    val = f.first_asst_job_rank\n",
      "    if f.first_asst_job_location == f.phd_location:       \n",
      "        selfhires.append(val)\n",
      "    else:\n",
      "        nonselfhires.append(val)\n",
      "        \n",
      "stat, pval = mannwhitneyu(selfhires, nonselfhires)\n",
      "sig = pval < sig_level    \n",
      "print sig, pval\n",
      "\n",
      "print \"SELF-HIRES median :\", np.median(selfhires)\n",
      "print \"OTHERS median     :\", np.median(nonselfhires)"
     ],
     "language": "python",
     "metadata": {},
     "outputs": [
      {
       "output_type": "stream",
       "stream": "stdout",
       "text": [
        "True 0.0257876628215\n",
        "SELF-HIRES median : 0.612138852533\n",
        "OTHERS median     : 0.609648180344\n"
       ]
      }
     ],
     "prompt_number": 91
    },
    {
     "cell_type": "heading",
     "level": 2,
     "metadata": {},
     "source": [
      "Out of sample"
     ]
    },
    {
     "cell_type": "code",
     "collapsed": false,
     "input": [
      "'''\n",
      "    Do men/women tend to have more positive productivity scores?\n",
      "    \n",
      "    Answer: No. \n",
      "'''\n",
      "\n",
      "counts = np.zeros((2,2), dtype=float)\n",
      "\n",
      "for f in faculty:\n",
      "    if f.is_female:\n",
      "        gender_index = 0\n",
      "    else:\n",
      "        gender_index = 1\n",
      "    val_index = int(f.first_asst_job_location in inst)\n",
      "\n",
      "    counts[gender_index][val_index] += 1.\n",
      "\n",
      "print 'W  \\t', counts[0,:]\n",
      "print 'M  \\t', counts[1,:]\n",
      "chi2, pval, dof, ex = chi2_contingency(counts)\n",
      "\n",
      "print '\\n', pval < sig_level\n",
      "print 'chi2 pval: ', pval\n",
      "print \"W  fraction:\", (counts[0,1] / np.sum(counts[0,:]))\n",
      "print \"M fraction:\", (counts[1,1] / np.sum(counts[1,:]))"
     ],
     "language": "python",
     "metadata": {},
     "outputs": [
      {
       "output_type": "stream",
       "stream": "stdout",
       "text": [
        "W  \t[   0.  427.]\n",
        "M  \t[    0.  2232.]\n"
       ]
      },
      {
       "ename": "ValueError",
       "evalue": "The internally computed table of expected frequencies has a zero element at (0, 0).",
       "output_type": "pyerr",
       "traceback": [
        "\u001b[0;31m---------------------------------------------------------------------------\u001b[0m\n\u001b[0;31mValueError\u001b[0m                                Traceback (most recent call last)",
        "\u001b[0;32m<ipython-input-92-b28bd9a0c97c>\u001b[0m in \u001b[0;36m<module>\u001b[0;34m()\u001b[0m\n\u001b[1;32m     18\u001b[0m \u001b[0;32mprint\u001b[0m \u001b[0;34m'W  \\t'\u001b[0m\u001b[0;34m,\u001b[0m \u001b[0mcounts\u001b[0m\u001b[0;34m[\u001b[0m\u001b[0;36m0\u001b[0m\u001b[0;34m,\u001b[0m\u001b[0;34m:\u001b[0m\u001b[0;34m]\u001b[0m\u001b[0;34m\u001b[0m\u001b[0m\n\u001b[1;32m     19\u001b[0m \u001b[0;32mprint\u001b[0m \u001b[0;34m'M  \\t'\u001b[0m\u001b[0;34m,\u001b[0m \u001b[0mcounts\u001b[0m\u001b[0;34m[\u001b[0m\u001b[0;36m1\u001b[0m\u001b[0;34m,\u001b[0m\u001b[0;34m:\u001b[0m\u001b[0;34m]\u001b[0m\u001b[0;34m\u001b[0m\u001b[0m\n\u001b[0;32m---> 20\u001b[0;31m \u001b[0mchi2\u001b[0m\u001b[0;34m,\u001b[0m \u001b[0mpval\u001b[0m\u001b[0;34m,\u001b[0m \u001b[0mdof\u001b[0m\u001b[0;34m,\u001b[0m \u001b[0mex\u001b[0m \u001b[0;34m=\u001b[0m \u001b[0mchi2_contingency\u001b[0m\u001b[0;34m(\u001b[0m\u001b[0mcounts\u001b[0m\u001b[0;34m)\u001b[0m\u001b[0;34m\u001b[0m\u001b[0m\n\u001b[0m\u001b[1;32m     21\u001b[0m \u001b[0;34m\u001b[0m\u001b[0m\n\u001b[1;32m     22\u001b[0m \u001b[0;32mprint\u001b[0m \u001b[0;34m'\\n'\u001b[0m\u001b[0;34m,\u001b[0m \u001b[0mpval\u001b[0m \u001b[0;34m<\u001b[0m \u001b[0msig_level\u001b[0m\u001b[0;34m\u001b[0m\u001b[0m\n",
        "\u001b[0;32m/Users/samway/Documents/Work/PythonEnvironments/science/lib/python2.7/site-packages/scipy/stats/contingency.pyc\u001b[0m in \u001b[0;36mchi2_contingency\u001b[0;34m(observed, correction, lambda_)\u001b[0m\n\u001b[1;32m    251\u001b[0m         \u001b[0mzeropos\u001b[0m \u001b[0;34m=\u001b[0m \u001b[0mlist\u001b[0m\u001b[0;34m(\u001b[0m\u001b[0mzip\u001b[0m\u001b[0;34m(\u001b[0m\u001b[0;34m*\u001b[0m\u001b[0mnp\u001b[0m\u001b[0;34m.\u001b[0m\u001b[0mwhere\u001b[0m\u001b[0;34m(\u001b[0m\u001b[0mexpected\u001b[0m \u001b[0;34m==\u001b[0m \u001b[0;36m0\u001b[0m\u001b[0;34m)\u001b[0m\u001b[0;34m)\u001b[0m\u001b[0;34m)\u001b[0m\u001b[0;34m[\u001b[0m\u001b[0;36m0\u001b[0m\u001b[0;34m]\u001b[0m\u001b[0;34m\u001b[0m\u001b[0m\n\u001b[1;32m    252\u001b[0m         raise ValueError(\"The internally computed table of expected \"\n\u001b[0;32m--> 253\u001b[0;31m                          \"frequencies has a zero element at %s.\" % (zeropos,))\n\u001b[0m\u001b[1;32m    254\u001b[0m \u001b[0;34m\u001b[0m\u001b[0m\n\u001b[1;32m    255\u001b[0m     \u001b[0;31m# The degrees of freedom\u001b[0m\u001b[0;34m\u001b[0m\u001b[0;34m\u001b[0m\u001b[0m\n",
        "\u001b[0;31mValueError\u001b[0m: The internally computed table of expected frequencies has a zero element at (0, 0)."
       ]
      }
     ],
     "prompt_number": 92
    },
    {
     "cell_type": "code",
     "collapsed": false,
     "input": [
      "''' \n",
      "    Are rank changes in general larger for men compared to women?\n",
      "    \n",
      "    Answer: No.\n",
      "'''\n",
      "\n",
      "men, women = [], []\n",
      "for f in faculty:\n",
      "    if not f.phd_location in inst:\n",
      "        val = f.first_asst_job_rank - f.phd_rank\n",
      "        if f.is_female:\n",
      "            women.append(val)\n",
      "        else:\n",
      "            men.append(val)\n",
      "        \n",
      "stat, pval = mannwhitneyu(men, women)\n",
      "sig = pval < sig_level    \n",
      "print sig, pval\n",
      "\n",
      "print 'Men avg.   :', np.median(men)\n",
      "print 'Women avg. :', np.median(women)"
     ],
     "language": "python",
     "metadata": {},
     "outputs": []
    },
    {
     "cell_type": "code",
     "collapsed": false,
     "input": [],
     "language": "python",
     "metadata": {},
     "outputs": []
    }
   ],
   "metadata": {}
  }
 ]
}