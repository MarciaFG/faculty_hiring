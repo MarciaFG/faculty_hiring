{
 "metadata": {
  "name": "",
  "signature": "sha256:f8140db869719045b33aa404d1fdf4f7d8549b8c53f5619f807e8cbf3fa42e73"
 },
 "nbformat": 3,
 "nbformat_minor": 0,
 "worksheets": [
  {
   "cells": [
    {
     "cell_type": "code",
     "collapsed": false,
     "input": [
      "from matplotlib import rcParams\n",
      "rcParams['font.family'] = 'sans-serif'\n",
      "rcParams['font.sans-serif'] = ['Helvetica']\n",
      "import matplotlib.pyplot as plt\n",
      "import matplotlib as mpl\n",
      "\n",
      "from faculty_hiring.misc.plotting import *  # Definitions for LABEL_SIZE and such\n",
      "from faculty_hiring.misc.gaussian_kde import gaussian_kde\n",
      "\n",
      "from collections import Counter\n",
      "from faculty_hiring.parse import faculty_parser, institution_parser\n",
      "from faculty_hiring.parse import load\n",
      "from faculty_hiring.scripts import add_zscores as cur\n",
      "from scipy.stats import ttest_ind, ks_2samp, chi2_contingency, mannwhitneyu\n",
      "from scipy.optimize import curve_fit, minimize\n",
      "from scipy.misc import factorial, comb\n",
      "\n",
      "import scipy as sp\n",
      "import numpy as np\n",
      "import palettable"
     ],
     "language": "python",
     "metadata": {},
     "outputs": [],
     "prompt_number": 1
    },
    {
     "cell_type": "code",
     "collapsed": false,
     "input": [
      "cmap = palettable.tableau.Tableau_10.mpl_colormap\n",
      "colors = palettable.tableau.Tableau_10.mpl_colors\n",
      "sig_level = 0.05"
     ],
     "language": "python",
     "metadata": {},
     "outputs": [],
     "prompt_number": 2
    },
    {
     "cell_type": "code",
     "collapsed": false,
     "input": [
      "faculty_file = '/Users/samway//Documents/Work/ClausetLab/projects/faculty_hiring/data/faculty_cs_0930.txt'\n",
      "inst_file = '/Users/samway/Documents/Work/ClausetLab/projects/faculty_hiring/data/inst_cs.txt'\n",
      "dblp_dir = '/Users/samway/Documents/Work/ClausetLab/projects/faculty_hiring/data/profiles_DBLP_all/'\n",
      "gs_dir = '/Users/samway/Documents/Work/ClausetLab/projects/faculty_hiring/data/profiles_GS_all/'\n",
      "\n",
      "topic_descriptions = ['Image/Signal Processing',  # These correspond to the topic_dists in faculty_cs_0930.txt\n",
      "                      'Communication Networks',\n",
      "                      'Security/Cryptography',\n",
      "                      'HCI/Social Computing',\n",
      "                      'Robotics/Control Theory',\n",
      "                      'Computer Architecture',\n",
      "                      'AI/Machine Learning',\n",
      "                      'Software Engineering',\n",
      "                      'Theory',\n",
      "                      'Distributed Systems']"
     ],
     "language": "python",
     "metadata": {},
     "outputs": [],
     "prompt_number": 3
    },
    {
     "cell_type": "code",
     "collapsed": false,
     "input": [
      "inst = institution_parser.parse_institution_records(open(inst_file))\n",
      "faculty = load.load_assistant_profs(open(faculty_file), inst, ranking='pi_rescaled')\n",
      "#load.load_all_publications(faculty, dblp_dir, gs_dir)\n",
      "print 'Loaded %d faculty.' % len(faculty)"
     ],
     "language": "python",
     "metadata": {},
     "outputs": [
      {
       "output_type": "stream",
       "stream": "stdout",
       "text": [
        "Loaded 3029 faculty.\n"
       ]
      }
     ],
     "prompt_number": 4
    },
    {
     "cell_type": "heading",
     "level": 2,
     "metadata": {},
     "source": [
      "Rank Difference"
     ]
    },
    {
     "cell_type": "code",
     "collapsed": false,
     "input": [
      "''' \n",
      "    Are rank changes in general larger for men compared to women?\n",
      "    \n",
      "    Answer: No.\n",
      "'''\n",
      "\n",
      "men, women = [], []\n",
      "for f in faculty:\n",
      "    val = f.first_asst_job_rank - f.phd_rank\n",
      "    if f.is_female:\n",
      "        women.append(val)\n",
      "    else:\n",
      "        men.append(val)\n",
      "        \n",
      "stat, pval = mannwhitneyu(men, women)\n",
      "sig = pval < sig_level    \n",
      "print sig, pval\n",
      "\n",
      "print 'Men avg.   :', np.median(men)\n",
      "print 'Women avg. :', np.median(women)"
     ],
     "language": "python",
     "metadata": {},
     "outputs": [
      {
       "output_type": "stream",
       "stream": "stdout",
       "text": [
        "False 0.465320213774\n",
        "Men avg.   : -0.155447246586\n",
        "Women avg. : -0.156375144068\n"
       ]
      }
     ],
     "prompt_number": 5
    },
    {
     "cell_type": "code",
     "collapsed": false,
     "input": [
      "''' \n",
      "    After 2002, are rank changes in general larger for men compared to women?\n",
      "    \n",
      "    Answer: No.\n",
      "'''\n",
      "\n",
      "men, women = [], []\n",
      "for f in faculty:\n",
      "    if f.first_asst_job_year > split_at:\n",
      "        val = f.first_asst_job_rank - f.phd_rank\n",
      "        if f.is_female:\n",
      "            women.append(val)\n",
      "        else:\n",
      "            men.append(val)\n",
      "        \n",
      "stat, pval = mannwhitneyu(men, women)\n",
      "sig = pval < sig_level    \n",
      "print sig, pval\n",
      "\n",
      "print 'Men avg.   :', np.median(men)\n",
      "print 'Women avg. :', np.median(women)"
     ],
     "language": "python",
     "metadata": {},
     "outputs": [
      {
       "output_type": "stream",
       "stream": "stdout",
       "text": [
        "False 0.192850565982\n",
        "Men avg.   : -0.195688695278\n",
        "Women avg. : -0.167387822078\n"
       ]
      }
     ],
     "prompt_number": 53
    },
    {
     "cell_type": "code",
     "collapsed": false,
     "input": [
      "''' \n",
      "    Are rank changes in general larger for men compared to women, conditioned on moving up?\n",
      "    \n",
      "    Answer: No.\n",
      "'''\n",
      "men, women = [], []\n",
      "for f in faculty:\n",
      "    if f.first_asst_job_rank > f.phd_rank:  #MOVED UP\n",
      "        val = f.first_asst_job_rank - f.phd_rank\n",
      "        if f.is_female:\n",
      "            women.append(val)\n",
      "        else:\n",
      "            men.append(val)\n",
      "        \n",
      "stat, pval = mannwhitneyu(men, women)\n",
      "sig = pval < sig_level    \n",
      "print sig, pval\n",
      "\n",
      "print 'Men avg.   :', np.mean(men)\n",
      "print 'Women avg. :', np.mean(women)"
     ],
     "language": "python",
     "metadata": {},
     "outputs": [
      {
       "output_type": "stream",
       "stream": "stdout",
       "text": [
        "False 0.339307409686\n",
        "Men avg.   : 0.286530942919\n",
        "Women avg. : 0.277659949526\n"
       ]
      }
     ],
     "prompt_number": 6
    },
    {
     "cell_type": "code",
     "collapsed": false,
     "input": [
      "'''\n",
      "    Is the average rank change different for women pre-/post-2002?\n",
      "    \n",
      "    Answer: No.\n",
      "'''\n",
      "\n",
      "split_at = 2002\n",
      "pre, post = [], []\n",
      "\n",
      "for f in faculty:\n",
      "    if f.is_female:\n",
      "        val = f.first_asst_job_rank - f.phd_rank\n",
      "        \n",
      "        if f.first_asst_job_year <= split_at:\n",
      "            pre.append(val)\n",
      "        else:\n",
      "            post.append(val)\n",
      "        \n",
      "stat, pval = mannwhitneyu(pre, post)\n",
      "sig = pval < sig_level    \n",
      "print sig, pval\n",
      "\n",
      "print 'pre avg.   :', np.median(pre)\n",
      "print 'post avg. :', np.median(post)"
     ],
     "language": "python",
     "metadata": {},
     "outputs": [
      {
       "output_type": "stream",
       "stream": "stdout",
       "text": [
        "False 0.0803343671987\n",
        "pre avg.   : -0.133568400695\n",
        "post avg. : -0.167387822078\n"
       ]
      }
     ],
     "prompt_number": 7
    },
    {
     "cell_type": "code",
     "collapsed": false,
     "input": [
      "'''\n",
      "    Do more women move up post 2002?\n",
      "    \n",
      "    Answer: No.\n",
      "'''\n",
      "\n",
      "split_at = 2002\n",
      "counts = np.zeros((2,2), dtype=float)\n",
      "\n",
      "for f in faculty:\n",
      "    if f.is_female:\n",
      "        post = int(f.first_asst_job_year > split_at)\n",
      "        \n",
      "        if f.first_asst_job_rank < f.phd_rank:\n",
      "            movement_index = 0\n",
      "        elif f.first_asst_job_rank > f.phd_rank:\n",
      "            movement_index = 1\n",
      "        else:\n",
      "            continue # skip self-hires\n",
      "            \n",
      "        counts[post][movement_index] += 1.\n",
      "                \n",
      "print 'pre \\t', counts[0,:]\n",
      "print 'post\\t', counts[1,:]\n",
      "chi2, pval, dof, ex = chi2_contingency(counts)\n",
      "\n",
      "print '\\nchi2 pval: ', pval\n",
      "print \"pre fraction:\", (counts[0,1] / np.sum(counts[0,:]))\n",
      "print \"post fraction:\", (counts[1,1] / np.sum(counts[1,:]))"
     ],
     "language": "python",
     "metadata": {},
     "outputs": [
      {
       "output_type": "stream",
       "stream": "stdout",
       "text": [
        "pre \t[ 180.   40.]\n",
        "post\t[ 177.   44.]\n",
        "\n",
        "chi2 pval:  0.733325160323\n",
        "pre fraction: 0.181818181818\n",
        "post fraction: 0.199095022624\n"
       ]
      }
     ],
     "prompt_number": 8
    },
    {
     "cell_type": "code",
     "collapsed": false,
     "input": [
      "'''\n",
      "    Do more women move up compared to men? \n",
      "    \n",
      "    Answer: \n",
      "'''\n",
      "\n",
      "counts = np.zeros((2,2), dtype=float)\n",
      "\n",
      "for f in faculty:\n",
      "    if f.is_female:\n",
      "        gender_index = 0\n",
      "    else:\n",
      "        gender_index = 1\n",
      "\n",
      "    if f.first_asst_job_rank < f.phd_rank:\n",
      "        movement_index = 0\n",
      "    elif f.first_asst_job_rank > f.phd_rank:\n",
      "        movement_index = 1\n",
      "    else:\n",
      "        continue # skip self-hires\n",
      "\n",
      "    counts[gender_index][movement_index] += 1.\n",
      "\n",
      "print 'W \\t', counts[0,:]\n",
      "print 'M\\t', counts[1,:]\n",
      "chi2, pval, dof, ex = chi2_contingency(counts)\n",
      "\n",
      "print '\\nchi2 pval: ', pval\n",
      "print \"W fraction:\", (counts[0,1] / np.sum(counts[0,:]))\n",
      "print \"M fraction:\", (counts[1,1] / np.sum(counts[1,:]))"
     ],
     "language": "python",
     "metadata": {},
     "outputs": [
      {
       "output_type": "stream",
       "stream": "stdout",
       "text": [
        "W \t[ 357.   84.]\n",
        "M\t[ 1877.   491.]\n",
        "\n",
        "chi2 pval:  0.458097816626\n",
        "W fraction: 0.190476190476\n",
        "M fraction: 0.207347972973\n"
       ]
      }
     ],
     "prompt_number": 9
    },
    {
     "cell_type": "heading",
     "level": 2,
     "metadata": {},
     "source": [
      "Rank of Placing Institution"
     ]
    },
    {
     "cell_type": "code",
     "collapsed": false,
     "input": [
      "''' \n",
      "    Are PhD ranks significantly different between men and women?\n",
      "    \n",
      "    Answer: No.\n",
      "'''\n",
      "men, women = [], []\n",
      "for f in faculty:\n",
      "    val = f.phd_rank\n",
      "    if f.is_female:\n",
      "        women.append(val)\n",
      "    else:\n",
      "        men.append(val)\n",
      "        \n",
      "stat, pval = mannwhitneyu(men, women)\n",
      "sig = pval < sig_level    \n",
      "print sig, pval"
     ],
     "language": "python",
     "metadata": {},
     "outputs": [
      {
       "output_type": "stream",
       "stream": "stdout",
       "text": [
        "False 0.428598318569\n"
       ]
      }
     ],
     "prompt_number": 10
    },
    {
     "cell_type": "code",
     "collapsed": false,
     "input": [
      "''' \n",
      "    Are PhD ranks significantly different between men and women, conditioned on moving up?\n",
      "    \n",
      "    Answer: YES. In particular, we see more women moving up from the lowest-ranked universities. \n",
      "'''\n",
      "men, women = [], []\n",
      "for f in faculty:\n",
      "    if f.phd_rank < f.first_asst_job_rank:\n",
      "        val = f.phd_rank\n",
      "        if f.is_female:\n",
      "            women.append(val)\n",
      "        else:\n",
      "            men.append(val)\n",
      "        \n",
      "stat, pval = mannwhitneyu(men, women)\n",
      "sig = pval < sig_level    \n",
      "print sig, pval\n",
      "print 'Number of men  : ', len(men)\n",
      "print 'Number of women: ', len(women)\n",
      "print 'Men median     : ', np.median(men)\n",
      "print 'Women median   : ', np.median(women)"
     ],
     "language": "python",
     "metadata": {},
     "outputs": [
      {
       "output_type": "stream",
       "stream": "stdout",
       "text": [
        "True 0.0379449047519\n",
        "Number of men  :  491\n",
        "Number of women:  84\n",
        "Men median     :  0.440722001914\n",
        "Women median   :  0.00485436893204\n"
       ]
      }
     ],
     "prompt_number": 11
    },
    {
     "cell_type": "code",
     "collapsed": false,
     "input": [
      "bins = np.linspace(0,1,25)\n",
      "hist(men, bins=bins, normed=True, color=ALMOST_BLACK)\n",
      "hist(women, bins=bins, normed=True, alpha=0.8, color=FEMALE_COLOR)\n",
      "plt.show()"
     ],
     "language": "python",
     "metadata": {},
     "outputs": [
      {
       "metadata": {},
       "output_type": "display_data",
       "png": "[encoded data removed]",
       "text": [
        "<matplotlib.figure.Figure at 0x1088e1d10>"
       ]
      }
     ],
     "prompt_number": 12
    },
    {
     "cell_type": "code",
     "collapsed": false,
     "input": [
      "''' \n",
      "    Are PhD ranks for women different before/after 2002?\n",
      "    \n",
      "    Answer: No.\n",
      "'''\n",
      "pre, post = [], []\n",
      "split_at = 2002\n",
      "for f in faculty:\n",
      "    if f.is_female:\n",
      "        val = f.phd_rank\n",
      "        if f.first_asst_job_year <= split_at:\n",
      "            pre.append(val)\n",
      "        else:\n",
      "            post.append(val)\n",
      "        \n",
      "stat, pval = mannwhitneyu(pre, post)\n",
      "sig = pval < sig_level    \n",
      "print sig, pval\n",
      "print 'Number of pre  : ', len(pre)\n",
      "print 'Number of post : ', len(post)\n",
      "print 'pre average    : ', np.mean(pre)\n",
      "print 'post average   : ', np.mean(post)"
     ],
     "language": "python",
     "metadata": {},
     "outputs": [
      {
       "output_type": "stream",
       "stream": "stdout",
       "text": [
        "False 0.491333102534\n",
        "Number of pre  :  245\n",
        "Number of post :  240\n",
        "pre average    :  0.724045481528\n",
        "post average   :  0.706992562169\n"
       ]
      }
     ],
     "prompt_number": 13
    },
    {
     "cell_type": "heading",
     "level": 2,
     "metadata": {},
     "source": [
      "Rank of Hiring Institution"
     ]
    },
    {
     "cell_type": "code",
     "collapsed": false,
     "input": [
      "''' \n",
      "    Are job ranks different between men and women?\n",
      "    \n",
      "    Answer: No.\n",
      "'''\n",
      "men, women = [], []\n",
      "for f in faculty:\n",
      "    val = f.first_asst_job_rank\n",
      "    if f.is_female:\n",
      "        women.append(val)\n",
      "    else:\n",
      "        men.append(val)\n",
      "        \n",
      "stat, pval = mannwhitneyu(men, women)\n",
      "sig = pval < sig_level    \n",
      "print sig, pval"
     ],
     "language": "python",
     "metadata": {},
     "outputs": [
      {
       "output_type": "stream",
       "stream": "stdout",
       "text": [
        "False 0.0785791581754\n"
       ]
      }
     ],
     "prompt_number": 14
    },
    {
     "cell_type": "code",
     "collapsed": false,
     "input": [
      "''' \n",
      "    Conditioned on moving up, are job ranks different between men and women?\n",
      "    \n",
      "    Answer: YES. Job ranks are in general higher for men. This is, in part, due to the fact that we see more women coming \n",
      "            from the lowest-ranked universities and placing within the middle of the pack.\n",
      "'''\n",
      "men, women = [], []\n",
      "for f in faculty:\n",
      "    if f.phd_rank < f.first_asst_job_rank:\n",
      "        val = f.first_asst_job_rank\n",
      "        if f.is_female:\n",
      "            women.append(val)\n",
      "        else:\n",
      "            men.append(val)\n",
      "        \n",
      "stat, pval = mannwhitneyu(men, women)\n",
      "sig = pval < sig_level    \n",
      "print sig, pval\n",
      "print 'Number of men  : ', len(men)\n",
      "print 'Number of women: ', len(women)\n",
      "print 'Men median     : ', np.median(men)\n",
      "print 'Women median   : ', np.median(women)"
     ],
     "language": "python",
     "metadata": {},
     "outputs": [
      {
       "output_type": "stream",
       "stream": "stdout",
       "text": [
        "True 0.0028233459572\n",
        "Number of men  :  491\n",
        "Number of women:  84\n",
        "Men median     :  0.793713738743\n",
        "Women median   :  0.61187025063\n"
       ]
      }
     ],
     "prompt_number": 15
    },
    {
     "cell_type": "code",
     "collapsed": false,
     "input": [
      "bins = np.linspace(0,1,25)\n",
      "hist(men, bins=bins, normed=True, color=ALMOST_BLACK)\n",
      "hist(women, bins=bins, normed=True, alpha=0.8, color=FEMALE_COLOR)\n",
      "plt.show()"
     ],
     "language": "python",
     "metadata": {},
     "outputs": [
      {
       "metadata": {},
       "output_type": "display_data",
       "png": "[encoded data removed]",
       "text": [
        "<matplotlib.figure.Figure at 0x108b6a450>"
       ]
      }
     ],
     "prompt_number": 16
    },
    {
     "cell_type": "code",
     "collapsed": false,
     "input": [
      "''' \n",
      "    Are job ranks for women different before/after 2002?\n",
      "    \n",
      "    Answer: No.\n",
      "'''\n",
      "pre, post = [], []\n",
      "split_at = 2002\n",
      "for f in faculty:\n",
      "    if f.is_female:\n",
      "        val = f.first_asst_job_rank\n",
      "        if f.first_asst_job_year <= split_at:\n",
      "            pre.append(val)\n",
      "        else:\n",
      "            post.append(val)\n",
      "        \n",
      "stat, pval = mannwhitneyu(pre, post)\n",
      "sig = pval < sig_level    \n",
      "print sig, pval\n",
      "print 'Number of pre  : ', len(pre)\n",
      "print 'Number of post : ', len(post)\n",
      "print 'pre average    : ', np.mean(pre)\n",
      "print 'post average   : ', np.mean(post)"
     ],
     "language": "python",
     "metadata": {},
     "outputs": [
      {
       "output_type": "stream",
       "stream": "stdout",
       "text": [
        "False 0.163422880242\n",
        "Number of pre  :  245\n",
        "Number of post :  240\n",
        "pre average    :  0.558536876101\n",
        "post average   :  0.536190647119\n"
       ]
      }
     ],
     "prompt_number": 17
    },
    {
     "cell_type": "heading",
     "level": 2,
     "metadata": {},
     "source": [
      "Productivity"
     ]
    },
    {
     "cell_type": "code",
     "collapsed": false,
     "input": [
      "''' \n",
      "    Are productivity scores different between men and women?\n",
      "    \n",
      "    Answer: No.\n",
      "'''\n",
      "men, women = [], []\n",
      "for f in faculty:\n",
      "    val = f.dblp_z\n",
      "    if f.is_female:\n",
      "        women.append(val)\n",
      "    else:\n",
      "        men.append(val)\n",
      "        \n",
      "stat, pval = mannwhitneyu(men, women)\n",
      "sig = pval < sig_level    \n",
      "print sig, pval"
     ],
     "language": "python",
     "metadata": {},
     "outputs": [
      {
       "output_type": "stream",
       "stream": "stdout",
       "text": [
        "False 0.480805865738\n"
       ]
      }
     ],
     "prompt_number": 18
    },
    {
     "cell_type": "code",
     "collapsed": false,
     "input": [
      "''' \n",
      "    Conditioned on having a postdoc, are productivity scores different between men and women?\n",
      "    \n",
      "    Answer: No.\n",
      "'''\n",
      "men, women = [], []\n",
      "for f in faculty:\n",
      "    if f.has_postdoc:\n",
      "        val = f.dblp_z\n",
      "        if f.is_female:\n",
      "            women.append(val)\n",
      "        else:\n",
      "            men.append(val)\n",
      "        \n",
      "stat, pval = mannwhitneyu(men, women)\n",
      "sig = pval < sig_level    \n",
      "print sig, pval\n",
      "\n",
      "print np.median(men)\n",
      "print np.median(women)"
     ],
     "language": "python",
     "metadata": {},
     "outputs": [
      {
       "output_type": "stream",
       "stream": "stdout",
       "text": [
        "False 0.0706782756154\n",
        "0.1373215\n",
        "0.0211985\n"
       ]
      }
     ],
     "prompt_number": 83
    },
    {
     "cell_type": "code",
     "collapsed": false,
     "input": [
      "''' \n",
      "    Conditioned on having a postdoc, are productivity scores different between men and women post-2002?\n",
      "    \n",
      "    Answer: YES. Men with postdocs are more productive.\n",
      "'''\n",
      "men, women = [], []\n",
      "for f in faculty:\n",
      "    if f.has_postdoc and f.first_asst_job_year > split_at:\n",
      "        val = f.dblp_z\n",
      "        if f.is_female:\n",
      "            women.append(val)\n",
      "        else:\n",
      "            men.append(val)\n",
      "        \n",
      "stat, pval = mannwhitneyu(men, women)\n",
      "sig = pval < sig_level    \n",
      "print sig, pval\n",
      "\n",
      "print np.median(men)\n",
      "print np.median(women)"
     ],
     "language": "python",
     "metadata": {},
     "outputs": [
      {
       "output_type": "stream",
       "stream": "stdout",
       "text": [
        "True 0.0282148387782\n",
        "0.444867\n",
        "0.2248865\n"
       ]
      }
     ],
     "prompt_number": 82
    },
    {
     "cell_type": "code",
     "collapsed": false,
     "input": [
      "'''\n",
      "    Do men/women tend to have more positive productivity scores?\n",
      "    \n",
      "    Answer: No. \n",
      "'''\n",
      "\n",
      "counts = np.zeros((2,2), dtype=float)\n",
      "\n",
      "for f in faculty:\n",
      "    if f.is_female:\n",
      "        gender_index = 0\n",
      "    else:\n",
      "        gender_index = 1\n",
      "    val_index = int(f.dblp_z > 0.)\n",
      "\n",
      "    counts[gender_index][val_index] += 1.\n",
      "\n",
      "print 'W  \\t', counts[0,:]\n",
      "print 'M  \\t', counts[1,:]\n",
      "chi2, pval, dof, ex = chi2_contingency(counts)\n",
      "\n",
      "print '\\n', pval < sig_level\n",
      "print 'chi2 pval: ', pval\n",
      "print \"W  fraction:\", (counts[0,1] / np.sum(counts[0,:]))\n",
      "print \"M fraction:\", (counts[1,1] / np.sum(counts[1,:]))"
     ],
     "language": "python",
     "metadata": {},
     "outputs": [
      {
       "output_type": "stream",
       "stream": "stdout",
       "text": [
        "W  \t[ 302.  183.]\n",
        "M  \t[ 1615.   929.]\n",
        "\n",
        "False\n",
        "chi2 pval:  0.647528255953\n",
        "W  fraction: 0.377319587629\n",
        "M fraction: 0.365172955975\n"
       ]
      }
     ],
     "prompt_number": 81
    },
    {
     "cell_type": "code",
     "collapsed": false,
     "input": [
      "''' \n",
      "    Conditioned on moving up, are productivity scores different between men and women?\n",
      "    \n",
      "    Answer: No.\n",
      "'''\n",
      "men, women = [], []\n",
      "for f in faculty:\n",
      "    if f.first_asst_job_rank > f.phd_rank:       \n",
      "        val = f.dblp_z\n",
      "        if f.is_female:\n",
      "            women.append(val)\n",
      "        else:\n",
      "            men.append(val)\n",
      "        \n",
      "stat, pval = mannwhitneyu(men, women)\n",
      "sig = pval < sig_level    \n",
      "print sig, pval"
     ],
     "language": "python",
     "metadata": {},
     "outputs": [
      {
       "output_type": "stream",
       "stream": "stdout",
       "text": [
        "False 0.324858477453\n"
       ]
      }
     ],
     "prompt_number": 19
    },
    {
     "cell_type": "code",
     "collapsed": false,
     "input": [
      "''' \n",
      "    Men without postdoc experience vs. women with postdoc experience\n",
      "    \n",
      "    Answer: YES. Postdocing is still an advantage\n",
      "'''\n",
      "men, women = [], []\n",
      "for f in faculty:\n",
      "    val = f.dblp_z\n",
      "    if f.is_female and f.has_postdoc:\n",
      "        women.append(val)\n",
      "    elif not f.is_female and not f.has_postdoc:\n",
      "        men.append(val)\n",
      "        \n",
      "stat, pval = mannwhitneyu(men, women)\n",
      "sig = pval < sig_level    \n",
      "print sig, pval\n",
      "\n",
      "print np.median(men)\n",
      "print np.median(women)"
     ],
     "language": "python",
     "metadata": {},
     "outputs": [
      {
       "output_type": "stream",
       "stream": "stdout",
       "text": [
        "True 2.65069260866e-06\n",
        "-0.4029665\n",
        "0.0211985\n"
       ]
      }
     ],
     "prompt_number": 75
    },
    {
     "cell_type": "code",
     "collapsed": false,
     "input": [
      "''' \n",
      "    Are productivity scores different for people moving up/down?\n",
      "    \n",
      "    Answer: YES. Productivity scores are higher for people who moved up the ranks.\n",
      "'''\n",
      "up, down = [], []\n",
      "for f in faculty:\n",
      "    val = f.dblp_z\n",
      "    if f.phd_rank < f.first_asst_job_rank:\n",
      "        up.append(val)\n",
      "    elif f.phd_rank > f.first_asst_job_rank:\n",
      "        down.append(val)\n",
      "        \n",
      "stat, pval = mannwhitneyu(up, down)\n",
      "sig = pval < sig_level    \n",
      "print sig, pval\n",
      "\n",
      "print np.median(up)\n",
      "print np.median(down)"
     ],
     "language": "python",
     "metadata": {},
     "outputs": [
      {
       "output_type": "stream",
       "stream": "stdout",
       "text": [
        "True 0.00135493936448\n",
        "-0.184929\n",
        "-0.307449\n"
       ]
      }
     ],
     "prompt_number": 20
    },
    {
     "cell_type": "code",
     "collapsed": false,
     "input": [
      "''' \n",
      "    Are productivity scores different for people with postdoc experience?\n",
      "    \n",
      "    Answer: YES. Productivity scores are much higher for people with postdocs.\n",
      "'''\n",
      "yes, no = [], []\n",
      "for f in faculty:\n",
      "    val = f.dblp_z\n",
      "    if f.has_postdoc:\n",
      "        yes.append(val)\n",
      "    else:\n",
      "        no.append(val)\n",
      "        \n",
      "stat, pval = mannwhitneyu(yes, no)\n",
      "sig = pval < sig_level    \n",
      "print sig, pval\n",
      "\n",
      "print np.median(yes)\n",
      "print np.median(no)"
     ],
     "language": "python",
     "metadata": {},
     "outputs": [
      {
       "output_type": "stream",
       "stream": "stdout",
       "text": [
        "True 7.99659597061e-35\n",
        "0.125142\n",
        "-0.39728\n"
       ]
      }
     ],
     "prompt_number": 21
    },
    {
     "cell_type": "code",
     "collapsed": false,
     "input": [
      "''' \n",
      "    Are productivity scores different for men/women with postdoc experience post-2002?\n",
      "    \n",
      "    Answer: YES. Productivity scores are much higher for men. \n",
      "'''\n",
      "women, men = [], []\n",
      "for f in faculty:\n",
      "    if f.first_asst_job_year > split_at and f.has_postdoc:\n",
      "        val = f.dblp_z\n",
      "        if f.is_female:\n",
      "            women.append(val)\n",
      "        else:\n",
      "            men.append(val)\n",
      "        \n",
      "stat, pval = mannwhitneyu(women, men)\n",
      "sig = pval < sig_level    \n",
      "print sig, pval\n",
      "\n",
      "print 'MEDIAN W', np.median(women)\n",
      "print 'MEDIAN M', np.median(men)\n",
      "\n",
      "bins = np.linspace(-3,12,50)\n",
      "hist(men, bins=bins, normed=True, color=ALMOST_BLACK)\n",
      "hist(women, bins=bins, normed=True, alpha=0.8, color=FEMALE_COLOR)\n",
      "plt.show()"
     ],
     "language": "python",
     "metadata": {},
     "outputs": [
      {
       "output_type": "stream",
       "stream": "stdout",
       "text": [
        "True 0.0282148387782\n",
        "MEDIAN W 0.2248865\n",
        "MEDIAN M 0.444867\n"
       ]
      },
      {
       "metadata": {},
       "output_type": "display_data",
       "png": "[encoded data removed]",
       "text": [
        "<matplotlib.figure.Figure at 0x108e79190>"
       ]
      }
     ],
     "prompt_number": 22
    },
    {
     "cell_type": "code",
     "collapsed": false,
     "input": [
      "''' \n",
      "    Are productivity scores different for men/women WITHOUT postdoc experience post-2002?\n",
      "    \n",
      "    Answer: YES. Productivity scores are much higher for men. \n",
      "'''\n",
      "women, men = [], []\n",
      "for f in faculty:\n",
      "    if f.first_asst_job_year > split_at and not f.has_postdoc:\n",
      "        val = f.dblp_z\n",
      "        if f.is_female:\n",
      "            women.append(val)\n",
      "        else:\n",
      "            men.append(val)\n",
      "        \n",
      "stat, pval = mannwhitneyu(women, men)\n",
      "sig = pval < sig_level    \n",
      "print sig, pval\n",
      "\n",
      "print 'MEDIAN W', np.median(women)\n",
      "print 'MEDIAN M', np.median(men)\n",
      "\n",
      "bins = np.linspace(-3,12,50)\n",
      "hist(men, bins=bins, normed=True, color=ALMOST_BLACK)\n",
      "hist(women, bins=bins, normed=True, alpha=0.8, color=FEMALE_COLOR)\n",
      "plt.show()"
     ],
     "language": "python",
     "metadata": {},
     "outputs": [
      {
       "output_type": "stream",
       "stream": "stdout",
       "text": [
        "True 0.000819270145659\n",
        "MEDIAN W 0.018497\n",
        "MEDIAN M 0.2217805\n"
       ]
      },
      {
       "metadata": {},
       "output_type": "display_data",
       "png": "[encoded data removed]",
       "text": [
        "<matplotlib.figure.Figure at 0x108baf0d0>"
       ]
      }
     ],
     "prompt_number": 84
    },
    {
     "cell_type": "code",
     "collapsed": false,
     "input": [
      "''' \n",
      "    Are productivity scores different for men/women WITHOUT postdoc experience?\n",
      "    \n",
      "    Answer: YES. Productivity scores are much higher for men. \n",
      "'''\n",
      "women, men = [], []\n",
      "for f in faculty:\n",
      "    if not f.has_postdoc:\n",
      "        val = f.dblp_z\n",
      "        if f.is_female:\n",
      "            women.append(val)\n",
      "        else:\n",
      "            men.append(val)\n",
      "        \n",
      "stat, pval = mannwhitneyu(women, men)\n",
      "sig = pval < sig_level    \n",
      "print sig, pval\n",
      "\n",
      "print 'MEDIAN W', np.median(women)\n",
      "print 'MEDIAN M', np.median(men)\n",
      "\n",
      "bins = np.linspace(-3,12,50)\n",
      "hist(men, bins=bins, normed=True, color=ALMOST_BLACK)\n",
      "hist(women, bins=bins, normed=True, alpha=0.8, color=FEMALE_COLOR)\n",
      "plt.show()"
     ],
     "language": "python",
     "metadata": {},
     "outputs": [
      {
       "output_type": "stream",
       "stream": "stdout",
       "text": [
        "False 0.401079392519\n",
        "MEDIAN W -0.366369\n",
        "MEDIAN M -0.4029665\n"
       ]
      },
      {
       "metadata": {},
       "output_type": "display_data",
       "png": "[encoded data removed]",
       "text": [
        "<matplotlib.figure.Figure at 0x108bd0e10>"
       ]
      }
     ],
     "prompt_number": 85
    },
    {
     "cell_type": "code",
     "collapsed": false,
     "input": [
      "''' \n",
      "    Are productivity scores different for women pre-/post-2002?\n",
      "    \n",
      "    Answer: YES. Productivity scores are much higher post-2002.\n",
      "'''\n",
      "pre, post = [], []\n",
      "for f in faculty:\n",
      "    if f.is_female:\n",
      "        val = f.dblp_z\n",
      "        if f.first_asst_job_year <= split_at:\n",
      "            pre.append(val)\n",
      "        else:\n",
      "            post.append(val)\n",
      "        \n",
      "stat, pval = mannwhitneyu(pre, post)\n",
      "sig = pval < sig_level    \n",
      "print sig, pval\n",
      "\n",
      "print np.median(pre)\n",
      "print np.median(post)"
     ],
     "language": "python",
     "metadata": {},
     "outputs": [
      {
       "output_type": "stream",
       "stream": "stdout",
       "text": [
        "True 7.04735912249e-15\n",
        "-0.518207\n",
        "0.091328\n"
       ]
      }
     ],
     "prompt_number": 23
    },
    {
     "cell_type": "code",
     "collapsed": false,
     "input": [
      "bins = np.linspace(-3,12,50)\n",
      "hist(pre, bins=bins, normed=True, color=ALMOST_BLACK)\n",
      "hist(post, bins=bins, normed=True, alpha=0.8, color=LIGHT_COLOR)\n",
      "plt.show()"
     ],
     "language": "python",
     "metadata": {},
     "outputs": [
      {
       "metadata": {},
       "output_type": "display_data",
       "png": "[encoded data removed]",
       "text": [
        "<matplotlib.figure.Figure at 0x108bbb250>"
       ]
      }
     ],
     "prompt_number": 24
    },
    {
     "cell_type": "code",
     "collapsed": false,
     "input": [
      "''' \n",
      "    Regardless of gender, are productivity scores different pre-/post-2002?\n",
      "    \n",
      "    Answer: YES. Productivity scores are much higher post-2002. This is to be expected, as older papers\n",
      "            are likely harder to track down online!\n",
      "'''\n",
      "pre, post = [], []\n",
      "for f in faculty:\n",
      "    val = f.dblp_z\n",
      "    if f.first_asst_job_year <= split_at:\n",
      "        pre.append(val)\n",
      "    else:\n",
      "        post.append(val)\n",
      "        \n",
      "stat, pval = mannwhitneyu(pre, post)\n",
      "sig = pval < sig_level    \n",
      "print sig, pval\n",
      "\n",
      "print np.median(pre)\n",
      "print np.median(post)"
     ],
     "language": "python",
     "metadata": {},
     "outputs": [
      {
       "output_type": "stream",
       "stream": "stdout",
       "text": [
        "True 2.02183385491e-109\n",
        "-0.5177585\n",
        "0.23189\n"
       ]
      }
     ],
     "prompt_number": 25
    },
    {
     "cell_type": "code",
     "collapsed": false,
     "input": [
      "bins = np.linspace(-3,12,50)\n",
      "hist(pre, bins=bins, normed=True, color=ALMOST_BLACK)\n",
      "hist(post, bins=bins, normed=True, alpha=0.8, color=LIGHT_COLOR)\n",
      "plt.show()"
     ],
     "language": "python",
     "metadata": {},
     "outputs": [
      {
       "metadata": {},
       "output_type": "display_data",
       "png": "[encoded data removed]",
       "text": [
        "<matplotlib.figure.Figure at 0x108b1e410>"
       ]
      }
     ],
     "prompt_number": 26
    },
    {
     "cell_type": "code",
     "collapsed": false,
     "input": [
      "''' \n",
      "    Are productivity scores different for men and women pre-2002?\n",
      "    \n",
      "    Answer: No.\n",
      "'''\n",
      "men, women = [], []\n",
      "for f in faculty:\n",
      "    if f.first_asst_job_year <= split_at:\n",
      "        val = f.dblp_z\n",
      "        if f.is_female:\n",
      "            women.append(val)\n",
      "        else:\n",
      "            men.append(val)\n",
      "        \n",
      "stat, pval = mannwhitneyu(men, women)\n",
      "sig = pval < sig_level    \n",
      "print sig, pval\n",
      "\n",
      "print np.median(men)\n",
      "print np.median(women)"
     ],
     "language": "python",
     "metadata": {},
     "outputs": [
      {
       "output_type": "stream",
       "stream": "stdout",
       "text": [
        "False 0.219534915609\n",
        "-0.517272\n",
        "-0.518207\n"
       ]
      }
     ],
     "prompt_number": 27
    },
    {
     "cell_type": "code",
     "collapsed": false,
     "input": [
      "bins = np.linspace(-3,12,50)\n",
      "hist(men, bins=bins, normed=True, color=ALMOST_BLACK)\n",
      "hist(women, bins=bins, normed=True, alpha=0.8, color=FEMALE_COLOR)\n",
      "plt.show()"
     ],
     "language": "python",
     "metadata": {},
     "outputs": [
      {
       "metadata": {},
       "output_type": "display_data",
       "png": "[encoded data removed]",
       "text": [
        "<matplotlib.figure.Figure at 0x108fa5510>"
       ]
      }
     ],
     "prompt_number": 28
    },
    {
     "cell_type": "code",
     "collapsed": false,
     "input": [
      "''' \n",
      "    Are productivity scores different for men and women post-2002?\n",
      "    \n",
      "    Answer: YES.\n",
      "'''\n",
      "men, women = [], []\n",
      "for f in faculty:\n",
      "    if f.first_asst_job_year > split_at:\n",
      "        val = f.dblp_z\n",
      "        if f.is_female:\n",
      "            women.append(val)\n",
      "        else:\n",
      "            men.append(val)\n",
      "        \n",
      "stat, pval = mannwhitneyu(men, women)\n",
      "sig = pval < sig_level    \n",
      "print sig, pval\n",
      "\n",
      "print np.median(men)\n",
      "print np.median(women)"
     ],
     "language": "python",
     "metadata": {},
     "outputs": [
      {
       "output_type": "stream",
       "stream": "stdout",
       "text": [
        "True 0.000232120389331\n",
        "0.283316\n",
        "0.091328\n"
       ]
      }
     ],
     "prompt_number": 29
    },
    {
     "cell_type": "code",
     "collapsed": false,
     "input": [
      "bins = np.linspace(-3,12,50)\n",
      "hist(men, bins=bins, normed=True, color=ALMOST_BLACK)\n",
      "hist(women, bins=bins, normed=True, alpha=0.8, color=FEMALE_COLOR)\n",
      "plt.show()"
     ],
     "language": "python",
     "metadata": {},
     "outputs": [
      {
       "metadata": {},
       "output_type": "display_data",
       "png": "[encoded data removed]",
       "text": [
        "<matplotlib.figure.Figure at 0x108fd93d0>"
       ]
      }
     ],
     "prompt_number": 30
    },
    {
     "cell_type": "code",
     "collapsed": false,
     "input": [
      "S = []\n",
      "yes = 0\n",
      "no = 0\n",
      "for f in faculty:\n",
      "    if f.dblp_z > 3:\n",
      "        if f.first_asst_job_year > split_at:\n",
      "            yes += 1\n",
      "        else:\n",
      "            no += 1\n",
      "        S.append((f.dblp_z, f.facultyName, f.is_female, f.first_asst_job_year>split_at))\n",
      "\n",
      "'''\n",
      "print yes, no        \n",
      "        \n",
      "S.sort(reverse=True)\n",
      "for s in S:\n",
      "    print s\n",
      "'''\n",
      "pass"
     ],
     "language": "python",
     "metadata": {},
     "outputs": [],
     "prompt_number": 31
    },
    {
     "cell_type": "heading",
     "level": 2,
     "metadata": {},
     "source": [
      "Has Postdoc Experience"
     ]
    },
    {
     "cell_type": "code",
     "collapsed": false,
     "input": [
      "''' \n",
      "    Conditioned on having a postdoc, are women more likely than men to move up the ranks?\n",
      "    \n",
      "    Answer: No. \n",
      "'''\n",
      "\n",
      "counts = np.zeros((2,2), dtype=float)\n",
      "\n",
      "for f in faculty:\n",
      "    if f.has_postdoc:\n",
      "        if f.is_female:\n",
      "            gender_index = 0\n",
      "        else:\n",
      "            gender_index = 1\n",
      "\n",
      "        if f.first_asst_job_rank < f.phd_rank:\n",
      "            movement_index = 0\n",
      "        elif f.first_asst_job_rank > f.phd_rank:\n",
      "            movement_index = 1\n",
      "        else:\n",
      "            continue # skip self-hires\n",
      "            \n",
      "        counts[gender_index][movement_index] += 1.\n",
      "\n",
      "print 'W\\t', counts[0,:]\n",
      "print 'M\\t', counts[1,:]\n",
      "chi2, pval, dof, ex = chi2_contingency(counts)\n",
      "\n",
      "print '\\n', pval < sig_level\n",
      "print 'chi2 pval: ', pval\n",
      "print \"Women fraction:\", (counts[0,1] / np.sum(counts[0,:]))\n",
      "print \"Men fraction:\", (counts[1,1] / np.sum(counts[1,:]))"
     ],
     "language": "python",
     "metadata": {},
     "outputs": [
      {
       "output_type": "stream",
       "stream": "stdout",
       "text": [
        "W\t[ 83.  37.]\n",
        "M\t[ 358.  137.]\n",
        "\n",
        "False\n",
        "chi2 pval:  0.564762647237\n",
        "Women fraction: 0.308333333333\n",
        "Men fraction: 0.276767676768\n"
       ]
      }
     ],
     "prompt_number": 32
    },
    {
     "cell_type": "code",
     "collapsed": false,
     "input": [
      "''' \n",
      "    Are women more likely than men to have postdoc experience?\n",
      "    \n",
      "    Answer: YES. Significantly more women have postdocs. 27.1% versus 20.7%.\n",
      "'''\n",
      "\n",
      "counts = np.zeros((2,2), dtype=float)\n",
      "\n",
      "for f in faculty:\n",
      "    if f.is_female:\n",
      "        gender_index = 0\n",
      "    else:\n",
      "        gender_index = 1\n",
      "\n",
      "    val_index = int(f.has_postdoc)\n",
      "    counts[gender_index][val_index] += 1.\n",
      "        \n",
      "print 'W\\t', counts[0,:]\n",
      "print 'M\\t', counts[1,:]\n",
      "chi2, pval, dof, ex = chi2_contingency(counts)\n",
      "print '\\n', pval < sig_level\n",
      "print 'chi2 pval: ', pval\n",
      "print \"Women fraction:\", (counts[0,1] / np.sum(counts[0,:]))\n",
      "print \"Men fraction:\", (counts[1,1] / np.sum(counts[1,:]))"
     ],
     "language": "python",
     "metadata": {},
     "outputs": [
      {
       "output_type": "stream",
       "stream": "stdout",
       "text": [
        "W\t[ 353.  132.]\n",
        "M\t[ 2014.   530.]\n",
        "\n",
        "True\n",
        "chi2 pval:  0.00223256825246\n",
        "Women fraction: 0.272164948454\n",
        "Men fraction: 0.208333333333\n"
       ]
      }
     ],
     "prompt_number": 33
    },
    {
     "cell_type": "code",
     "collapsed": false,
     "input": [
      "''' \n",
      "    Are rank changes different for people with postdocs?\n",
      "    \n",
      "    Answer: YES. People with postdocs tend to jump higher/move less far down in the rankings. \n",
      "'''\n",
      "\n",
      "yes = []\n",
      "no = []\n",
      "\n",
      "for f in faculty:\n",
      "    val = f.first_asst_job_rank - f.phd_rank\n",
      "    if f.has_postdoc:\n",
      "        yes.append(val)\n",
      "    else:\n",
      "        no.append(val)\n",
      "    \n",
      "stat, pval = mannwhitneyu(yes, no)\n",
      "sig = pval < sig_level    \n",
      "print sig, pval\n",
      "\n",
      "print 'yes median   :', np.median(yes)\n",
      "print 'no  median   :', np.median(no)"
     ],
     "language": "python",
     "metadata": {},
     "outputs": [
      {
       "output_type": "stream",
       "stream": "stdout",
       "text": [
        "True 7.49211044978e-08\n",
        "yes median   : -0.103875681272\n",
        "no  median   : -0.168584321463\n"
       ]
      }
     ],
     "prompt_number": 34
    },
    {
     "cell_type": "code",
     "collapsed": false,
     "input": [
      "''' \n",
      "    Do people with postdocs tend to move up more than people without?\n",
      "    \n",
      "    Answer: YES. People with postdocs move up much more often: 28.2% moving up vs. 18.5% moving up.\n",
      "'''\n",
      "counts = np.zeros((2,2), dtype=float)\n",
      "\n",
      "for f in faculty:\n",
      "    if f.has_postdoc:\n",
      "        val_index = 1\n",
      "    else:\n",
      "        val_index = 0\n",
      "\n",
      "    if f.first_asst_job_rank < f.phd_rank:\n",
      "        movement_index = 0\n",
      "    elif f.first_asst_job_rank > f.phd_rank:\n",
      "        movement_index = 1\n",
      "    else:\n",
      "        continue # skip self-hires\n",
      "            \n",
      "    counts[val_index][movement_index] += 1.\n",
      "\n",
      "print 'N\\t', counts[0,:]\n",
      "print 'Y\\t', counts[1,:]\n",
      "chi2, pval, dof, ex = chi2_contingency(counts)\n",
      "print '\\n', pval < sig_level\n",
      "print 'chi2 pval: ', pval\n",
      "print \"N fraction:\", (counts[0,1] / np.sum(counts[0,:]))\n",
      "print \"Y fraction:\", (counts[1,1] / np.sum(counts[1,:]))"
     ],
     "language": "python",
     "metadata": {},
     "outputs": [
      {
       "output_type": "stream",
       "stream": "stdout",
       "text": [
        "N\t[ 1793.   401.]\n",
        "Y\t[ 441.  174.]\n",
        "\n",
        "True\n",
        "chi2 pval:  7.29017584132e-08\n",
        "N fraction: 0.182771194166\n",
        "Y fraction: 0.282926829268\n"
       ]
      }
     ],
     "prompt_number": 35
    },
    {
     "cell_type": "code",
     "collapsed": false,
     "input": [
      "'''\n",
      "    Do women postdoc more after/before 2002?\n",
      "    \n",
      "    Answer: YES. Far more women are doing postdocs post-2002. 35.8% vs. 18.7% (!)\n",
      "'''\n",
      "\n",
      "counts = np.zeros((2,2), dtype=float)\n",
      "\n",
      "for f in faculty:\n",
      "    if f.is_female:\n",
      "        val_index = int(f.has_postdoc)\n",
      "\n",
      "        if f.first_asst_job_year <= split_at:\n",
      "            prepost = 0\n",
      "        else:\n",
      "            prepost = 1\n",
      "\n",
      "        counts[prepost][val_index] += 1.\n",
      "\n",
      "print 'PRE  \\t', counts[0,:]\n",
      "print 'POST \\t', counts[1,:]\n",
      "chi2, pval, dof, ex = chi2_contingency(counts)\n",
      "\n",
      "print '\\n', pval < sig_level\n",
      "print 'chi2 pval: ', pval\n",
      "print \"PRE  fraction:\", (counts[0,1] / np.sum(counts[0,:]))\n",
      "print \"POST fraction:\", (counts[1,1] / np.sum(counts[1,:]))"
     ],
     "language": "python",
     "metadata": {},
     "outputs": [
      {
       "output_type": "stream",
       "stream": "stdout",
       "text": [
        "PRE  \t[ 199.   46.]\n",
        "POST \t[ 154.   86.]\n",
        "\n",
        "True\n",
        "chi2 pval:  3.82279712543e-05\n",
        "PRE  fraction: 0.187755102041\n",
        "POST fraction: 0.358333333333\n"
       ]
      }
     ],
     "prompt_number": 36
    },
    {
     "cell_type": "code",
     "collapsed": false,
     "input": [
      "''' \n",
      "    For people with postdocs, do men/women postdoc longer?\n",
      "    \n",
      "    Answer: \n",
      "'''\n",
      "men, women = [], []\n",
      "for f in faculty:\n",
      "    if f.has_postdoc and f.phd_year is not None:\n",
      "        if f.is_female:\n",
      "            women.append(f.first_asst_job_year - f.phd_year)\n",
      "        else:\n",
      "            men.append(f.first_asst_job_year - f.phd_year)\n",
      "        \n",
      "stat, pval = mannwhitneyu(men, women)\n",
      "sig = pval < sig_level    \n",
      "print sig, pval\n",
      "\n",
      "print np.median(men)\n",
      "print np.median(women)"
     ],
     "language": "python",
     "metadata": {},
     "outputs": [
      {
       "output_type": "stream",
       "stream": "stdout",
       "text": [
        "False 0.495620926752\n",
        "2.0\n",
        "2.0\n"
       ]
      }
     ],
     "prompt_number": 41
    },
    {
     "cell_type": "heading",
     "level": 2,
     "metadata": {},
     "source": [
      "Geography"
     ]
    },
    {
     "cell_type": "code",
     "collapsed": false,
     "input": [
      "'''\n",
      "    For people who stayed in the same region, are gender and movement up/down linked?\n",
      "    \n",
      "    Answer: No.\n",
      "'''\n",
      "\n",
      "counts = np.zeros((2,2), dtype=float)\n",
      "\n",
      "for f in faculty:\n",
      "    if f.first_asst_job_region == f.phd_region:\n",
      "        if f.is_female:\n",
      "            gender_index = 0\n",
      "        else:\n",
      "            gender_index = 1\n",
      "\n",
      "        if f.first_asst_job_rank < f.phd_rank:\n",
      "            movement_index = 0\n",
      "        elif f.first_asst_job_rank > f.phd_rank:\n",
      "            movement_index = 1\n",
      "        else:\n",
      "            continue # skip self-hires\n",
      "            \n",
      "        counts[gender_index][movement_index] += 1.\n",
      "\n",
      "print 'W\\t', counts[0,:]\n",
      "print 'M\\t', counts[1,:]\n",
      "chi2, pval, dof, ex = chi2_contingency(counts)\n",
      "print '\\n', pval < sig_level\n",
      "print 'chi2 pval: ', pval\n",
      "print \"Women fraction:\", (counts[0,1] / np.sum(counts[0,:]))\n",
      "print \"Men fraction:\", (counts[1,1] / np.sum(counts[1,:]))"
     ],
     "language": "python",
     "metadata": {},
     "outputs": []
    },
    {
     "cell_type": "code",
     "collapsed": false,
     "input": [
      "'''\n",
      "    Do women stay in the same spot more often than men?\n",
      "    \n",
      "    Answer: No.\n",
      "'''\n",
      "\n",
      "counts = np.zeros((2,2), dtype=float)\n",
      "\n",
      "for f in faculty:\n",
      "    if f.is_female:\n",
      "        gender_index = 0\n",
      "    else:\n",
      "        gender_index = 1\n",
      "\n",
      "    val_index = int(f.phd_region == f.first_asst_job_region)\n",
      "    counts[gender_index][val_index] += 1.\n",
      "        \n",
      "print 'W\\t', counts[0,:]\n",
      "print 'M\\t', counts[1,:]\n",
      "chi2, pval, dof, ex = chi2_contingency(counts)\n",
      "\n",
      "print '\\n', pval < sig_level\n",
      "print 'chi2 pval: ', pval\n",
      "print \"Women fraction:\", (counts[0,1] / np.sum(counts[0,:]))\n",
      "print \"Men fraction:\", (counts[1,1] / np.sum(counts[1,:]))"
     ],
     "language": "python",
     "metadata": {},
     "outputs": [
      {
       "output_type": "stream",
       "stream": "stdout",
       "text": [
        "W\t[ 292.  193.]\n",
        "M\t[ 1612.   932.]\n",
        "\n",
        "False\n",
        "chi2 pval:  0.204766655659\n",
        "Women fraction: 0.39793814433\n",
        "Men fraction: 0.366352201258\n"
       ]
      }
     ],
     "prompt_number": 42
    },
    {
     "cell_type": "code",
     "collapsed": false,
     "input": [
      "'''\n",
      "    Do people who stay in the same spot tend to move up/down more than we'd expect?\n",
      "    \n",
      "    Answer: YES. People who moved around the country tended to move up the ranks more often than people who\n",
      "            stayed in the same region.\n",
      "'''\n",
      "\n",
      "counts = np.zeros((2,2), dtype=float)\n",
      "\n",
      "for f in faculty:\n",
      "    val_index = int(f.first_asst_job_region == f.phd_region)\n",
      "\n",
      "    if f.first_asst_job_rank < f.phd_rank:\n",
      "        movement_index = 0\n",
      "    elif f.first_asst_job_rank > f.phd_rank:\n",
      "        movement_index = 1\n",
      "    else:\n",
      "        continue # skip self-hires\n",
      "\n",
      "    counts[val_index][movement_index] += 1.\n",
      "\n",
      "print 'N\\t', counts[0,:]\n",
      "print 'Y\\t', counts[1,:]\n",
      "chi2, pval, dof, ex = chi2_contingency(counts)\n",
      "\n",
      "print '\\n', pval < sig_level\n",
      "print 'chi2 pval: ', pval\n",
      "print \"N fraction:\", (counts[0,1] / np.sum(counts[0,:]))\n",
      "print \"Y fraction:\", (counts[1,1] / np.sum(counts[1,:]))"
     ],
     "language": "python",
     "metadata": {},
     "outputs": []
    },
    {
     "cell_type": "code",
     "collapsed": false,
     "input": [
      "'''\n",
      "    Conditioned on moving up, do women move more or less frequently than men? \n",
      "    \n",
      "    Answer: No.\n",
      "'''\n",
      "counts = np.zeros((2,2), dtype=float)\n",
      "\n",
      "for f in faculty:\n",
      "    if f.first_asst_job_rank > f.phd_rank:\n",
      "        gender_index = int(not f.is_female)\n",
      "        val_index = int(f.first_asst_job_region != f.phd_region)\n",
      "        counts[gender_index][val_index] += 1.\n",
      "\n",
      "print 'W\\t', counts[0,:]\n",
      "print 'M\\t', counts[1,:]\n",
      "chi2, pval, dof, ex = chi2_contingency(counts)\n",
      "\n",
      "print '\\n', pval < sig_level\n",
      "print 'chi2 pval: ', pval\n",
      "print \"Women fraction:\", (counts[0,1] / np.sum(counts[0,:]))\n",
      "print \"Men fraction:\", (counts[1,1] / np.sum(counts[1,:]))"
     ],
     "language": "python",
     "metadata": {},
     "outputs": []
    },
    {
     "cell_type": "code",
     "collapsed": false,
     "input": [
      "'''\n",
      "    Do people stay in the same spot more after/before 2002?\n",
      "    \n",
      "    Answer: YES. People are moving more post-2002.\n",
      "'''\n",
      "\n",
      "counts = np.zeros((2,2), dtype=float)\n",
      "\n",
      "for f in faculty:\n",
      "    val_index = int(f.first_asst_job_region == f.phd_region)\n",
      "\n",
      "    if f.first_asst_job_year <= split_at:\n",
      "        prepost = 0\n",
      "    else:\n",
      "        prepost = 1\n",
      "    \n",
      "    counts[prepost][val_index] += 1.\n",
      "\n",
      "print 'PRE  \\t', counts[0,:]\n",
      "print 'POST \\t', counts[1,:]\n",
      "chi2, pval, dof, ex = chi2_contingency(counts)\n",
      "\n",
      "print '\\n', pval < sig_level\n",
      "print 'chi2 pval: ', pval\n",
      "print \"PRE  fraction:\", (counts[0,1] / np.sum(counts[0,:]))\n",
      "print \"POST fraction:\", (counts[1,1] / np.sum(counts[1,:]))"
     ],
     "language": "python",
     "metadata": {},
     "outputs": []
    },
    {
     "cell_type": "code",
     "collapsed": false,
     "input": [
      "'''\n",
      "    Do women stay in the same spot more after/before 2002?\n",
      "    \n",
      "    Answer: No. They don't. \n",
      "'''\n",
      "\n",
      "counts = np.zeros((2,2), dtype=float)\n",
      "\n",
      "for f in faculty:\n",
      "    if f.is_female:\n",
      "        val_index = int(f.first_asst_job_region == f.phd_region)\n",
      "\n",
      "        if f.first_asst_job_year <= split_at:\n",
      "            prepost = 0\n",
      "        else:\n",
      "            prepost = 1\n",
      "\n",
      "        counts[prepost][val_index] += 1.\n",
      "\n",
      "print 'PRE  \\t', counts[0,:]\n",
      "print 'POST \\t', counts[1,:]\n",
      "chi2, pval, dof, ex = chi2_contingency(counts)\n",
      "\n",
      "print '\\n', pval < sig_level\n",
      "print 'chi2 pval: ', pval\n",
      "print \"PRE  fraction:\", (counts[0,1] / np.sum(counts[0,:]))\n",
      "print \"POST fraction:\", (counts[1,1] / np.sum(counts[1,:]))"
     ],
     "language": "python",
     "metadata": {},
     "outputs": [
      {
       "output_type": "stream",
       "stream": "stdout",
       "text": [
        "PRE  \t[ 145.  100.]\n",
        "POST \t[ 147.   93.]\n",
        "\n",
        "False\n",
        "chi2 pval:  0.709855350046\n",
        "PRE  fraction: 0.408163265306\n",
        "POST fraction: 0.3875\n"
       ]
      }
     ],
     "prompt_number": 62
    },
    {
     "cell_type": "code",
     "collapsed": false,
     "input": [
      "'''\n",
      "    Prior to 2002, do men/women move around more?\n",
      "    \n",
      "    Answer: No.\n",
      "'''\n",
      "\n",
      "counts = np.zeros((2,2), dtype=float)\n",
      "\n",
      "for f in faculty:\n",
      "    if f.first_asst_job_year <= split_at:\n",
      "        \n",
      "        if f.is_female:\n",
      "            gender_index = 0\n",
      "        else:\n",
      "            gender_index = 1\n",
      "            \n",
      "        val_index = int(f.first_asst_job_region != f.phd_region)\n",
      "\n",
      "\n",
      "        counts[gender_index][val_index] += 1.\n",
      "\n",
      "print 'F  \\t', counts[0,:]\n",
      "print 'M \\t', counts[1,:]\n",
      "chi2, pval, dof, ex = chi2_contingency(counts)\n",
      "\n",
      "print '\\n', pval < sig_level\n",
      "print 'chi2 pval: ', pval\n",
      "print \"F  fraction:\", (counts[0,1] / np.sum(counts[0,:]))\n",
      "print \"M fraction:\", (counts[1,1] / np.sum(counts[1,:]))"
     ],
     "language": "python",
     "metadata": {},
     "outputs": []
    },
    {
     "cell_type": "code",
     "collapsed": false,
     "input": [
      "1041 / (1041. + 680)"
     ],
     "language": "python",
     "metadata": {},
     "outputs": []
    },
    {
     "cell_type": "code",
     "collapsed": false,
     "input": [
      "'''\n",
      "    After 2002, do men/women move around more?\n",
      "    \n",
      "    Answer: YES. The men do.\n",
      "'''\n",
      "\n",
      "counts = np.zeros((2,2), dtype=float)\n",
      "\n",
      "for f in faculty:\n",
      "    if f.first_asst_job_year > split_at:\n",
      "        \n",
      "        if f.is_female:\n",
      "            gender_index = 0\n",
      "        else:\n",
      "            gender_index = 1\n",
      "            \n",
      "        val_index = int(f.first_asst_job_region != f.phd_region)\n",
      "\n",
      "\n",
      "        counts[gender_index][val_index] += 1.\n",
      "\n",
      "print 'F  \\t', counts[0,:]\n",
      "print 'M \\t', counts[1,:]\n",
      "chi2, pval, dof, ex = chi2_contingency(counts)\n",
      "\n",
      "print '\\n', pval < sig_level\n",
      "print 'chi2 pval: ', pval\n",
      "print \"F  fraction:\", (counts[0,1] / np.sum(counts[0,:]))\n",
      "print \"M fraction:\", (counts[1,1] / np.sum(counts[1,:]))"
     ],
     "language": "python",
     "metadata": {},
     "outputs": [
      {
       "output_type": "stream",
       "stream": "stdout",
       "text": [
        "F  \t[  93.  147.]\n",
        "M \t[ 252.  577.]\n",
        "\n",
        "True\n",
        "chi2 pval:  0.0183369307852\n",
        "F  fraction: 0.6125\n",
        "M fraction: 0.696019300362\n"
       ]
      }
     ],
     "prompt_number": 63
    },
    {
     "cell_type": "code",
     "collapsed": false,
     "input": [
      "'''\n",
      "    Do men stay in the same spot more after/before 2002?\n",
      "    \n",
      "    Answer: YES. They move around way more.\n",
      "'''\n",
      "\n",
      "counts = np.zeros((2,2), dtype=float)\n",
      "\n",
      "for f in faculty:\n",
      "    if not f.is_female:\n",
      "        val_index = int(f.first_asst_job_region != f.phd_region)\n",
      "\n",
      "        if f.first_asst_job_year <= split_at:\n",
      "            prepost = 0\n",
      "        else:\n",
      "            prepost = 1\n",
      "\n",
      "        counts[prepost][val_index] += 1.\n",
      "\n",
      "print 'PRE  \\t', counts[0,:]\n",
      "print 'POST \\t', counts[1,:]\n",
      "chi2, pval, dof, ex = chi2_contingency(counts)\n",
      "\n",
      "print '\\n', pval < sig_level\n",
      "print 'chi2 pval: ', pval\n",
      "print \"PRE  fraction:\", (counts[0,1] / np.sum(counts[0,:]))\n",
      "print \"POST fraction:\", (counts[1,1] / np.sum(counts[1,:]))"
     ],
     "language": "python",
     "metadata": {},
     "outputs": [
      {
       "output_type": "stream",
       "stream": "stdout",
       "text": [
        "PRE  \t[  680.  1035.]\n",
        "POST \t[ 252.  577.]\n",
        "\n",
        "True\n",
        "chi2 pval:  6.93442331297e-06\n",
        "PRE  fraction: 0.603498542274\n",
        "POST fraction: 0.696019300362\n"
       ]
      }
     ],
     "prompt_number": 45
    },
    {
     "cell_type": "code",
     "collapsed": false,
     "input": [
      "'''\n",
      "    After 2002, do men and women move at different rates?\n",
      "    \n",
      "    Answer:\n",
      "'''\n",
      "\n",
      "counts = np.zeros((2,2), dtype=float)\n",
      "\n",
      "for f in faculty:\n",
      "    if f.first_asst_job_year > split_at:\n",
      "        if f.is_female:\n",
      "            gender_index = 0\n",
      "        else:\n",
      "            gender_index = 1\n",
      "        val_index = int(f.first_asst_job_region != f.phd_region)\n",
      "\n",
      "        counts[gender_index][val_index] += 1.\n",
      "\n",
      "print 'W  \\t', counts[0,:]\n",
      "print 'M  \\t', counts[1,:]\n",
      "chi2, pval, dof, ex = chi2_contingency(counts)\n",
      "\n",
      "print '\\n', pval < sig_level\n",
      "print 'chi2 pval: ', pval\n",
      "print \"W  fraction:\", (counts[0,1] / np.sum(counts[0,:]))\n",
      "print \"M fraction:\", (counts[1,1] / np.sum(counts[1,:]))"
     ],
     "language": "python",
     "metadata": {},
     "outputs": [
      {
       "output_type": "stream",
       "stream": "stdout",
       "text": [
        "W  \t[  93.  147.]\n",
        "M  \t[ 252.  577.]\n",
        "\n",
        "True\n",
        "chi2 pval:  0.0183369307852\n",
        "W  fraction: 0.6125\n",
        "M fraction: 0.696019300362\n"
       ]
      }
     ],
     "prompt_number": 48
    },
    {
     "cell_type": "heading",
     "level": 2,
     "metadata": {},
     "source": [
      "Self-hiring"
     ]
    },
    {
     "cell_type": "code",
     "collapsed": false,
     "input": [
      "'''\n",
      "    Are men and women self-hired at different rates?\n",
      "    \n",
      "    Answer:\n",
      "'''\n",
      "\n",
      "counts = np.zeros((2,2), dtype=float)\n",
      "\n",
      "for f in faculty:\n",
      "    if f.is_female:\n",
      "        gender_index = 0\n",
      "    else:\n",
      "        gender_index = 1\n",
      "    val_index = int(f.first_asst_job_location == f.phd_location)\n",
      "\n",
      "    counts[gender_index][val_index] += 1.\n",
      "\n",
      "print 'W  \\t', counts[0,:]\n",
      "print 'M  \\t', counts[1,:]\n",
      "chi2, pval, dof, ex = chi2_contingency(counts)\n",
      "\n",
      "print '\\n', pval < sig_level\n",
      "print 'chi2 pval: ', pval\n",
      "print \"W  fraction:\", (counts[0,1] / np.sum(counts[0,:]))\n",
      "print \"M fraction:\", (counts[1,1] / np.sum(counts[1,:]))"
     ],
     "language": "python",
     "metadata": {},
     "outputs": [
      {
       "output_type": "stream",
       "stream": "stdout",
       "text": [
        "W  \t[ 443.   42.]\n",
        "M  \t[ 2384.   160.]\n",
        "\n",
        "False\n",
        "chi2 pval:  0.0690050112214\n",
        "W  fraction: 0.0865979381443\n",
        "M fraction: 0.062893081761\n"
       ]
      }
     ],
     "prompt_number": 55
    },
    {
     "cell_type": "code",
     "collapsed": false,
     "input": [
      "'''\n",
      "    Post 2002, are men and women self-hired at different rates?\n",
      "    \n",
      "    Answer:\n",
      "'''\n",
      "\n",
      "counts = np.zeros((2,2), dtype=float)\n",
      "\n",
      "for f in faculty:\n",
      "    if f.first_asst_job_year > split_at:\n",
      "        if f.is_female:\n",
      "            gender_index = 0\n",
      "        else:\n",
      "            gender_index = 1\n",
      "        val_index = int(f.first_asst_job_location == f.phd_location)\n",
      "\n",
      "        counts[gender_index][val_index] += 1.\n",
      "\n",
      "print 'W  \\t', counts[0,:]\n",
      "print 'M  \\t', counts[1,:]\n",
      "chi2, pval, dof, ex = chi2_contingency(counts)\n",
      "\n",
      "print '\\n', pval < sig_level\n",
      "print 'chi2 pval: ', pval\n",
      "print \"W  fraction:\", (counts[0,1] / np.sum(counts[0,:]))\n",
      "print \"M fraction:\", (counts[1,1] / np.sum(counts[1,:]))"
     ],
     "language": "python",
     "metadata": {},
     "outputs": [
      {
       "output_type": "stream",
       "stream": "stdout",
       "text": [
        "W  \t[ 221.   19.]\n",
        "M  \t[ 807.   22.]\n",
        "\n",
        "True\n",
        "chi2 pval:  0.000388562020534\n",
        "W  fraction: 0.0791666666667\n",
        "M fraction: 0.0265379975875\n"
       ]
      }
     ],
     "prompt_number": 56
    },
    {
     "cell_type": "code",
     "collapsed": false,
     "input": [
      "'''\n",
      "    Pre 2002, are men and women self-hired at different rates?\n",
      "    \n",
      "    Answer:\n",
      "'''\n",
      "\n",
      "counts = np.zeros((2,2), dtype=float)\n",
      "\n",
      "for f in faculty:\n",
      "    if f.first_asst_job_year <= split_at:\n",
      "        if f.is_female:\n",
      "            gender_index = 0\n",
      "        else:\n",
      "            gender_index = 1\n",
      "        val_index = int(f.first_asst_job_location == f.phd_location)\n",
      "\n",
      "        counts[gender_index][val_index] += 1.\n",
      "\n",
      "print 'W  \\t', counts[0,:]\n",
      "print 'M  \\t', counts[1,:]\n",
      "chi2, pval, dof, ex = chi2_contingency(counts)\n",
      "\n",
      "print '\\n', pval < sig_level\n",
      "print 'chi2 pval: ', pval\n",
      "print \"W  fraction:\", (counts[0,1] / np.sum(counts[0,:]))\n",
      "print \"M fraction:\", (counts[1,1] / np.sum(counts[1,:]))"
     ],
     "language": "python",
     "metadata": {},
     "outputs": [
      {
       "output_type": "stream",
       "stream": "stdout",
       "text": [
        "W  \t[ 222.   23.]\n",
        "M  \t[ 1577.   138.]\n",
        "\n",
        "False\n",
        "chi2 pval:  0.554687606787\n",
        "W  fraction: 0.0938775510204\n",
        "M fraction: 0.0804664723032\n"
       ]
      }
     ],
     "prompt_number": 57
    },
    {
     "cell_type": "code",
     "collapsed": false,
     "input": [
      "'''\n",
      "    Are self-hiring rates different pre/post 2002?\n",
      "    \n",
      "    Answer: YES. Much lower after.\n",
      "'''\n",
      "\n",
      "counts = np.zeros((2,2), dtype=float)\n",
      "\n",
      "for f in faculty:\n",
      "    prepost = int(f.first_asst_job_year > split_at)\n",
      "    val_index = int(f.first_asst_job_location == f.phd_location)\n",
      "\n",
      "    counts[prepost][val_index] += 1.\n",
      "\n",
      "print 'PRE  \\t', counts[0,:]\n",
      "print 'POST  \\t', counts[1,:]\n",
      "chi2, pval, dof, ex = chi2_contingency(counts)\n",
      "\n",
      "print '\\n', pval < sig_level\n",
      "print 'chi2 pval: ', pval\n",
      "print \"PRE  fraction:\", (counts[0,1] / np.sum(counts[0,:]))\n",
      "print \"POST fraction:\", (counts[1,1] / np.sum(counts[1,:]))"
     ],
     "language": "python",
     "metadata": {},
     "outputs": [
      {
       "output_type": "stream",
       "stream": "stdout",
       "text": [
        "PRE  \t[ 1799.   161.]\n",
        "POST  \t[ 1028.    41.]\n",
        "\n",
        "True\n",
        "chi2 pval:  5.62237714001e-06\n",
        "PRE  fraction: 0.0821428571429\n",
        "POST fraction: 0.0383536014967\n"
       ]
      }
     ],
     "prompt_number": 58
    },
    {
     "cell_type": "code",
     "collapsed": false,
     "input": [
      "'''\n",
      "    For just women, are self-hiring rates different pre/post 2002?\n",
      "    \n",
      "    Answer: \n",
      "'''\n",
      "\n",
      "counts = np.zeros((2,2), dtype=float)\n",
      "\n",
      "for f in faculty:\n",
      "    if f.is_female:\n",
      "        prepost = int(f.first_asst_job_year > split_at)\n",
      "        val_index = int(f.first_asst_job_location == f.phd_location)\n",
      "\n",
      "        counts[prepost][val_index] += 1.\n",
      "\n",
      "print 'PRE  \\t', counts[0,:]\n",
      "print 'POST  \\t', counts[1,:]\n",
      "chi2, pval, dof, ex = chi2_contingency(counts)\n",
      "\n",
      "print '\\n', pval < sig_level\n",
      "print 'chi2 pval: ', pval\n",
      "print \"PRE  fraction:\", (counts[0,1] / np.sum(counts[0,:]))\n",
      "print \"POST fraction:\", (counts[1,1] / np.sum(counts[1,:]))"
     ],
     "language": "python",
     "metadata": {},
     "outputs": [
      {
       "output_type": "stream",
       "stream": "stdout",
       "text": [
        "PRE  \t[ 222.   23.]\n",
        "POST  \t[ 221.   19.]\n",
        "\n",
        "False\n",
        "chi2 pval:  0.678528568815\n",
        "PRE  fraction: 0.0938775510204\n",
        "POST fraction: 0.0791666666667\n"
       ]
      }
     ],
     "prompt_number": 59
    },
    {
     "cell_type": "code",
     "collapsed": false,
     "input": [
      "'''\n",
      "    For just men, are self-hiring rates different pre/post 2002?\n",
      "    \n",
      "    Answer: \n",
      "'''\n",
      "\n",
      "counts = np.zeros((2,2), dtype=float)\n",
      "\n",
      "for f in faculty:\n",
      "    if not f.is_female:\n",
      "        prepost = int(f.first_asst_job_year > split_at)\n",
      "        val_index = int(f.first_asst_job_location == f.phd_location)\n",
      "\n",
      "        counts[prepost][val_index] += 1.\n",
      "\n",
      "print 'PRE  \\t', counts[0,:]\n",
      "print 'POST  \\t', counts[1,:]\n",
      "chi2, pval, dof, ex = chi2_contingency(counts)\n",
      "\n",
      "print '\\n', pval < sig_level\n",
      "print 'chi2 pval: ', pval\n",
      "print \"PRE  fraction:\", (counts[0,1] / np.sum(counts[0,:]))\n",
      "print \"POST fraction:\", (counts[1,1] / np.sum(counts[1,:]))"
     ],
     "language": "python",
     "metadata": {},
     "outputs": [
      {
       "output_type": "stream",
       "stream": "stdout",
       "text": [
        "PRE  \t[ 1577.   138.]\n",
        "POST  \t[ 807.   22.]\n",
        "\n",
        "True\n",
        "chi2 pval:  2.41401857376e-07\n",
        "PRE  fraction: 0.0804664723032\n",
        "POST fraction: 0.0265379975875\n"
       ]
      }
     ],
     "prompt_number": 61
    },
    {
     "cell_type": "code",
     "collapsed": false,
     "input": [
      "''' \n",
      "    Do self-hired individuals have higher/lower productivity scores?\n",
      "    \n",
      "    Answer: \n",
      "'''\n",
      "selfhires, nonselfhires = [], []\n",
      "for f in faculty:\n",
      "    val = f.dblp_z\n",
      "    if f.first_asst_job_location == f.phd_location:       \n",
      "        selfhires.append(val)\n",
      "    else:\n",
      "        nonselfhires.append(val)\n",
      "        \n",
      "stat, pval = mannwhitneyu(selfhires, nonselfhires)\n",
      "sig = pval < sig_level    \n",
      "print sig, pval\n",
      "\n",
      "print \"SELF-HIRES median :\", np.median(selfhires)\n",
      "print \"OTHERS median     :\", np.median(nonselfhires)"
     ],
     "language": "python",
     "metadata": {},
     "outputs": [
      {
       "output_type": "stream",
       "stream": "stdout",
       "text": [
        "True 1.73391113162e-05\n",
        "SELF-HIRES median : -0.602769\n",
        "OTHERS median     : -0.291753\n"
       ]
      }
     ],
     "prompt_number": 66
    },
    {
     "cell_type": "code",
     "collapsed": false,
     "input": [
      "''' \n",
      "    Do self-hired individuals have higher/lower phd ranks?\n",
      "    \n",
      "    Answer: \n",
      "'''\n",
      "selfhires, nonselfhires = [], []\n",
      "for f in faculty:\n",
      "    val = f.first_asst_job_rank\n",
      "    if f.first_asst_job_location == f.phd_location:       \n",
      "        selfhires.append(val)\n",
      "    else:\n",
      "        nonselfhires.append(val)\n",
      "        \n",
      "stat, pval = mannwhitneyu(selfhires, nonselfhires)\n",
      "sig = pval < sig_level    \n",
      "print sig, pval\n",
      "\n",
      "print \"SELF-HIRES median :\", np.median(selfhires)\n",
      "print \"OTHERS median     :\", np.median(nonselfhires)"
     ],
     "language": "python",
     "metadata": {},
     "outputs": [
      {
       "output_type": "stream",
       "stream": "stdout",
       "text": [
        "False 0.337565095991\n",
        "SELF-HIRES median : 0.519666542947\n",
        "OTHERS median     : 0.583618214139\n"
       ]
      }
     ],
     "prompt_number": 72
    },
    {
     "cell_type": "heading",
     "level": 2,
     "metadata": {},
     "source": [
      "Out of sample"
     ]
    },
    {
     "cell_type": "code",
     "collapsed": false,
     "input": [
      "'''\n",
      "    Do men/women tend to have more positive productivity scores?\n",
      "    \n",
      "    Answer: No. \n",
      "'''\n",
      "\n",
      "counts = np.zeros((2,2), dtype=float)\n",
      "\n",
      "for f in faculty:\n",
      "    if f.is_female:\n",
      "        gender_index = 0\n",
      "    else:\n",
      "        gender_index = 1\n",
      "    val_index = int(f.first_asst_job_location in inst)\n",
      "\n",
      "    counts[gender_index][val_index] += 1.\n",
      "\n",
      "print 'W  \\t', counts[0,:]\n",
      "print 'M  \\t', counts[1,:]\n",
      "chi2, pval, dof, ex = chi2_contingency(counts)\n",
      "\n",
      "print '\\n', pval < sig_level\n",
      "print 'chi2 pval: ', pval\n",
      "print \"W  fraction:\", (counts[0,1] / np.sum(counts[0,:]))\n",
      "print \"M fraction:\", (counts[1,1] / np.sum(counts[1,:]))"
     ],
     "language": "python",
     "metadata": {},
     "outputs": [
      {
       "output_type": "stream",
       "stream": "stdout",
       "text": [
        "W  \t[  12.  473.]\n",
        "M  \t[   99.  2445.]\n",
        "\n",
        "False\n",
        "chi2 pval:  0.16435962661\n",
        "W  fraction: 0.975257731959\n",
        "M fraction: 0.96108490566\n"
       ]
      }
     ],
     "prompt_number": 87
    },
    {
     "cell_type": "code",
     "collapsed": false,
     "input": [
      "''' \n",
      "    Are rank changes in general larger for men compared to women?\n",
      "    \n",
      "    Answer: No.\n",
      "'''\n",
      "\n",
      "men, women = [], []\n",
      "for f in faculty:\n",
      "    if not f.phd_location in inst:\n",
      "        val = f.first_asst_job_rank - f.phd_rank\n",
      "        if f.is_female:\n",
      "            women.append(val)\n",
      "        else:\n",
      "            men.append(val)\n",
      "        \n",
      "stat, pval = mannwhitneyu(men, women)\n",
      "sig = pval < sig_level    \n",
      "print sig, pval\n",
      "\n",
      "print 'Men avg.   :', np.median(men)\n",
      "print 'Women avg. :', np.median(women)"
     ],
     "language": "python",
     "metadata": {},
     "outputs": [
      {
       "output_type": "stream",
       "stream": "stdout",
       "text": [
        "False 0.10430599051\n",
        "Men avg.   : 0.481432283018\n",
        "Women avg. : 0.366959035768\n"
       ]
      }
     ],
     "prompt_number": 89
    },
    {
     "cell_type": "code",
     "collapsed": false,
     "input": [],
     "language": "python",
     "metadata": {},
     "outputs": []
    }
   ],
   "metadata": {}
  }
 ]
}