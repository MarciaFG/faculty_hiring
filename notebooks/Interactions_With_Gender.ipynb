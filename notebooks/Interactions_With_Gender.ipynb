{
 "metadata": {
  "name": "",
  "signature": "sha256:efece881d70852d2b7099744e7c5139b53616d30b1c50fbb8ab57600354dbeea"
 },
 "nbformat": 3,
 "nbformat_minor": 0,
 "worksheets": [
  {
   "cells": [
    {
     "cell_type": "code",
     "collapsed": false,
     "input": [
      "from matplotlib import rcParams\n",
      "rcParams['font.family'] = 'sans-serif'\n",
      "rcParams['font.sans-serif'] = ['Helvetica']\n",
      "import matplotlib.pyplot as plt\n",
      "import matplotlib as mpl\n",
      "\n",
      "from faculty_hiring.misc.plotting import *  # Definitions for LABEL_SIZE and such\n",
      "from faculty_hiring.misc.gaussian_kde import gaussian_kde\n",
      "\n",
      "from collections import Counter\n",
      "from faculty_hiring.parse import faculty_parser, institution_parser\n",
      "from faculty_hiring.parse import load\n",
      "from faculty_hiring.scripts import add_zscores as cur\n",
      "from scipy.stats import ttest_ind, ks_2samp, chi2_contingency, mannwhitneyu\n",
      "from scipy.optimize import curve_fit, minimize\n",
      "from scipy.misc import factorial, comb\n",
      "\n",
      "import scipy as sp\n",
      "import numpy as np\n",
      "import palettable"
     ],
     "language": "python",
     "metadata": {},
     "outputs": [],
     "prompt_number": 39
    },
    {
     "cell_type": "code",
     "collapsed": false,
     "input": [
      "cmap = palettable.tableau.Tableau_10.mpl_colormap\n",
      "colors = palettable.tableau.Tableau_10.mpl_colors\n",
      "sig_level = 0.05"
     ],
     "language": "python",
     "metadata": {},
     "outputs": [],
     "prompt_number": 40
    },
    {
     "cell_type": "code",
     "collapsed": false,
     "input": [
      "faculty_file = '/Users/samway//Documents/Work/ClausetLab/projects/faculty_hiring/data/faculty_cs_0930.txt'\n",
      "inst_file = '/Users/samway/Documents/Work/ClausetLab/projects/faculty_hiring/data/inst_cs.txt'\n",
      "dblp_dir = '/Users/samway/Documents/Work/ClausetLab/projects/faculty_hiring/data/profiles_DBLP_all/'\n",
      "gs_dir = '/Users/samway/Documents/Work/ClausetLab/projects/faculty_hiring/data/profiles_GS_all/'\n",
      "\n",
      "topic_descriptions = ['Image/Signal Processing',  # These correspond to the topic_dists in faculty_cs_0930.txt\n",
      "                      'Communication Networks',\n",
      "                      'Security/Cryptography',\n",
      "                      'HCI/Social Computing',\n",
      "                      'Robotics/Control Theory',\n",
      "                      'Computer Architecture',\n",
      "                      'AI/Machine Learning',\n",
      "                      'Software Engineering',\n",
      "                      'Theory',\n",
      "                      'Distributed Systems']"
     ],
     "language": "python",
     "metadata": {},
     "outputs": [],
     "prompt_number": 41
    },
    {
     "cell_type": "code",
     "collapsed": false,
     "input": [
      "inst = institution_parser.parse_institution_records(open(inst_file))\n",
      "faculty = load.load_assistant_profs(open(faculty_file), inst, ranking='pi_rescaled')\n",
      "#load.load_all_publications(faculty, dblp_dir, gs_dir)"
     ],
     "language": "python",
     "metadata": {},
     "outputs": [],
     "prompt_number": 42
    },
    {
     "cell_type": "heading",
     "level": 2,
     "metadata": {},
     "source": [
      "Rank Difference"
     ]
    },
    {
     "cell_type": "code",
     "collapsed": false,
     "input": [
      "''' \n",
      "    Are rank changes in general larger for men compared to women?\n",
      "    \n",
      "    Answer: No.\n",
      "'''\n",
      "\n",
      "men, women = [], []\n",
      "for f in faculty:\n",
      "    val = f.first_asst_job_rank - f.phd_rank\n",
      "    if f.is_female:\n",
      "        women.append(val)\n",
      "    else:\n",
      "        men.append(val)\n",
      "        \n",
      "stat, pval = mannwhitneyu(men, women)\n",
      "sig = pval < sig_level    \n",
      "print sig, pval\n",
      "\n",
      "print 'Men avg.   :', np.median(men)\n",
      "print 'Women avg. :', np.median(women)"
     ],
     "language": "python",
     "metadata": {},
     "outputs": [
      {
       "output_type": "stream",
       "stream": "stdout",
       "text": [
        "False 0.458222363977\n",
        "Men avg.   : -0.15439725733\n",
        "Women avg. : -0.156301889004\n"
       ]
      }
     ],
     "prompt_number": 155
    },
    {
     "cell_type": "code",
     "collapsed": false,
     "input": [
      "''' \n",
      "    Are rank changes in general larger for men compared to women, conditioned on moving up?\n",
      "    \n",
      "    Answer: No.\n",
      "'''\n",
      "men, women = [], []\n",
      "for f in faculty:\n",
      "    if f.first_asst_job_rank > f.phd_rank:  #MOVED UP\n",
      "        val = f.first_asst_job_rank - f.phd_rank\n",
      "        if f.is_female:\n",
      "            women.append(val)\n",
      "        else:\n",
      "            men.append(val)\n",
      "        \n",
      "stat, pval = mannwhitneyu(men, women)\n",
      "sig = pval < sig_level    \n",
      "print sig, pval\n",
      "\n",
      "print 'Men avg.   :', np.mean(men)\n",
      "print 'Women avg. :', np.mean(women)"
     ],
     "language": "python",
     "metadata": {},
     "outputs": [
      {
       "output_type": "stream",
       "stream": "stdout",
       "text": [
        "False 0.295091180812\n",
        "Men avg.   : 0.286994611644\n",
        "Women avg. : 0.285181678305\n"
       ]
      }
     ],
     "prompt_number": 68
    },
    {
     "cell_type": "code",
     "collapsed": false,
     "input": [
      "'''\n",
      "    Is the average rank change different for women pre-/post-2002?\n",
      "    \n",
      "    Answer: No.\n",
      "'''\n",
      "\n",
      "split_at = 2002\n",
      "pre, post = [], []\n",
      "\n",
      "for f in faculty:\n",
      "    if f.is_female:\n",
      "        val = f.first_asst_job_rank - f.phd_rank\n",
      "        \n",
      "        if f.first_asst_job_year <= split_at:\n",
      "            pre.append(val)\n",
      "        else:\n",
      "            post.append(val)\n",
      "        \n",
      "stat, pval = mannwhitneyu(pre, post)\n",
      "sig = pval < sig_level    \n",
      "print sig, pval\n",
      "\n",
      "print 'pre avg.   :', np.median(pre)\n",
      "print 'post avg. :', np.median(post)"
     ],
     "language": "python",
     "metadata": {},
     "outputs": [
      {
       "output_type": "stream",
       "stream": "stdout",
       "text": [
        "False 0.0701778958673\n",
        "pre avg.   : -0.132616084859\n",
        "post avg. : -0.167387822078\n"
       ]
      }
     ],
     "prompt_number": 69
    },
    {
     "cell_type": "code",
     "collapsed": false,
     "input": [
      "'''\n",
      "    Do more women move up post 2002?\n",
      "    \n",
      "    Answer: No.\n",
      "'''\n",
      "\n",
      "split_at = 2002\n",
      "counts = np.zeros((2,2), dtype=float)\n",
      "\n",
      "for f in faculty:\n",
      "    if f.is_female:\n",
      "        post = int(f.first_asst_job_year > split_at)\n",
      "        \n",
      "        if f.first_asst_job_rank < f.phd_rank:\n",
      "            movement_index = 0\n",
      "        elif f.first_asst_job_rank > f.phd_rank:\n",
      "            movement_index = 1\n",
      "        else:\n",
      "            continue # skip self-hires\n",
      "            \n",
      "        counts[post][movement_index] += 1.\n",
      "                \n",
      "print 'pre \\t', counts[0,:]\n",
      "print 'post\\t', counts[1,:]\n",
      "chi2, pval, dof, ex = chi2_contingency(counts)\n",
      "\n",
      "print '\\nchi2 pval: ', pval\n",
      "print \"pre fraction:\", (counts[0,1] / np.sum(counts[0,:]))\n",
      "print \"post fraction:\", (counts[1,1] / np.sum(counts[1,:]))"
     ],
     "language": "python",
     "metadata": {},
     "outputs": [
      {
       "output_type": "stream",
       "stream": "stdout",
       "text": [
        "pre \t[ 180.   41.]\n",
        "post\t[ 177.   44.]\n",
        "\n",
        "chi2 pval:  0.809262216058\n",
        "pre fraction: 0.185520361991\n",
        "post fraction: 0.199095022624\n"
       ]
      }
     ],
     "prompt_number": 70
    },
    {
     "cell_type": "heading",
     "level": 2,
     "metadata": {},
     "source": [
      "Rank of Placing Institution"
     ]
    },
    {
     "cell_type": "code",
     "collapsed": false,
     "input": [
      "''' \n",
      "    Are PhD ranks significantly different between men and women?\n",
      "    \n",
      "    Answer: No.\n",
      "'''\n",
      "men, women = [], []\n",
      "for f in faculty:\n",
      "    val = f.phd_rank\n",
      "    if f.is_female:\n",
      "        women.append(val)\n",
      "    else:\n",
      "        men.append(val)\n",
      "        \n",
      "stat, pval = mannwhitneyu(men, women)\n",
      "sig = pval < sig_level    \n",
      "print sig, pval"
     ],
     "language": "python",
     "metadata": {},
     "outputs": [
      {
       "output_type": "stream",
       "stream": "stdout",
       "text": [
        "False 0.442132472342\n"
       ]
      }
     ],
     "prompt_number": 71
    },
    {
     "cell_type": "code",
     "collapsed": false,
     "input": [
      "''' \n",
      "    Are PhD ranks significantly different between men and women, conditioned on moving up?\n",
      "    \n",
      "    Answer: YES. In particular, we see more women moving up from the lowest-ranked universities. \n",
      "'''\n",
      "men, women = [], []\n",
      "for f in faculty:\n",
      "    if f.phd_rank < f.first_asst_job_rank:\n",
      "        val = f.phd_rank\n",
      "        if f.is_female:\n",
      "            women.append(val)\n",
      "        else:\n",
      "            men.append(val)\n",
      "        \n",
      "stat, pval = mannwhitneyu(men, women)\n",
      "sig = pval < sig_level    \n",
      "print sig, pval\n",
      "print 'Number of men  : ', len(men)\n",
      "print 'Number of women: ', len(women)\n",
      "print 'Men median     : ', np.median(men)\n",
      "print 'Women median   : ', np.median(women)"
     ],
     "language": "python",
     "metadata": {},
     "outputs": [
      {
       "output_type": "stream",
       "stream": "stdout",
       "text": [
        "True 0.040196483064\n",
        "Number of men  :  498\n",
        "Number of women:  85\n",
        "Men median     :  0.4383534215\n",
        "Women median   :  0.00485436893204\n"
       ]
      }
     ],
     "prompt_number": 80
    },
    {
     "cell_type": "code",
     "collapsed": false,
     "input": [
      "bins = np.linspace(0,1,25)\n",
      "hist(men, bins=bins, normed=True, color=ALMOST_BLACK)\n",
      "hist(women, bins=bins, normed=True, alpha=0.8, color=FEMALE_COLOR)\n",
      "plt.show()"
     ],
     "language": "python",
     "metadata": {},
     "outputs": [
      {
       "metadata": {},
       "output_type": "display_data",
       "png": "[encoded data removed]",
       "text": [
        "<matplotlib.figure.Figure at 0x108407110>"
       ]
      }
     ],
     "prompt_number": 82
    },
    {
     "cell_type": "code",
     "collapsed": false,
     "input": [
      "''' \n",
      "    Are PhD ranks for women different before/after 2002?\n",
      "    \n",
      "    Answer: No.\n",
      "'''\n",
      "pre, post = [], []\n",
      "split_at = 2002\n",
      "for f in faculty:\n",
      "    if f.is_female:\n",
      "        val = f.phd_rank\n",
      "        if f.first_asst_job_year <= split_at:\n",
      "            pre.append(val)\n",
      "        else:\n",
      "            post.append(val)\n",
      "        \n",
      "stat, pval = mannwhitneyu(pre, post)\n",
      "sig = pval < sig_level    \n",
      "print sig, pval\n",
      "print 'Number of pre  : ', len(pre)\n",
      "print 'Number of post : ', len(post)\n",
      "print 'pre average    : ', np.mean(pre)\n",
      "print 'post average   : ', np.mean(post)"
     ],
     "language": "python",
     "metadata": {},
     "outputs": [
      {
       "output_type": "stream",
       "stream": "stdout",
       "text": [
        "False 0.464450214997\n",
        "Number of pre  :  246\n",
        "Number of post :  240\n",
        "pre average    :  0.72112194042\n",
        "post average   :  0.706992562169\n"
       ]
      }
     ],
     "prompt_number": 83
    },
    {
     "cell_type": "heading",
     "level": 2,
     "metadata": {},
     "source": [
      "Rank of Hiring Institution"
     ]
    },
    {
     "cell_type": "code",
     "collapsed": false,
     "input": [
      "''' \n",
      "    Are job ranks different between men and women?\n",
      "    \n",
      "    Answer: No.\n",
      "'''\n",
      "men, women = [], []\n",
      "for f in faculty:\n",
      "    val = f.first_asst_job_rank\n",
      "    if f.is_female:\n",
      "        women.append(val)\n",
      "    else:\n",
      "        men.append(val)\n",
      "        \n",
      "stat, pval = mannwhitneyu(men, women)\n",
      "sig = pval < sig_level    \n",
      "print sig, pval"
     ],
     "language": "python",
     "metadata": {},
     "outputs": [
      {
       "output_type": "stream",
       "stream": "stdout",
       "text": [
        "False 0.0980005395637\n"
       ]
      }
     ],
     "prompt_number": 84
    },
    {
     "cell_type": "code",
     "collapsed": false,
     "input": [
      "''' \n",
      "    Conditioned on moving up, are job ranks different between men and women?\n",
      "    \n",
      "    Answer: YES. Job ranks are in general higher for men. This is, in part, due to the fact that we see more women coming \n",
      "            from the lowest-ranked universities and placing within the middle of the pack.\n",
      "'''\n",
      "men, women = [], []\n",
      "for f in faculty:\n",
      "    if f.phd_rank < f.first_asst_job_rank:\n",
      "        val = f.first_asst_job_rank\n",
      "        if f.is_female:\n",
      "            women.append(val)\n",
      "        else:\n",
      "            men.append(val)\n",
      "        \n",
      "stat, pval = mannwhitneyu(men, women)\n",
      "sig = pval < sig_level    \n",
      "print sig, pval\n",
      "print 'Number of men  : ', len(men)\n",
      "print 'Number of women: ', len(women)\n",
      "print 'Men median     : ', np.median(men)\n",
      "print 'Women median   : ', np.median(women)"
     ],
     "language": "python",
     "metadata": {},
     "outputs": [
      {
       "output_type": "stream",
       "stream": "stdout",
       "text": [
        "True 0.00596002703627\n",
        "Number of men  :  498\n",
        "Number of women:  85\n",
        "Men median     :  0.782285948702\n",
        "Women median   :  0.612822566467\n"
       ]
      }
     ],
     "prompt_number": 87
    },
    {
     "cell_type": "code",
     "collapsed": false,
     "input": [
      "bins = np.linspace(0,1,25)\n",
      "hist(men, bins=bins, normed=True, color=ALMOST_BLACK)\n",
      "hist(women, bins=bins, normed=True, alpha=0.8, color=FEMALE_COLOR)\n",
      "plt.show()"
     ],
     "language": "python",
     "metadata": {},
     "outputs": [
      {
       "metadata": {},
       "output_type": "display_data",
       "png": "[encoded data removed]",
       "text": [
        "<matplotlib.figure.Figure at 0x1084ac350>"
       ]
      }
     ],
     "prompt_number": 88
    },
    {
     "cell_type": "code",
     "collapsed": false,
     "input": [
      "''' \n",
      "    Are job ranks for women different before/after 2002?\n",
      "    \n",
      "    Answer: No.\n",
      "'''\n",
      "pre, post = [], []\n",
      "split_at = 2002\n",
      "for f in faculty:\n",
      "    if f.is_female:\n",
      "        val = f.first_asst_job_rank\n",
      "        if f.first_asst_job_year <= split_at:\n",
      "            pre.append(val)\n",
      "        else:\n",
      "            post.append(val)\n",
      "        \n",
      "stat, pval = mannwhitneyu(pre, post)\n",
      "sig = pval < sig_level    \n",
      "print sig, pval\n",
      "print 'Number of pre  : ', len(pre)\n",
      "print 'Number of post : ', len(post)\n",
      "print 'pre average    : ', np.mean(pre)\n",
      "print 'post average   : ', np.mean(post)"
     ],
     "language": "python",
     "metadata": {},
     "outputs": [
      {
       "output_type": "stream",
       "stream": "stdout",
       "text": [
        "False 0.148984051848\n",
        "Number of pre  :  246\n",
        "Number of post :  240\n",
        "pre average    :  0.56001380451\n",
        "post average   :  0.536190647119\n"
       ]
      }
     ],
     "prompt_number": 89
    },
    {
     "cell_type": "heading",
     "level": 2,
     "metadata": {},
     "source": [
      "Productivity"
     ]
    },
    {
     "cell_type": "code",
     "collapsed": false,
     "input": [
      "''' \n",
      "    Are productivity scores different between men and women?\n",
      "    \n",
      "    Answer: No.\n",
      "'''\n",
      "men, women = [], []\n",
      "for f in faculty:\n",
      "    val = f.dblp_z\n",
      "    if f.is_female:\n",
      "        women.append(val)\n",
      "    else:\n",
      "        men.append(val)\n",
      "        \n",
      "stat, pval = mannwhitneyu(men, women)\n",
      "sig = pval < sig_level    \n",
      "print sig, pval"
     ],
     "language": "python",
     "metadata": {},
     "outputs": [
      {
       "output_type": "stream",
       "stream": "stdout",
       "text": [
        "False 0.473074424027\n"
       ]
      }
     ],
     "prompt_number": 95
    },
    {
     "cell_type": "code",
     "collapsed": false,
     "input": [
      "''' \n",
      "    Conditioned on moving up, are productivity scores different between men and women?\n",
      "    \n",
      "    Answer: No.\n",
      "'''\n",
      "men, women = [], []\n",
      "for f in faculty:\n",
      "    if f.first_asst_job_rank > f.phd_rank:       \n",
      "        val = f.dblp_z\n",
      "        if f.is_female:\n",
      "            women.append(val)\n",
      "        else:\n",
      "            men.append(val)\n",
      "        \n",
      "stat, pval = mannwhitneyu(men, women)\n",
      "sig = pval < sig_level    \n",
      "print sig, pval"
     ],
     "language": "python",
     "metadata": {},
     "outputs": [
      {
       "output_type": "stream",
       "stream": "stdout",
       "text": [
        "False 0.318449869306\n"
       ]
      }
     ],
     "prompt_number": 91
    },
    {
     "cell_type": "code",
     "collapsed": false,
     "input": [
      "''' \n",
      "    Are productivity scores different for people moving up/down?\n",
      "    \n",
      "    Answer: YES. Productivity scores are higher for people who moved up the ranks.\n",
      "'''\n",
      "up, down = [], []\n",
      "for f in faculty:\n",
      "    val = f.dblp_z\n",
      "    if f.phd_rank < f.first_asst_job_rank:\n",
      "        up.append(val)\n",
      "    elif f.phd_rank > f.first_asst_job_rank:\n",
      "        down.append(val)\n",
      "        \n",
      "stat, pval = mannwhitneyu(up, down)\n",
      "sig = pval < sig_level    \n",
      "print sig, pval\n",
      "\n",
      "print np.median(up)\n",
      "print np.median(down)"
     ],
     "language": "python",
     "metadata": {},
     "outputs": [
      {
       "output_type": "stream",
       "stream": "stdout",
       "text": [
        "True 0.00468894803226\n",
        "-0.204323\n",
        "-0.307449\n"
       ]
      }
     ],
     "prompt_number": 94
    },
    {
     "cell_type": "code",
     "collapsed": false,
     "input": [
      "''' \n",
      "    Are productivity scores different for people with postdoc experience?\n",
      "    \n",
      "    Answer: YES. Productivity scores are much higher for people with postdocs.\n",
      "'''\n",
      "yes, no = [], []\n",
      "for f in faculty:\n",
      "    val = f.dblp_z\n",
      "    if f.has_postdoc:\n",
      "        yes.append(val)\n",
      "    else:\n",
      "        no.append(val)\n",
      "        \n",
      "stat, pval = mannwhitneyu(yes, no)\n",
      "sig = pval < sig_level    \n",
      "print sig, pval\n",
      "\n",
      "print np.median(yes)\n",
      "print np.median(no)"
     ],
     "language": "python",
     "metadata": {},
     "outputs": [
      {
       "output_type": "stream",
       "stream": "stdout",
       "text": [
        "True 3.14984188286e-35\n",
        "0.125142\n",
        "-0.400485\n"
       ]
      }
     ],
     "prompt_number": 98
    },
    {
     "cell_type": "code",
     "collapsed": false,
     "input": [
      "''' \n",
      "    Are productivity scores different for women pre-/post-2002?\n",
      "    \n",
      "    Answer: YES. Productivity scores are much higher post-2002.\n",
      "'''\n",
      "pre, post = [], []\n",
      "for f in faculty:\n",
      "    if f.is_female:\n",
      "        val = f.dblp_z\n",
      "        if f.first_asst_job_year <= split_at:\n",
      "            pre.append(val)\n",
      "        else:\n",
      "            post.append(val)\n",
      "        \n",
      "stat, pval = mannwhitneyu(pre, post)\n",
      "sig = pval < sig_level    \n",
      "print sig, pval\n",
      "\n",
      "print np.median(pre)\n",
      "print np.median(post)"
     ],
     "language": "python",
     "metadata": {},
     "outputs": [
      {
       "output_type": "stream",
       "stream": "stdout",
       "text": [
        "True 5.37341034482e-15\n",
        "-0.526222\n",
        "0.091328\n"
       ]
      }
     ],
     "prompt_number": 120
    },
    {
     "cell_type": "code",
     "collapsed": false,
     "input": [
      "bins = np.linspace(-3,12,50)\n",
      "hist(pre, bins=bins, normed=True, color=ALMOST_BLACK)\n",
      "hist(post, bins=bins, normed=True, alpha=0.8, color=LIGHT_COLOR)\n",
      "plt.show()"
     ],
     "language": "python",
     "metadata": {},
     "outputs": [
      {
       "metadata": {},
       "output_type": "display_data",
       "png": "[encoded data removed]",
       "text": [
        "<matplotlib.figure.Figure at 0x1080f1ad0>"
       ]
      }
     ],
     "prompt_number": 121
    },
    {
     "cell_type": "code",
     "collapsed": false,
     "input": [
      "''' \n",
      "    Regardless of gender, are productivity scores different pre-/post-2002?\n",
      "    \n",
      "    Answer: YES. Productivity scores are much higher post-2002. This is to be expected, as older papers\n",
      "            are likely harder to track down online!\n",
      "'''\n",
      "pre, post = [], []\n",
      "for f in faculty:\n",
      "    val = f.dblp_z\n",
      "    if f.first_asst_job_year <= split_at:\n",
      "        pre.append(val)\n",
      "    else:\n",
      "        post.append(val)\n",
      "        \n",
      "stat, pval = mannwhitneyu(pre, post)\n",
      "sig = pval < sig_level    \n",
      "print sig, pval\n",
      "\n",
      "print np.median(pre)\n",
      "print np.median(post)"
     ],
     "language": "python",
     "metadata": {},
     "outputs": [
      {
       "output_type": "stream",
       "stream": "stdout",
       "text": [
        "True 1.27992740406e-109\n",
        "-0.518349\n",
        "0.23171\n"
       ]
      }
     ],
     "prompt_number": 122
    },
    {
     "cell_type": "code",
     "collapsed": false,
     "input": [
      "bins = np.linspace(-3,12,50)\n",
      "hist(pre, bins=bins, normed=True, color=ALMOST_BLACK)\n",
      "hist(post, bins=bins, normed=True, alpha=0.8, color=LIGHT_COLOR)\n",
      "plt.show()"
     ],
     "language": "python",
     "metadata": {},
     "outputs": [
      {
       "metadata": {},
       "output_type": "display_data",
       "png": "[encoded data removed]",
       "text": [
        "<matplotlib.figure.Figure at 0x107ec3610>"
       ]
      }
     ],
     "prompt_number": 123
    },
    {
     "cell_type": "code",
     "collapsed": false,
     "input": [
      "''' \n",
      "    Are productivity scores different for men and women pre-2002?\n",
      "    \n",
      "    Answer: No.\n",
      "'''\n",
      "men, women = [], []\n",
      "for f in faculty:\n",
      "    if f.first_asst_job_year <= split_at:\n",
      "        val = f.dblp_z\n",
      "        if f.is_female:\n",
      "            women.append(val)\n",
      "        else:\n",
      "            men.append(val)\n",
      "        \n",
      "stat, pval = mannwhitneyu(men, women)\n",
      "sig = pval < sig_level    \n",
      "print sig, pval\n",
      "\n",
      "print np.median(men)\n",
      "print np.median(women)"
     ],
     "language": "python",
     "metadata": {},
     "outputs": [
      {
       "output_type": "stream",
       "stream": "stdout",
       "text": [
        "False 0.217879719341\n",
        "-0.518349\n",
        "-0.526222\n"
       ]
      }
     ],
     "prompt_number": 112
    },
    {
     "cell_type": "code",
     "collapsed": false,
     "input": [
      "bins = np.linspace(-3,12,50)\n",
      "hist(men, bins=bins, normed=True, color=ALMOST_BLACK)\n",
      "hist(women, bins=bins, normed=True, alpha=0.8, color=FEMALE_COLOR)\n",
      "plt.show()"
     ],
     "language": "python",
     "metadata": {},
     "outputs": [
      {
       "metadata": {},
       "output_type": "display_data",
       "png": "[encoded data removed]",
       "text": [
        "<matplotlib.figure.Figure at 0x108878a50>"
       ]
      }
     ],
     "prompt_number": 111
    },
    {
     "cell_type": "code",
     "collapsed": false,
     "input": [
      "''' \n",
      "    Are productivity scores different for men and women post-2002?\n",
      "    \n",
      "    Answer: YES.\n",
      "'''\n",
      "men, women = [], []\n",
      "for f in faculty:\n",
      "    if f.first_asst_job_year > split_at:\n",
      "        val = f.dblp_z\n",
      "        if f.is_female:\n",
      "            women.append(val)\n",
      "        else:\n",
      "            men.append(val)\n",
      "        \n",
      "stat, pval = mannwhitneyu(men, women)\n",
      "sig = pval < sig_level    \n",
      "print sig, pval\n",
      "\n",
      "print np.median(men)\n",
      "print np.median(women)"
     ],
     "language": "python",
     "metadata": {},
     "outputs": [
      {
       "output_type": "stream",
       "stream": "stdout",
       "text": [
        "True 0.000273003796899\n",
        "0.28218\n",
        "0.091328\n"
       ]
      }
     ],
     "prompt_number": 128
    },
    {
     "cell_type": "code",
     "collapsed": false,
     "input": [
      "bins = np.linspace(-3,12,50)\n",
      "hist(men, bins=bins, normed=True, color=ALMOST_BLACK)\n",
      "hist(women, bins=bins, normed=True, alpha=0.8, color=FEMALE_COLOR)\n",
      "plt.show()"
     ],
     "language": "python",
     "metadata": {},
     "outputs": [
      {
       "metadata": {},
       "output_type": "display_data",
       "png": "[encoded data removed]",
       "text": [
        "<matplotlib.figure.Figure at 0x10842add0>"
       ]
      }
     ],
     "prompt_number": 129
    },
    {
     "cell_type": "heading",
     "level": 2,
     "metadata": {},
     "source": [
      "Has Postdoc Experience"
     ]
    },
    {
     "cell_type": "code",
     "collapsed": false,
     "input": [
      "''' \n",
      "    Conditioned on having a postdoc, are women more likely than men to move up the ranks?\n",
      "    \n",
      "    Answer: No. \n",
      "'''\n",
      "\n",
      "counts = np.zeros((2,2), dtype=float)\n",
      "\n",
      "for f in faculty:\n",
      "    if f.has_postdoc:\n",
      "        if f.is_female:\n",
      "            gender_index = 0\n",
      "        else:\n",
      "            gender_index = 1\n",
      "\n",
      "        if f.first_asst_job_rank < f.phd_rank:\n",
      "            movement_index = 0\n",
      "        elif f.first_asst_job_rank > f.phd_rank:\n",
      "            movement_index = 1\n",
      "        else:\n",
      "            continue # skip self-hires\n",
      "            \n",
      "        counts[gender_index][movement_index] += 1.\n",
      "\n",
      "print 'W\\t', counts[0,:]\n",
      "print 'M\\t', counts[1,:]\n",
      "chi2, pval, dof, ex = chi2_contingency(counts)\n",
      "\n",
      "print '\\n', pval < sig_level\n",
      "print 'chi2 pval: ', pval\n",
      "print \"Women fraction:\", (counts[0,1] / np.sum(counts[0,:]))\n",
      "print \"Men fraction:\", (counts[1,1] / np.sum(counts[1,:]))"
     ],
     "language": "python",
     "metadata": {},
     "outputs": [
      {
       "output_type": "stream",
       "stream": "stdout",
       "text": [
        "W\t[ 83.  37.]\n",
        "M\t[ 358.  137.]\n",
        "\n",
        "False\n",
        "chi2 pval:  0.564762647237\n",
        "Women fraction: 0.308333333333\n",
        "Men fraction: 0.276767676768\n"
       ]
      }
     ],
     "prompt_number": 131
    },
    {
     "cell_type": "code",
     "collapsed": false,
     "input": [
      "''' \n",
      "    Are women more likely than men to have postdoc experience?\n",
      "    \n",
      "    Answer: YES. Significantly more women have postdocs. 27.1% versus 20.7%.\n",
      "'''\n",
      "\n",
      "counts = np.zeros((2,2), dtype=float)\n",
      "\n",
      "for f in faculty:\n",
      "    if f.is_female:\n",
      "        gender_index = 0\n",
      "    else:\n",
      "        gender_index = 1\n",
      "\n",
      "    val_index = int(f.has_postdoc)\n",
      "    counts[gender_index][val_index] += 1.\n",
      "        \n",
      "print 'W\\t', counts[0,:]\n",
      "print 'M\\t', counts[1,:]\n",
      "chi2, pval, dof, ex = chi2_contingency(counts)\n",
      "print '\\n', pval < sig_level\n",
      "print 'chi2 pval: ', pval\n",
      "print \"Women fraction:\", (counts[0,1] / np.sum(counts[0,:]))\n",
      "print \"Men fraction:\", (counts[1,1] / np.sum(counts[1,:]))"
     ],
     "language": "python",
     "metadata": {},
     "outputs": [
      {
       "output_type": "stream",
       "stream": "stdout",
       "text": [
        "W\t[ 354.  132.]\n",
        "M\t[ 2022.   530.]\n",
        "\n",
        "True\n",
        "chi2 pval:  0.00214926554977\n",
        "Women fraction: 0.271604938272\n",
        "Men fraction: 0.207680250784\n"
       ]
      }
     ],
     "prompt_number": 134
    },
    {
     "cell_type": "code",
     "collapsed": false,
     "input": [
      "''' \n",
      "    Are rank changes different for people with postdocs?\n",
      "    \n",
      "    Answer: YES. People with postdocs tend to jump higher/move less far down in the rankings. \n",
      "'''\n",
      "\n",
      "yes = []\n",
      "no = []\n",
      "\n",
      "for f in faculty:\n",
      "    val = f.first_asst_job_rank - f.phd_rank\n",
      "    if f.has_postdoc:\n",
      "        yes.append(val)\n",
      "    else:\n",
      "        no.append(val)\n",
      "    \n",
      "stat, pval = mannwhitneyu(yes, no)\n",
      "sig = pval < sig_level    \n",
      "print sig, pval\n",
      "\n",
      "print 'yes median   :', np.median(yes)\n",
      "print 'no  median   :', np.median(no)"
     ],
     "language": "python",
     "metadata": {},
     "outputs": [
      {
       "output_type": "stream",
       "stream": "stdout",
       "text": [
        "True 1.4615486961e-07\n",
        "yes median   : -0.103875681272\n",
        "no  median   : -0.166655271434\n"
       ]
      }
     ],
     "prompt_number": 136
    },
    {
     "cell_type": "code",
     "collapsed": false,
     "input": [
      "''' \n",
      "    Do people with postdocs tend to move up more than people without?\n",
      "    \n",
      "    Answer: YES. People with postdocs move up much more often: 28.2% moving up vs. 18.5% moving up.\n",
      "'''\n",
      "counts = np.zeros((2,2), dtype=float)\n",
      "\n",
      "for f in faculty:\n",
      "    if f.has_postdoc:\n",
      "        val_index = 1\n",
      "    else:\n",
      "        val_index = 0\n",
      "\n",
      "    if f.first_asst_job_rank < f.phd_rank:\n",
      "        movement_index = 0\n",
      "    elif f.first_asst_job_rank > f.phd_rank:\n",
      "        movement_index = 1\n",
      "    else:\n",
      "        continue # skip self-hires\n",
      "            \n",
      "    counts[val_index][movement_index] += 1.\n",
      "\n",
      "print 'N\\t', counts[0,:]\n",
      "print 'Y\\t', counts[1,:]\n",
      "chi2, pval, dof, ex = chi2_contingency(counts)\n",
      "print '\\n', pval < sig_level\n",
      "print 'chi2 pval: ', pval\n",
      "print \"N fraction:\", (counts[0,1] / np.sum(counts[0,:]))\n",
      "print \"Y fraction:\", (counts[1,1] / np.sum(counts[1,:]))"
     ],
     "language": "python",
     "metadata": {},
     "outputs": [
      {
       "output_type": "stream",
       "stream": "stdout",
       "text": [
        "N\t[ 1793.   409.]\n",
        "Y\t[ 441.  174.]\n",
        "\n",
        "True\n",
        "chi2 pval:  1.95547277091e-07\n",
        "N fraction: 0.185740236149\n",
        "Y fraction: 0.282926829268\n"
       ]
      }
     ],
     "prompt_number": 139
    },
    {
     "cell_type": "heading",
     "level": 2,
     "metadata": {},
     "source": [
      "Geography"
     ]
    },
    {
     "cell_type": "code",
     "collapsed": false,
     "input": [
      "'''\n",
      "    For people who stayed in the same region, are gender and movement up/down linked?\n",
      "    \n",
      "    Answer: No.\n",
      "'''\n",
      "\n",
      "counts = np.zeros((2,2), dtype=float)\n",
      "\n",
      "for f in faculty:\n",
      "    if f.first_asst_job_region == f.phd_region:\n",
      "        if f.is_female:\n",
      "            gender_index = 0\n",
      "        else:\n",
      "            gender_index = 1\n",
      "\n",
      "        if f.first_asst_job_rank < f.phd_rank:\n",
      "            movement_index = 0\n",
      "        elif f.first_asst_job_rank > f.phd_rank:\n",
      "            movement_index = 1\n",
      "        else:\n",
      "            continue # skip self-hires\n",
      "            \n",
      "        counts[gender_index][movement_index] += 1.\n",
      "\n",
      "print 'W\\t', counts[0,:]\n",
      "print 'M\\t', counts[1,:]\n",
      "chi2, pval, dof, ex = chi2_contingency(counts)\n",
      "print '\\n', pval < sig_level\n",
      "print 'chi2 pval: ', pval\n",
      "print \"Women fraction:\", (counts[0,1] / np.sum(counts[0,:]))\n",
      "print \"Men fraction:\", (counts[1,1] / np.sum(counts[1,:]))"
     ],
     "language": "python",
     "metadata": {},
     "outputs": [
      {
       "output_type": "stream",
       "stream": "stdout",
       "text": [
        "W\t[ 129.   20.]\n",
        "M\t[ 665.   91.]\n",
        "\n",
        "False\n",
        "chi2 pval:  0.737863900343\n",
        "Women fraction: 0.134228187919\n",
        "Men fraction: 0.12037037037\n"
       ]
      }
     ],
     "prompt_number": 140
    },
    {
     "cell_type": "code",
     "collapsed": false,
     "input": [
      "'''\n",
      "    Do women stay in the same spot more often than men?\n",
      "    \n",
      "    Answer: No.\n",
      "'''\n",
      "\n",
      "counts = np.zeros((2,2), dtype=float)\n",
      "\n",
      "for f in faculty:\n",
      "    if f.is_female:\n",
      "        gender_index = 0\n",
      "    else:\n",
      "        gender_index = 1\n",
      "\n",
      "    val_index = int(f.phd_region == f.first_asst_job_region)\n",
      "    counts[gender_index][val_index] += 1.\n",
      "        \n",
      "print 'W\\t', counts[0,:]\n",
      "print 'M\\t', counts[1,:]\n",
      "chi2, pval, dof, ex = chi2_contingency(counts)\n",
      "\n",
      "print '\\n', pval < sig_level\n",
      "print 'chi2 pval: ', pval\n",
      "print \"Women fraction:\", (counts[0,1] / np.sum(counts[0,:]))\n",
      "print \"Men fraction:\", (counts[1,1] / np.sum(counts[1,:]))"
     ],
     "language": "python",
     "metadata": {},
     "outputs": [
      {
       "output_type": "stream",
       "stream": "stdout",
       "text": [
        "W\t[ 293.  193.]\n",
        "M\t[ 1619.   933.]\n",
        "\n",
        "False\n",
        "chi2 pval:  0.204956199146\n",
        "Women fraction: 0.397119341564\n",
        "Men fraction: 0.365595611285\n"
       ]
      }
     ],
     "prompt_number": 142
    },
    {
     "cell_type": "code",
     "collapsed": false,
     "input": [
      "'''\n",
      "    Do people who stay in the same spot tend to move up/down more than we'd expect?\n",
      "    \n",
      "    Answer: YES. People who moved around the country tended to move up the ranks more often than people who\n",
      "            stayed in the same region.\n",
      "'''\n",
      "\n",
      "counts = np.zeros((2,2), dtype=float)\n",
      "\n",
      "for f in faculty:\n",
      "    val_index = int(f.first_asst_job_region == f.phd_region)\n",
      "\n",
      "    if f.first_asst_job_rank < f.phd_rank:\n",
      "        movement_index = 0\n",
      "    elif f.first_asst_job_rank > f.phd_rank:\n",
      "        movement_index = 1\n",
      "    else:\n",
      "        continue # skip self-hires\n",
      "\n",
      "    counts[val_index][movement_index] += 1.\n",
      "\n",
      "print 'N\\t', counts[0,:]\n",
      "print 'Y\\t', counts[1,:]\n",
      "chi2, pval, dof, ex = chi2_contingency(counts)\n",
      "\n",
      "print '\\n', pval < sig_level\n",
      "print 'chi2 pval: ', pval\n",
      "print \"N fraction:\", (counts[0,1] / np.sum(counts[0,:]))\n",
      "print \"Y fraction:\", (counts[1,1] / np.sum(counts[1,:]))"
     ],
     "language": "python",
     "metadata": {},
     "outputs": [
      {
       "output_type": "stream",
       "stream": "stdout",
       "text": [
        "N\t[ 1440.   472.]\n",
        "Y\t[ 794.  111.]\n",
        "\n",
        "True\n",
        "chi2 pval:  4.38762354121e-14\n",
        "N fraction: 0.246861924686\n",
        "Y fraction: 0.122651933702\n"
       ]
      }
     ],
     "prompt_number": 144
    },
    {
     "cell_type": "code",
     "collapsed": false,
     "input": [
      "'''\n",
      "    Conditioned on moving up, do women move more or less frequently than men? \n",
      "    \n",
      "    Answer: No.\n",
      "'''\n",
      "counts = np.zeros((2,2), dtype=float)\n",
      "\n",
      "for f in faculty:\n",
      "    if f.first_asst_job_rank > f.phd_rank:\n",
      "        gender_index = int(not f.is_female)\n",
      "        val_index = int(f.first_asst_job_region != f.phd_region)\n",
      "        counts[gender_index][val_index] += 1.\n",
      "\n",
      "print 'W\\t', counts[0,:]\n",
      "print 'M\\t', counts[1,:]\n",
      "chi2, pval, dof, ex = chi2_contingency(counts)\n",
      "\n",
      "print '\\n', pval < sig_level\n",
      "print 'chi2 pval: ', pval\n",
      "print \"Women fraction:\", (counts[0,1] / np.sum(counts[0,:]))\n",
      "print \"Men fraction:\", (counts[1,1] / np.sum(counts[1,:]))"
     ],
     "language": "python",
     "metadata": {},
     "outputs": [
      {
       "output_type": "stream",
       "stream": "stdout",
       "text": [
        "W\t[ 20.  65.]\n",
        "M\t[  91.  407.]\n",
        "\n",
        "False\n",
        "chi2 pval:  0.321520477845\n",
        "Women fraction: 0.764705882353\n",
        "Men fraction: 0.817269076305\n"
       ]
      }
     ],
     "prompt_number": 145
    },
    {
     "cell_type": "code",
     "collapsed": false,
     "input": [
      "'''\n",
      "    Do people stay in the same spot more after/before 2002?\n",
      "    \n",
      "    Answer: YES. People are moving more post-2002.\n",
      "'''\n",
      "\n",
      "counts = np.zeros((2,2), dtype=float)\n",
      "\n",
      "for f in faculty:\n",
      "    val_index = int(f.first_asst_job_region == f.phd_region)\n",
      "\n",
      "    if f.first_asst_job_year <= split_at:\n",
      "        prepost = 0\n",
      "    else:\n",
      "        prepost = 1\n",
      "    \n",
      "    counts[prepost][val_index] += 1.\n",
      "\n",
      "print 'PRE  \\t', counts[0,:]\n",
      "print 'POST \\t', counts[1,:]\n",
      "chi2, pval, dof, ex = chi2_contingency(counts)\n",
      "\n",
      "print '\\n', pval < sig_level\n",
      "print 'chi2 pval: ', pval\n",
      "print \"PRE  fraction:\", (counts[0,1] / np.sum(counts[0,:]))\n",
      "print \"POST fraction:\", (counts[1,1] / np.sum(counts[1,:]))"
     ],
     "language": "python",
     "metadata": {},
     "outputs": [
      {
       "output_type": "stream",
       "stream": "stdout",
       "text": [
        "PRE  \t[ 1187.   780.]\n",
        "POST \t[ 725.  346.]\n",
        "\n",
        "True\n",
        "chi2 pval:  7.27710365961e-05\n",
        "PRE  fraction: 0.396542958821\n",
        "POST fraction: 0.323062558357\n"
       ]
      }
     ],
     "prompt_number": 150
    },
    {
     "cell_type": "code",
     "collapsed": false,
     "input": [
      "'''\n",
      "    Do women stay in the same spot more after/before 2002?\n",
      "    \n",
      "    Answer: No. They don't. \n",
      "'''\n",
      "\n",
      "counts = np.zeros((2,2), dtype=float)\n",
      "\n",
      "for f in faculty:\n",
      "    if f.is_female:\n",
      "        val_index = int(f.first_asst_job_region == f.phd_region)\n",
      "\n",
      "        if f.first_asst_job_year <= split_at:\n",
      "            prepost = 0\n",
      "        else:\n",
      "            prepost = 1\n",
      "\n",
      "        counts[prepost][val_index] += 1.\n",
      "\n",
      "print 'PRE  \\t', counts[0,:]\n",
      "print 'POST \\t', counts[1,:]\n",
      "chi2, pval, dof, ex = chi2_contingency(counts)\n",
      "\n",
      "print '\\n', pval < sig_level\n",
      "print 'chi2 pval: ', pval\n",
      "print \"PRE  fraction:\", (counts[0,1] / np.sum(counts[0,:]))\n",
      "print \"POST fraction:\", (counts[1,1] / np.sum(counts[1,:]))"
     ],
     "language": "python",
     "metadata": {},
     "outputs": [
      {
       "output_type": "stream",
       "stream": "stdout",
       "text": [
        "PRE  \t[ 146.  100.]\n",
        "POST \t[ 147.   93.]\n",
        "\n",
        "False\n",
        "chi2 pval:  0.737347649718\n",
        "PRE  fraction: 0.406504065041\n",
        "POST fraction: 0.3875\n"
       ]
      }
     ],
     "prompt_number": 154
    },
    {
     "cell_type": "code",
     "collapsed": false,
     "input": [],
     "language": "python",
     "metadata": {},
     "outputs": []
    }
   ],
   "metadata": {}
  }
 ]
}