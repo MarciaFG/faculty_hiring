{
 "metadata": {
  "name": "",
  "signature": "sha256:83901b0f0a7b2403f1e9dd6a935daa182a7bbe7fef67a4d5a41ef601ed89d8a5"
 },
 "nbformat": 3,
 "nbformat_minor": 0,
 "worksheets": [
  {
   "cells": [
    {
     "cell_type": "code",
     "collapsed": false,
     "input": [
      "from matplotlib import rcParams\n",
      "rcParams['font.family'] = 'sans-serif'\n",
      "rcParams['font.sans-serif'] = ['Helvetica']\n",
      "import matplotlib.pyplot as plt\n",
      "import matplotlib as mpl\n",
      "\n",
      "from faculty_hiring.misc.plotting import *  # Definitions for LABEL_SIZE and such\n",
      "from faculty_hiring.misc.gaussian_kde import gaussian_kde\n",
      "\n",
      "from collections import Counter\n",
      "from faculty_hiring.parse import faculty_parser, institution_parser\n",
      "from faculty_hiring.parse import load\n",
      "from faculty_hiring.scripts import add_zscores as cur\n",
      "from scipy.stats import ttest_ind, ks_2samp, chi2_contingency\n",
      "from scipy.optimize import curve_fit, minimize\n",
      "from scipy.misc import factorial, comb\n",
      "\n",
      "import scipy as sp\n",
      "import numpy as np\n",
      "import palettable"
     ],
     "language": "python",
     "metadata": {},
     "outputs": [],
     "prompt_number": 1
    },
    {
     "cell_type": "code",
     "collapsed": false,
     "input": [
      "cmap = palettable.tableau.Tableau_10.mpl_colormap\n",
      "colors = palettable.tableau.Tableau_10.mpl_colors\n",
      "sig_level = 0.05"
     ],
     "language": "python",
     "metadata": {},
     "outputs": [],
     "prompt_number": 2
    },
    {
     "cell_type": "code",
     "collapsed": false,
     "input": [
      "faculty_file = '/Users/samway//Documents/Work/ClausetLab/projects/faculty_hiring/data/faculty_cs_0930.txt'\n",
      "inst_file = '/Users/samway/Documents/Work/ClausetLab/projects/faculty_hiring/data/inst_cs.txt'\n",
      "dblp_dir = '/Users/samway/Documents/Work/ClausetLab/projects/faculty_hiring/data/profiles_DBLP_all/'\n",
      "gs_dir = '/Users/samway/Documents/Work/ClausetLab/projects/faculty_hiring/data/profiles_GS_all/'\n",
      "\n",
      "topic_descriptions = ['Image/Signal Processing',  # These correspond to the topic_dists in faculty_cs_0930.txt\n",
      "                      'Communication Networks',\n",
      "                      'Security/Cryptography',\n",
      "                      'HCI/Social Computing',\n",
      "                      'Robotics/Control Theory',\n",
      "                      'Computer Architecture',\n",
      "                      'AI/Machine Learning',\n",
      "                      'Software Engineering',\n",
      "                      'Theory',\n",
      "                      'Distributed Systems']"
     ],
     "language": "python",
     "metadata": {},
     "outputs": [],
     "prompt_number": 3
    },
    {
     "cell_type": "code",
     "collapsed": false,
     "input": [
      "inst = institution_parser.parse_institution_records(open(inst_file))\n",
      "faculty = load.load_assistant_profs(open(faculty_file), inst, ranking='pi_rescaled')\n",
      "load.load_all_publications(faculty, dblp_dir, gs_dir)"
     ],
     "language": "python",
     "metadata": {},
     "outputs": [],
     "prompt_number": 4
    },
    {
     "cell_type": "code",
     "collapsed": false,
     "input": [
      "w = 0.\n",
      "for f in faculty:\n",
      "    if f.is_female:\n",
      "        w += 1\n",
      "        \n",
      "print w/len(faculty), len(faculty)"
     ],
     "language": "python",
     "metadata": {},
     "outputs": [
      {
       "output_type": "stream",
       "stream": "stdout",
       "text": [
        "0.155414012739 3140\n"
       ]
      }
     ],
     "prompt_number": 5
    },
    {
     "cell_type": "heading",
     "level": 2,
     "metadata": {},
     "source": [
      "Rank Difference"
     ]
    },
    {
     "cell_type": "code",
     "collapsed": false,
     "input": [
      "men, women = [], []\n",
      "for f in faculty:\n",
      "    val = f.first_asst_job_rank - f.phd_rank\n",
      "    if f.is_female:\n",
      "        women.append(val)\n",
      "    else:\n",
      "        men.append(val)\n",
      "        \n",
      "stat, pval = ttest_ind(men, women)\n",
      "sig = pval < sig_level    \n",
      "print sig, pval\n",
      "\n",
      "print 'Men avg.   :', np.mean(men)\n",
      "print 'Women avg. :', np.mean(women)"
     ],
     "language": "python",
     "metadata": {},
     "outputs": [
      {
       "output_type": "stream",
       "stream": "stdout",
       "text": [
        "False 0.517274294496\n",
        "Men avg.   : -0.153896699472\n",
        "Women avg. : -0.164137979236\n"
       ]
      }
     ],
     "prompt_number": 132
    },
    {
     "cell_type": "code",
     "collapsed": false,
     "input": [
      "men, women = [], []\n",
      "for f in faculty:\n",
      "    val = f.first_asst_job_rank - f.phd_rank\n",
      "    if not f.has_postdoc or val <= 0:\n",
      "        continue\n",
      "        \n",
      "    if f.is_female:\n",
      "        women.append(val)\n",
      "    else:\n",
      "        men.append(val)\n",
      "        \n",
      "stat, pval = ttest_ind(men, women)\n",
      "sig = pval < sig_level    \n",
      "print sig, pval\n",
      "\n",
      "print 'Men avg.   :', np.mean(men)\n",
      "print 'Women avg. :', np.mean(women)"
     ],
     "language": "python",
     "metadata": {},
     "outputs": [
      {
       "output_type": "stream",
       "stream": "stdout",
       "text": [
        "False 0.682092224586\n",
        "Men avg.   : 0.255876679952\n",
        "Women avg. : 0.239103533426\n"
       ]
      }
     ],
     "prompt_number": 151
    },
    {
     "cell_type": "heading",
     "level": 2,
     "metadata": {},
     "source": [
      "Rank of Placing Institution"
     ]
    },
    {
     "cell_type": "code",
     "collapsed": false,
     "input": [
      "men, women = [], []\n",
      "for f in faculty:\n",
      "    val = f.phd_rank\n",
      "    if f.is_female:\n",
      "        women.append(val)\n",
      "    else:\n",
      "        men.append(val)\n",
      "        \n",
      "stat, pval = ttest_ind(men, women)\n",
      "sig = pval < sig_level    \n",
      "print sig, pval\n",
      "\n",
      "stat, pval = ks_2samp(men, women)\n",
      "sig = pval < sig_level    \n",
      "print sig, pval"
     ],
     "language": "python",
     "metadata": {},
     "outputs": [
      {
       "output_type": "stream",
       "stream": "stdout",
       "text": [
        "False 0.401574581351\n",
        "False 0.786154620176\n"
       ]
      }
     ],
     "prompt_number": 152
    },
    {
     "cell_type": "code",
     "collapsed": false,
     "input": [
      "# ONLY PEOPLE MOVING UP!\n",
      "men, women = [], []\n",
      "for f in faculty:\n",
      "    if f.phd_rank >= f.first_asst_job_rank:\n",
      "        continue\n",
      "        \n",
      "    val = f.phd_rank\n",
      "    if f.is_female:\n",
      "        women.append(val)\n",
      "    else:\n",
      "        men.append(val)\n",
      "        \n",
      "stat, pval = ttest_ind(men, women)\n",
      "sig = pval < sig_level    \n",
      "print sig, pval\n",
      "print 'Number of men  : ', len(men)\n",
      "print 'Number of women: ', len(women)\n",
      "print 'Men average    : ', np.mean(men)\n",
      "print 'Women average  : ', np.mean(women)"
     ],
     "language": "python",
     "metadata": {},
     "outputs": [
      {
       "output_type": "stream",
       "stream": "stdout",
       "text": [
        "True 0.0282038441909\n",
        "Number of men  :  536\n",
        "Number of women:  86\n",
        "Men average    :  0.428877186463\n",
        "Women average  :  0.326616733592\n"
       ]
      }
     ],
     "prompt_number": 157
    },
    {
     "cell_type": "heading",
     "level": 2,
     "metadata": {},
     "source": [
      "Rank of Hiring Institution"
     ]
    },
    {
     "cell_type": "code",
     "collapsed": false,
     "input": [
      "men, women = [], []\n",
      "for f in faculty:\n",
      "    val = f.first_asst_job_rank\n",
      "    if f.is_female:\n",
      "        women.append(val)\n",
      "    else:\n",
      "        men.append(val)\n",
      "        \n",
      "stat, pval = ttest_ind(men, women)\n",
      "sig = pval < sig_level    \n",
      "print sig, pval"
     ],
     "language": "python",
     "metadata": {},
     "outputs": [
      {
       "output_type": "stream",
       "stream": "stdout",
       "text": [
        "False 0.0976212161429\n"
       ]
      }
     ],
     "prompt_number": 85
    },
    {
     "cell_type": "code",
     "collapsed": false,
     "input": [
      "# ONLY PEOPLE MOVING UP!\n",
      "men, women = [], []\n",
      "for f in faculty:\n",
      "    if f.phd_rank < f.first_asst_job_rank:\n",
      "        val = f.first_asst_job_rank\n",
      "        if f.is_female:\n",
      "            women.append(val)\n",
      "        else:\n",
      "            men.append(val)\n",
      "        \n",
      "stat, pval = ttest_ind(men, women)\n",
      "sig = pval < sig_level    \n",
      "print sig, pval\n",
      "print 'Number of men  : ', len(men)\n",
      "print 'Number of women: ', len(women)\n",
      "print 'Men average    : ', np.mean(men)\n",
      "print 'Women average  : ', np.mean(women)"
     ],
     "language": "python",
     "metadata": {},
     "outputs": [
      {
       "output_type": "stream",
       "stream": "stdout",
       "text": [
        "True 0.000860531326226\n",
        "Number of men  :  536\n",
        "Number of women:  86\n",
        "Men average    :  0.715396876987\n",
        "Women average  :  0.615283141613\n"
       ]
      }
     ],
     "prompt_number": 160
    },
    {
     "cell_type": "heading",
     "level": 2,
     "metadata": {},
     "source": [
      "Productivity"
     ]
    },
    {
     "cell_type": "code",
     "collapsed": false,
     "input": [
      "men, women = [], []\n",
      "for f in faculty:\n",
      "    val = f.dblp_z\n",
      "    if f.is_female:\n",
      "        women.append(val)\n",
      "    else:\n",
      "        men.append(val)\n",
      "        \n",
      "stat, pval = ttest_ind(men, women)\n",
      "sig = pval < sig_level    \n",
      "print sig, pval\n",
      "\n",
      "stat, pval = ks_2samp(men, women)\n",
      "sig = pval < sig_level    \n",
      "print sig, pval"
     ],
     "language": "python",
     "metadata": {},
     "outputs": [
      {
       "output_type": "stream",
       "stream": "stdout",
       "text": [
        "False 0.979960054789\n",
        "False 0.27414855319\n"
       ]
      }
     ],
     "prompt_number": 91
    },
    {
     "cell_type": "code",
     "collapsed": false,
     "input": [
      "# ONLY PEOPLE MOVING UP!\n",
      "men, women = [], []\n",
      "for f in faculty:\n",
      "    if f.phd_rank >= f.first_asst_job_rank:\n",
      "        continue\n",
      "        \n",
      "    val = f.dblp_z\n",
      "    if f.is_female:\n",
      "        women.append(val)\n",
      "    else:\n",
      "        men.append(val)\n",
      "        \n",
      "stat, pval = ttest_ind(men, women)\n",
      "sig = pval < sig_level    \n",
      "print sig, pval"
     ],
     "language": "python",
     "metadata": {},
     "outputs": [
      {
       "output_type": "stream",
       "stream": "stdout",
       "text": [
        "False 0.611346303083\n"
       ]
      }
     ],
     "prompt_number": 165
    },
    {
     "cell_type": "code",
     "collapsed": false,
     "input": [
      "# UP/DOWN\n",
      "up, down = [], []\n",
      "for f in faculty:\n",
      "    val = f.dblp_z\n",
      "    if f.phd_rank < f.first_asst_job_rank:\n",
      "        up.append(val)\n",
      "    elif f.phd_rank > f.first_asst_job_rank:\n",
      "        down.append(val)\n",
      "        \n",
      "stat, pval = ttest_ind(up, down)\n",
      "sig = pval < sig_level    \n",
      "print sig, pval\n",
      "\n",
      "print np.mean(up)\n",
      "print np.mean(down)"
     ],
     "language": "python",
     "metadata": {},
     "outputs": [
      {
       "output_type": "stream",
       "stream": "stdout",
       "text": [
        "True 0.00967647760885\n",
        "0.147203872093\n",
        "-0.105604310056\n"
       ]
      }
     ],
     "prompt_number": 170
    },
    {
     "cell_type": "code",
     "collapsed": false,
     "input": [
      "# HAS POSTDOC, JUST WOMEN\n",
      "men, women = [], []\n",
      "for f in faculty:\n",
      "    if not f.has_postdoc:\n",
      "        continue \n",
      "        \n",
      "    val = f.dblp_z\n",
      "    if f.is_female:\n",
      "        women.append(val)\n",
      "    else:\n",
      "        men.append(val)\n",
      "        \n",
      "stat, pval = ks_2samp(men, women)\n",
      "sig = pval < sig_level    \n",
      "print sig, pval\n",
      "\n",
      "print np.mean(up)\n",
      "print np.mean(down)"
     ],
     "language": "python",
     "metadata": {},
     "outputs": [
      {
       "output_type": "stream",
       "stream": "stdout",
       "text": [
        "False 0.236711506774\n",
        "0.0875082717042\n",
        "-0.0585052720879\n"
       ]
      }
     ],
     "prompt_number": 167
    },
    {
     "cell_type": "heading",
     "level": 2,
     "metadata": {},
     "source": [
      "Has Postdoc Experience"
     ]
    },
    {
     "cell_type": "code",
     "collapsed": false,
     "input": [
      "counts = np.zeros((2,2), dtype=float)\n",
      "\n",
      "for f in faculty:\n",
      "    if f.has_postdoc:\n",
      "        if f.is_female:\n",
      "            gender_index = 0\n",
      "        else:\n",
      "            gender_index = 1\n",
      "\n",
      "        if f.first_asst_job_rank < f.phd_rank:\n",
      "            movement_index = 0\n",
      "        elif f.first_asst_job_rank > f.phd_rank:\n",
      "            movement_index = 1\n",
      "        else:\n",
      "            continue # skip self-hires\n",
      "            \n",
      "        counts[gender_index][movement_index] += 1.\n",
      "\n",
      "print 'W\\t', counts[0,:]\n",
      "print 'M\\t', counts[1,:]\n",
      "chi2, pval, dof, ex = chi2_contingency(counts)\n",
      "print '\\nchi2 pval: ', pval\n",
      "print \"Women fraction:\", (counts[0,1] / np.sum(counts[0,:]))\n",
      "print \"Men fraction:\", (counts[1,1] / np.sum(counts[1,:]))"
     ],
     "language": "python",
     "metadata": {},
     "outputs": [
      {
       "output_type": "stream",
       "stream": "stdout",
       "text": [
        "W\t[ 84.  37.]\n",
        "M\t[ 360.  139.]\n",
        "\n",
        "chi2 pval:  0.628689846881\n",
        "Women fraction: 0.305785123967\n",
        "Men fraction: 0.278557114228\n"
       ]
      }
     ],
     "prompt_number": 64
    },
    {
     "cell_type": "code",
     "collapsed": false,
     "input": [
      "counts = np.zeros((2,2), dtype=float)\n",
      "\n",
      "for f in faculty:\n",
      "    if f.is_female:\n",
      "        gender_index = 0\n",
      "    else:\n",
      "        gender_index = 1\n",
      "\n",
      "    val_index = int(f.has_postdoc)\n",
      "    counts[gender_index][val_index] += 1.\n",
      "        \n",
      "print 'W\\t', counts[0,:]\n",
      "print 'M\\t', counts[1,:]\n",
      "chi2, pval, dof, ex = chi2_contingency(counts)\n",
      "print '\\nchi2 pval: ', pval\n",
      "print \"Women fraction:\", (counts[0,1] / np.sum(counts[0,:]))\n",
      "print \"Men fraction:\", (counts[1,1] / np.sum(counts[1,:]))"
     ],
     "language": "python",
     "metadata": {},
     "outputs": [
      {
       "output_type": "stream",
       "stream": "stdout",
       "text": [
        "W\t[ 355.  133.]\n",
        "M\t[ 2118.   534.]\n",
        "\n",
        "chi2 pval:  0.000514736182617\n",
        "Women fraction: 0.272540983607\n",
        "Men fraction: 0.201357466063\n"
       ]
      }
     ],
     "prompt_number": 62
    },
    {
     "cell_type": "code",
     "collapsed": false,
     "input": [
      "men = []\n",
      "women = []\n",
      "\n",
      "for f in faculty:\n",
      "    if f.has_postdoc:\n",
      "        val = f.first_asst_job_rank - f.phd_rank\n",
      "        if f.is_female:\n",
      "            women.append(val)\n",
      "        else:\n",
      "            men.append(val)\n",
      "\n",
      "stat, pval = ks_2samp(men, women)\n",
      "sig = pval < sig_level    \n",
      "print sig, pval\n",
      "\n",
      "print 'Men avg.   :', np.mean(men)\n",
      "print 'Women avg. :', np.mean(women)"
     ],
     "language": "python",
     "metadata": {},
     "outputs": [
      {
       "output_type": "stream",
       "stream": "stdout",
       "text": [
        "False 0.631747392419\n",
        "Men avg.   : -0.0933226536412\n",
        "Women avg. : -0.0761349614587\n"
       ]
      }
     ],
     "prompt_number": 172
    },
    {
     "cell_type": "heading",
     "level": 2,
     "metadata": {},
     "source": [
      "Geography"
     ]
    },
    {
     "cell_type": "code",
     "collapsed": false,
     "input": [
      "'''\n",
      "    For people who stayed in the same region,\n",
      "    Are gender and movement up/down linked?\n",
      "    \n",
      "    Answer: No.\n",
      "'''\n",
      "\n",
      "counts = np.zeros((2,2), dtype=float)\n",
      "\n",
      "for f in faculty:\n",
      "    if f.first_asst_job_region == f.phd_region:\n",
      "        if f.is_female:\n",
      "            gender_index = 0\n",
      "        else:\n",
      "            gender_index = 1\n",
      "\n",
      "        if f.first_asst_job_rank < f.phd_rank:\n",
      "            movement_index = 0\n",
      "        elif f.first_asst_job_rank > f.phd_rank:\n",
      "            movement_index = 1\n",
      "        else:\n",
      "            continue # skip self-hires\n",
      "            \n",
      "        counts[gender_index][movement_index] += 1.\n",
      "\n",
      "print 'W\\t', counts[0,:]\n",
      "print 'M\\t', counts[1,:]\n",
      "chi2, pval, dof, ex = chi2_contingency(counts)\n",
      "print '\\nchi2 pval: ', pval\n",
      "print \"Women fraction:\", (counts[0,1] / np.sum(counts[0,:]))\n",
      "print \"Men fraction:\", (counts[1,1] / np.sum(counts[1,:]))"
     ],
     "language": "python",
     "metadata": {},
     "outputs": [
      {
       "output_type": "stream",
       "stream": "stdout",
       "text": [
        "W\t[ 130.   20.]\n",
        "M\t[ 679.  103.]\n",
        "\n",
        "chi2 pval:  0.937835679726\n",
        "Women fraction: 0.133333333333\n",
        "Men fraction: 0.131713554987\n"
       ]
      }
     ],
     "prompt_number": 173
    },
    {
     "cell_type": "code",
     "collapsed": false,
     "input": [
      "'''\n",
      "    Do women stay in the same spot at a higher rate than men?\n",
      "    \n",
      "    Answer: No.\n",
      "'''\n",
      "\n",
      "counts = np.zeros((2,2), dtype=float)\n",
      "\n",
      "for f in faculty:\n",
      "    if f.is_female:\n",
      "        gender_index = 0\n",
      "    else:\n",
      "        gender_index = 1\n",
      "\n",
      "    val_index = int(f.phd_region == f.first_asst_job_region)\n",
      "    counts[gender_index][val_index] += 1.\n",
      "        \n",
      "print 'W\\t', counts[0,:]\n",
      "print 'M\\t', counts[1,:]\n",
      "chi2, pval, dof, ex = chi2_contingency(counts)\n",
      "print '\\nchi2 pval: ', pval\n",
      "print \"Women fraction:\", (counts[0,1] / np.sum(counts[0,:]))\n",
      "print \"Men fraction:\", (counts[1,1] / np.sum(counts[1,:]))"
     ],
     "language": "python",
     "metadata": {},
     "outputs": [
      {
       "output_type": "stream",
       "stream": "stdout",
       "text": [
        "W\t[ 294.  194.]\n",
        "M\t[ 1671.   981.]\n",
        "\n",
        "chi2 pval:  0.267721577398\n",
        "Women fraction: 0.397540983607\n",
        "Men fraction: 0.369909502262\n"
       ]
      }
     ],
     "prompt_number": 65
    },
    {
     "cell_type": "code",
     "collapsed": false,
     "input": [
      "'''\n",
      "    Do people who stay in the same spot tend to move up/down\n",
      "    more than we'd expect?\n",
      "    \n",
      "    Answer: Yes. People who moved around the country tended\n",
      "            to move up the ranks more often than people who\n",
      "            stayed in the same region.\n",
      "'''\n",
      "\n",
      "counts = np.zeros((2,2), dtype=float)\n",
      "\n",
      "for f in faculty:\n",
      "    val_index = int(f.first_asst_job_region == f.phd_region)\n",
      "\n",
      "    if f.first_asst_job_rank < f.phd_rank:\n",
      "        movement_index = 0\n",
      "    elif f.first_asst_job_rank > f.phd_rank:\n",
      "        movement_index = 1\n",
      "    else:\n",
      "        continue # skip self-hires\n",
      "\n",
      "    counts[val_index][movement_index] += 1.\n",
      "\n",
      "print 'N\\t', counts[0,:]\n",
      "print 'Y\\t', counts[1,:]\n",
      "chi2, pval, dof, ex = chi2_contingency(counts)\n",
      "print '\\nchi2 pval: ', pval\n",
      "print \"N fraction:\", (counts[0,1] / np.sum(counts[0,:]))\n",
      "print \"Y fraction:\", (counts[1,1] / np.sum(counts[1,:]))"
     ],
     "language": "python",
     "metadata": {},
     "outputs": [
      {
       "output_type": "stream",
       "stream": "stdout",
       "text": [
        "N\t[ 1466.   499.]\n",
        "Y\t[ 809.  123.]\n",
        "\n",
        "chi2 pval:  1.17113293464e-13\n",
        "N fraction: 0.253944020356\n",
        "Y fraction: 0.131974248927\n"
       ]
      }
     ],
     "prompt_number": 174
    },
    {
     "cell_type": "code",
     "collapsed": false,
     "input": [
      "'''\n",
      "    Conditioned on moving up, do women move more or less frequently than men? \n",
      "    \n",
      "    Answer: No.\n",
      "'''\n",
      "counts = np.zeros((2,2), dtype=float)\n",
      "\n",
      "for f in faculty:\n",
      "    if f.first_asst_job_rank > f.phd_rank:\n",
      "        gender_index = int(not f.is_female)\n",
      "        val_index = int(f.first_asst_job_region == f.phd_region)\n",
      "        counts[gender_index][val_index] += 1.\n",
      "\n",
      "print 'W\\t', counts[0,:]\n",
      "print 'M\\t', counts[1,:]\n",
      "chi2, pval, dof, ex = chi2_contingency(counts)\n",
      "print '\\nchi2 pval: ', pval\n",
      "print \"Women fraction:\", (counts[0,1] / np.sum(counts[0,:]))\n",
      "print \"Men fraction:\", (counts[1,1] / np.sum(counts[1,:]))"
     ],
     "language": "python",
     "metadata": {},
     "outputs": [
      {
       "output_type": "stream",
       "stream": "stdout",
       "text": [
        "W\t[ 66.  20.]\n",
        "M\t[ 433.  103.]\n",
        "\n",
        "chi2 pval:  0.467084297109\n",
        "Women fraction: 0.232558139535\n",
        "Men fraction: 0.192164179104\n"
       ]
      }
     ],
     "prompt_number": 189
    },
    {
     "cell_type": "code",
     "collapsed": false,
     "input": [],
     "language": "python",
     "metadata": {},
     "outputs": []
    }
   ],
   "metadata": {}
  }
 ]
}