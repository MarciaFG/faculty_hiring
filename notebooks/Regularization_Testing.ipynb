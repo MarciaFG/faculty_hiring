{
 "metadata": {
  "name": "",
  "signature": "sha256:49cde9823dea9e46c95185acd8382e4ddb1bbd9492ab071def8f9cec43e8c4d5"
 },
 "nbformat": 3,
 "nbformat_minor": 0,
 "worksheets": [
  {
   "cells": [
    {
     "cell_type": "code",
     "collapsed": false,
     "input": [
      "from faculty_hiring.misc.plotting import *  # Definitions for LABEL_SIZE and such\n",
      "\n",
      "from faculty_hiring.scripts.get_best import get_best_from_file\n",
      "from faculty_hiring.parse.load import load_assistant_prof_pools\n",
      "from faculty_hiring.parse.institution_parser import parse_institution_records\n",
      "from faculty_hiring.models.simulation_engine import SimulationEngine\n",
      "from faculty_hiring.models.null_models import ConfigurationModel, BestFirstModel\n",
      "from faculty_hiring.models.sigmoid_models import SigmoidModel\n",
      "from faculty_hiring.misc.hiring_orders import load_hiring_order_set\n",
      "\n",
      "import scipy as sp\n",
      "import numpy as np\n",
      "import palettable\n",
      "import os\n",
      "import glob\n",
      "\n",
      "from collections import Counter\n",
      "from scipy.stats import ttest_ind, ks_2samp, mannwhitneyu\n",
      "from scipy.optimize import curve_fit, minimize\n",
      "from scipy.misc import factorial, comb"
     ],
     "language": "python",
     "metadata": {},
     "outputs": [],
     "prompt_number": 1
    },
    {
     "cell_type": "code",
     "collapsed": false,
     "input": [
      "faculty_file = '/Users/samway/Documents/Work/ClausetLab/projects/faculty_hiring/data/faculty_cs_CURRENT.txt'\n",
      "inst_file = '/Users/samway/Documents/Work/ClausetLab/projects/faculty_hiring/data/inst_cs_CURRENT.txt'\n",
      "hiring_orders_file = '/Users/samway/Documents/Work/ClausetLab/projects/faculty_hiring/data/hiring_orders_100.pkl'\n",
      "figures_dir = '/Users/samway/Documents/Work/ClausetLab/projects/faculty_hiring/notebooks/figures/'\n",
      "notebook_prefix = 'REG_TESTING_'\n",
      "\n",
      "inst = parse_institution_records(open(inst_file, 'rU'))\n",
      "candidate_pools, job_pools, job_ranks, year_range = load_assistant_prof_pools(open(faculty_file),\n",
      "                                                                              school_info=inst,\n",
      "                                                                              ranking='pi_rescaled',\n",
      "                                                                              year_start=1970,\n",
      "                                                                              year_stop=2012,\n",
      "                                                                              year_step=1)\n",
      "hiring_orders, hiring_probs = load_hiring_order_set(hiring_orders_file)\n",
      "held_out_years = [1980,1991,1996,2002,2006]"
     ],
     "language": "python",
     "metadata": {},
     "outputs": [],
     "prompt_number": 2
    },
    {
     "cell_type": "code",
     "collapsed": false,
     "input": [
      "testing_candidates, testing_jobs, testing_job_ranks = [], [], []\n",
      "testing_orders, testing_probs = [], []\n",
      "for i, year in enumerate(year_range):\n",
      "    if year in held_out_years:\n",
      "        testing_candidates.append(candidate_pools[i])\n",
      "        testing_jobs.append(job_pools[i])\n",
      "        testing_job_ranks.append(job_ranks[i])\n",
      "        testing_orders.append(hiring_orders[i])\n",
      "        testing_probs.append(hiring_probs[i])"
     ],
     "language": "python",
     "metadata": {},
     "outputs": [],
     "prompt_number": 102
    },
    {
     "cell_type": "code",
     "collapsed": false,
     "input": [
      "reg_dir = '/Users/samway/Documents/Work/ClausetLab/projects/faculty_hiring/notebooks/reg_files/*.txt'\n",
      "reg_files = []\n",
      "\n",
      "'''\n",
      ">>> s = 'OPT_3_ML_rd_pr_rh_1.0_COLLECTED.txt'\n",
      ">>> s.rsplit('_', 2)\n",
      "['OPT_3_ML_rd_pr_rh', '1.0', 'COLLECTED.txt']\n",
      "'''\n",
      "\n",
      "for filename in glob.glob(reg_dir):\n",
      "    pieces = filename.rsplit('_', 2)\n",
      "    amount = float(pieces[1])\n",
      "    model_name = os.path.basename(pieces[0]).split('_', 3)[3]\n",
      "    reg_files.append((amount, filename))\n",
      "reg_files = sorted(reg_files)\n",
      "\n",
      "alphas = [r[0] for r in reg_files]\n",
      "how_many = 5  # How many values to entertain.\n",
      "heldout_likelihoods = np.zeros((len(alphas), how_many), dtype=float)\n",
      "\n",
      "model = SigmoidModel(prob_function=model_name)\n",
      "simulator = SimulationEngine(testing_candidates, testing_jobs, testing_job_ranks, inst, model, power=1, reg=0,\n",
      "                             hiring_orders=testing_orders, hiring_probs=testing_probs)"
     ],
     "language": "python",
     "metadata": {},
     "outputs": [],
     "prompt_number": 121
    },
    {
     "cell_type": "code",
     "collapsed": false,
     "input": [
      "for i, (alpha, filename) in enumerate(reg_files):\n",
      "    best_fits = get_best_from_file(filename, how_many)\n",
      "    \n",
      "    for j in xrange(how_many):\n",
      "        w = best_fits[j][1]\n",
      "        heldout_likelihoods[i][j] = simulator.calculate_neg_log_likelihood(weights=w, verbose=False)"
     ],
     "language": "python",
     "metadata": {},
     "outputs": [],
     "prompt_number": 122
    },
    {
     "cell_type": "code",
     "collapsed": false,
     "input": [
      "fig, ax = plt.subplots(figsize=(6,4))\n",
      "\n",
      "ax.semilogx(alphas, np.median(heldout_likelihoods, axis=1), '-ok', clip_on=False)\n",
      "hide_right_top_axis(ax)\n",
      "ax.set_xlabel('Regularization penalty', fontsize=LABEL_SIZE)\n",
      "ax.set_ylabel('Negative Log Likelihood', fontsize=LABEL_SIZE)\n",
      "ax.tick_params(axis='both', which='major', labelsize=LABEL_SIZE)\n",
      "ax.tick_params(axis='x', pad=XLABEL_PAD)\n",
      "ax.set_title(model_name, fontsize=LABEL_SIZE)\n",
      "\n",
      "plt.show()"
     ],
     "language": "python",
     "metadata": {},
     "outputs": [
      {
       "metadata": {},
       "output_type": "display_data",
       "png": "[encoded data removed]",
       "text": [
        "<matplotlib.figure.Figure at 0x109d71810>"
       ]
      }
     ],
     "prompt_number": 123
    },
    {
     "cell_type": "code",
     "collapsed": false,
     "input": [],
     "language": "python",
     "metadata": {},
     "outputs": []
    }
   ],
   "metadata": {}
  }
 ]
}