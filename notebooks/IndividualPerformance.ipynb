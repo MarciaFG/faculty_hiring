{
 "metadata": {
  "name": "",
  "signature": "sha256:bacebc0df10a08bbac25ed1af03793dcebf6de342325e926ef8b58f75a98bb5b"
 },
 "nbformat": 3,
 "nbformat_minor": 0,
 "worksheets": [
  {
   "cells": [
    {
     "cell_type": "code",
     "collapsed": false,
     "input": [
      "from faculty_hiring.misc.plotting import *  # Definitions for LABEL_SIZE and such\n",
      "from faculty_hiring.misc.gaussian_kde import gaussian_kde\n",
      "from faculty_hiring.models.simulation_engine import SimulationEngine\n",
      "from faculty_hiring.models.sigmoid_models import SigmoidModel\n",
      "\n",
      "import re\n",
      "import os\n",
      "import cPickle as pickle\n",
      "from collections import Counter\n",
      "from faculty_hiring.parse import faculty_parser, institution_parser\n",
      "from faculty_hiring.parse import load\n",
      "from faculty_hiring.scripts import add_zscores as cur\n",
      "from scipy.stats import ttest_ind, ks_2samp, chi2_contingency\n",
      "from scipy.optimize import curve_fit, minimize\n",
      "from scipy.misc import factorial, comb\n",
      "from mpl_toolkits.axes_grid1 import make_axes_locatable\n",
      "\n",
      "import scipy as sp\n",
      "import numpy as np\n",
      "import palettable"
     ],
     "language": "python",
     "metadata": {},
     "outputs": [],
     "prompt_number": 4
    },
    {
     "cell_type": "code",
     "collapsed": false,
     "input": [
      "cmap = palettable.tableau.Tableau_10.mpl_colormap\n",
      "colors = palettable.tableau.Tableau_10.mpl_colors\n",
      "sig_level = 0.05\n",
      "\n",
      "faculty_file = '/Users/samway//Documents/Work/ClausetLab/projects/faculty_hiring/data/faculty_cs_0930.txt'\n",
      "inst_file = '/Users/samway/Documents/Work/ClausetLab/projects/faculty_hiring/data/inst_cs.txt'\n",
      "dblp_dir = '/Users/samway/Documents/Work/ClausetLab/projects/faculty_hiring/data/profiles_DBLP_all/'\n",
      "gs_dir = '/Users/samway/Documents/Work/ClausetLab/projects/faculty_hiring/data/profiles_GS_all/'\n",
      "\n",
      "figures_dir = '/Users/samway/Documents/Work/ClausetLab/projects/faculty_hiring/notebooks/figures/'\n",
      "traj_figures_dir = '/Users/samway/Documents/Work/ClausetLab/projects/faculty_hiring/notebooks/figures/trajectories/'"
     ],
     "language": "python",
     "metadata": {},
     "outputs": [],
     "prompt_number": 5
    },
    {
     "cell_type": "code",
     "collapsed": false,
     "input": [
      "inst = institution_parser.parse_institution_records(open(inst_file))\n",
      "candidate_pools, job_pools, job_ranks, year_range = load.load_assistant_prof_pools(open(faculty_file),\n",
      "                                                                                   school_info=inst,\n",
      "                                                                                   ranking='pi_rescaled',\n",
      "                                                                                   year_start=1970,\n",
      "                                                                                   year_stop=2012,\n",
      "                                                                                   year_step=1)\n",
      "\n",
      "model_weights = np.array([33.50515855,-115.91673249,-91.18207735,10.74285411,40.06731808,4.32774111,0.85881908])  # 'all'\n",
      "model = SigmoidModel(prob_function='all', weights=model_weights)\n",
      "simulator = SimulationEngine(candidate_pools, job_pools, job_ranks, inst, model)\n",
      "\n",
      "#model_weights = np.array([54.60023718,-100.2430182,-134.20413473,33.18501126,54.58562812,24.29300306]) # 'no_gd'\n",
      "#model = SigmoidModel(prob_function='no_gd', weights=model_weights)\n",
      "#simulator = SimulationEngine(candidate_pools, job_pools, job_ranks, inst, model)"
     ],
     "language": "python",
     "metadata": {},
     "outputs": [],
     "prompt_number": 6
    },
    {
     "cell_type": "code",
     "collapsed": false,
     "input": [
      "num_rounds = len(candidate_pools)\n",
      "num_iterations = 1000\n",
      "women = []\n",
      "everyone = []\n",
      "for pool in candidate_pools:\n",
      "    for person, rank in pool:\n",
      "        if person.is_female:\n",
      "            women.append(person)\n",
      "        everyone.append(person)\n",
      "job_lists = {p:[] for p in everyone}\n",
      "\n",
      "for t in xrange(num_iterations):\n",
      "    if t % 100 == 0:\n",
      "        print t\n",
      "    hires = simulator.generate_network(one_list=False)  # one_list=False keeps things separated by year!\n",
      "    for r, hiring_round in enumerate(hires):\n",
      "        for person, place in hiring_round:\n",
      "            job_lists[person].append(place)\n",
      "                \n",
      "print 'Done!'"
     ],
     "language": "python",
     "metadata": {},
     "outputs": [
      {
       "output_type": "stream",
       "stream": "stdout",
       "text": [
        "0\n",
        "100"
       ]
      },
      {
       "output_type": "stream",
       "stream": "stdout",
       "text": [
        "\n",
        "200"
       ]
      },
      {
       "output_type": "stream",
       "stream": "stdout",
       "text": [
        "\n",
        "300"
       ]
      },
      {
       "output_type": "stream",
       "stream": "stdout",
       "text": [
        "\n",
        "400"
       ]
      },
      {
       "output_type": "stream",
       "stream": "stdout",
       "text": [
        "\n",
        "500"
       ]
      },
      {
       "output_type": "stream",
       "stream": "stdout",
       "text": [
        "\n",
        "600"
       ]
      },
      {
       "output_type": "stream",
       "stream": "stdout",
       "text": [
        "\n",
        "700"
       ]
      },
      {
       "output_type": "stream",
       "stream": "stdout",
       "text": [
        "\n",
        "800"
       ]
      },
      {
       "output_type": "stream",
       "stream": "stdout",
       "text": [
        "\n",
        "900"
       ]
      },
      {
       "output_type": "stream",
       "stream": "stdout",
       "text": [
        "\n",
        "Done!"
       ]
      },
      {
       "output_type": "stream",
       "stream": "stdout",
       "text": [
        "\n"
       ]
      }
     ],
     "prompt_number": 16
    },
    {
     "cell_type": "code",
     "collapsed": false,
     "input": [
      "if True:\n",
      "    with open('jobLists1k.pkl', 'wb') as handle:\n",
      "        pickle.dump(job_lists, handle)"
     ],
     "language": "python",
     "metadata": {},
     "outputs": [],
     "prompt_number": 17
    },
    {
     "cell_type": "code",
     "collapsed": false,
     "input": [
      "person = everyone[0]\n",
      "ranking = 'pi_rescaled'\n",
      "men_diffs = []\n",
      "women_diffs = []\n",
      "\n",
      "for person in everyone:\n",
      "    for i, place in enumerate(job_lists[person]):\n",
      "        job_rank = inst.get(place, inst['UNKNOWN'])[ranking]\n",
      "        if person.is_female:\n",
      "            women_diffs.append(job_rank - person.first_asst_job_rank)\n",
      "        else:\n",
      "            men_diffs.append(job_rank - person.first_asst_job_rank)"
     ],
     "language": "python",
     "metadata": {},
     "outputs": [],
     "prompt_number": 24
    },
    {
     "cell_type": "code",
     "collapsed": false,
     "input": [
      "stat, pval = ttest_ind(men_diffs, women_diffs)\n",
      "sig = pval < sig_level    \n",
      "print sig, pval\n",
      "\n",
      "print 'Negative means the actual job rank is lower than simulated'\n",
      "print 'PhD-Job Rank:'\n",
      "print 'MEN  : ', np.mean(men_diffs)\n",
      "print 'WOMEN: ', np.mean(women_diffs)"
     ],
     "language": "python",
     "metadata": {},
     "outputs": [
      {
       "output_type": "stream",
       "stream": "stdout",
       "text": [
        "True 0.0\n",
        "Negative means the actual job rank is lower than simulated\n",
        "PhD-Job Rank:\n",
        "MEN  :  "
       ]
      },
      {
       "output_type": "stream",
       "stream": "stdout",
       "text": [
        "0.0109059797507\n",
        "WOMEN:  "
       ]
      },
      {
       "output_type": "stream",
       "stream": "stdout",
       "text": [
        "-0.0191235050119\n"
       ]
      }
     ],
     "prompt_number": 38
    },
    {
     "cell_type": "code",
     "collapsed": false,
     "input": [
      "# EXCLUDING SELF-HIRES (nsh=no self hires)\n",
      "men_nsh = np.array(men_diffs)\n",
      "women_nsh = np.array(women_diffs)\n",
      "\n",
      "men_nsh = men_nsh[np.where(men_nsh != 0.)]\n",
      "women_nsh = women_nsh[np.where(women_nsh != 0.)]\n",
      "\n",
      "stat, pval = ttest_ind(men_nsh, women_nsh)\n",
      "sig = pval < sig_level    \n",
      "print sig, pval\n",
      "\n",
      "print 'Negative means the actual job rank is lower than simulated'\n",
      "print 'PhD-Job Rank:'\n",
      "print 'MEN  : ', np.mean(men_nsh)\n",
      "print 'WOMEN: ', np.mean(women_nsh)"
     ],
     "language": "python",
     "metadata": {},
     "outputs": [
      {
       "output_type": "stream",
       "stream": "stdout",
       "text": [
        "True 0.0\n",
        "Negative means the actual job rank is lower than simulated\n",
        "PhD-Job Rank:\n",
        "MEN  :  0.0112766347338\n",
        "WOMEN:  -0.0197049036703\n"
       ]
      }
     ],
     "prompt_number": 40
    },
    {
     "cell_type": "code",
     "collapsed": false,
     "input": [
      "bins = np.linspace(-1, 1, 100)\n",
      "\n",
      "x = linspace(-1,1, 1000)\n",
      "pdf = gaussian_kde(men_nsh)\n",
      "y = pdf(x)\n",
      "ax.plot(x,y,label=topic_descriptions[selected_topic], linewidth=2, c=colors[selected_topic])\n",
      "\n",
      "#hist(men_nsh, bins=bins, normed=True)\n",
      "#hist(women_nsh, bins=bins, normed=True)\n",
      "plt.show()"
     ],
     "language": "python",
     "metadata": {},
     "outputs": []
    },
    {
     "cell_type": "code",
     "collapsed": false,
     "input": [],
     "language": "python",
     "metadata": {},
     "outputs": []
    }
   ],
   "metadata": {}
  }
 ]
}