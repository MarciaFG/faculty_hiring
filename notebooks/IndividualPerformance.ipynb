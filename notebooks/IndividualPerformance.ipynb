{
 "metadata": {
  "name": "",
  "signature": "sha256:2188a8de49007687598aaa1fa18ee104acd8c82ec654e7ee6b883190b6e9a611"
 },
 "nbformat": 3,
 "nbformat_minor": 0,
 "worksheets": [
  {
   "cells": [
    {
     "cell_type": "code",
     "collapsed": false,
     "input": [
      "from faculty_hiring.misc.plotting import *  # Definitions for LABEL_SIZE and such\n",
      "from faculty_hiring.misc.gaussian_kde import gaussian_kde\n",
      "from faculty_hiring.models.simulation_engine import SimulationEngine\n",
      "from faculty_hiring.models.sigmoid_models import SigmoidModel\n",
      "\n",
      "import re\n",
      "import os\n",
      "import cPickle as pickle\n",
      "from collections import Counter\n",
      "from faculty_hiring.parse import faculty_parser, institution_parser\n",
      "from faculty_hiring.parse import load\n",
      "from faculty_hiring.scripts import add_zscores as cur\n",
      "from scipy.stats import ttest_ind, ks_2samp, chi2_contingency, mannwhitneyu, pearsonr\n",
      "from scipy.optimize import curve_fit, minimize\n",
      "from scipy.misc import factorial, comb\n",
      "from mpl_toolkits.axes_grid1 import make_axes_locatable\n",
      "\n",
      "import scipy as sp\n",
      "import numpy as np\n",
      "import palettable"
     ],
     "language": "python",
     "metadata": {},
     "outputs": [],
     "prompt_number": 2
    },
    {
     "cell_type": "code",
     "collapsed": false,
     "input": [
      "cmap = palettable.tableau.Tableau_10.mpl_colormap\n",
      "colors = palettable.tableau.Tableau_10.mpl_colors\n",
      "sig_level = 0.05\n",
      "\n",
      "faculty_file = '/Users/samway//Documents/Work/ClausetLab/projects/faculty_hiring/data/faculty_cs_CURRENT.txt'\n",
      "inst_file = '/Users/samway/Documents/Work/ClausetLab/projects/faculty_hiring/data/inst_cs.txt'\n",
      "dblp_dir = '/Users/samway/Documents/Work/ClausetLab/projects/faculty_hiring/data/profiles_DBLP_all/'\n",
      "gs_dir = '/Users/samway/Documents/Work/ClausetLab/projects/faculty_hiring/data/profiles_GS_all/'\n",
      "\n",
      "figures_dir = '/Users/samway/Documents/Work/ClausetLab/projects/faculty_hiring/notebooks/figures/'\n",
      "traj_figures_dir = '/Users/samway/Documents/Work/ClausetLab/projects/faculty_hiring/notebooks/figures/trajectories/'"
     ],
     "language": "python",
     "metadata": {},
     "outputs": [],
     "prompt_number": 3
    },
    {
     "cell_type": "code",
     "collapsed": false,
     "input": [
      "inst = institution_parser.parse_institution_records(open(inst_file))\n",
      "candidate_pools, job_pools, job_ranks, year_range = load.load_assistant_prof_pools(open(faculty_file),\n",
      "                                                                                   school_info=inst,\n",
      "                                                                                   ranking='pi_rescaled',\n",
      "                                                                                   year_start=1970,\n",
      "                                                                                   year_stop=2012,\n",
      "                                                                                   year_step=1)\n",
      "\n",
      "model_weights = np.array([33.50515855,-115.91673249,-91.18207735,10.74285411,40.06731808,4.32774111,0.85881908])  # 'all'\n",
      "model_weights = np.array([39.31690879,-108.76221608,-97.04099398,5.06092475,6.57887465,5.78807286,3.86852993])\n",
      "\n",
      "model = SigmoidModel(prob_function='all', weights=model_weights)\n",
      "simulator = SimulationEngine(candidate_pools, job_pools, job_ranks, inst, model)\n",
      "\n",
      "#model_weights = np.array([54.60023718,-100.2430182,-134.20413473,33.18501126,54.58562812,24.29300306]) # 'no_gd'\n",
      "#model = SigmoidModel(prob_function='no_gd', weights=model_weights)\n",
      "#simulator = SimulationEngine(candidate_pools, job_pools, job_ranks, inst, model)\n",
      "\n",
      "num_rounds = len(candidate_pools)\n",
      "num_iterations = 1000\n",
      "women = []\n",
      "everyone = []\n",
      "for pool in candidate_pools:\n",
      "    for person, rank in pool:\n",
      "        if person.is_female:\n",
      "            women.append(person)\n",
      "        everyone.append(person)"
     ],
     "language": "python",
     "metadata": {},
     "outputs": [],
     "prompt_number": 4
    },
    {
     "cell_type": "code",
     "collapsed": false,
     "input": [
      "job_lists = {p:[] for p in everyone}\n",
      "\n",
      "for t in xrange(num_iterations):\n",
      "    if t % 100 == 0:\n",
      "        print t\n",
      "    hires = simulator.generate_network(one_list=False)  # one_list=False keeps things separated by year!\n",
      "    for r, hiring_round in enumerate(hires):\n",
      "        for person, place in hiring_round:\n",
      "            job_lists[person].append(place)\n",
      "                \n",
      "print 'Done!'"
     ],
     "language": "python",
     "metadata": {},
     "outputs": [
      {
       "output_type": "stream",
       "stream": "stdout",
       "text": [
        "0\n",
        "100"
       ]
      },
      {
       "output_type": "stream",
       "stream": "stdout",
       "text": [
        "\n",
        "200"
       ]
      },
      {
       "output_type": "stream",
       "stream": "stdout",
       "text": [
        "\n",
        "300"
       ]
      },
      {
       "output_type": "stream",
       "stream": "stdout",
       "text": [
        "\n",
        "400"
       ]
      },
      {
       "output_type": "stream",
       "stream": "stdout",
       "text": [
        "\n",
        "500"
       ]
      },
      {
       "output_type": "stream",
       "stream": "stdout",
       "text": [
        "\n",
        "600"
       ]
      },
      {
       "output_type": "stream",
       "stream": "stdout",
       "text": [
        "\n",
        "700"
       ]
      },
      {
       "output_type": "stream",
       "stream": "stdout",
       "text": [
        "\n",
        "800"
       ]
      },
      {
       "output_type": "stream",
       "stream": "stdout",
       "text": [
        "\n",
        "900"
       ]
      },
      {
       "output_type": "stream",
       "stream": "stdout",
       "text": [
        "\n",
        "Done!"
       ]
      },
      {
       "output_type": "stream",
       "stream": "stdout",
       "text": [
        "\n"
       ]
      }
     ],
     "prompt_number": 6
    },
    {
     "cell_type": "code",
     "collapsed": false,
     "input": [
      "if False:\n",
      "    with open('jobLists1k.pkl', 'wb') as handle:\n",
      "        pickle.dump(job_lists, handle)\n",
      "if False:\n",
      "    with open('jobLists1k.pkl', 'rb') as handle:\n",
      "        job_lists = pickle.load(handle)"
     ],
     "language": "python",
     "metadata": {},
     "outputs": [],
     "prompt_number": 15
    },
    {
     "cell_type": "heading",
     "level": 2,
     "metadata": {},
     "source": [
      "Fraction of hires outperformed"
     ]
    },
    {
     "cell_type": "code",
     "collapsed": false,
     "input": [
      "def get_frac_outperformed(person):\n",
      "    num_places = float(len(job_lists[person]))\n",
      "    count = 0.\n",
      "    for i, place in enumerate(job_lists[person]):\n",
      "        job_rank = inst.get(place, inst['UNKNOWN'])[ranking]\n",
      "        if job_rank < person.first_asst_job_rank:\n",
      "            count += 1  # Better than expected.\n",
      "            \n",
      "    return count / num_places"
     ],
     "language": "python",
     "metadata": {},
     "outputs": [],
     "prompt_number": 50
    },
    {
     "cell_type": "code",
     "collapsed": false,
     "input": [
      "ranking = 'pi_rescaled'\n",
      "men_fracs = []\n",
      "women_fracs = []\n",
      "\n",
      "for person in everyone:\n",
      "    frac = get_frac_outperformed(person)\n",
      "    if person.is_female:\n",
      "        women_fracs.append(frac)\n",
      "    else:\n",
      "        men_fracs.append(frac)"
     ],
     "language": "python",
     "metadata": {},
     "outputs": [],
     "prompt_number": 51
    },
    {
     "cell_type": "code",
     "collapsed": false,
     "input": [
      "bins = np.linspace(0,1,100)\n",
      "\n",
      "hist(men_fracs, bins=bins, normed=True, color=DARK_COLOR)\n",
      "hist(women_fracs, bins=bins, normed=True, color=FEMALE_COLOR)\n",
      "\n",
      "print mannwhitneyu(women_fracs, men_fracs)\n",
      "print np.median(women_fracs)\n",
      "print np.median(men_fracs)"
     ],
     "language": "python",
     "metadata": {},
     "outputs": [
      {
       "output_type": "stream",
       "stream": "stdout",
       "text": [
        "MannwhitneyuResult(statistic=439002.5, pvalue=0.0049113892438134308)\n",
        "0.535\n",
        "0.492\n"
       ]
      },
      {
       "metadata": {},
       "output_type": "display_data",
       "png": "[encoded data removed]",
       "text": [
        "<matplotlib.figure.Figure at 0x121180a90>"
       ]
      }
     ],
     "prompt_number": 52
    },
    {
     "cell_type": "code",
     "collapsed": false,
     "input": [
      "ranking = 'pi_rescaled'\n",
      "ypd = []\n",
      "npd = []\n",
      "\n",
      "for person in everyone:\n",
      "    if person.is_female:\n",
      "        num_places = float(len(job_lists[person]))\n",
      "        count = 0.\n",
      "        for i, place in enumerate(job_lists[person]):\n",
      "            job_rank = inst.get(place, inst['UNKNOWN'])[ranking]\n",
      "            if job_rank < person.first_asst_job_rank:\n",
      "                count += 1  # Better than expected.\n",
      "            \n",
      "        frac = count / num_places\n",
      "        if person.has_postdoc:\n",
      "            ypd.append(frac)\n",
      "        else:\n",
      "            npd.append(frac)\n",
      "            \n",
      "hist(npd, bins=bins, normed=True, color=DARK_COLOR)\n",
      "hist(ypd, bins=bins, normed=True, color=FEMALE_COLOR)\n",
      "            \n",
      "print mannwhitneyu(ypd, npd)\n",
      "print np.median(ypd)\n",
      "print np.median(npd)"
     ],
     "language": "python",
     "metadata": {},
     "outputs": [
      {
       "output_type": "stream",
       "stream": "stdout",
       "text": [
        "MannwhitneyuResult(statistic=16630.5, pvalue=0.47989660630201253)\n",
        "0.532\n",
        "0.5395\n"
       ]
      },
      {
       "metadata": {},
       "output_type": "display_data",
       "png": "[encoded data removed]",
       "text": [
        "<matplotlib.figure.Figure at 0x122f48f90>"
       ]
      }
     ],
     "prompt_number": 53
    },
    {
     "cell_type": "heading",
     "level": 2,
     "metadata": {},
     "source": [
      "Rank differences"
     ]
    },
    {
     "cell_type": "code",
     "collapsed": false,
     "input": [
      "'''\n",
      "    Do women out-/under-perform more than the men?\n",
      "    \n",
      "    Answer: YES. Men are more likely to exceed model outcomes. \n",
      "'''\n",
      "\n",
      "counts = np.zeros((2,2), dtype=float)\n",
      "\n",
      "for person in everyone:\n",
      "    for i, place in enumerate(job_lists[person]):\n",
      "        job_rank = inst[place][ranking]\n",
      "        val_index = int(job_rank < person.first_asst_job_rank)\n",
      "\n",
      "        if person.is_female:\n",
      "            gender_index = 0\n",
      "        else:\n",
      "            gender_index = 1\n",
      "\n",
      "        counts[gender_index][val_index] += 1.\n",
      "\n",
      "print 'F  \\t', counts[0,:]\n",
      "print 'M \\t', counts[1,:]\n",
      "chi2, pval, dof, ex = chi2_contingency(counts)\n",
      "\n",
      "print '\\n', pval < sig_level\n",
      "print 'chi2 pval: ', pval\n",
      "print \"F  fraction:\", (counts[0,1] / np.sum(counts[0,:]))\n",
      "print \"M fraction:\", (counts[1,1] / np.sum(counts[1,:]))"
     ],
     "language": "python",
     "metadata": {},
     "outputs": [
      {
       "output_type": "stream",
       "stream": "stdout",
       "text": [
        "F  \t[ 228711.  198289.]\n",
        "M \t[ 1124727.  1107273.]\n",
        "\n",
        "True\n",
        "chi2 pval:  0.0\n",
        "F  fraction: 0.46437704918\n",
        "M fraction: 0.496090053763\n"
       ]
      }
     ],
     "prompt_number": 56
    },
    {
     "cell_type": "code",
     "collapsed": false,
     "input": [
      "'''\n",
      "    Do pd+ out-/under-perform more than the pd-?\n",
      "    \n",
      "    Answer: \n",
      "'''\n",
      "\n",
      "counts = np.zeros((2,2), dtype=float)\n",
      "\n",
      "for person in everyone:\n",
      "    for i, place in enumerate(job_lists[person]):\n",
      "        job_rank = inst[place][ranking]\n",
      "        val_index = int(job_rank < person.first_asst_job_rank)\n",
      "\n",
      "        pd_index = int(person.has_postdoc)\n",
      "        counts[pd_index][val_index] += 1.\n",
      "\n",
      "print '-  \\t', counts[0,:]\n",
      "print '+ \\t', counts[1,:]\n",
      "chi2, pval, dof, ex = chi2_contingency(counts)\n",
      "\n",
      "print '\\n', pval < sig_level\n",
      "print 'chi2 pval: ', pval\n",
      "print \"-  fraction:\", (counts[0,1] / np.sum(counts[0,:]))\n",
      "print \"+ fraction:\", (counts[1,1] / np.sum(counts[1,:]))"
     ],
     "language": "python",
     "metadata": {},
     "outputs": [
      {
       "output_type": "stream",
       "stream": "stdout",
       "text": [
        "-  \t[ 1070041.  1054959.]\n",
        "+ \t[ 283397.  250603.]\n",
        "\n",
        "True\n",
        "chi2 pval:  8.03725985243e-276\n",
        "-  fraction: 0.496451294118\n",
        "+ fraction: 0.469294007491\n"
       ]
      }
     ],
     "prompt_number": 59
    },
    {
     "cell_type": "code",
     "collapsed": false,
     "input": [
      "'''\n",
      "    Do geography-stayers outperform more/less often than geography-goers?\n",
      "    \n",
      "    Answer: \n",
      "'''\n",
      "\n",
      "counts = np.zeros((2,2), dtype=float)\n",
      "\n",
      "for person in everyone:\n",
      "    for i, place in enumerate(job_lists[person]):\n",
      "        job_rank = inst[place][ranking]\n",
      "        val_index = int(job_rank < person.first_asst_job_rank)\n",
      "\n",
      "        pd_index = int(person.first_asst_job_region == person.phd_region)\n",
      "        counts[pd_index][val_index] += 1.\n",
      "\n",
      "print 'go  \\t', counts[0,:]\n",
      "print 'stay \\t', counts[1,:]\n",
      "chi2, pval, dof, ex = chi2_contingency(counts)\n",
      "\n",
      "print '\\n', pval < sig_level\n",
      "print 'chi2 pval: ', pval\n",
      "print \"go  fraction:\", (counts[0,1] / np.sum(counts[0,:]))\n",
      "print \"stay fraction:\", (counts[1,1] / np.sum(counts[1,:]))"
     ],
     "language": "python",
     "metadata": {},
     "outputs": [
      {
       "output_type": "stream",
       "stream": "stdout",
       "text": [
        "go  \t[ 820673.  760327.]\n",
        "stay \t[ 532765.  545235.]\n",
        "\n",
        "True\n",
        "chi2 pval:  0.0\n",
        "go  fraction: 0.480915243517\n",
        "stay fraction: 0.505783858998\n"
       ]
      }
     ],
     "prompt_number": 100
    },
    {
     "cell_type": "code",
     "collapsed": false,
     "input": [
      "'''\n",
      "    Do pd+ out-/under-perform more than the pd-?\n",
      "    \n",
      "    Answer: \n",
      "'''\n",
      "\n",
      "counts = np.zeros((2,2), dtype=float)\n",
      "\n",
      "for person in everyone:\n",
      "    if person.is_female:\n",
      "        for i, place in enumerate(job_lists[person]):\n",
      "            job_rank = inst[place][ranking]\n",
      "            val_index = int(job_rank < person.first_asst_job_rank)\n",
      "\n",
      "            pd_index = int(person.has_postdoc)\n",
      "            counts[pd_index][val_index] += 1.\n",
      "\n",
      "print '-  \\t', counts[0,:]\n",
      "print '+ \\t', counts[1,:]\n",
      "chi2, pval, dof, ex = chi2_contingency(counts)\n",
      "\n",
      "print '\\n', pval < sig_level\n",
      "print 'chi2 pval: ', pval\n",
      "print \"-  fraction:\", (counts[0,1] / np.sum(counts[0,:]))\n",
      "print \"+ fraction:\", (counts[1,1] / np.sum(counts[1,:]))"
     ],
     "language": "python",
     "metadata": {},
     "outputs": [
      {
       "output_type": "stream",
       "stream": "stdout",
       "text": [
        "-  \t[ 174485.  149515.]\n",
        "+ \t[ 54226.  48774.]\n",
        "\n",
        "True\n",
        "chi2 pval:  1.36986378337e-11\n",
        "-  fraction: 0.461466049383\n",
        "+ fraction: 0.473533980583\n"
       ]
      }
     ],
     "prompt_number": 61
    },
    {
     "cell_type": "code",
     "collapsed": false,
     "input": [
      "'''\n",
      "    ONLY POSTDOCS: Do women out-/under-perform more than the men?\n",
      "    \n",
      "    Answer: \n",
      "'''\n",
      "\n",
      "counts = np.zeros((2,2), dtype=float)\n",
      "\n",
      "for person in everyone:\n",
      "    if person.has_postdoc:\n",
      "        for i, place in enumerate(job_lists[person]):\n",
      "            job_rank = inst[place][ranking]\n",
      "            val_index = int(job_rank < person.first_asst_job_rank)\n",
      "\n",
      "            if person.is_female:\n",
      "                gender_index = 0\n",
      "            else:\n",
      "                gender_index = 1\n",
      "\n",
      "            counts[gender_index][val_index] += 1.\n",
      "\n",
      "print 'F  \\t', counts[0,:]\n",
      "print 'M \\t', counts[1,:]\n",
      "chi2, pval, dof, ex = chi2_contingency(counts)\n",
      "\n",
      "print '\\n', pval < sig_level\n",
      "print 'chi2 pval: ', pval\n",
      "print \"F  fraction:\", (counts[0,1] / np.sum(counts[0,:]))\n",
      "print \"M fraction:\", (counts[1,1] / np.sum(counts[1,:]))"
     ],
     "language": "python",
     "metadata": {},
     "outputs": [
      {
       "output_type": "stream",
       "stream": "stdout",
       "text": [
        "F  \t[ 54226.  48774.]\n",
        "M \t[ 229171.  201829.]\n",
        "\n",
        "True\n",
        "chi2 pval:  0.00243290597744\n",
        "F  fraction: 0.473533980583\n",
        "M fraction: 0.468280742459\n"
       ]
      }
     ],
     "prompt_number": 62
    },
    {
     "cell_type": "code",
     "collapsed": false,
     "input": [
      "'''\n",
      "    Do women with postdocs overperform more?\n",
      "    \n",
      "    Answer: \n",
      "'''\n",
      "\n",
      "counts = np.zeros((2,2), dtype=float)\n",
      "\n",
      "for person in everyone:\n",
      "    if person.is_female:\n",
      "        for i, place in enumerate(job_lists[person]):\n",
      "            job_rank = inst[place][ranking]\n",
      "            val_index = int(job_rank < person.first_asst_job_rank)\n",
      "            pd_index = int(person.has_postdoc)\n",
      "\n",
      "            counts[pd_index][val_index] += 1.\n",
      "\n",
      "print 'N  \\t', counts[0,:]\n",
      "print 'Y \\t', counts[1,:]\n",
      "chi2, pval, dof, ex = chi2_contingency(counts)\n",
      "\n",
      "print '\\n', pval < sig_level\n",
      "print 'chi2 pval: ', pval\n",
      "print \"N  fraction:\", (counts[0,1] / np.sum(counts[0,:]))\n",
      "print \"Y fraction:\", (counts[1,1] / np.sum(counts[1,:]))"
     ],
     "language": "python",
     "metadata": {},
     "outputs": [
      {
       "output_type": "stream",
       "stream": "stdout",
       "text": [
        "N  \t[ 174485.  149515.]\n",
        "Y \t[ 54226.  48774.]\n",
        "\n",
        "True\n",
        "chi2 pval:  1.36986378337e-11\n",
        "N  fraction: 0.461466049383\n",
        "Y fraction: 0.473533980583\n"
       ]
      }
     ],
     "prompt_number": 52
    },
    {
     "cell_type": "code",
     "collapsed": false,
     "input": [
      "'''\n",
      "    Do women with postdocs overperform more?\n",
      "    \n",
      "    Answer: \n",
      "'''\n",
      "\n",
      "yes = []\n",
      "no = []\n",
      "\n",
      "for person in everyone:\n",
      "    if person.is_female:\n",
      "        for i, place in enumerate(job_lists[person]):\n",
      "            job_rank = inst[place][ranking]\n",
      "            val = job_rank - person.first_asst_job_rank\n",
      "            if person.has_postdoc:\n",
      "                yes.append(val)\n",
      "            else:\n",
      "                no.append(val)\n",
      "                \n",
      "stat, pval = mannwhitneyu(yes, no)\n",
      "sig = pval < sig_level    \n",
      "print sig, pval\n",
      "\n",
      "print '+pd.   :', np.mean(yes)\n",
      "print '-pd.   :', np.mean(no)"
     ],
     "language": "python",
     "metadata": {},
     "outputs": [
      {
       "output_type": "stream",
       "stream": "stdout",
       "text": [
        "True 5.50194735687e-06\n",
        "+pd.   : 0.0233176858303\n",
        "-pd.   : "
       ]
      },
      {
       "output_type": "stream",
       "stream": "stdout",
       "text": [
        "0.0141591868121\n"
       ]
      }
     ],
     "prompt_number": 37
    },
    {
     "cell_type": "code",
     "collapsed": false,
     "input": [
      "yes"
     ],
     "language": "python",
     "metadata": {},
     "outputs": [
      {
       "metadata": {},
       "output_type": "pyout",
       "prompt_number": 36,
       "text": [
        "[]"
       ]
      }
     ],
     "prompt_number": 36
    },
    {
     "cell_type": "code",
     "collapsed": false,
     "input": [
      "'''\n",
      "    Are under-performing amounts greater for men/women?\n",
      "\n",
      "    Answer:\n",
      "'''\n",
      "\n",
      "men = []\n",
      "women = []\n",
      "\n",
      "for person in everyone:\n",
      "    for i, place in enumerate(job_lists[person]):\n",
      "        job_rank = inst[place][ranking]\n",
      "        if job_rank > person.first_asst_job_rank:\n",
      "            if person.is_female:\n",
      "                women.append(job_rank - person.first_asst_job_rank)\n",
      "            else:\n",
      "                men.append(job_rank - person.first_asst_job_rank)\n",
      "\n",
      "stat, pval = mannwhitneyu(men, women)\n",
      "sig = pval < sig_level    \n",
      "print sig, pval\n",
      "\n",
      "print 'Men avg.   :', np.median(men)\n",
      "print 'Women avg. :', np.median(women)"
     ],
     "language": "python",
     "metadata": {},
     "outputs": [
      {
       "output_type": "stream",
       "stream": "stdout",
       "text": [
        "True 1.59673297811e-133\n",
        "Men avg.   : "
       ]
      },
      {
       "output_type": "stream",
       "stream": "stdout",
       "text": [
        "0.181233029243\n",
        "Women avg. : 0.171954054424\n"
       ]
      }
     ],
     "prompt_number": 58
    },
    {
     "cell_type": "code",
     "collapsed": false,
     "input": [
      "'''\n",
      "    Are under-performing amounts greater for men/women?\n",
      "\n",
      "    Answer:\n",
      "'''\n",
      "\n",
      "men = []\n",
      "women = []\n",
      "\n",
      "for person in everyone:\n",
      "    if person.has_postdoc:\n",
      "        for i, place in enumerate(job_lists[person]):\n",
      "            job_rank = inst[place][ranking]\n",
      "            if job_rank > person.first_asst_job_rank:\n",
      "                if person.is_female:\n",
      "                    women.append(job_rank - person.first_asst_job_rank)\n",
      "                else:\n",
      "                    men.append(job_rank - person.first_asst_job_rank)\n",
      "\n",
      "stat, pval = mannwhitneyu(men, women)\n",
      "sig = pval < sig_level    \n",
      "print sig, pval\n",
      "\n",
      "print 'Men avg.   :', np.median(men)\n",
      "print 'Women avg. :', np.median(women)"
     ],
     "language": "python",
     "metadata": {},
     "outputs": [
      {
       "output_type": "stream",
       "stream": "stdout",
       "text": [
        "True 1.19089571201e-25\n",
        "Men avg.   : 0.188753882518\n",
        "Women avg. : "
       ]
      },
      {
       "output_type": "stream",
       "stream": "stdout",
       "text": [
        "0.183088824207\n"
       ]
      }
     ],
     "prompt_number": 40
    },
    {
     "cell_type": "code",
     "collapsed": false,
     "input": [
      "ranking = 'pi_rescaled'\n",
      "men_diffs = []\n",
      "women_diffs = []\n",
      "all_diffs = []\n",
      "\n",
      "# NEGATIVE MEANS SIMULATED JOB RANK < ACTUAL JOB RANK: THE PERSON PLACED HIGHER THAN WE'D EXPECT\n",
      "# POSTIVE MEANS SIMULATED JOB RANK > ACTUAL JOB RANK: THE PERSON PLACED LOWER THAN WE'D EXPECT\n",
      "for person in everyone:\n",
      "    for i, place in enumerate(job_lists[person]):\n",
      "        job_rank = inst.get(place, inst['UNKNOWN'])[ranking]\n",
      "        if person.is_female:\n",
      "            women_diffs.append(job_rank - person.first_asst_job_rank)\n",
      "        else:\n",
      "            men_diffs.append(job_rank - person.first_asst_job_rank)\n",
      "        all_diffs.append(job_rank - person.first_asst_job_rank)"
     ],
     "language": "python",
     "metadata": {},
     "outputs": [],
     "prompt_number": 21
    },
    {
     "cell_type": "code",
     "collapsed": false,
     "input": [
      "stat, pval = mannwhitneyu(men_diffs, women_diffs)\n",
      "sig = pval < sig_level    \n",
      "print sig, pval\n",
      "\n",
      "print 'PhD-Job Rank:'\n",
      "print 'MEN  : ', np.average(men_diffs)\n",
      "print 'WOMEN: ', np.average(women_diffs)"
     ],
     "language": "python",
     "metadata": {},
     "outputs": [
      {
       "output_type": "stream",
       "stream": "stdout",
       "text": [
        "True 0.0\n",
        "PhD-Job Rank:\n",
        "MEN  :  "
       ]
      },
      {
       "output_type": "stream",
       "stream": "stdout",
       "text": [
        "-0.00313140598909\n",
        "WOMEN:  "
       ]
      },
      {
       "output_type": "stream",
       "stream": "stdout",
       "text": [
        "0.0163683797837\n"
       ]
      }
     ],
     "prompt_number": 22
    },
    {
     "cell_type": "code",
     "collapsed": false,
     "input": [
      "bins = np.linspace(-1, 1, 100)\n",
      "\n",
      "x = linspace(-1,1, 100)\n",
      "\n",
      "'''\n",
      "men_bst = np.random.choice(men_nsh, 100000)\n",
      "pdf = gaussian_kde(men_bst)\n",
      "y = pdf(x)\n",
      "plot(x,y,linewidth=2, color=ALMOST_BLACK)\n",
      "\n",
      "women_bst = np.random.choice(women_nsh, 100000)\n",
      "pdf = gaussian_kde(women_bst)\n",
      "y = pdf(x)\n",
      "plot(x,y,linewidth=2, color=FEMALE_COLOR)\n",
      "'''\n",
      "\n",
      "hist(men_diffs, bins=bins, normed=True, color=DARK_COLOR, edgecolor=ALMOST_BLACK)\n",
      "hist(women_diffs, bins=bins, normed=True, color=FEMALE_COLOR, edgecolor=ALMOST_BLACK)\n",
      "plt.show()"
     ],
     "language": "python",
     "metadata": {},
     "outputs": [
      {
       "metadata": {},
       "output_type": "display_data",
       "png": "[encoded data removed]",
       "text": [
        "<matplotlib.figure.Figure at 0x107a61590>"
       ]
      }
     ],
     "prompt_number": 23
    },
    {
     "cell_type": "code",
     "collapsed": false,
     "input": [
      "# EXCLUDING SELF-HIRES (nsh=no self hires)\n",
      "men_nsh = np.array(men_diffs)\n",
      "women_nsh = np.array(women_diffs)\n",
      "\n",
      "men_nsh = men_nsh[np.where(men_nsh != 0.)]\n",
      "women_nsh = women_nsh[np.where(women_nsh != 0.)]\n",
      "\n",
      "stat, pval = mannwhitneyu(men_nsh, women_nsh)\n",
      "sig = pval < sig_level    \n",
      "print sig, pval\n",
      "\n",
      "print 'PhD-Job Rank:'\n",
      "print 'MEN  : ', np.mean(men_nsh)\n",
      "print 'WOMEN: ', np.mean(women_nsh)"
     ],
     "language": "python",
     "metadata": {},
     "outputs": [
      {
       "output_type": "stream",
       "stream": "stdout",
       "text": [
        "True 0.0\n",
        "PhD-Job Rank:\n",
        "MEN  :  -0.00325506188156\n",
        "WOMEN:  0.0170370127087\n"
       ]
      }
     ],
     "prompt_number": 24
    },
    {
     "cell_type": "code",
     "collapsed": false,
     "input": [
      "bins = np.linspace(-1, 1, 100)\n",
      "\n",
      "x = linspace(-1,1, 100)\n",
      "\n",
      "'''\n",
      "men_bst = np.random.choice(men_nsh, 100000)\n",
      "pdf = gaussian_kde(men_bst)\n",
      "y = pdf(x)\n",
      "plot(x,y,linewidth=2, color=ALMOST_BLACK)\n",
      "\n",
      "women_bst = np.random.choice(women_nsh, 100000)\n",
      "pdf = gaussian_kde(women_bst)\n",
      "y = pdf(x)\n",
      "plot(x,y,linewidth=2, color=FEMALE_COLOR)\n",
      "'''\n",
      "\n",
      "hist(men_nsh, bins=bins, normed=True, color=DARK_COLOR, edgecolor=ALMOST_BLACK)\n",
      "hist(women_nsh, bins=bins, normed=True, color=FEMALE_COLOR, edgecolor=ALMOST_BLACK)\n",
      "plt.show()"
     ],
     "language": "python",
     "metadata": {},
     "outputs": [
      {
       "metadata": {},
       "output_type": "display_data",
       "png": "[encoded data removed]",
       "text": [
        "<matplotlib.figure.Figure at 0x112129650>"
       ]
      }
     ],
     "prompt_number": 11
    },
    {
     "cell_type": "heading",
     "level": 2,
     "metadata": {},
     "source": [
      "Only people without a postdoc"
     ]
    },
    {
     "cell_type": "code",
     "collapsed": false,
     "input": [
      "person = everyone[0]\n",
      "ranking = 'pi_rescaled'\n",
      "men_diffs = []\n",
      "women_diffs = []\n",
      "\n",
      "# NEGATIVE MEANS SIMULATED JOB RANK < ACTUAL JOB RANK: THE PERSON PLACED HIGHER THAN WE'D EXPECT\n",
      "# POSTIVE MEANS SIMULATED JOB RANK > ACTUAL JOB RANK: THE PERSON PLACED LOWER THAN WE'D EXPECT\n",
      "for person in everyone:\n",
      "    if not person.has_postdoc:\n",
      "        for i, place in enumerate(job_lists[person]):\n",
      "            job_rank = inst.get(place, inst['UNKNOWN'])[ranking]\n",
      "            if person.is_female:\n",
      "                women_diffs.append(job_rank - person.first_asst_job_rank)\n",
      "            else:\n",
      "                men_diffs.append(job_rank - person.first_asst_job_rank)\n",
      "                \n",
      "stat, pval = mannwhitneyu(men_diffs, women_diffs)\n",
      "sig = pval < sig_level    \n",
      "print sig, pval\n",
      "\n",
      "print 'PhD-Job Rank:'\n",
      "print 'MEN  : ', np.median(men_diffs)\n",
      "print 'WOMEN: ', np.median(women_diffs)"
     ],
     "language": "python",
     "metadata": {},
     "outputs": [
      {
       "output_type": "stream",
       "stream": "stdout",
       "text": [
        "True 0.0\n",
        "PhD-Job Rank:\n",
        "MEN  :  "
       ]
      },
      {
       "output_type": "stream",
       "stream": "stdout",
       "text": [
        "-0.00258834560763\n",
        "WOMEN:  "
       ]
      },
      {
       "output_type": "stream",
       "stream": "stdout",
       "text": [
        "0.0\n"
       ]
      }
     ],
     "prompt_number": 12
    },
    {
     "cell_type": "heading",
     "level": 2,
     "metadata": {},
     "source": [
      "Only people with a postdoc"
     ]
    },
    {
     "cell_type": "code",
     "collapsed": false,
     "input": [
      "person = everyone[0]\n",
      "ranking = 'pi_rescaled'\n",
      "men_diffs = []\n",
      "women_diffs = []\n",
      "\n",
      "# NEGATIVE MEANS SIMULATED JOB RANK < ACTUAL JOB RANK: THE PERSON PLACED HIGHER THAN WE'D EXPECT\n",
      "# POSTIVE MEANS SIMULATED JOB RANK > ACTUAL JOB RANK: THE PERSON PLACED LOWER THAN WE'D EXPECT\n",
      "for person in everyone:\n",
      "    if person.has_postdoc:\n",
      "        for i, place in enumerate(job_lists[person]):\n",
      "            job_rank = inst.get(place, inst['UNKNOWN'])[ranking]\n",
      "            if person.is_female:\n",
      "                women_diffs.append(job_rank - person.first_asst_job_rank)\n",
      "            else:\n",
      "                men_diffs.append(job_rank - person.first_asst_job_rank)\n",
      "                \n",
      "stat, pval = mannwhitneyu(men_diffs, women_diffs)\n",
      "sig = pval < sig_level    \n",
      "print sig, pval\n",
      "\n",
      "print 'PhD-Job Rank:'\n",
      "print 'MEN  : ', np.median(men_diffs)\n",
      "print 'WOMEN: ', np.median(women_diffs)"
     ],
     "language": "python",
     "metadata": {},
     "outputs": [
      {
       "output_type": "stream",
       "stream": "stdout",
       "text": [
        "False 0.393152713588\n",
        "PhD-Job Rank:\n",
        "MEN  :  "
       ]
      },
      {
       "output_type": "stream",
       "stream": "stdout",
       "text": [
        "0.0\n",
        "WOMEN:  0.0\n"
       ]
      }
     ],
     "prompt_number": 13
    },
    {
     "cell_type": "heading",
     "level": 2,
     "metadata": {},
     "source": [
      "Men without, women with"
     ]
    },
    {
     "cell_type": "code",
     "collapsed": false,
     "input": [
      "person = everyone[0]\n",
      "ranking = 'pi_rescaled'\n",
      "men_diffs = []\n",
      "women_diffs = []\n",
      "\n",
      "# NEGATIVE MEANS SIMULATED JOB RANK < ACTUAL JOB RANK: THE PERSON PLACED HIGHER THAN WE'D EXPECT\n",
      "# POSTIVE MEANS SIMULATED JOB RANK > ACTUAL JOB RANK: THE PERSON PLACED LOWER THAN WE'D EXPECT\n",
      "for person in everyone:\n",
      "    if (person.is_female and person.has_postdoc) or (not person.is_female and not person.has_postdoc):\n",
      "        for i, place in enumerate(job_lists[person]):\n",
      "            job_rank = inst.get(place, inst['UNKNOWN'])[ranking]\n",
      "            if person.is_female:\n",
      "                women_diffs.append(job_rank - person.first_asst_job_rank)\n",
      "            else:\n",
      "                men_diffs.append(job_rank - person.first_asst_job_rank)\n",
      "                \n",
      "stat, pval = mannwhitneyu(men_diffs, women_diffs)\n",
      "sig = pval < sig_level    \n",
      "print sig, pval\n",
      "\n",
      "print 'PhD-Job Rank:'\n",
      "print 'MEN  : %.10f' % np.average(men_diffs)\n",
      "print 'WOMEN: %.10f' % np.average(women_diffs)"
     ],
     "language": "python",
     "metadata": {},
     "outputs": [
      {
       "output_type": "stream",
       "stream": "stdout",
       "text": [
        "True 1.76510818971e-260\n",
        "PhD-Job Rank:\n",
        "MEN  : -0.0091556022"
       ]
      },
      {
       "output_type": "stream",
       "stream": "stdout",
       "text": [
        "\n",
        "WOMEN: 0.0233176858\n"
       ]
      }
     ],
     "prompt_number": 14
    },
    {
     "cell_type": "code",
     "collapsed": false,
     "input": [
      "hist(men_diffs, bins)"
     ],
     "language": "python",
     "metadata": {},
     "outputs": [
      {
       "metadata": {},
       "output_type": "pyout",
       "prompt_number": 28,
       "text": [
        "(array([  0.00000000e+00,   0.00000000e+00,   0.00000000e+00,\n",
        "          0.00000000e+00,   3.00000000e+01,   6.90000000e+01,\n",
        "          3.17000000e+02,   4.95000000e+02,   6.15000000e+02,\n",
        "          7.53000000e+02,   1.28200000e+03,   9.47000000e+02,\n",
        "          1.68200000e+03,   2.20000000e+03,   2.49000000e+03,\n",
        "          3.33100000e+03,   4.52500000e+03,   4.16900000e+03,\n",
        "          4.68900000e+03,   5.75300000e+03,   5.67200000e+03,\n",
        "          7.50200000e+03,   1.05420000e+04,   9.64600000e+03,\n",
        "          1.24420000e+04,   1.63310000e+04,   1.32920000e+04,\n",
        "          1.59290000e+04,   1.80160000e+04,   1.86880000e+04,\n",
        "          1.93010000e+04,   2.23540000e+04,   2.50710000e+04,\n",
        "          2.57770000e+04,   2.74290000e+04,   2.96440000e+04,\n",
        "          3.22320000e+04,   3.18080000e+04,   3.54810000e+04,\n",
        "          3.83600000e+04,   4.33300000e+04,   3.98000000e+04,\n",
        "          4.31030000e+04,   4.32620000e+04,   4.50740000e+04,\n",
        "          4.87700000e+04,   5.06290000e+04,   5.05490000e+04,\n",
        "          5.30430000e+04,   1.14792000e+05,   5.00160000e+04,\n",
        "          4.99860000e+04,   5.11630000e+04,   4.55660000e+04,\n",
        "          4.29340000e+04,   4.19630000e+04,   4.16540000e+04,\n",
        "          3.62910000e+04,   3.68690000e+04,   3.35200000e+04,\n",
        "          3.19500000e+04,   2.77940000e+04,   2.62390000e+04,\n",
        "          2.65900000e+04,   2.31750000e+04,   2.34770000e+04,\n",
        "          2.01300000e+04,   2.06140000e+04,   1.80590000e+04,\n",
        "          1.58220000e+04,   1.55180000e+04,   1.33850000e+04,\n",
        "          1.12390000e+04,   1.44010000e+04,   1.15620000e+04,\n",
        "          1.02160000e+04,   1.01320000e+04,   9.66700000e+03,\n",
        "          7.04800000e+03,   8.30600000e+03,   5.52200000e+03,\n",
        "          5.64300000e+03,   5.86300000e+03,   4.52900000e+03,\n",
        "          3.56300000e+03,   3.71200000e+03,   3.25200000e+03,\n",
        "          2.68400000e+03,   2.42400000e+03,   2.00800000e+03,\n",
        "          1.62900000e+03,   1.51000000e+03,   1.74600000e+03,\n",
        "          2.97000000e+02,   1.16000000e+02,   0.00000000e+00,\n",
        "          0.00000000e+00,   0.00000000e+00,   0.00000000e+00]),\n",
        " array([-1.        , -0.97979798, -0.95959596, -0.93939394, -0.91919192,\n",
        "        -0.8989899 , -0.87878788, -0.85858586, -0.83838384, -0.81818182,\n",
        "        -0.7979798 , -0.77777778, -0.75757576, -0.73737374, -0.71717172,\n",
        "        -0.6969697 , -0.67676768, -0.65656566, -0.63636364, -0.61616162,\n",
        "        -0.5959596 , -0.57575758, -0.55555556, -0.53535354, -0.51515152,\n",
        "        -0.49494949, -0.47474747, -0.45454545, -0.43434343, -0.41414141,\n",
        "        -0.39393939, -0.37373737, -0.35353535, -0.33333333, -0.31313131,\n",
        "        -0.29292929, -0.27272727, -0.25252525, -0.23232323, -0.21212121,\n",
        "        -0.19191919, -0.17171717, -0.15151515, -0.13131313, -0.11111111,\n",
        "        -0.09090909, -0.07070707, -0.05050505, -0.03030303, -0.01010101,\n",
        "         0.01010101,  0.03030303,  0.05050505,  0.07070707,  0.09090909,\n",
        "         0.11111111,  0.13131313,  0.15151515,  0.17171717,  0.19191919,\n",
        "         0.21212121,  0.23232323,  0.25252525,  0.27272727,  0.29292929,\n",
        "         0.31313131,  0.33333333,  0.35353535,  0.37373737,  0.39393939,\n",
        "         0.41414141,  0.43434343,  0.45454545,  0.47474747,  0.49494949,\n",
        "         0.51515152,  0.53535354,  0.55555556,  0.57575758,  0.5959596 ,\n",
        "         0.61616162,  0.63636364,  0.65656566,  0.67676768,  0.6969697 ,\n",
        "         0.71717172,  0.73737374,  0.75757576,  0.77777778,  0.7979798 ,\n",
        "         0.81818182,  0.83838384,  0.85858586,  0.87878788,  0.8989899 ,\n",
        "         0.91919192,  0.93939394,  0.95959596,  0.97979798,  1.        ]),\n",
        " <a list of 99 Patch objects>)"
       ]
      },
      {
       "metadata": {},
       "output_type": "display_data",
       "png": "[encoded data removed]",
       "text": [
        "<matplotlib.figure.Figure at 0x109df9950>"
       ]
      }
     ],
     "prompt_number": 28
    },
    {
     "cell_type": "code",
     "collapsed": false,
     "input": [
      "hist(women_diffs, bins)"
     ],
     "language": "python",
     "metadata": {},
     "outputs": [
      {
       "metadata": {},
       "output_type": "pyout",
       "prompt_number": 29,
       "text": [
        "(array([  0.00000000e+00,   0.00000000e+00,   0.00000000e+00,\n",
        "          0.00000000e+00,   0.00000000e+00,   8.00000000e+00,\n",
        "          2.70000000e+01,   5.20000000e+01,   7.50000000e+01,\n",
        "          5.30000000e+01,   1.01000000e+02,   1.14000000e+02,\n",
        "          8.00000000e+01,   1.90000000e+02,   1.86000000e+02,\n",
        "          2.22000000e+02,   2.12000000e+02,   3.34000000e+02,\n",
        "          2.99000000e+02,   3.33000000e+02,   5.64000000e+02,\n",
        "          5.99000000e+02,   7.01000000e+02,   7.38000000e+02,\n",
        "          7.51000000e+02,   8.25000000e+02,   6.19000000e+02,\n",
        "          1.21200000e+03,   8.37000000e+02,   1.13500000e+03,\n",
        "          9.83000000e+02,   1.59900000e+03,   1.62100000e+03,\n",
        "          1.53600000e+03,   2.09700000e+03,   2.02400000e+03,\n",
        "          1.97700000e+03,   1.75900000e+03,   2.29100000e+03,\n",
        "          1.74100000e+03,   2.03100000e+03,   2.08000000e+03,\n",
        "          2.55500000e+03,   2.79300000e+03,   3.25300000e+03,\n",
        "          2.85100000e+03,   3.09900000e+03,   3.21100000e+03,\n",
        "          3.28400000e+03,   5.51200000e+03,   3.33600000e+03,\n",
        "          2.28500000e+03,   2.34300000e+03,   3.10000000e+03,\n",
        "          2.34900000e+03,   2.28200000e+03,   2.00700000e+03,\n",
        "          2.04500000e+03,   1.87500000e+03,   1.97300000e+03,\n",
        "          1.32500000e+03,   1.27500000e+03,   1.16000000e+03,\n",
        "          1.97900000e+03,   1.34900000e+03,   1.09100000e+03,\n",
        "          1.33700000e+03,   8.67000000e+02,   1.02600000e+03,\n",
        "          1.21600000e+03,   1.39900000e+03,   1.26300000e+03,\n",
        "          1.00500000e+03,   1.01200000e+03,   5.40000000e+02,\n",
        "          2.36000000e+02,   4.98000000e+02,   4.15000000e+02,\n",
        "          3.04000000e+02,   5.20000000e+02,   1.92000000e+02,\n",
        "          1.59000000e+02,   1.90000000e+02,   1.08000000e+02,\n",
        "          5.00000000e+01,   1.25000000e+02,   1.00000000e+02,\n",
        "          5.50000000e+01,   2.80000000e+01,   3.00000000e+00,\n",
        "          4.00000000e+00,   6.00000000e+00,   4.00000000e+00,\n",
        "          0.00000000e+00,   0.00000000e+00,   0.00000000e+00,\n",
        "          0.00000000e+00,   0.00000000e+00,   0.00000000e+00]),\n",
        " array([-1.        , -0.97979798, -0.95959596, -0.93939394, -0.91919192,\n",
        "        -0.8989899 , -0.87878788, -0.85858586, -0.83838384, -0.81818182,\n",
        "        -0.7979798 , -0.77777778, -0.75757576, -0.73737374, -0.71717172,\n",
        "        -0.6969697 , -0.67676768, -0.65656566, -0.63636364, -0.61616162,\n",
        "        -0.5959596 , -0.57575758, -0.55555556, -0.53535354, -0.51515152,\n",
        "        -0.49494949, -0.47474747, -0.45454545, -0.43434343, -0.41414141,\n",
        "        -0.39393939, -0.37373737, -0.35353535, -0.33333333, -0.31313131,\n",
        "        -0.29292929, -0.27272727, -0.25252525, -0.23232323, -0.21212121,\n",
        "        -0.19191919, -0.17171717, -0.15151515, -0.13131313, -0.11111111,\n",
        "        -0.09090909, -0.07070707, -0.05050505, -0.03030303, -0.01010101,\n",
        "         0.01010101,  0.03030303,  0.05050505,  0.07070707,  0.09090909,\n",
        "         0.11111111,  0.13131313,  0.15151515,  0.17171717,  0.19191919,\n",
        "         0.21212121,  0.23232323,  0.25252525,  0.27272727,  0.29292929,\n",
        "         0.31313131,  0.33333333,  0.35353535,  0.37373737,  0.39393939,\n",
        "         0.41414141,  0.43434343,  0.45454545,  0.47474747,  0.49494949,\n",
        "         0.51515152,  0.53535354,  0.55555556,  0.57575758,  0.5959596 ,\n",
        "         0.61616162,  0.63636364,  0.65656566,  0.67676768,  0.6969697 ,\n",
        "         0.71717172,  0.73737374,  0.75757576,  0.77777778,  0.7979798 ,\n",
        "         0.81818182,  0.83838384,  0.85858586,  0.87878788,  0.8989899 ,\n",
        "         0.91919192,  0.93939394,  0.95959596,  0.97979798,  1.        ]),\n",
        " <a list of 99 Patch objects>)"
       ]
      },
      {
       "metadata": {},
       "output_type": "display_data",
       "png": "[encoded data removed]",
       "text": [
        "<matplotlib.figure.Figure at 0x109d204d0>"
       ]
      }
     ],
     "prompt_number": 29
    },
    {
     "cell_type": "heading",
     "level": 2,
     "metadata": {},
     "source": [
      "Only people who moved down/up"
     ]
    },
    {
     "cell_type": "code",
     "collapsed": false,
     "input": [
      "ranking = 'pi_rescaled'\n",
      "men = []\n",
      "women = []\n",
      "\n",
      "for person in everyone:\n",
      "    if person.first_asst_job_rank < person.phd_rank: # MOVED DOWN\n",
      "        for i, place in enumerate(job_lists[person]):\n",
      "            job_rank = inst.get(place, inst['UNKNOWN'])[ranking]\n",
      "            if person.is_female:\n",
      "                women.append(job_rank - person.first_asst_job_rank)\n",
      "            else:\n",
      "                men.append(job_rank - person.first_asst_job_rank)\n",
      "                \n",
      "stat, pval = ttest_ind(men, women)\n",
      "sig = pval < sig_level    \n",
      "print sig, pval\n",
      "\n",
      "print 'MEN', sp.stats.ttest_1samp(men, 0.)\n",
      "print 'WOMEN', sp.stats.ttest_1samp(women, 0.)\n",
      "print ''\n",
      "\n",
      "print 'PhD-Job Rank:'\n",
      "print 'MEN  : ', np.mean(men)\n",
      "print 'WOMEN: ', np.mean(women)"
     ],
     "language": "python",
     "metadata": {},
     "outputs": [
      {
       "output_type": "stream",
       "stream": "stdout",
       "text": [
        "True 0.0\n",
        "MEN "
       ]
      },
      {
       "output_type": "stream",
       "stream": "stdout",
       "text": [
        "Ttest_1sampResult(statistic=240.42427896479415, pvalue=0.0)\n",
        "WOMEN "
       ]
      },
      {
       "output_type": "stream",
       "stream": "stdout",
       "text": [
        "Ttest_1sampResult(statistic=28.959460290319743, pvalue=3.5369780968913825e-184)\n",
        "\n",
        "PhD-Job Rank:\n",
        "MEN  :  "
       ]
      },
      {
       "output_type": "stream",
       "stream": "stdout",
       "text": [
        "0.0507030644499\n",
        "WOMEN:  "
       ]
      },
      {
       "output_type": "stream",
       "stream": "stdout",
       "text": [
        "0.0130227432276\n"
       ]
      }
     ],
     "prompt_number": 30
    },
    {
     "cell_type": "code",
     "collapsed": false,
     "input": [
      "ranking = 'pi_rescaled'\n",
      "men = []\n",
      "women = []\n",
      "\n",
      "for person in everyone:\n",
      "    if person.first_asst_job_rank > person.phd_rank: # MOVED UP\n",
      "        for i, place in enumerate(job_lists[person]):\n",
      "            job_rank = inst.get(place, inst['UNKNOWN'])[ranking]\n",
      "            if person.is_female:\n",
      "                women.append(job_rank - person.first_asst_job_rank)\n",
      "            else:\n",
      "                men.append(job_rank - person.first_asst_job_rank)\n",
      "                \n",
      "stat, pval = ttest_ind(men, women)\n",
      "sig = pval < sig_level    \n",
      "print sig, pval\n",
      "\n",
      "print 'PhD-Job Rank:'\n",
      "print 'MEN  : ', np.mean(men)\n",
      "print 'WOMEN: ', np.mean(women)"
     ],
     "language": "python",
     "metadata": {},
     "outputs": [
      {
       "output_type": "stream",
       "stream": "stdout",
       "text": [
        "True 1.50029096925e-139\n",
        "PhD-Job Rank:\n",
        "MEN  :  -0.22772977344\n",
        "WOMEN:  "
       ]
      },
      {
       "output_type": "stream",
       "stream": "stdout",
       "text": [
        "-0.25986059123\n"
       ]
      }
     ],
     "prompt_number": 31
    },
    {
     "cell_type": "code",
     "collapsed": false,
     "input": [
      "sp.stats.ttest_1samp(men, 0.)"
     ],
     "language": "python",
     "metadata": {},
     "outputs": [
      {
       "metadata": {},
       "output_type": "pyout",
       "prompt_number": 32,
       "text": [
        "Ttest_1sampResult(statistic=-512.73365054578028, pvalue=0.0)"
       ]
      }
     ],
     "prompt_number": 32
    },
    {
     "cell_type": "code",
     "collapsed": false,
     "input": [
      "hist(men_diffs, bins=bins, normed=True)\n",
      "hist(women_diffs, bins=bins, normed=True, alpha=0.8)\n",
      "plt.show()"
     ],
     "language": "python",
     "metadata": {},
     "outputs": [
      {
       "metadata": {},
       "output_type": "display_data",
       "png": "[encoded data removed]",
       "text": [
        "<matplotlib.figure.Figure at 0x10935d750>"
       ]
      }
     ],
     "prompt_number": 33
    },
    {
     "cell_type": "code",
     "collapsed": false,
     "input": [
      "ranking = 'pi_rescaled'\n",
      "men_diffs = []\n",
      "women_diffs = []\n",
      "\n",
      "for person in everyone:\n",
      "    if person.first_asst_job_region == person.phd_region: # STAYED IN THE SAME REGION\n",
      "        for i, place in enumerate(job_lists[person]):\n",
      "            job_rank = inst.get(place, inst['UNKNOWN'])[ranking]\n",
      "            if person.is_female:\n",
      "                women_diffs.append(job_rank - person.first_asst_job_rank)\n",
      "            else:\n",
      "                men_diffs.append(job_rank - person.first_asst_job_rank)\n",
      "                \n",
      "stat, pval = ttest_ind(men_diffs, women_diffs)\n",
      "sig = pval < sig_level    \n",
      "print sig, pval\n",
      "\n",
      "print 'PhD-Job Rank:'\n",
      "print 'MEN  : ', np.mean(men_diffs)\n",
      "print 'WOMEN: ', np.mean(women_diffs)"
     ],
     "language": "python",
     "metadata": {},
     "outputs": [
      {
       "output_type": "stream",
       "stream": "stdout",
       "text": [
        "True 0.0\n",
        "PhD-Job Rank:\n",
        "MEN  :  "
       ]
      },
      {
       "output_type": "stream",
       "stream": "stdout",
       "text": [
        "0.00987820069759\n",
        "WOMEN:  -0.0482440883163\n"
       ]
      }
     ],
     "prompt_number": 34
    },
    {
     "cell_type": "heading",
     "level": 2,
     "metadata": {},
     "source": [
      "Over time"
     ]
    },
    {
     "cell_type": "code",
     "collapsed": false,
     "input": [
      "years = np.arange(1970, 2012)\n",
      "diffs_by_year = {year:[] for year in years}\n",
      "people_per_year = {year:0. for year in years}\n",
      "just_women = True\n",
      "\n",
      "for person in everyone:\n",
      "    if not person.is_female:\n",
      "        just_women = True\n",
      "        continue  # FEMALES ONLY \n",
      "    \n",
      "    year = person.first_asst_job_year\n",
      "    people_per_year[year] += 1\n",
      "    \n",
      "    for i, place in enumerate(job_lists[person]):\n",
      "        job_rank = inst.get(place, inst['UNKNOWN'])[ranking]\n",
      "        diffs_by_year[year].append(job_rank - person.first_asst_job_rank)"
     ],
     "language": "python",
     "metadata": {},
     "outputs": [],
     "prompt_number": 66
    },
    {
     "cell_type": "code",
     "collapsed": false,
     "input": [
      "def mean_confidence_interval(data, confidence=0.95):\n",
      "    a = 1.0*np.array(data)\n",
      "    n = len(a)\n",
      "    m, se = np.mean(a), sp.stats.sem(a)\n",
      "    h = se * sp.stats.t._ppf((1+confidence)/2., n-1)\n",
      "    return m, m-h, m+h"
     ],
     "language": "python",
     "metadata": {},
     "outputs": [],
     "prompt_number": 67
    },
    {
     "cell_type": "code",
     "collapsed": false,
     "input": [
      "fig, ax = plt.subplots(figsize=(8,4))\n",
      "\n",
      "averages = []\n",
      "uppers = []\n",
      "lowers = []\n",
      "\n",
      "for year in years:\n",
      "    d = np.array(diffs_by_year[year])**2\n",
      "    m, l, u = mean_confidence_interval(d)\n",
      "    averages.append(m)\n",
      "    #uppers.append(np.percentile(d, 95))\n",
      "    #lowers.append(np.percentile(d, 5))\n",
      "    uppers.append(u)\n",
      "    lowers.append(l)\n",
      "\n",
      "ax.fill_between(years, lowers, uppers, color=LIGHT_COLOR, edgecolor=\"None\")\n",
      "hide_right_top_axis(ax)\n",
      "\n",
      "ax.plot(years, averages, color=ALMOST_BLACK)\n",
      "ax.set_xlim(1970, 2011)\n",
      "ax.set_ylabel(\"Mean squared placement\\nerror per person\", fontsize=LABEL_SIZE)\n",
      "ax.set_xlabel(\"Hiring year\", fontsize=LABEL_SIZE)\n",
      "\n",
      "if just_women:\n",
      "    plt.savefig(os.path.join(figures_dir, 'error_v_time_WOMEN.pdf'))\n",
      "else:\n",
      "    plt.savefig(os.path.join(figures_dir, 'error_v_time_ALL.pdf'))\n",
      "    \n",
      "plt.show() "
     ],
     "language": "python",
     "metadata": {},
     "outputs": [
      {
       "metadata": {},
       "output_type": "display_data",
       "png": "[encoded data removed]",
       "text": [
        "<matplotlib.figure.Figure at 0x1122dd510>"
       ]
      }
     ],
     "prompt_number": 68
    },
    {
     "cell_type": "heading",
     "level": 2,
     "metadata": {},
     "source": [
      "By year, by group"
     ]
    },
    {
     "cell_type": "code",
     "collapsed": false,
     "input": [
      "split_at = 2002\n",
      "years = np.arange(1970, 2012)\n",
      "diffs_by_year = {year:[] for year in years}\n",
      "men_diffs_by_year = {year:[] for year in years}\n",
      "women_diffs_by_year = {year:[] for year in years}\n",
      "people_per_year = {year:0. for year in years}\n",
      "all_diffs = []\n",
      "\n",
      "for person in everyone:   \n",
      "    year = person.first_asst_job_year\n",
      "    people_per_year[year] += 1\n",
      "    \n",
      "    for i, place in enumerate(job_lists[person]):\n",
      "        job_rank = inst.get(place, inst['UNKNOWN'])[ranking]\n",
      "        diffs_by_year[year].append(person.first_asst_job_rank - job_rank)\n",
      "        if person.is_female:\n",
      "            women_diffs_by_year[year].append(person.first_asst_job_rank-job_rank)\n",
      "        else:\n",
      "            men_diffs_by_year[year].append(person.first_asst_job_rank-job_rank)\n",
      "        all_diffs.append(job_rank - person.first_asst_job_rank)"
     ],
     "language": "python",
     "metadata": {},
     "outputs": [],
     "prompt_number": 129
    },
    {
     "cell_type": "code",
     "collapsed": false,
     "input": [
      "fig, ax = plt.subplots(figsize=(6,4))\n",
      "\n",
      "selected_years = years[5:]\n",
      "both = np.zeros(len(selected_years), dtype=float)\n",
      "men = np.zeros_like(both)\n",
      "women = np.zeros_like(both)\n",
      "w5 = np.zeros_like(both)\n",
      "w95 = np.zeros_like(both)\n",
      "m5 = np.zeros_like(both)\n",
      "m95 = np.zeros_like(both)\n",
      "\n",
      "for i, year in enumerate(selected_years):\n",
      "    #both[i] = np.mean(np.random.choice(np.array(diffs_by_year[year]), 10000))\n",
      "    #men[i] = np.mean(np.random.choice(np.array(men_diffs_by_year[year]), 10000))\n",
      "    #women[i] = np.mean(np.random.choice(np.array(women_diffs_by_year[year]), 10000))\n",
      "    \n",
      "    both[i] = np.mean(np.array(diffs_by_year[year]))\n",
      "    men[i] = np.mean(np.array(men_diffs_by_year[year]))\n",
      "    women[i] = np.mean(np.array(women_diffs_by_year[year]))\n",
      "    w5[i] = np.percentile(np.array(women_diffs_by_year[year]), 5)\n",
      "    w95[i] = np.percentile(np.array(women_diffs_by_year[year]), 95)\n",
      "\n",
      "#ax.plot(selected_years, both, '--', color=ALMOST_BLACK, linewidth=LINE_WIDTH)\n",
      "#ax.fill_between(selected_years, w5, w95, color=FEMALE_COLOR, edgecolor=\"None\", alpha=0.3)\n",
      "#ax.plot(selected_years, np.ones_like(selected_years)*np.mean(np.array(all_diffs)), '--', color=DARK_COLOR, linewidth=LINE_WIDTH)\n",
      "#ax.plot(selected_years, np.abs(men-women), color=ALMOST_BLACK, linewidth=LINE_WIDTH)\n",
      "\n",
      "year_ind = np.where(selected_years == split_at)[0]\n",
      "print 'BEFORE:', pearsonr(men[:year_ind+1], women[:year_ind+1])\n",
      "print 'AFTER:', pearsonr(men[year_ind:], women[year_ind:])\n",
      "\n",
      "ax.set_xlim(selected_years[0], selected_years[-1])\n",
      "ax.set_ylabel(\"Mean placement error\", fontsize=LABEL_SIZE+2)\n",
      "ax.set_xlabel(\"Hiring year\", fontsize=LABEL_SIZE+2)\n",
      "hide_right_top_axis(ax)\n",
      "\n",
      "fake_line_1 = Line2D(range(1), range(1), color=FEMALE_COLOR, marker='o',markersize=15, linestyle='None', markeredgecolor='w')\n",
      "fake_line_2 = Line2D(range(1), range(1), color=ALMOST_BLACK, marker='o',markersize=15, linestyle='None', markeredgecolor='w')\n",
      "fake_line_t = Line2D(range(1), range(1), color=DARK_COLOR, linestyle='--', linewidth=LINE_WIDTH)\n",
      "ax.legend([fake_line_1, fake_line_2, fake_line_t],['Women', 'Men'], numpoints=1, loc='upper right', frameon=False, fontsize=LABEL_SIZE)\n",
      "\n",
      "ax.tick_params(axis='both', which='major', labelsize=LABEL_SIZE)\n",
      "ax.tick_params(axis='x', pad=XLABEL_PAD)\n",
      "\n",
      "ax.plot(selected_years, men, '-o', color=ALMOST_BLACK, linewidth=LINE_WIDTH, markeredgecolor='w', clip_on=False)\n",
      "ax.plot(selected_years, women, '-o', color=FEMALE_COLOR, linewidth=LINE_WIDTH, markeredgecolor='w', clip_on=False)\n",
      "\n",
      "plt.savefig(os.path.join(figures_dir, 'error_v_time.pdf'))\n",
      "plt.show() "
     ],
     "language": "python",
     "metadata": {},
     "outputs": [
      {
       "output_type": "stream",
       "stream": "stdout",
       "text": [
        "BEFORE: (-0.93885983946597296, 1.4995580242778393e-13)\n",
        "AFTER: (-0.94929642161667382, 2.7193168615369136e-05)\n"
       ]
      },
      {
       "metadata": {},
       "output_type": "display_data",
       "png": "[encoded data removed]",
       "text": [
        "<matplotlib.figure.Figure at 0x123461750>"
       ]
      }
     ],
     "prompt_number": 130
    },
    {
     "cell_type": "code",
     "collapsed": false,
     "input": [
      "fig, ax = plt.subplots(figsize=(6,4))\n",
      "\n",
      "selected_years = years[5:]\n",
      "both = np.zeros(len(selected_years), dtype=float)\n",
      "men = np.zeros_like(both)\n",
      "women = np.zeros_like(both)\n",
      "\n",
      "for i, year in enumerate(selected_years):\n",
      "    #both[i] = np.mean(np.random.choice(np.array(diffs_by_year[year]), 10000))\n",
      "    #men[i] = np.mean(np.random.choice(np.array(men_diffs_by_year[year]), 10000))\n",
      "    #women[i] = np.mean(np.random.choice(np.array(women_diffs_by_year[year]), 10000))\n",
      "    \n",
      "    both[i] = np.std(np.array(diffs_by_year[year])**2)\n",
      "    men[i] = np.std(np.array(men_diffs_by_year[year])**2)\n",
      "    women[i] = np.std(np.array(women_diffs_by_year[year])**2)\n",
      "\n",
      "#ax.plot(selected_years, both, '--', color=ALMOST_BLACK, linewidth=LINE_WIDTH)\n",
      "ax.plot(selected_years, men, color=ALMOST_BLACK, linewidth=LINE_WIDTH)\n",
      "ax.plot(selected_years, women, color=FEMALE_COLOR, linewidth=LINE_WIDTH)\n",
      "#ax.plot(selected_years, np.ones_like(selected_years)*np.mean(np.array(all_diffs)**2), '--', color=DARK_COLOR, linewidth=LINE_WIDTH)\n",
      "#ax.plot(selected_years, np.abs(men-women), color=ALMOST_BLACK, linewidth=LINE_WIDTH)\n",
      "\n",
      "#ylims = ax.set_ylim(-0.4, 0.4)\n",
      "ylims = ax.get_ylim()\n",
      "#ax.plot([split_at, split_at], ylims, '--', color=DARK_COLOR, linewidth=LINE_WIDTH)\n",
      "\n",
      "year_ind = np.where(selected_years == split_at)[0]\n",
      "print 'BEFORE:', pearsonr(men[:year_ind+1], women[:year_ind+1])\n",
      "print 'AFTER:', pearsonr(men[year_ind:], women[year_ind:])\n",
      "\n",
      "ax.set_xlim(selected_years[0], selected_years[-1])\n",
      "ax.set_ylabel(\"Mean squared placement error\", fontsize=LABEL_SIZE+2)\n",
      "ax.set_xlabel(\"Hiring year\", fontsize=LABEL_SIZE+2)\n",
      "hide_right_top_axis(ax)\n",
      "\n",
      "fake_line_1 = Line2D(range(1), range(1), color=FEMALE_COLOR, marker='o',markersize=15, linestyle='None', markeredgecolor='w')\n",
      "fake_line_2 = Line2D(range(1), range(1), color=ALMOST_BLACK, marker='o',markersize=15, linestyle='None', markeredgecolor='w')\n",
      "fake_line_t = Line2D(range(1), range(1), color=DARK_COLOR, linestyle='--', linewidth=LINE_WIDTH)\n",
      "ax.legend([fake_line_1, fake_line_2, fake_line_t],['Women', 'Men'], numpoints=1, loc='lower right', frameon=False, fontsize=LABEL_SIZE)\n",
      "\n",
      "ax.tick_params(axis='both', which='major', labelsize=LABEL_SIZE)\n",
      "ax.tick_params(axis='x', pad=XLABEL_PAD)\n",
      "\n",
      "plt.savefig(os.path.join(figures_dir, 'error_v_time.pdf'))\n",
      "plt.show() "
     ],
     "language": "python",
     "metadata": {},
     "outputs": [
      {
       "output_type": "stream",
       "stream": "stdout",
       "text": [
        "BEFORE:"
       ]
      },
      {
       "ename": "TypeError",
       "evalue": "only integer arrays with one element can be converted to an index",
       "output_type": "pyerr",
       "traceback": [
        "\u001b[0;31m---------------------------------------------------------------------------\u001b[0m\n\u001b[0;31mTypeError\u001b[0m                                 Traceback (most recent call last)",
        "\u001b[0;32m<ipython-input-102-1a0783bc2bcc>\u001b[0m in \u001b[0;36m<module>\u001b[0;34m()\u001b[0m\n\u001b[1;32m     26\u001b[0m \u001b[0;34m\u001b[0m\u001b[0m\n\u001b[1;32m     27\u001b[0m \u001b[0myear_ind\u001b[0m \u001b[0;34m=\u001b[0m \u001b[0mnp\u001b[0m\u001b[0;34m.\u001b[0m\u001b[0mwhere\u001b[0m\u001b[0;34m(\u001b[0m\u001b[0mselected_years\u001b[0m \u001b[0;34m==\u001b[0m \u001b[0msplit_at\u001b[0m\u001b[0;34m)\u001b[0m\u001b[0;34m[\u001b[0m\u001b[0;36m0\u001b[0m\u001b[0;34m]\u001b[0m\u001b[0;34m\u001b[0m\u001b[0m\n\u001b[0;32m---> 28\u001b[0;31m \u001b[0;32mprint\u001b[0m \u001b[0;34m'BEFORE:'\u001b[0m\u001b[0;34m,\u001b[0m \u001b[0mpearsonr\u001b[0m\u001b[0;34m(\u001b[0m\u001b[0mmen\u001b[0m\u001b[0;34m[\u001b[0m\u001b[0;34m:\u001b[0m\u001b[0myear_ind\u001b[0m\u001b[0;34m+\u001b[0m\u001b[0;36m1\u001b[0m\u001b[0;34m]\u001b[0m\u001b[0;34m,\u001b[0m \u001b[0mwomen\u001b[0m\u001b[0;34m[\u001b[0m\u001b[0;34m:\u001b[0m\u001b[0myear_ind\u001b[0m\u001b[0;34m+\u001b[0m\u001b[0;36m1\u001b[0m\u001b[0;34m]\u001b[0m\u001b[0;34m)\u001b[0m\u001b[0;34m\u001b[0m\u001b[0m\n\u001b[0m\u001b[1;32m     29\u001b[0m \u001b[0;32mprint\u001b[0m \u001b[0;34m'AFTER:'\u001b[0m\u001b[0;34m,\u001b[0m \u001b[0mpearsonr\u001b[0m\u001b[0;34m(\u001b[0m\u001b[0mmen\u001b[0m\u001b[0;34m[\u001b[0m\u001b[0myear_ind\u001b[0m\u001b[0;34m:\u001b[0m\u001b[0;34m]\u001b[0m\u001b[0;34m,\u001b[0m \u001b[0mwomen\u001b[0m\u001b[0;34m[\u001b[0m\u001b[0myear_ind\u001b[0m\u001b[0;34m:\u001b[0m\u001b[0;34m]\u001b[0m\u001b[0;34m)\u001b[0m\u001b[0;34m\u001b[0m\u001b[0m\n\u001b[1;32m     30\u001b[0m \u001b[0;34m\u001b[0m\u001b[0m\n",
        "\u001b[0;31mTypeError\u001b[0m: only integer arrays with one element can be converted to an index"
       ]
      },
      {
       "metadata": {},
       "output_type": "display_data",
       "png": "[encoded data removed]",
       "text": [
        "<matplotlib.figure.Figure at 0x114ae5790>"
       ]
      }
     ],
     "prompt_number": 102
    },
    {
     "cell_type": "code",
     "collapsed": false,
     "input": [
      "fig, ax = plt.subplots(figsize=(8,4))\n",
      "\n",
      "selected_years = years[5:]\n",
      "both = np.zeros(len(selected_years), dtype=float)\n",
      "men = np.zeros_like(both)\n",
      "women = np.zeros_like(both)\n",
      "w5 = np.zeros_like(both)\n",
      "w95 = np.zeros_like(both)\n",
      "m5 = np.zeros_like(both)\n",
      "m95 = np.zeros_like(both)\n",
      "\n",
      "for i, year in enumerate(selected_years):\n",
      "    #both[i] = np.mean(np.random.choice(np.array(diffs_by_year[year]), 10000))\n",
      "    #men[i] = np.mean(np.random.choice(np.array(men_diffs_by_year[year]), 10000))\n",
      "    #women[i] = np.mean(np.random.choice(np.array(women_diffs_by_year[year]), 10000))\n",
      "    \n",
      "    men[i], m5[i], m95[i] = mean_confidence_interval(np.array(men_diffs_by_year[year]))\n",
      "    m5[i] = np.percentile(men_diffs_by_year[year], 5)\n",
      "    m95[i] = np.percentile(men_diffs_by_year[year], 95)\n",
      "    women[i], w5[i], w95[i] = mean_confidence_interval(np.array(women_diffs_by_year[year]))\n",
      "    w5[i] = np.percentile(women_diffs_by_year[year], 5)\n",
      "    w95[i] = np.percentile(women_diffs_by_year[year], 95)\n",
      "    \n",
      "#ax.plot(selected_years, both, '--', color=ALMOST_BLACK, linewidth=LINE_WIDTH)\n",
      "#ax.plot(selected_years, men, color=ALMOST_BLACK, linewidth=LINE_WIDTH)\n",
      "\n",
      "#ax.fill_between(selected_years, m5, m95, color=DARK_COLOR, edgecolor=\"None\", alpha=0.3)\n",
      "ax.plot(selected_years, men, color=DARK_COLOR, linewidth=LINE_WIDTH)\n",
      "\n",
      "#ax.fill_between(selected_years, w5, w95, color=FEMALE_COLOR, edgecolor=\"None\", alpha=0.3)\n",
      "ax.plot(selected_years, women, color=FEMALE_COLOR, linewidth=LINE_WIDTH)\n",
      "#ax.plot(selected_years, np.abs(men-women), color=ALMOST_BLACK, linewidth=LINE_WIDTH)\n",
      "\n",
      "ax.set_xlim(selected_years[0], selected_years[-1])\n",
      "ax.set_ylabel(\"Mean placement error\", fontsize=LABEL_SIZE)\n",
      "ax.set_xlabel(\"Hiring year\", fontsize=LABEL_SIZE)\n",
      "hide_right_top_axis(ax)\n",
      "\n",
      "fake_line_1 = Line2D(range(1), range(1), color=FEMALE_COLOR, marker='o',markersize=15, linestyle='None', markeredgecolor='w')\n",
      "fake_line_2 = Line2D(range(1), range(1), color=ALMOST_BLACK, marker='o',markersize=15, linestyle='None', markeredgecolor='w')\n",
      "ax.legend([fake_line_1, fake_line_2],['Women', 'Men'], numpoints=1, loc='upper left', frameon=False, fontsize=LABEL_SIZE)\n",
      "\n",
      "plt.savefig(os.path.join(figures_dir, 'error_v_time2.pdf'))\n",
      "plt.show() "
     ],
     "language": "python",
     "metadata": {},
     "outputs": [
      {
       "ename": "IndexError",
       "evalue": "cannot do a non-empty take from an empty axes.",
       "output_type": "pyerr",
       "traceback": [
        "\u001b[0;31m---------------------------------------------------------------------------\u001b[0m\n\u001b[0;31mIndexError\u001b[0m                                Traceback (most recent call last)",
        "\u001b[0;32m<ipython-input-101-b5644dfa766a>\u001b[0m in \u001b[0;36m<module>\u001b[0;34m()\u001b[0m\n\u001b[1;32m     19\u001b[0m     \u001b[0mm95\u001b[0m\u001b[0;34m[\u001b[0m\u001b[0mi\u001b[0m\u001b[0;34m]\u001b[0m \u001b[0;34m=\u001b[0m \u001b[0mnp\u001b[0m\u001b[0;34m.\u001b[0m\u001b[0mpercentile\u001b[0m\u001b[0;34m(\u001b[0m\u001b[0mmen_diffs_by_year\u001b[0m\u001b[0;34m[\u001b[0m\u001b[0myear\u001b[0m\u001b[0;34m]\u001b[0m\u001b[0;34m,\u001b[0m \u001b[0;36m95\u001b[0m\u001b[0;34m)\u001b[0m\u001b[0;34m\u001b[0m\u001b[0m\n\u001b[1;32m     20\u001b[0m     \u001b[0mwomen\u001b[0m\u001b[0;34m[\u001b[0m\u001b[0mi\u001b[0m\u001b[0;34m]\u001b[0m\u001b[0;34m,\u001b[0m \u001b[0mw5\u001b[0m\u001b[0;34m[\u001b[0m\u001b[0mi\u001b[0m\u001b[0;34m]\u001b[0m\u001b[0;34m,\u001b[0m \u001b[0mw95\u001b[0m\u001b[0;34m[\u001b[0m\u001b[0mi\u001b[0m\u001b[0;34m]\u001b[0m \u001b[0;34m=\u001b[0m \u001b[0mmean_confidence_interval\u001b[0m\u001b[0;34m(\u001b[0m\u001b[0mnp\u001b[0m\u001b[0;34m.\u001b[0m\u001b[0marray\u001b[0m\u001b[0;34m(\u001b[0m\u001b[0mwomen_diffs_by_year\u001b[0m\u001b[0;34m[\u001b[0m\u001b[0myear\u001b[0m\u001b[0;34m]\u001b[0m\u001b[0;34m)\u001b[0m\u001b[0;34m)\u001b[0m\u001b[0;34m\u001b[0m\u001b[0m\n\u001b[0;32m---> 21\u001b[0;31m     \u001b[0mw5\u001b[0m\u001b[0;34m[\u001b[0m\u001b[0mi\u001b[0m\u001b[0;34m]\u001b[0m \u001b[0;34m=\u001b[0m \u001b[0mnp\u001b[0m\u001b[0;34m.\u001b[0m\u001b[0mpercentile\u001b[0m\u001b[0;34m(\u001b[0m\u001b[0mwomen_diffs_by_year\u001b[0m\u001b[0;34m[\u001b[0m\u001b[0myear\u001b[0m\u001b[0;34m]\u001b[0m\u001b[0;34m,\u001b[0m \u001b[0;36m5\u001b[0m\u001b[0;34m)\u001b[0m\u001b[0;34m\u001b[0m\u001b[0m\n\u001b[0m\u001b[1;32m     22\u001b[0m     \u001b[0mw95\u001b[0m\u001b[0;34m[\u001b[0m\u001b[0mi\u001b[0m\u001b[0;34m]\u001b[0m \u001b[0;34m=\u001b[0m \u001b[0mnp\u001b[0m\u001b[0;34m.\u001b[0m\u001b[0mpercentile\u001b[0m\u001b[0;34m(\u001b[0m\u001b[0mwomen_diffs_by_year\u001b[0m\u001b[0;34m[\u001b[0m\u001b[0myear\u001b[0m\u001b[0;34m]\u001b[0m\u001b[0;34m,\u001b[0m \u001b[0;36m95\u001b[0m\u001b[0;34m)\u001b[0m\u001b[0;34m\u001b[0m\u001b[0m\n\u001b[1;32m     23\u001b[0m \u001b[0;34m\u001b[0m\u001b[0m\n",
        "\u001b[0;32m/Users/samway/Documents/Work/PythonEnvironments/science/lib/python2.7/site-packages/numpy/lib/function_base.pyc\u001b[0m in \u001b[0;36mpercentile\u001b[0;34m(a, q, axis, out, overwrite_input, interpolation, keepdims)\u001b[0m\n\u001b[1;32m   3052\u001b[0m     r, k = _ureduce(a, func=_percentile, q=q, axis=axis, out=out,\n\u001b[1;32m   3053\u001b[0m                     \u001b[0moverwrite_input\u001b[0m\u001b[0;34m=\u001b[0m\u001b[0moverwrite_input\u001b[0m\u001b[0;34m,\u001b[0m\u001b[0;34m\u001b[0m\u001b[0m\n\u001b[0;32m-> 3054\u001b[0;31m                     interpolation=interpolation)\n\u001b[0m\u001b[1;32m   3055\u001b[0m     \u001b[0;32mif\u001b[0m \u001b[0mkeepdims\u001b[0m\u001b[0;34m:\u001b[0m\u001b[0;34m\u001b[0m\u001b[0m\n\u001b[1;32m   3056\u001b[0m         \u001b[0;32mif\u001b[0m \u001b[0mq\u001b[0m\u001b[0;34m.\u001b[0m\u001b[0mndim\u001b[0m \u001b[0;34m==\u001b[0m \u001b[0;36m0\u001b[0m\u001b[0;34m:\u001b[0m\u001b[0;34m\u001b[0m\u001b[0m\n",
        "\u001b[0;32m/Users/samway/Documents/Work/PythonEnvironments/science/lib/python2.7/site-packages/numpy/lib/function_base.pyc\u001b[0m in \u001b[0;36m_ureduce\u001b[0;34m(a, func, **kwargs)\u001b[0m\n\u001b[1;32m   2801\u001b[0m         \u001b[0mkeepdim\u001b[0m \u001b[0;34m=\u001b[0m \u001b[0;34m[\u001b[0m\u001b[0;36m1\u001b[0m\u001b[0;34m]\u001b[0m \u001b[0;34m*\u001b[0m \u001b[0ma\u001b[0m\u001b[0;34m.\u001b[0m\u001b[0mndim\u001b[0m\u001b[0;34m\u001b[0m\u001b[0m\n\u001b[1;32m   2802\u001b[0m \u001b[0;34m\u001b[0m\u001b[0m\n\u001b[0;32m-> 2803\u001b[0;31m     \u001b[0mr\u001b[0m \u001b[0;34m=\u001b[0m \u001b[0mfunc\u001b[0m\u001b[0;34m(\u001b[0m\u001b[0ma\u001b[0m\u001b[0;34m,\u001b[0m \u001b[0;34m**\u001b[0m\u001b[0mkwargs\u001b[0m\u001b[0;34m)\u001b[0m\u001b[0;34m\u001b[0m\u001b[0m\n\u001b[0m\u001b[1;32m   2804\u001b[0m     \u001b[0;32mreturn\u001b[0m \u001b[0mr\u001b[0m\u001b[0;34m,\u001b[0m \u001b[0mkeepdim\u001b[0m\u001b[0;34m\u001b[0m\u001b[0m\n\u001b[1;32m   2805\u001b[0m \u001b[0;34m\u001b[0m\u001b[0m\n",
        "\u001b[0;32m/Users/samway/Documents/Work/PythonEnvironments/science/lib/python2.7/site-packages/numpy/lib/function_base.pyc\u001b[0m in \u001b[0;36m_percentile\u001b[0;34m(a, q, axis, out, overwrite_input, interpolation, keepdims)\u001b[0m\n\u001b[1;32m   3141\u001b[0m \u001b[0;34m\u001b[0m\u001b[0m\n\u001b[1;32m   3142\u001b[0m         \u001b[0map\u001b[0m\u001b[0;34m.\u001b[0m\u001b[0mpartition\u001b[0m\u001b[0;34m(\u001b[0m\u001b[0mconcatenate\u001b[0m\u001b[0;34m(\u001b[0m\u001b[0;34m(\u001b[0m\u001b[0mindices_below\u001b[0m\u001b[0;34m,\u001b[0m \u001b[0mindices_above\u001b[0m\u001b[0;34m)\u001b[0m\u001b[0;34m)\u001b[0m\u001b[0;34m,\u001b[0m \u001b[0maxis\u001b[0m\u001b[0;34m=\u001b[0m\u001b[0maxis\u001b[0m\u001b[0;34m)\u001b[0m\u001b[0;34m\u001b[0m\u001b[0m\n\u001b[0;32m-> 3143\u001b[0;31m         \u001b[0mx1\u001b[0m \u001b[0;34m=\u001b[0m \u001b[0mtake\u001b[0m\u001b[0;34m(\u001b[0m\u001b[0map\u001b[0m\u001b[0;34m,\u001b[0m \u001b[0mindices_below\u001b[0m\u001b[0;34m,\u001b[0m \u001b[0maxis\u001b[0m\u001b[0;34m=\u001b[0m\u001b[0maxis\u001b[0m\u001b[0;34m)\u001b[0m \u001b[0;34m*\u001b[0m \u001b[0mweights_below\u001b[0m\u001b[0;34m\u001b[0m\u001b[0m\n\u001b[0m\u001b[1;32m   3144\u001b[0m         \u001b[0mx2\u001b[0m \u001b[0;34m=\u001b[0m \u001b[0mtake\u001b[0m\u001b[0;34m(\u001b[0m\u001b[0map\u001b[0m\u001b[0;34m,\u001b[0m \u001b[0mindices_above\u001b[0m\u001b[0;34m,\u001b[0m \u001b[0maxis\u001b[0m\u001b[0;34m=\u001b[0m\u001b[0maxis\u001b[0m\u001b[0;34m)\u001b[0m \u001b[0;34m*\u001b[0m \u001b[0mweights_above\u001b[0m\u001b[0;34m\u001b[0m\u001b[0m\n\u001b[1;32m   3145\u001b[0m \u001b[0;34m\u001b[0m\u001b[0m\n",
        "\u001b[0;32m/Users/samway/Documents/Work/PythonEnvironments/science/lib/python2.7/site-packages/numpy/core/fromnumeric.pyc\u001b[0m in \u001b[0;36mtake\u001b[0;34m(a, indices, axis, out, mode)\u001b[0m\n\u001b[1;32m    119\u001b[0m     \u001b[0;32mexcept\u001b[0m \u001b[0mAttributeError\u001b[0m\u001b[0;34m:\u001b[0m\u001b[0;34m\u001b[0m\u001b[0m\n\u001b[1;32m    120\u001b[0m         \u001b[0;32mreturn\u001b[0m \u001b[0m_wrapit\u001b[0m\u001b[0;34m(\u001b[0m\u001b[0ma\u001b[0m\u001b[0;34m,\u001b[0m \u001b[0;34m'take'\u001b[0m\u001b[0;34m,\u001b[0m \u001b[0mindices\u001b[0m\u001b[0;34m,\u001b[0m \u001b[0maxis\u001b[0m\u001b[0;34m,\u001b[0m \u001b[0mout\u001b[0m\u001b[0;34m,\u001b[0m \u001b[0mmode\u001b[0m\u001b[0;34m)\u001b[0m\u001b[0;34m\u001b[0m\u001b[0m\n\u001b[0;32m--> 121\u001b[0;31m     \u001b[0;32mreturn\u001b[0m \u001b[0mtake\u001b[0m\u001b[0;34m(\u001b[0m\u001b[0mindices\u001b[0m\u001b[0;34m,\u001b[0m \u001b[0maxis\u001b[0m\u001b[0;34m,\u001b[0m \u001b[0mout\u001b[0m\u001b[0;34m,\u001b[0m \u001b[0mmode\u001b[0m\u001b[0;34m)\u001b[0m\u001b[0;34m\u001b[0m\u001b[0m\n\u001b[0m\u001b[1;32m    122\u001b[0m \u001b[0;34m\u001b[0m\u001b[0m\n\u001b[1;32m    123\u001b[0m \u001b[0;34m\u001b[0m\u001b[0m\n",
        "\u001b[0;31mIndexError\u001b[0m: cannot do a non-empty take from an empty axes."
       ]
      },
      {
       "metadata": {},
       "output_type": "display_data",
       "png": "[encoded data removed]",
       "text": [
        "<matplotlib.figure.Figure at 0x1149b4950>"
       ]
      }
     ],
     "prompt_number": 101
    },
    {
     "cell_type": "heading",
     "level": 2,
     "metadata": {},
     "source": [
      "Before & After 2002"
     ]
    },
    {
     "cell_type": "code",
     "collapsed": false,
     "input": [
      "years = np.arange(1970, 2012)\n",
      "split_at = 2002\n",
      "women_pre = []\n",
      "women_post = []\n",
      "\n",
      "for person in everyone:   \n",
      "    if person.is_female:\n",
      "        year = person.first_asst_job_year\n",
      "        if year <= split_at:\n",
      "            selected_list = women_pre\n",
      "        else:\n",
      "            selected_list = women_post\n",
      "\n",
      "        for i, place in enumerate(job_lists[person]):\n",
      "            job_rank = inst.get(place, inst['UNKNOWN'])[ranking]\n",
      "            selected_list.append(job_rank - person.first_asst_job_rank)\n",
      "            \n",
      "stat, pval = mannwhitneyu(women_pre, women_post)\n",
      "sig = pval < sig_level    \n",
      "print sig, pval\n",
      "\n",
      "print 'PhD-Job Rank:'\n",
      "print 'BEFORE %d : ' % split_at, np.mean(women_pre)\n",
      "print 'AFTER  %d : ' % split_at, np.mean(women_post)"
     ],
     "language": "python",
     "metadata": {},
     "outputs": [
      {
       "output_type": "stream",
       "stream": "stdout",
       "text": [
        "True 0.0385450477692\n",
        "PhD-Job Rank:\n",
        "BEFORE 2002 :  -0.0244244655932\n",
        "AFTER  2002 :  "
       ]
      },
      {
       "output_type": "stream",
       "stream": "stdout",
       "text": [
        "-0.0285636953846\n"
       ]
      }
     ],
     "prompt_number": 41
    },
    {
     "cell_type": "code",
     "collapsed": false,
     "input": [
      "hist(women_pre, bins=bins, normed=True)\n",
      "hist(women_post, bins=bins, normed=True, alpha=0.8)\n",
      "plt.show()"
     ],
     "language": "python",
     "metadata": {},
     "outputs": [
      {
       "metadata": {},
       "output_type": "display_data",
       "png": "[encoded data removed]",
       "text": [
        "<matplotlib.figure.Figure at 0x109d132d0>"
       ]
      }
     ],
     "prompt_number": 42
    },
    {
     "cell_type": "code",
     "collapsed": false,
     "input": [
      "years = np.arange(1970, 2012)\n",
      "split_at = 2002\n",
      "counts = np.zeros((2,2), dtype=float)\n",
      "y_pd = []\n",
      "n_pd = []\n",
      "\n",
      "for person in everyone:   \n",
      "    if person.is_female and person.first_asst_job_year > split_at:\n",
      "        if person.has_postdoc:\n",
      "            selected_list = y_pd\n",
      "        else:\n",
      "            selected_list = n_pd\n",
      "        temp_diffs = []\n",
      "        \n",
      "        for i, place in enumerate(job_lists[person]):\n",
      "            job_rank = inst.get(place, inst['UNKNOWN'])[ranking]\n",
      "            selected_list.append(person.first_asst_job_rank - job_rank)\n",
      "        \n",
      "stat, pval = mannwhitneyu(y_pd, n_pd)\n",
      "sig = pval < sig_level    \n",
      "print sig, pval\n",
      "print 'Number w/   : ', len(y_pd)\n",
      "print 'Number w/o  : ', len(n_pd)\n",
      "print 'With postdoc median    : ', np.median(y_pd)\n",
      "print 'W/o postdoc median     : ', np.median(n_pd)"
     ],
     "language": "python",
     "metadata": {},
     "outputs": [
      {
       "output_type": "stream",
       "stream": "stdout",
       "text": [
        "True 3.36654749995e-57\n",
        "Number w/   :  61000\n",
        "Number w/o  :  146000\n",
        "With postdoc median    :  0.00415112031412\n",
        "W/o postdoc median     :  0.0217323357621\n"
       ]
      }
     ],
     "prompt_number": 43
    },
    {
     "cell_type": "heading",
     "level": 2,
     "metadata": {},
     "source": [
      "Surprise!"
     ]
    },
    {
     "cell_type": "code",
     "collapsed": false,
     "input": [
      "years = [person.first_asst_job_year for person in everyone]\n",
      "hired_by_year = Counter(years)"
     ],
     "language": "python",
     "metadata": {},
     "outputs": [],
     "prompt_number": 90
    },
    {
     "cell_type": "code",
     "collapsed": false,
     "input": [
      "''' How many times does the person's actual hiring location appear in the list? '''\n",
      "surprise_vals = []\n",
      "for i, person in enumerate(job_lists):\n",
      "    #if person.first_asst_job_rank < person.phd_rank:\n",
      "    frac = float(Counter(job_lists[person])[person.first_asst_job_location])/len(job_lists[person])\n",
      "    val = frac * hired_by_year[person.first_asst_job_year]\n",
      "    surprise_vals.append(val)"
     ],
     "language": "python",
     "metadata": {},
     "outputs": [],
     "prompt_number": 94
    },
    {
     "cell_type": "code",
     "collapsed": false,
     "input": [
      "''' How many times does the person's actual hiring location appear in the list? '''\n",
      "men = []\n",
      "women = []\n",
      "for i, person in enumerate(job_lists):\n",
      "    frac = float(Counter(job_lists[person])[person.first_asst_job_location])/len(job_lists[person])\n",
      "    val = frac * hired_by_year[person.first_asst_job_year]\n",
      "    if person.is_female:\n",
      "        women.append(val)\n",
      "    else:\n",
      "        men.append(val)\n",
      "        \n",
      "stat, pval = mannwhitneyu(men, women)\n",
      "sig = pval < sig_level    \n",
      "print sig, pval\n",
      "print 'Women : ', np.median(women)\n",
      "print 'Men   : ', np.median(men)"
     ],
     "language": "python",
     "metadata": {},
     "outputs": [
      {
       "output_type": "stream",
       "stream": "stdout",
       "text": [
        "True 0.000243068768768\n",
        "Women :  2.04\n",
        "Men   :  1.6245\n"
       ]
      }
     ],
     "prompt_number": 96
    },
    {
     "cell_type": "code",
     "collapsed": false,
     "input": [
      "fig, ax = plt.subplots(figsize=(6,4))\n",
      "\n",
      "#bins = np.arange(20)/100.\n",
      "#mh, bin_edges = np.histogram(men, bins=bins, weights=np.ones(len(men), dtype=float)/len(men))\n",
      "#ax.plot(bin_edges[:-1], mh, '-o', color=ALMOST_BLACK, linewidth=LINE_WIDTH, markeredgecolor='w')\n",
      "#wh, bin_edges = np.histogram(women, bins=bins, weights=np.ones(len(women), dtype=float)/len(women))\n",
      "#ax.plot(bin_edges[:-1], wh, '-o', color=FEMALE_COLOR, linewidth=LINE_WIDTH, markeredgecolor='w')\n",
      "\n",
      "fake_line_all = Line2D(range(1), range(1), color=ALMOST_BLACK, marker='o',markersize=15, linestyle='None', markeredgecolor='w')\n",
      "fake_line_f = Line2D(range(1), range(1), color=FEMALE_COLOR, marker='o',markersize=15, linestyle='None', markeredgecolor='w')\n",
      "ax.legend((fake_line_all,fake_line_f),('Men','Women'), numpoints=1, loc='upper left', frameon=False, fontsize=LABEL_SIZE)\n",
      "#ax.set_xlim(0, bins[-2])\n",
      "ax.set_ylabel('Fraction of hires', fontsize=LABEL_SIZE)\n",
      "ax.set_xlabel('Probability of hire', fontsize=LABEL_SIZE)\n",
      "\n",
      "bins = np.linspace(0, 30, 100)\n",
      "\n",
      "hist(men, normed=True, color=ALMOST_BLACK, bins=bins)\n",
      "hist(women, normed=True, color=FEMALE_COLOR, bins=bins)"
     ],
     "language": "python",
     "metadata": {},
     "outputs": [
      {
       "metadata": {},
       "output_type": "pyout",
       "prompt_number": 99,
       "text": [
        "(array([ 0.3323185 ,  0.2704918 ,  0.26276347,  0.22412178,  0.23957845,\n",
        "         0.19320843,  0.21639344,  0.15456674,  0.21639344,  0.08501171,\n",
        "         0.0618267 ,  0.10046838,  0.10046838,  0.04637002,  0.0618267 ,\n",
        "         0.0618267 ,  0.05409836,  0.11592506,  0.02318501,  0.03091335,\n",
        "         0.01545667,  0.02318501,  0.03091335,  0.00772834,  0.00772834,\n",
        "         0.03091335,  0.01545667,  0.00772834,  0.02318501,  0.03864169,\n",
        "         0.02318501,  0.00772834,  0.02318501,  0.        ,  0.01545667,\n",
        "         0.00772834,  0.02318501,  0.00772834,  0.02318501,  0.00772834,\n",
        "         0.01545667,  0.        ,  0.00772834,  0.        ,  0.        ,\n",
        "         0.00772834,  0.        ,  0.00772834,  0.        ,  0.00772834,\n",
        "         0.00772834,  0.00772834,  0.        ,  0.        ,  0.        ,\n",
        "         0.        ,  0.        ,  0.        ,  0.        ,  0.00772834,\n",
        "         0.        ,  0.        ,  0.        ,  0.        ,  0.00772834,\n",
        "         0.        ,  0.        ,  0.        ,  0.        ,  0.        ,\n",
        "         0.00772834,  0.        ,  0.        ,  0.        ,  0.        ,\n",
        "         0.        ,  0.        ,  0.        ,  0.00772834,  0.        ,\n",
        "         0.00772834,  0.00772834,  0.        ,  0.        ,  0.        ,\n",
        "         0.        ,  0.        ,  0.        ,  0.        ,  0.        ,\n",
        "         0.        ,  0.        ,  0.        ,  0.        ,  0.        ,\n",
        "         0.        ,  0.        ,  0.        ,  0.        ]),\n",
        " array([  0.        ,   0.3030303 ,   0.60606061,   0.90909091,\n",
        "          1.21212121,   1.51515152,   1.81818182,   2.12121212,\n",
        "          2.42424242,   2.72727273,   3.03030303,   3.33333333,\n",
        "          3.63636364,   3.93939394,   4.24242424,   4.54545455,\n",
        "          4.84848485,   5.15151515,   5.45454545,   5.75757576,\n",
        "          6.06060606,   6.36363636,   6.66666667,   6.96969697,\n",
        "          7.27272727,   7.57575758,   7.87878788,   8.18181818,\n",
        "          8.48484848,   8.78787879,   9.09090909,   9.39393939,\n",
        "          9.6969697 ,  10.        ,  10.3030303 ,  10.60606061,\n",
        "         10.90909091,  11.21212121,  11.51515152,  11.81818182,\n",
        "         12.12121212,  12.42424242,  12.72727273,  13.03030303,\n",
        "         13.33333333,  13.63636364,  13.93939394,  14.24242424,\n",
        "         14.54545455,  14.84848485,  15.15151515,  15.45454545,\n",
        "         15.75757576,  16.06060606,  16.36363636,  16.66666667,\n",
        "         16.96969697,  17.27272727,  17.57575758,  17.87878788,\n",
        "         18.18181818,  18.48484848,  18.78787879,  19.09090909,\n",
        "         19.39393939,  19.6969697 ,  20.        ,  20.3030303 ,\n",
        "         20.60606061,  20.90909091,  21.21212121,  21.51515152,\n",
        "         21.81818182,  22.12121212,  22.42424242,  22.72727273,\n",
        "         23.03030303,  23.33333333,  23.63636364,  23.93939394,\n",
        "         24.24242424,  24.54545455,  24.84848485,  25.15151515,\n",
        "         25.45454545,  25.75757576,  26.06060606,  26.36363636,\n",
        "         26.66666667,  26.96969697,  27.27272727,  27.57575758,\n",
        "         27.87878788,  28.18181818,  28.48484848,  28.78787879,\n",
        "         29.09090909,  29.39393939,  29.6969697 ,  30.        ]),\n",
        " <a list of 99 Patch objects>)"
       ]
      },
      {
       "metadata": {},
       "output_type": "display_data",
       "png": "[encoded data removed]",
       "text": [
        "<matplotlib.figure.Figure at 0x123712210>"
       ]
      }
     ],
     "prompt_number": 99
    },
    {
     "cell_type": "code",
     "collapsed": false,
     "input": [
      "bin_edges[:-1]"
     ],
     "language": "python",
     "metadata": {},
     "outputs": [
      {
       "metadata": {},
       "output_type": "pyout",
       "prompt_number": 47,
       "text": [
        "array([ 0.  ,  0.01,  0.02,  0.03,  0.04,  0.05,  0.06,  0.07,  0.08,\n",
        "        0.09,  0.1 ])"
       ]
      }
     ],
     "prompt_number": 47
    },
    {
     "cell_type": "code",
     "collapsed": false,
     "input": [
      "''' How many times does the person's actual hiring location appear in the list? '''\n",
      "men = []\n",
      "women = []\n",
      "for i, person in enumerate(job_lists):\n",
      "    if get_frac_outperformed(person) > 0.5:\n",
      "        val = float(Counter(job_lists[person])[person.first_asst_job_location])/len(job_lists[person])\n",
      "        if person.is_female:\n",
      "            women.append(val)\n",
      "        else:\n",
      "            men.append(val)\n",
      "        \n",
      "stat, pval = mannwhitneyu(men, women)\n",
      "sig = pval < sig_level    \n",
      "print sig, pval\n",
      "print 'Women : ', np.median(women)\n",
      "print 'Men   : ', np.median(men)"
     ],
     "language": "python",
     "metadata": {},
     "outputs": [
      {
       "output_type": "stream",
       "stream": "stdout",
       "text": [
        "False 0.0504039651435\n",
        "Women :  0.02\n",
        "Men   :  0.024\n"
       ]
      }
     ],
     "prompt_number": 48
    },
    {
     "cell_type": "code",
     "collapsed": false,
     "input": [
      "fig, ax = plt.subplots(figsize=(6,4))\n",
      "\n",
      "bins = np.arange(12)/100.\n",
      "mh, bin_edges = np.histogram(men, bins=bins, weights=np.ones(len(men), dtype=float)/len(men))\n",
      "ax.plot(bin_edges[:-1], mh, '-o', color=ALMOST_BLACK, linewidth=LINE_WIDTH, markeredgecolor='w')\n",
      "wh, bin_edges = np.histogram(women, bins=bins, weights=np.ones(len(women), dtype=float)/len(women))\n",
      "ax.plot(bin_edges[:-1], wh, '-o', color=FEMALE_COLOR, linewidth=LINE_WIDTH, markeredgecolor='w')\n",
      "\n",
      "fake_line_all = Line2D(range(1), range(1), color=ALMOST_BLACK, marker='o',markersize=15, linestyle='None', markeredgecolor='w')\n",
      "fake_line_f = Line2D(range(1), range(1), color=FEMALE_COLOR, marker='o',markersize=15, linestyle='None', markeredgecolor='w')\n",
      "ax.legend((fake_line_all,fake_line_f),('Men','Women'), numpoints=1, loc='upper left', frameon=False, fontsize=LABEL_SIZE)\n",
      "ax.set_xlim(0, bins[-2])\n",
      "ax.set_ylabel('Fraction of hires', fontsize=LABEL_SIZE)\n",
      "ax.set_xlabel('Probability of hire', fontsize=LABEL_SIZE)\n",
      "\n",
      "#hist(men, bins=bins, normed=True, color=ALMOST_BLACK)\n",
      "#hist(women, bins=bins, normed=True, color=FEMALE_COLOR)"
     ],
     "language": "python",
     "metadata": {},
     "outputs": [
      {
       "metadata": {},
       "output_type": "pyout",
       "prompt_number": 49,
       "text": [
        "<matplotlib.text.Text at 0x121133c50>"
       ]
      },
      {
       "metadata": {},
       "output_type": "display_data",
       "png": "[encoded data removed]",
       "text": [
        "<matplotlib.figure.Figure at 0x1002efc90>"
       ]
      }
     ],
     "prompt_number": 49
    },
    {
     "cell_type": "code",
     "collapsed": false,
     "input": [
      "''' Is it more surprising when a women moves up or down? \n",
      "\n",
      "    Answer: No.\n",
      "'''\n",
      "up = []\n",
      "down = []\n",
      "for i, person in enumerate(job_lists):\n",
      "    if person.is_female:\n",
      "        val = float(Counter(job_lists[person])[person.first_asst_job_location])/len(job_lists[person])\n",
      "        if person.first_asst_job_rank > person.phd_rank:\n",
      "            up.append(val)\n",
      "        elif person.phd_rank > person.first_asst_job_rank:\n",
      "            down.append(val)\n",
      "                    \n",
      "stat, pval = mannwhitneyu(up, down)\n",
      "sig = pval < sig_level    \n",
      "print sig, pval\n",
      "print 'UP : ', np.median(up)\n",
      "print 'DOWN   : ', np.median(down)"
     ],
     "language": "python",
     "metadata": {},
     "outputs": [
      {
       "output_type": "stream",
       "stream": "stdout",
       "text": [
        "False 0.0621318752097\n",
        "UP :  0.016\n",
        "DOWN   :  0.02\n"
       ]
      }
     ],
     "prompt_number": 60
    },
    {
     "cell_type": "code",
     "collapsed": false,
     "input": [
      "''' Is it more surprising when a women moves geographic regions? \n",
      "\n",
      "    Answer: \n",
      "'''\n",
      "yes = []\n",
      "no = []\n",
      "for i, person in enumerate(job_lists):\n",
      "    if person.is_female:\n",
      "        val = float(Counter(job_lists[person])[person.first_asst_job_location])/len(job_lists[person])\n",
      "        if person.first_asst_job_region == person.phd_region:\n",
      "            yes.append(val)\n",
      "        elif person.phd_rank > person.first_asst_job_rank:\n",
      "            no.append(val)\n",
      "                    \n",
      "stat, pval = mannwhitneyu(yes, no)\n",
      "sig = pval < sig_level    \n",
      "print sig, pval\n",
      "print 'YES : ', np.median(yes)\n",
      "print 'NO   : ', np.median(no)"
     ],
     "language": "python",
     "metadata": {},
     "outputs": [
      {
       "output_type": "stream",
       "stream": "stdout",
       "text": [
        "True 9.67444611161e-05\n",
        "YES :  0.027\n",
        "NO   :  0.018\n"
       ]
      }
     ],
     "prompt_number": 61
    },
    {
     "cell_type": "code",
     "collapsed": false,
     "input": [
      "''' Is it more surprising when a women moves geographic regions? \n",
      "\n",
      "    Answer: \n",
      "'''\n",
      "yes = []\n",
      "no = []\n",
      "for i, person in enumerate(job_lists):\n",
      "    val = float(Counter(job_lists[person])[person.first_asst_job_location])/len(job_lists[person])\n",
      "    if person.phd_region == 'South':\n",
      "        yes.append(val)\n",
      "    #elif person.phd_rank > person.first_asst_job_rank:\n",
      "    no.append(val)\n",
      "                    \n",
      "stat, pval = mannwhitneyu(yes, no)\n",
      "sig = pval < sig_level    \n",
      "print sig, pval\n",
      "print 'YES : ', np.median(yes)\n",
      "print 'NO   : ', np.median(no)"
     ],
     "language": "python",
     "metadata": {},
     "outputs": [
      {
       "output_type": "stream",
       "stream": "stdout",
       "text": [
        "True 0.0435717104988\n",
        "YES :  0.02\n",
        "NO   :  0.022\n"
       ]
      }
     ],
     "prompt_number": 68
    },
    {
     "cell_type": "code",
     "collapsed": false,
     "input": [
      "x = []\n",
      "y = []\n",
      "\n",
      "for person in everyone:   \n",
      "    year = person.first_asst_job_year\n",
      "    people_per_year[year] += 1\n",
      "    \n",
      "    for i, place in enumerate(job_lists[person]):\n",
      "        job_rank = inst[place][ranking]\n",
      "        x.append(year)\n",
      "        y.append(job_rank - person.first_asst_job_rank)\n",
      "\n",
      "x = np.array(x)\n",
      "y = np.array(y)\n",
      "xmin, xmax = 1970, 2012\n",
      "ymin, ymax = -1, 1\n",
      "\n",
      "# Peform the kernel density estimate\n",
      "xx, yy = np.mgrid[xmin:xmax:100j, ymin:ymax:100j]\n",
      "positions = np.vstack([xx.ravel(), yy.ravel()])\n",
      "values = np.vstack([x, y])\n",
      "kernel = gaussian_kde(values)\n",
      "f = np.reshape(kernel(positions).T, xx.shape)\n",
      "\n",
      "fig = plt.figure()\n",
      "ax = fig.gca()\n",
      "ax.set_xlim(xmin, xmax)\n",
      "ax.set_ylim(ymin, ymax)\n",
      "# Contourf plot\n",
      "cfset = ax.contourf(xx, yy, f, cmap='Blues')\n",
      "## Or kernel density estimate plot instead of the contourf plot\n",
      "#ax.imshow(np.rot90(f), cmap='Blues', extent=[xmin, xmax, ymin, ymax])\n",
      "# Contour plot\n",
      "cset = ax.contour(xx, yy, f, colors='k')\n",
      "# Label plot\n",
      "ax.clabel(cset, inline=1, fontsize=10)\n",
      "ax.set_xlabel('Y1')\n",
      "ax.set_ylabel('Y0')\n",
      "\n",
      "plt.show()"
     ],
     "language": "python",
     "metadata": {},
     "outputs": []
    },
    {
     "cell_type": "code",
     "collapsed": false,
     "input": [
      "x = np.linspace(-10, 10, 100)\n",
      "plot(x, 10*np.abs(x))\n",
      "plot(x, x**2)"
     ],
     "language": "python",
     "metadata": {},
     "outputs": [
      {
       "metadata": {},
       "output_type": "pyout",
       "prompt_number": 135,
       "text": [
        "[<matplotlib.lines.Line2D at 0x1236cad10>]"
       ]
      },
      {
       "metadata": {},
       "output_type": "display_data",
       "png": "[encoded data removed]",
       "text": [
        "<matplotlib.figure.Figure at 0x1236ca1d0>"
       ]
      }
     ],
     "prompt_number": 135
    },
    {
     "cell_type": "code",
     "collapsed": false,
     "input": [],
     "language": "python",
     "metadata": {},
     "outputs": []
    }
   ],
   "metadata": {}
  }
 ]
}