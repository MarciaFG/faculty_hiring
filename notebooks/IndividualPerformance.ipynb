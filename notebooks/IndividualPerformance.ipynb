{
 "metadata": {
  "name": "",
  "signature": "sha256:e76989d937f27fc63725313120bf9393cfeec4fc54c41b03a902e7aa29346953"
 },
 "nbformat": 3,
 "nbformat_minor": 0,
 "worksheets": [
  {
   "cells": [
    {
     "cell_type": "code",
     "collapsed": false,
     "input": [
      "from faculty_hiring.misc.plotting import *  # Definitions for LABEL_SIZE and such\n",
      "from faculty_hiring.misc.gaussian_kde import gaussian_kde\n",
      "from faculty_hiring.models.simulation_engine import SimulationEngine\n",
      "from faculty_hiring.models.sigmoid_models import SigmoidModel\n",
      "\n",
      "import re\n",
      "import os\n",
      "import cPickle as pickle\n",
      "from collections import Counter\n",
      "from faculty_hiring.parse import faculty_parser, institution_parser\n",
      "from faculty_hiring.parse import load\n",
      "from faculty_hiring.scripts import add_zscores as cur\n",
      "from scipy.stats import ttest_ind, ks_2samp, chi2_contingency, mannwhitneyu\n",
      "from scipy.optimize import curve_fit, minimize\n",
      "from scipy.misc import factorial, comb\n",
      "from mpl_toolkits.axes_grid1 import make_axes_locatable\n",
      "\n",
      "import scipy as sp\n",
      "import numpy as np\n",
      "import palettable"
     ],
     "language": "python",
     "metadata": {},
     "outputs": [],
     "prompt_number": 1
    },
    {
     "cell_type": "code",
     "collapsed": false,
     "input": [
      "cmap = palettable.tableau.Tableau_10.mpl_colormap\n",
      "colors = palettable.tableau.Tableau_10.mpl_colors\n",
      "sig_level = 0.05\n",
      "\n",
      "faculty_file = '/Users/samway//Documents/Work/ClausetLab/projects/faculty_hiring/data/faculty_cs_0930.txt'\n",
      "inst_file = '/Users/samway/Documents/Work/ClausetLab/projects/faculty_hiring/data/inst_cs.txt'\n",
      "dblp_dir = '/Users/samway/Documents/Work/ClausetLab/projects/faculty_hiring/data/profiles_DBLP_all/'\n",
      "gs_dir = '/Users/samway/Documents/Work/ClausetLab/projects/faculty_hiring/data/profiles_GS_all/'\n",
      "\n",
      "figures_dir = '/Users/samway/Documents/Work/ClausetLab/projects/faculty_hiring/notebooks/figures/'\n",
      "traj_figures_dir = '/Users/samway/Documents/Work/ClausetLab/projects/faculty_hiring/notebooks/figures/trajectories/'"
     ],
     "language": "python",
     "metadata": {},
     "outputs": [],
     "prompt_number": 2
    },
    {
     "cell_type": "code",
     "collapsed": false,
     "input": [
      "inst = institution_parser.parse_institution_records(open(inst_file))\n",
      "candidate_pools, job_pools, job_ranks, year_range = load.load_assistant_prof_pools(open(faculty_file),\n",
      "                                                                                   school_info=inst,\n",
      "                                                                                   ranking='pi_rescaled',\n",
      "                                                                                   year_start=1970,\n",
      "                                                                                   year_stop=2012,\n",
      "                                                                                   year_step=1)\n",
      "\n",
      "model_weights = np.array([33.50515855,-115.91673249,-91.18207735,10.74285411,40.06731808,4.32774111,0.85881908])  # 'all'\n",
      "model = SigmoidModel(prob_function='all', weights=model_weights)\n",
      "simulator = SimulationEngine(candidate_pools, job_pools, job_ranks, inst, model)\n",
      "\n",
      "#model_weights = np.array([54.60023718,-100.2430182,-134.20413473,33.18501126,54.58562812,24.29300306]) # 'no_gd'\n",
      "#model = SigmoidModel(prob_function='no_gd', weights=model_weights)\n",
      "#simulator = SimulationEngine(candidate_pools, job_pools, job_ranks, inst, model)\n",
      "\n",
      "num_rounds = len(candidate_pools)\n",
      "num_iterations = 1000\n",
      "women = []\n",
      "everyone = []\n",
      "for pool in candidate_pools:\n",
      "    for person, rank in pool:\n",
      "        if person.is_female:\n",
      "            women.append(person)\n",
      "        everyone.append(person)"
     ],
     "language": "python",
     "metadata": {},
     "outputs": [],
     "prompt_number": 3
    },
    {
     "cell_type": "code",
     "collapsed": false,
     "input": [
      "job_lists100 = {p:[] for p in everyone}\n",
      "\n",
      "for t in xrange(100):\n",
      "    if t % 10 == 0:\n",
      "        print t\n",
      "    hires = simulator.generate_network(one_list=False)  # one_list=False keeps things separated by year!\n",
      "    for r, hiring_round in enumerate(hires):\n",
      "        for person, place in hiring_round:\n",
      "            job_lists100[person].append(place)\n",
      "                \n",
      "print 'Done!'"
     ],
     "language": "python",
     "metadata": {},
     "outputs": [
      {
       "output_type": "stream",
       "stream": "stdout",
       "text": [
        "0\n",
        "10"
       ]
      },
      {
       "output_type": "stream",
       "stream": "stdout",
       "text": [
        "\n",
        "20"
       ]
      },
      {
       "output_type": "stream",
       "stream": "stdout",
       "text": [
        "\n",
        "30"
       ]
      },
      {
       "output_type": "stream",
       "stream": "stdout",
       "text": [
        "\n",
        "40"
       ]
      },
      {
       "output_type": "stream",
       "stream": "stdout",
       "text": [
        "\n",
        "50"
       ]
      },
      {
       "output_type": "stream",
       "stream": "stdout",
       "text": [
        "\n",
        "60"
       ]
      },
      {
       "output_type": "stream",
       "stream": "stdout",
       "text": [
        "\n",
        "70"
       ]
      },
      {
       "output_type": "stream",
       "stream": "stdout",
       "text": [
        "\n",
        "80"
       ]
      },
      {
       "output_type": "stream",
       "stream": "stdout",
       "text": [
        "\n",
        "90"
       ]
      },
      {
       "output_type": "stream",
       "stream": "stdout",
       "text": [
        "\n",
        "Done!"
       ]
      },
      {
       "output_type": "stream",
       "stream": "stdout",
       "text": [
        "\n"
       ]
      }
     ],
     "prompt_number": 76
    },
    {
     "cell_type": "code",
     "collapsed": false,
     "input": [
      "job_lists = {p:[] for p in everyone}\n",
      "\n",
      "for t in xrange(num_iterations):\n",
      "    if t % 100 == 0:\n",
      "        print t\n",
      "    hires = simulator.generate_network(one_list=False)  # one_list=False keeps things separated by year!\n",
      "    for r, hiring_round in enumerate(hires):\n",
      "        for person, place in hiring_round:\n",
      "            job_lists[person].append(place)\n",
      "                \n",
      "print 'Done!'"
     ],
     "language": "python",
     "metadata": {},
     "outputs": [
      {
       "output_type": "stream",
       "stream": "stdout",
       "text": [
        "0\n",
        "100"
       ]
      },
      {
       "output_type": "stream",
       "stream": "stdout",
       "text": [
        "\n",
        "200"
       ]
      },
      {
       "output_type": "stream",
       "stream": "stdout",
       "text": [
        "\n",
        "300"
       ]
      },
      {
       "output_type": "stream",
       "stream": "stdout",
       "text": [
        "\n",
        "400"
       ]
      },
      {
       "output_type": "stream",
       "stream": "stdout",
       "text": [
        "\n",
        "500"
       ]
      },
      {
       "output_type": "stream",
       "stream": "stdout",
       "text": [
        "\n",
        "600"
       ]
      },
      {
       "output_type": "stream",
       "stream": "stdout",
       "text": [
        "\n",
        "700"
       ]
      },
      {
       "output_type": "stream",
       "stream": "stdout",
       "text": [
        "\n",
        "800"
       ]
      },
      {
       "output_type": "stream",
       "stream": "stdout",
       "text": [
        "\n",
        "900"
       ]
      },
      {
       "output_type": "stream",
       "stream": "stdout",
       "text": [
        "\n",
        "Done!"
       ]
      },
      {
       "output_type": "stream",
       "stream": "stdout",
       "text": [
        "\n"
       ]
      }
     ],
     "prompt_number": 4
    },
    {
     "cell_type": "code",
     "collapsed": false,
     "input": [
      "if False:\n",
      "    with open('jobLists1k.pkl', 'wb') as handle:\n",
      "        pickle.dump(job_lists, handle)\n",
      "if False:\n",
      "    with open('jobLists1k.pkl', 'rb') as handle:\n",
      "        job_lists = pickle.load(handle)"
     ],
     "language": "python",
     "metadata": {},
     "outputs": [],
     "prompt_number": 26
    },
    {
     "cell_type": "heading",
     "level": 2,
     "metadata": {},
     "source": [
      "Fraction of hires outperformed"
     ]
    },
    {
     "cell_type": "code",
     "collapsed": false,
     "input": [
      "def get_frac_outperformed(person):\n",
      "    num_places = float(len(job_lists[person]))\n",
      "    count = 0.\n",
      "    for i, place in enumerate(job_lists[person]):\n",
      "        job_rank = inst.get(place, inst['UNKNOWN'])[ranking]\n",
      "        if job_rank < person.first_asst_job_rank:\n",
      "            count += 1  # Better than expected.\n",
      "            \n",
      "    return count / num_places"
     ],
     "language": "python",
     "metadata": {},
     "outputs": [],
     "prompt_number": 38
    },
    {
     "cell_type": "code",
     "collapsed": false,
     "input": [
      "ranking = 'pi_rescaled'\n",
      "men_fracs = []\n",
      "women_fracs = []\n",
      "\n",
      "for person in everyone:\n",
      "    frac = get_frac_outperformed(person)\n",
      "    if person.is_female:\n",
      "        women_fracs.append(frac)\n",
      "    else:\n",
      "        men_fracs.append(frac)"
     ],
     "language": "python",
     "metadata": {},
     "outputs": [],
     "prompt_number": 39
    },
    {
     "cell_type": "code",
     "collapsed": false,
     "input": [
      "bins = np.linspace(0,1,100)\n",
      "\n",
      "hist(men_fracs, bins=bins, normed=True, color=DARK_COLOR)\n",
      "hist(women_fracs, bins=bins, normed=True, color=FEMALE_COLOR)\n",
      "\n",
      "print mannwhitneyu(women_fracs, men_fracs)\n",
      "print np.median(women_fracs)\n",
      "print np.median(men_fracs)"
     ],
     "language": "python",
     "metadata": {},
     "outputs": [
      {
       "output_type": "stream",
       "stream": "stdout",
       "text": [
        "MannwhitneyuResult(statistic=580069.0, pvalue=0.01899799535806548)\n",
        "0.512\n",
        "0.485\n"
       ]
      },
      {
       "metadata": {},
       "output_type": "display_data",
       "png": "[encoded data removed]",
       "text": [
        "<matplotlib.figure.Figure at 0x110336790>"
       ]
      }
     ],
     "prompt_number": 40
    },
    {
     "cell_type": "code",
     "collapsed": false,
     "input": [
      "ranking = 'pi_rescaled'\n",
      "ypd = []\n",
      "npd = []\n",
      "\n",
      "for person in everyone:\n",
      "    if person.is_female:\n",
      "        num_places = float(len(job_lists[person]))\n",
      "        count = 0.\n",
      "        for i, place in enumerate(job_lists[person]):\n",
      "            job_rank = inst.get(place, inst['UNKNOWN'])[ranking]\n",
      "            if job_rank < person.first_asst_job_rank:\n",
      "                count += 1  # Better than expected.\n",
      "            \n",
      "        frac = count / num_places\n",
      "        if person.has_postdoc:\n",
      "            ypd.append(frac)\n",
      "        else:\n",
      "            npd.append(frac)\n",
      "            \n",
      "hist(npd, bins=bins, normed=True, color=DARK_COLOR)\n",
      "hist(ypd, bins=bins, normed=True, color=FEMALE_COLOR)\n",
      "            \n",
      "print mannwhitneyu(ypd, npd)\n",
      "print np.median(ypd)\n",
      "print np.median(npd)"
     ],
     "language": "python",
     "metadata": {},
     "outputs": [
      {
       "output_type": "stream",
       "stream": "stdout",
       "text": [
        "MannwhitneyuResult(statistic=21682.0, pvalue=0.11979306762827224)\n",
        "0.443\n",
        "0.538\n"
       ]
      },
      {
       "metadata": {},
       "output_type": "display_data",
       "png": "[encoded data removed]",
       "text": [
        "<matplotlib.figure.Figure at 0x10cda0810>"
       ]
      }
     ],
     "prompt_number": 21
    },
    {
     "cell_type": "heading",
     "level": 2,
     "metadata": {},
     "source": [
      "Rank differences"
     ]
    },
    {
     "cell_type": "code",
     "collapsed": false,
     "input": [
      "ranking = 'pi_rescaled'\n",
      "men_diffs = []\n",
      "women_diffs = []\n",
      "\n",
      "# NEGATIVE MEANS SIMULATED JOB RANK < ACTUAL JOB RANK: THE PERSON PLACED HIGHER THAN WE'D EXPECT\n",
      "# POSTIVE MEANS SIMULATED JOB RANK > ACTUAL JOB RANK: THE PERSON PLACED LOWER THAN WE'D EXPECT\n",
      "for person in everyone:\n",
      "    for i, place in enumerate(job_lists[person]):\n",
      "        job_rank = inst.get(place, inst['UNKNOWN'])[ranking]\n",
      "        if person.is_female:\n",
      "            women_diffs.append(job_rank - person.first_asst_job_rank)\n",
      "        else:\n",
      "            men_diffs.append(job_rank - person.first_asst_job_rank)"
     ],
     "language": "python",
     "metadata": {},
     "outputs": [],
     "prompt_number": 17
    },
    {
     "cell_type": "code",
     "collapsed": false,
     "input": [
      "stat, pval = mannwhitneyu(men_diffs, women_diffs)\n",
      "sig = pval < sig_level    \n",
      "print sig, pval\n",
      "\n",
      "print 'PhD-Job Rank:'\n",
      "print 'MEN  : ', np.median(men_diffs)\n",
      "print 'WOMEN: ', np.median(women_diffs)"
     ],
     "language": "python",
     "metadata": {},
     "outputs": [
      {
       "output_type": "stream",
       "stream": "stdout",
       "text": [
        "True 0.0\n",
        "PhD-Job Rank:\n",
        "MEN  :  "
       ]
      },
      {
       "output_type": "stream",
       "stream": "stdout",
       "text": [
        "0.0\n",
        "WOMEN:  "
       ]
      },
      {
       "output_type": "stream",
       "stream": "stdout",
       "text": [
        "-0.0111347697838\n"
       ]
      }
     ],
     "prompt_number": 22
    },
    {
     "cell_type": "code",
     "collapsed": false,
     "input": [
      "bins = np.linspace(-1, 1, 100)\n",
      "\n",
      "x = linspace(-1,1, 100)\n",
      "\n",
      "'''\n",
      "men_bst = np.random.choice(men_nsh, 100000)\n",
      "pdf = gaussian_kde(men_bst)\n",
      "y = pdf(x)\n",
      "plot(x,y,linewidth=2, color=ALMOST_BLACK)\n",
      "\n",
      "women_bst = np.random.choice(women_nsh, 100000)\n",
      "pdf = gaussian_kde(women_bst)\n",
      "y = pdf(x)\n",
      "plot(x,y,linewidth=2, color=FEMALE_COLOR)\n",
      "'''\n",
      "\n",
      "hist(men_diffs, bins=bins, normed=True, color=DARK_COLOR, edgecolor=ALMOST_BLACK)\n",
      "hist(women_diffs, bins=bins, normed=True, color=FEMALE_COLOR, edgecolor=ALMOST_BLACK)\n",
      "plt.show()"
     ],
     "language": "python",
     "metadata": {},
     "outputs": [
      {
       "metadata": {},
       "output_type": "display_data",
       "png": "[encoded data removed]",
       "text": [
        "<matplotlib.figure.Figure at 0x10d0bde10>"
       ]
      }
     ],
     "prompt_number": 23
    },
    {
     "cell_type": "code",
     "collapsed": false,
     "input": [
      "# EXCLUDING SELF-HIRES (nsh=no self hires)\n",
      "men_nsh = np.array(men_diffs)\n",
      "women_nsh = np.array(women_diffs)\n",
      "\n",
      "men_nsh = men_nsh[np.where(men_nsh != 0.)]\n",
      "women_nsh = women_nsh[np.where(women_nsh != 0.)]\n",
      "\n",
      "stat, pval = mannwhitneyu(men_nsh, women_nsh)\n",
      "sig = pval < sig_level    \n",
      "print sig, pval\n",
      "\n",
      "print 'PhD-Job Rank:'\n",
      "print 'MEN  : ', np.mean(men_nsh)\n",
      "print 'WOMEN: ', np.mean(women_nsh)"
     ],
     "language": "python",
     "metadata": {},
     "outputs": [
      {
       "output_type": "stream",
       "stream": "stdout",
       "text": [
        "True 0.0\n",
        "PhD-Job Rank:\n",
        "MEN  :  0.00455263443989\n",
        "WOMEN:  -0.0237727259045\n"
       ]
      }
     ],
     "prompt_number": 24
    },
    {
     "cell_type": "code",
     "collapsed": false,
     "input": [
      "bins = np.linspace(-1, 1, 100)\n",
      "\n",
      "x = linspace(-1,1, 100)\n",
      "\n",
      "'''\n",
      "men_bst = np.random.choice(men_nsh, 100000)\n",
      "pdf = gaussian_kde(men_bst)\n",
      "y = pdf(x)\n",
      "plot(x,y,linewidth=2, color=ALMOST_BLACK)\n",
      "\n",
      "women_bst = np.random.choice(women_nsh, 100000)\n",
      "pdf = gaussian_kde(women_bst)\n",
      "y = pdf(x)\n",
      "plot(x,y,linewidth=2, color=FEMALE_COLOR)\n",
      "'''\n",
      "\n",
      "hist(men_nsh, bins=bins, normed=True, color=DARK_COLOR, edgecolor=ALMOST_BLACK)\n",
      "hist(women_nsh, bins=bins, normed=True, color=FEMALE_COLOR, edgecolor=ALMOST_BLACK)\n",
      "plt.show()"
     ],
     "language": "python",
     "metadata": {},
     "outputs": [
      {
       "metadata": {},
       "output_type": "display_data",
       "png": "[encoded data removed]",
       "text": [
        "<matplotlib.figure.Figure at 0x10d0c5110>"
       ]
      }
     ],
     "prompt_number": 25
    },
    {
     "cell_type": "heading",
     "level": 2,
     "metadata": {},
     "source": [
      "Only people without a postdoc"
     ]
    },
    {
     "cell_type": "code",
     "collapsed": false,
     "input": [
      "person = everyone[0]\n",
      "ranking = 'pi_rescaled'\n",
      "men_diffs = []\n",
      "women_diffs = []\n",
      "\n",
      "# NEGATIVE MEANS SIMULATED JOB RANK < ACTUAL JOB RANK: THE PERSON PLACED HIGHER THAN WE'D EXPECT\n",
      "# POSTIVE MEANS SIMULATED JOB RANK > ACTUAL JOB RANK: THE PERSON PLACED LOWER THAN WE'D EXPECT\n",
      "for person in everyone:\n",
      "    if not person.has_postdoc:\n",
      "        for i, place in enumerate(job_lists[person]):\n",
      "            job_rank = inst.get(place, inst['UNKNOWN'])[ranking]\n",
      "            if person.is_female:\n",
      "                women_diffs.append(job_rank - person.first_asst_job_rank)\n",
      "            else:\n",
      "                men_diffs.append(job_rank - person.first_asst_job_rank)\n",
      "                \n",
      "stat, pval = mannwhitneyu(men_diffs, women_diffs)\n",
      "sig = pval < sig_level    \n",
      "print sig, pval\n",
      "\n",
      "print 'PhD-Job Rank:'\n",
      "print 'MEN  : ', np.median(men_diffs)\n",
      "print 'WOMEN: ', np.median(women_diffs)"
     ],
     "language": "python",
     "metadata": {},
     "outputs": [
      {
       "output_type": "stream",
       "stream": "stdout",
       "text": [
        "True 1.56121720285e-256\n",
        "PhD-Job Rank:\n",
        "MEN  :  "
       ]
      },
      {
       "output_type": "stream",
       "stream": "stdout",
       "text": [
        "0.0\n",
        "WOMEN:  "
       ]
      },
      {
       "output_type": "stream",
       "stream": "stdout",
       "text": [
        "-0.0191439901545\n"
       ]
      }
     ],
     "prompt_number": 26
    },
    {
     "cell_type": "heading",
     "level": 2,
     "metadata": {},
     "source": [
      "Only people with a postdoc"
     ]
    },
    {
     "cell_type": "code",
     "collapsed": false,
     "input": [
      "person = everyone[0]\n",
      "ranking = 'pi_rescaled'\n",
      "men_diffs = []\n",
      "women_diffs = []\n",
      "\n",
      "# NEGATIVE MEANS SIMULATED JOB RANK < ACTUAL JOB RANK: THE PERSON PLACED HIGHER THAN WE'D EXPECT\n",
      "# POSTIVE MEANS SIMULATED JOB RANK > ACTUAL JOB RANK: THE PERSON PLACED LOWER THAN WE'D EXPECT\n",
      "for person in everyone:\n",
      "    if person.has_postdoc:\n",
      "        for i, place in enumerate(job_lists[person]):\n",
      "            job_rank = inst.get(place, inst['UNKNOWN'])[ranking]\n",
      "            if person.is_female:\n",
      "                women_diffs.append(job_rank - person.first_asst_job_rank)\n",
      "            else:\n",
      "                men_diffs.append(job_rank - person.first_asst_job_rank)\n",
      "                \n",
      "stat, pval = mannwhitneyu(men_diffs, women_diffs)\n",
      "sig = pval < sig_level    \n",
      "print sig, pval\n",
      "\n",
      "print 'PhD-Job Rank:'\n",
      "print 'MEN  : ', np.median(men_diffs)\n",
      "print 'WOMEN: ', np.median(women_diffs)"
     ],
     "language": "python",
     "metadata": {},
     "outputs": [
      {
       "output_type": "stream",
       "stream": "stdout",
       "text": [
        "True 0.0\n",
        "PhD-Job Rank:\n",
        "MEN  :  "
       ]
      },
      {
       "output_type": "stream",
       "stream": "stdout",
       "text": [
        "0.042683284171\n",
        "WOMEN:  0.0\n"
       ]
      }
     ],
     "prompt_number": 27
    },
    {
     "cell_type": "heading",
     "level": 2,
     "metadata": {},
     "source": [
      "Men without, women with"
     ]
    },
    {
     "cell_type": "code",
     "collapsed": false,
     "input": [
      "person = everyone[0]\n",
      "ranking = 'pi_rescaled'\n",
      "men_diffs = []\n",
      "women_diffs = []\n",
      "\n",
      "# NEGATIVE MEANS SIMULATED JOB RANK < ACTUAL JOB RANK: THE PERSON PLACED HIGHER THAN WE'D EXPECT\n",
      "# POSTIVE MEANS SIMULATED JOB RANK > ACTUAL JOB RANK: THE PERSON PLACED LOWER THAN WE'D EXPECT\n",
      "for person in everyone:\n",
      "    if (person.is_female and person.has_postdoc) or (not person.is_female and not person.has_postdoc):\n",
      "        for i, place in enumerate(job_lists[person]):\n",
      "            job_rank = inst.get(place, inst['UNKNOWN'])[ranking]\n",
      "            if person.is_female:\n",
      "                women_diffs.append(job_rank - person.first_asst_job_rank)\n",
      "            else:\n",
      "                men_diffs.append(job_rank - person.first_asst_job_rank)\n",
      "                \n",
      "stat, pval = mannwhitneyu(men_diffs, women_diffs)\n",
      "sig = pval < sig_level    \n",
      "print sig, pval\n",
      "\n",
      "print 'PhD-Job Rank:'\n",
      "print 'MEN  : %.10f' % np.average(men_diffs)\n",
      "print 'WOMEN: %.10f' % np.average(women_diffs)"
     ],
     "language": "python",
     "metadata": {},
     "outputs": [
      {
       "output_type": "stream",
       "stream": "stdout",
       "text": [
        "True 1.77461643645e-44\n",
        "PhD-Job Rank:\n",
        "MEN  : -0.0095534285"
       ]
      },
      {
       "output_type": "stream",
       "stream": "stdout",
       "text": [
        "\n",
        "WOMEN: -0.0010851961\n"
       ]
      }
     ],
     "prompt_number": 28
    },
    {
     "cell_type": "code",
     "collapsed": false,
     "input": [
      "hist(men_diffs, bins)"
     ],
     "language": "python",
     "metadata": {},
     "outputs": [
      {
       "metadata": {},
       "output_type": "pyout",
       "prompt_number": 29,
       "text": [
        "(array([   1755.,    1529.,     964.,     452.,     755.,    1494.,\n",
        "           4597.,    2011.,    3382.,    5463.,    3917.,    2458.,\n",
        "           5730.,    5370.,    6973.,    8371.,   10192.,    9481.,\n",
        "          10260.,   12296.,   13274.,   12920.,   14335.,   16258.,\n",
        "          17463.,   23594.,   16591.,   21289.,   24105.,   22832.,\n",
        "          25148.,   28848.,   28954.,   30698.,   28925.,   31853.,\n",
        "          31864.,   32912.,   32323.,   39065.,   37416.,   40192.,\n",
        "          41537.,   43256.,   39999.,   43262.,   47232.,   46971.,\n",
        "          46600.,  116222.,   45520.,   46551.,   47693.,   43681.,\n",
        "          42699.,   40132.,   42011.,   39468.,   35855.,   38072.,\n",
        "          31319.,   30827.,   30347.,   27969.,   27464.,   25488.,\n",
        "          25407.,   25399.,   22287.,   19348.,   19043.,   16569.,\n",
        "          14452.,   17435.,   15123.,   13361.,   13334.,    9926.,\n",
        "          11315.,   11811.,   10037.,    8885.,   10285.,    7018.,\n",
        "           6322.,    5542.,    5733.,    4067.,    3604.,    5926.,\n",
        "           4401.,    2026.,    5389.,    3249.,    1586.,    1060.,\n",
        "           1105.,    2613.,    1858.]),\n",
        " array([-1.        , -0.97979798, -0.95959596, -0.93939394, -0.91919192,\n",
        "        -0.8989899 , -0.87878788, -0.85858586, -0.83838384, -0.81818182,\n",
        "        -0.7979798 , -0.77777778, -0.75757576, -0.73737374, -0.71717172,\n",
        "        -0.6969697 , -0.67676768, -0.65656566, -0.63636364, -0.61616162,\n",
        "        -0.5959596 , -0.57575758, -0.55555556, -0.53535354, -0.51515152,\n",
        "        -0.49494949, -0.47474747, -0.45454545, -0.43434343, -0.41414141,\n",
        "        -0.39393939, -0.37373737, -0.35353535, -0.33333333, -0.31313131,\n",
        "        -0.29292929, -0.27272727, -0.25252525, -0.23232323, -0.21212121,\n",
        "        -0.19191919, -0.17171717, -0.15151515, -0.13131313, -0.11111111,\n",
        "        -0.09090909, -0.07070707, -0.05050505, -0.03030303, -0.01010101,\n",
        "         0.01010101,  0.03030303,  0.05050505,  0.07070707,  0.09090909,\n",
        "         0.11111111,  0.13131313,  0.15151515,  0.17171717,  0.19191919,\n",
        "         0.21212121,  0.23232323,  0.25252525,  0.27272727,  0.29292929,\n",
        "         0.31313131,  0.33333333,  0.35353535,  0.37373737,  0.39393939,\n",
        "         0.41414141,  0.43434343,  0.45454545,  0.47474747,  0.49494949,\n",
        "         0.51515152,  0.53535354,  0.55555556,  0.57575758,  0.5959596 ,\n",
        "         0.61616162,  0.63636364,  0.65656566,  0.67676768,  0.6969697 ,\n",
        "         0.71717172,  0.73737374,  0.75757576,  0.77777778,  0.7979798 ,\n",
        "         0.81818182,  0.83838384,  0.85858586,  0.87878788,  0.8989899 ,\n",
        "         0.91919192,  0.93939394,  0.95959596,  0.97979798,  1.        ]),\n",
        " <a list of 99 Patch objects>)"
       ]
      },
      {
       "metadata": {},
       "output_type": "display_data",
       "png": "[encoded data removed]",
       "text": [
        "<matplotlib.figure.Figure at 0x10cd750d0>"
       ]
      }
     ],
     "prompt_number": 29
    },
    {
     "cell_type": "code",
     "collapsed": false,
     "input": [
      "hist(women_diffs, bins)"
     ],
     "language": "python",
     "metadata": {},
     "outputs": [
      {
       "metadata": {},
       "output_type": "pyout",
       "prompt_number": 30,
       "text": [
        "(array([  3.00000000e+00,   0.00000000e+00,   0.00000000e+00,\n",
        "          0.00000000e+00,   0.00000000e+00,   2.50000000e+01,\n",
        "          3.95000000e+02,   1.03000000e+02,   1.25000000e+02,\n",
        "          2.18000000e+02,   2.80000000e+02,   2.27000000e+02,\n",
        "          2.17000000e+02,   3.83000000e+02,   4.88000000e+02,\n",
        "          8.21000000e+02,   5.60000000e+02,   6.34000000e+02,\n",
        "          7.76000000e+02,   6.98000000e+02,   1.18200000e+03,\n",
        "          1.27500000e+03,   1.31300000e+03,   1.06900000e+03,\n",
        "          1.25200000e+03,   1.37000000e+03,   9.78000000e+02,\n",
        "          1.63800000e+03,   1.30500000e+03,   1.30600000e+03,\n",
        "          1.63100000e+03,   2.04800000e+03,   1.65800000e+03,\n",
        "          2.15000000e+03,   2.12900000e+03,   2.01800000e+03,\n",
        "          2.28000000e+03,   1.79900000e+03,   2.17300000e+03,\n",
        "          1.85100000e+03,   2.24600000e+03,   2.14900000e+03,\n",
        "          2.53100000e+03,   2.76300000e+03,   3.46000000e+03,\n",
        "          2.85600000e+03,   2.95400000e+03,   2.67100000e+03,\n",
        "          2.62700000e+03,   5.18500000e+03,   3.01200000e+03,\n",
        "          2.83400000e+03,   2.45700000e+03,   3.42800000e+03,\n",
        "          2.21400000e+03,   2.60200000e+03,   2.36200000e+03,\n",
        "          2.36700000e+03,   2.38200000e+03,   3.14700000e+03,\n",
        "          2.36100000e+03,   2.35200000e+03,   1.81100000e+03,\n",
        "          2.21000000e+03,   2.18000000e+03,   1.87800000e+03,\n",
        "          2.14200000e+03,   1.96400000e+03,   1.98500000e+03,\n",
        "          1.55800000e+03,   2.26900000e+03,   1.54000000e+03,\n",
        "          1.86400000e+03,   1.88300000e+03,   1.27300000e+03,\n",
        "          1.09500000e+03,   1.15300000e+03,   1.16000000e+03,\n",
        "          8.41000000e+02,   9.20000000e+02,   5.22000000e+02,\n",
        "          4.43000000e+02,   2.95000000e+02,   2.96000000e+02,\n",
        "          1.57000000e+02,   1.35000000e+02,   2.00000000e+02,\n",
        "          3.50000000e+01,   3.30000000e+01,   1.11000000e+02,\n",
        "          6.70000000e+01,   1.80000000e+01,   7.80000000e+01,\n",
        "          1.28000000e+02,   9.50000000e+01,   3.60000000e+01,\n",
        "          6.20000000e+01,   9.00000000e+01,   1.35000000e+02]),\n",
        " array([-1.        , -0.97979798, -0.95959596, -0.93939394, -0.91919192,\n",
        "        -0.8989899 , -0.87878788, -0.85858586, -0.83838384, -0.81818182,\n",
        "        -0.7979798 , -0.77777778, -0.75757576, -0.73737374, -0.71717172,\n",
        "        -0.6969697 , -0.67676768, -0.65656566, -0.63636364, -0.61616162,\n",
        "        -0.5959596 , -0.57575758, -0.55555556, -0.53535354, -0.51515152,\n",
        "        -0.49494949, -0.47474747, -0.45454545, -0.43434343, -0.41414141,\n",
        "        -0.39393939, -0.37373737, -0.35353535, -0.33333333, -0.31313131,\n",
        "        -0.29292929, -0.27272727, -0.25252525, -0.23232323, -0.21212121,\n",
        "        -0.19191919, -0.17171717, -0.15151515, -0.13131313, -0.11111111,\n",
        "        -0.09090909, -0.07070707, -0.05050505, -0.03030303, -0.01010101,\n",
        "         0.01010101,  0.03030303,  0.05050505,  0.07070707,  0.09090909,\n",
        "         0.11111111,  0.13131313,  0.15151515,  0.17171717,  0.19191919,\n",
        "         0.21212121,  0.23232323,  0.25252525,  0.27272727,  0.29292929,\n",
        "         0.31313131,  0.33333333,  0.35353535,  0.37373737,  0.39393939,\n",
        "         0.41414141,  0.43434343,  0.45454545,  0.47474747,  0.49494949,\n",
        "         0.51515152,  0.53535354,  0.55555556,  0.57575758,  0.5959596 ,\n",
        "         0.61616162,  0.63636364,  0.65656566,  0.67676768,  0.6969697 ,\n",
        "         0.71717172,  0.73737374,  0.75757576,  0.77777778,  0.7979798 ,\n",
        "         0.81818182,  0.83838384,  0.85858586,  0.87878788,  0.8989899 ,\n",
        "         0.91919192,  0.93939394,  0.95959596,  0.97979798,  1.        ]),\n",
        " <a list of 99 Patch objects>)"
       ]
      },
      {
       "metadata": {},
       "output_type": "display_data",
       "png": "[encoded data removed]",
       "text": [
        "<matplotlib.figure.Figure at 0x10cde2990>"
       ]
      }
     ],
     "prompt_number": 30
    },
    {
     "cell_type": "heading",
     "level": 2,
     "metadata": {},
     "source": [
      "Only people who moved down/up"
     ]
    },
    {
     "cell_type": "code",
     "collapsed": false,
     "input": [
      "ranking = 'pi_rescaled'\n",
      "men = []\n",
      "women = []\n",
      "\n",
      "for person in everyone:\n",
      "    if person.first_asst_job_rank < person.phd_rank: # MOVED DOWN\n",
      "        for i, place in enumerate(job_lists[person]):\n",
      "            job_rank = inst.get(place, inst['UNKNOWN'])[ranking]\n",
      "            if person.is_female:\n",
      "                women.append(job_rank - person.first_asst_job_rank)\n",
      "            else:\n",
      "                men.append(job_rank - person.first_asst_job_rank)\n",
      "                \n",
      "stat, pval = ttest_ind(men, women)\n",
      "sig = pval < sig_level    \n",
      "print sig, pval\n",
      "\n",
      "print 'MEN', sp.stats.ttest_1samp(men, 0.)\n",
      "print 'WOMEN', sp.stats.ttest_1samp(women, 0.)\n",
      "print ''\n",
      "\n",
      "print 'PhD-Job Rank:'\n",
      "print 'MEN  : ', np.mean(men)\n",
      "print 'WOMEN: ', np.mean(women)"
     ],
     "language": "python",
     "metadata": {},
     "outputs": [
      {
       "output_type": "stream",
       "stream": "stdout",
       "text": [
        "True 0.0\n",
        "MEN "
       ]
      },
      {
       "output_type": "stream",
       "stream": "stdout",
       "text": [
        "Ttest_1sampResult(statistic=136.86775367001749, pvalue=0.0)\n",
        "WOMEN "
       ]
      },
      {
       "output_type": "stream",
       "stream": "stdout",
       "text": [
        "Ttest_1sampResult(statistic=-16.962653114763942, pvalue=1.6463107202877976e-64)\n",
        "\n",
        "PhD-Job Rank:\n",
        "MEN  :  "
       ]
      },
      {
       "output_type": "stream",
       "stream": "stdout",
       "text": [
        "0.0339425893573\n",
        "WOMEN:  "
       ]
      },
      {
       "output_type": "stream",
       "stream": "stdout",
       "text": [
        "-0.00905101822253\n"
       ]
      }
     ],
     "prompt_number": 161
    },
    {
     "cell_type": "code",
     "collapsed": false,
     "input": [
      "ranking = 'pi_rescaled'\n",
      "men = []\n",
      "women = []\n",
      "\n",
      "for person in everyone:\n",
      "    if person.first_asst_job_rank > person.phd_rank: # MOVED UP\n",
      "        for i, place in enumerate(job_lists[person]):\n",
      "            job_rank = inst.get(place, inst['UNKNOWN'])[ranking]\n",
      "            if person.is_female:\n",
      "                women.append(job_rank - person.first_asst_job_rank)\n",
      "            else:\n",
      "                men.append(job_rank - person.first_asst_job_rank)\n",
      "                \n",
      "stat, pval = ttest_ind(men, women)\n",
      "sig = pval < sig_level    \n",
      "print sig, pval\n",
      "\n",
      "print 'PhD-Job Rank:'\n",
      "print 'MEN  : ', np.mean(men)\n",
      "print 'WOMEN: ', np.mean(women)"
     ],
     "language": "python",
     "metadata": {},
     "outputs": [
      {
       "output_type": "stream",
       "stream": "stdout",
       "text": [
        "True 1.50432059832e-246\n",
        "PhD-Job Rank:"
       ]
      },
      {
       "output_type": "stream",
       "stream": "stdout",
       "text": [
        "\n",
        "MEN  :  "
       ]
      },
      {
       "output_type": "stream",
       "stream": "stdout",
       "text": [
        "-0.0935315885276\n",
        "WOMEN:  -0.0519886869\n"
       ]
      }
     ],
     "prompt_number": 156
    },
    {
     "cell_type": "code",
     "collapsed": false,
     "input": [
      "sp.stats.ttest_1samp(men, 0.)"
     ],
     "language": "python",
     "metadata": {},
     "outputs": [
      {
       "metadata": {},
       "output_type": "pyout",
       "prompt_number": 159,
       "text": [
        "Ttest_1sampResult(statistic=-202.58094106355185, pvalue=0.0)"
       ]
      }
     ],
     "prompt_number": 159
    },
    {
     "cell_type": "code",
     "collapsed": false,
     "input": [
      "hist(men_diffs, bins=bins, normed=True)\n",
      "hist(women_diffs, bins=bins, normed=True, alpha=0.8)\n",
      "plt.show()"
     ],
     "language": "python",
     "metadata": {},
     "outputs": [
      {
       "metadata": {},
       "output_type": "display_data",
       "png": "[encoded data removed]",
       "text": [
        "<matplotlib.figure.Figure at 0x117f66910>"
       ]
      }
     ],
     "prompt_number": 155
    },
    {
     "cell_type": "code",
     "collapsed": false,
     "input": [
      "ranking = 'pi_rescaled'\n",
      "men_diffs = []\n",
      "women_diffs = []\n",
      "\n",
      "for person in everyone:\n",
      "    if person.first_asst_job_region == person.phd_region: # STAYED IN THE SAME REGION\n",
      "        for i, place in enumerate(job_lists[person]):\n",
      "            job_rank = inst.get(place, inst['UNKNOWN'])[ranking]\n",
      "            if person.is_female:\n",
      "                women_diffs.append(job_rank - person.first_asst_job_rank)\n",
      "            else:\n",
      "                men_diffs.append(job_rank - person.first_asst_job_rank)\n",
      "                \n",
      "stat, pval = ttest_ind(men_diffs, women_diffs)\n",
      "sig = pval < sig_level    \n",
      "print sig, pval\n",
      "\n",
      "print 'PhD-Job Rank:'\n",
      "print 'MEN  : ', np.mean(men_diffs)\n",
      "print 'WOMEN: ', np.mean(women_diffs)"
     ],
     "language": "python",
     "metadata": {},
     "outputs": [
      {
       "output_type": "stream",
       "stream": "stdout",
       "text": [
        "True 0.0\n",
        "Negative means the actual job rank is lower than simulated\n",
        "PhD-Job Rank:\n",
        "MEN  :  "
       ]
      },
      {
       "output_type": "stream",
       "stream": "stdout",
       "text": [
        "0.0272935487353\n",
        "WOMEN:  "
       ]
      },
      {
       "output_type": "stream",
       "stream": "stdout",
       "text": [
        "-0.036121312061\n"
       ]
      }
     ],
     "prompt_number": 51
    },
    {
     "cell_type": "heading",
     "level": 2,
     "metadata": {},
     "source": [
      "Over time"
     ]
    },
    {
     "cell_type": "code",
     "collapsed": false,
     "input": [
      "years = np.arange(1970, 2012)\n",
      "diffs_by_year = {year:[] for year in years}\n",
      "people_per_year = {year:0. for year in years}\n",
      "just_women = True\n",
      "\n",
      "for person in everyone:\n",
      "    if not person.is_female:\n",
      "        just_women = True\n",
      "        continue  # FEMALES ONLY \n",
      "    \n",
      "    year = person.first_asst_job_year\n",
      "    people_per_year[year] += 1\n",
      "    \n",
      "    for i, place in enumerate(job_lists[person]):\n",
      "        job_rank = inst.get(place, inst['UNKNOWN'])[ranking]\n",
      "        diffs_by_year[year].append(job_rank - person.first_asst_job_rank)"
     ],
     "language": "python",
     "metadata": {},
     "outputs": [],
     "prompt_number": 283
    },
    {
     "cell_type": "code",
     "collapsed": false,
     "input": [
      "def mean_confidence_interval(data, confidence=0.95):\n",
      "    a = 1.0*np.array(data)\n",
      "    n = len(a)\n",
      "    m, se = np.mean(a), sp.stats.sem(a)\n",
      "    h = se * sp.stats.t._ppf((1+confidence)/2., n-1)\n",
      "    return m, m-h, m+h"
     ],
     "language": "python",
     "metadata": {},
     "outputs": [],
     "prompt_number": 284
    },
    {
     "cell_type": "code",
     "collapsed": false,
     "input": [
      "fig, ax = plt.subplots(figsize=(8,4))\n",
      "\n",
      "averages = []\n",
      "uppers = []\n",
      "lowers = []\n",
      "\n",
      "for year in years:\n",
      "    d = np.array(diffs_by_year[year])**2\n",
      "    m, l, u = mean_confidence_interval(d)\n",
      "    averages.append(m)\n",
      "    #uppers.append(np.percentile(d, 95))\n",
      "    #lowers.append(np.percentile(d, 5))\n",
      "    uppers.append(u)\n",
      "    lowers.append(l)\n",
      "\n",
      "ax.fill_between(years, lowers, uppers, color=LIGHT_COLOR, edgecolor=\"None\")\n",
      "hide_right_top_axis(ax)\n",
      "\n",
      "ax.plot(years, averages, color=ALMOST_BLACK)\n",
      "ax.set_xlim(1970, 2011)\n",
      "ax.set_ylabel(\"Mean squared placement\\nerror per person\", fontsize=LABEL_SIZE)\n",
      "ax.set_xlabel(\"Hiring year\", fontsize=LABEL_SIZE)\n",
      "\n",
      "if just_women:\n",
      "    plt.savefig(os.path.join(figures_dir, 'error_v_time_WOMEN.pdf'))\n",
      "else:\n",
      "    plt.savefig(os.path.join(figures_dir, 'error_v_time_ALL.pdf'))\n",
      "    \n",
      "plt.show() "
     ],
     "language": "python",
     "metadata": {},
     "outputs": [
      {
       "metadata": {},
       "output_type": "display_data",
       "png": "[encoded data removed]",
       "text": [
        "<matplotlib.figure.Figure at 0x1164cb810>"
       ]
      }
     ],
     "prompt_number": 285
    },
    {
     "cell_type": "heading",
     "level": 2,
     "metadata": {},
     "source": [
      "By year, by group"
     ]
    },
    {
     "cell_type": "code",
     "collapsed": false,
     "input": [
      "years = np.arange(1970, 2012)\n",
      "diffs_by_year = {year:[] for year in years}\n",
      "men_diffs_by_year = {year:[] for year in years}\n",
      "women_diffs_by_year = {year:[] for year in years}\n",
      "people_per_year = {year:0. for year in years}\n",
      "\n",
      "for person in everyone:   \n",
      "    year = person.first_asst_job_year\n",
      "    people_per_year[year] += 1\n",
      "    \n",
      "    for i, place in enumerate(job_lists[person]):\n",
      "        job_rank = inst.get(place, inst['UNKNOWN'])[ranking]\n",
      "        diffs_by_year[year].append(job_rank - person.first_asst_job_rank)\n",
      "        if person.is_female:\n",
      "            women_diffs_by_year[year].append(job_rank - person.first_asst_job_rank)\n",
      "        else:\n",
      "            men_diffs_by_year[year].append(job_rank - person.first_asst_job_rank)"
     ],
     "language": "python",
     "metadata": {},
     "outputs": [],
     "prompt_number": 49
    },
    {
     "cell_type": "code",
     "collapsed": false,
     "input": [
      "fig, ax = plt.subplots(figsize=(8,4))\n",
      "\n",
      "selected_years = years[5:]\n",
      "both = np.zeros(len(selected_years), dtype=float)\n",
      "men = np.zeros_like(both)\n",
      "women = np.zeros_like(both)\n",
      "\n",
      "for i, year in enumerate(selected_years):\n",
      "    #both[i] = np.mean(np.random.choice(np.array(diffs_by_year[year]), 10000))\n",
      "    #men[i] = np.mean(np.random.choice(np.array(men_diffs_by_year[year]), 10000))\n",
      "    #women[i] = np.mean(np.random.choice(np.array(women_diffs_by_year[year]), 10000))\n",
      "    \n",
      "    both[i] = np.mean(np.array(diffs_by_year[year])**2)\n",
      "    men[i] = np.mean(np.array(men_diffs_by_year[year])**2)\n",
      "    women[i] = np.mean(np.array(women_diffs_by_year[year])**2)\n",
      "\n",
      "#ax.plot(selected_years, both, '--', color=ALMOST_BLACK, linewidth=LINE_WIDTH)\n",
      "ax.plot(selected_years, men, color=ALMOST_BLACK, linewidth=LINE_WIDTH)\n",
      "ax.plot(selected_years, women, color=FEMALE_COLOR, linewidth=LINE_WIDTH)\n",
      "#ax.plot(selected_years, np.abs(men-women), color=ALMOST_BLACK, linewidth=LINE_WIDTH)\n",
      "\n",
      "ax.set_xlim(selected_years[0], selected_years[-1])\n",
      "ax.set_ylabel(\"Mean squared placement error\", fontsize=LABEL_SIZE)\n",
      "ax.set_xlabel(\"Hiring year\", fontsize=LABEL_SIZE)\n",
      "hide_right_top_axis(ax)\n",
      "\n",
      "fake_line_1 = Line2D(range(1), range(1), color=FEMALE_COLOR, marker='o',markersize=15, linestyle='None', markeredgecolor='w')\n",
      "fake_line_2 = Line2D(range(1), range(1), color=ALMOST_BLACK, marker='o',markersize=15, linestyle='None', markeredgecolor='w')\n",
      "ax.legend([fake_line_1, fake_line_2],['Women', 'All'], numpoints=1, loc='upper left', frameon=False, fontsize=LABEL_SIZE)\n",
      "\n",
      "plt.savefig(os.path.join(figures_dir, 'error_v_time.pdf'))\n",
      "plt.show() "
     ],
     "language": "python",
     "metadata": {},
     "outputs": [
      {
       "metadata": {},
       "output_type": "display_data",
       "png": "[encoded data removed]",
       "text": [
        "<matplotlib.figure.Figure at 0x1117c9290>"
       ]
      }
     ],
     "prompt_number": 59
    },
    {
     "cell_type": "code",
     "collapsed": false,
     "input": [
      "fig, ax = plt.subplots(figsize=(8,4))\n",
      "\n",
      "selected_years = years[5:]\n",
      "both = np.zeros(len(selected_years), dtype=float)\n",
      "men = np.zeros_like(both)\n",
      "women = np.zeros_like(both)\n",
      "w5 = np.zeros_like(both)\n",
      "w95 = np.zeros_like(both)\n",
      "\n",
      "for i, year in enumerate(selected_years):\n",
      "    #both[i] = np.mean(np.random.choice(np.array(diffs_by_year[year]), 10000))\n",
      "    #men[i] = np.mean(np.random.choice(np.array(men_diffs_by_year[year]), 10000))\n",
      "    #women[i] = np.mean(np.random.choice(np.array(women_diffs_by_year[year]), 10000))\n",
      "    \n",
      "    both[i] = np.mean(np.array(diffs_by_year[year]))\n",
      "    men[i] = np.mean(np.array(men_diffs_by_year[year]))\n",
      "    women[i] = np.mean(np.array(women_diffs_by_year[year]))\n",
      "    w5[i] = np.percentile(women_diffs_by_year[year], 5)\n",
      "    w95[i] = np.percentile(women_diffs_by_year[year], 95)\n",
      "\n",
      "#ax.plot(selected_years, both, '--', color=ALMOST_BLACK, linewidth=LINE_WIDTH)\n",
      "#ax.plot(selected_years, men, color=ALMOST_BLACK, linewidth=LINE_WIDTH)\n",
      "\n",
      "ax.fill_between(selected_years, w5, w95, color=FEMALE_COLOR, edgecolor=\"None\", alpha=0.3)\n",
      "ax.plot(selected_years, women, color=FEMALE_COLOR, linewidth=LINE_WIDTH)\n",
      "#ax.plot(selected_years, np.abs(men-women), color=ALMOST_BLACK, linewidth=LINE_WIDTH)\n",
      "\n",
      "ax.set_xlim(selected_years[0], selected_years[-1])\n",
      "ax.set_ylabel(\"Mean squared placement error\", fontsize=LABEL_SIZE)\n",
      "ax.set_xlabel(\"Hiring year\", fontsize=LABEL_SIZE)\n",
      "hide_right_top_axis(ax)\n",
      "\n",
      "fake_line_1 = Line2D(range(1), range(1), color=FEMALE_COLOR, marker='o',markersize=15, linestyle='None', markeredgecolor='w')\n",
      "fake_line_2 = Line2D(range(1), range(1), color=ALMOST_BLACK, marker='o',markersize=15, linestyle='None', markeredgecolor='w')\n",
      "ax.legend([fake_line_1, fake_line_2],['Women', 'All'], numpoints=1, loc='upper left', frameon=False, fontsize=LABEL_SIZE)\n",
      "\n",
      "plt.savefig(os.path.join(figures_dir, 'error_v_time.pdf'))\n",
      "plt.show() "
     ],
     "language": "python",
     "metadata": {},
     "outputs": [
      {
       "metadata": {},
       "output_type": "display_data",
       "png": "[encoded data removed]",
       "text": [
        "<matplotlib.figure.Figure at 0x110401c10>"
       ]
      }
     ],
     "prompt_number": 61
    },
    {
     "cell_type": "heading",
     "level": 2,
     "metadata": {},
     "source": [
      "Before & After 2002"
     ]
    },
    {
     "cell_type": "code",
     "collapsed": false,
     "input": [
      "years = np.arange(1970, 2012)\n",
      "split_at = 2002\n",
      "women_pre = []\n",
      "women_post = []\n",
      "\n",
      "for person in everyone:   \n",
      "    if person.is_female:\n",
      "        year = person.first_asst_job_year\n",
      "        if year <= split_at:\n",
      "            selected_list = women_pre\n",
      "        else:\n",
      "            selected_list = women_post\n",
      "\n",
      "        for i, place in enumerate(job_lists[person]):\n",
      "            job_rank = inst.get(place, inst['UNKNOWN'])[ranking]\n",
      "            selected_list.append(job_rank - person.first_asst_job_rank)\n",
      "            \n",
      "stat, pval = mannwhitneyu(women_pre, women_post)\n",
      "sig = pval < sig_level    \n",
      "print sig, pval\n",
      "\n",
      "print 'PhD-Job Rank:'\n",
      "print 'BEFORE %d : ' % split_at, np.mean(women_pre)\n",
      "print 'AFTER  %d : ' % split_at, np.mean(women_post)"
     ],
     "language": "python",
     "metadata": {},
     "outputs": [
      {
       "output_type": "stream",
       "stream": "stdout",
       "text": [
        "True 0.0182313312781\n",
        "PhD-Job Rank:\n",
        "BEFORE 2002 :  -0.0192118484547\n",
        "AFTER  2002 :  "
       ]
      },
      {
       "output_type": "stream",
       "stream": "stdout",
       "text": [
        "-0.0187302887292\n"
       ]
      }
     ],
     "prompt_number": 254
    },
    {
     "cell_type": "code",
     "collapsed": false,
     "input": [
      "hist(women_pre, bins=bins, normed=True)\n",
      "hist(women_post, bins=bins, normed=True, alpha=0.8)\n",
      "plt.show()"
     ],
     "language": "python",
     "metadata": {},
     "outputs": [
      {
       "metadata": {},
       "output_type": "display_data",
       "png": "[encoded data removed]",
       "text": [
        "<matplotlib.figure.Figure at 0x11b5242d0>"
       ]
      }
     ],
     "prompt_number": 255
    },
    {
     "cell_type": "code",
     "collapsed": false,
     "input": [
      "years = np.arange(1970, 2012)\n",
      "split_at = 2002\n",
      "counts = np.zeros((2,2), dtype=float)\n",
      "y_pd = []\n",
      "n_pd = []\n",
      "\n",
      "for person in everyone:   \n",
      "    if person.is_female and person.first_asst_job_year > split_at:\n",
      "        if person.has_postdoc:\n",
      "            selected_list = y_pd\n",
      "        else:\n",
      "            selected_list = n_pd\n",
      "        temp_diffs = []\n",
      "        \n",
      "        for i, place in enumerate(job_lists[person]):\n",
      "            job_rank = inst.get(place, inst['UNKNOWN'])[ranking]\n",
      "            selected_list.append(person.first_asst_job_rank - job_rank)\n",
      "        \n",
      "stat, pval = mannwhitneyu(y_pd, n_pd)\n",
      "sig = pval < sig_level    \n",
      "print sig, pval\n",
      "print 'Number w/   : ', len(y_pd)\n",
      "print 'Number w/o  : ', len(n_pd)\n",
      "print 'With postdoc median    : ', np.median(y_pd)\n",
      "print 'W/o postdoc median     : ', np.median(n_pd)"
     ],
     "language": "python",
     "metadata": {},
     "outputs": [
      {
       "output_type": "stream",
       "stream": "stdout",
       "text": [
        "True 3.04502889729e-143\n",
        "Number w/   :  86000\n",
        "Number w/o  :  154000\n",
        "With postdoc median    :  -0.00478599753863\n",
        "W/o postdoc median     :  0.0243206813698\n"
       ]
      }
     ],
     "prompt_number": 34
    },
    {
     "cell_type": "heading",
     "level": 2,
     "metadata": {},
     "source": [
      "Surprise!"
     ]
    },
    {
     "cell_type": "code",
     "collapsed": false,
     "input": [
      "''' How many times does the person's actual hiring location appear in the list? '''\n",
      "surprise_vals = np.zeros(len(job_lists), dtype=float)\n",
      "for i, person in enumerate(job_lists):\n",
      "    surprise_vals[i] = float(Counter(job_lists[person])[person.first_asst_job_location])/len(job_lists[person])"
     ],
     "language": "python",
     "metadata": {},
     "outputs": [],
     "prompt_number": 300
    },
    {
     "cell_type": "code",
     "collapsed": false,
     "input": [
      "''' How many times does the person's actual hiring location appear in the list? '''\n",
      "men = []\n",
      "women = []\n",
      "for i, person in enumerate(job_lists):\n",
      "    val = float(Counter(job_lists[person])[person.first_asst_job_location])/len(job_lists[person])\n",
      "    if person.is_female:\n",
      "        women.append(val)\n",
      "    else:\n",
      "        men.append(val)\n",
      "        \n",
      "stat, pval = mannwhitneyu(men, women)\n",
      "sig = pval < sig_level    \n",
      "print sig, pval\n",
      "print 'Women : ', np.median(women)\n",
      "print 'Men   : ', np.median(men)"
     ],
     "language": "python",
     "metadata": {},
     "outputs": [
      {
       "output_type": "stream",
       "stream": "stdout",
       "text": [
        "False 0.100445245683\n",
        "Women :  0.014\n",
        "Men   :  0.0160320641283\n"
       ]
      }
     ],
     "prompt_number": 303
    },
    {
     "cell_type": "code",
     "collapsed": false,
     "input": [
      "fig, ax = plt.subplots(figsize=(6,4))\n",
      "\n",
      "bins = np.arange(12)/100.\n",
      "mh, bin_edges = np.histogram(men, bins=bins, weights=np.ones(len(men), dtype=float)/len(men))\n",
      "ax.plot(bin_edges[:-1], mh, '-o', color=ALMOST_BLACK, linewidth=LINE_WIDTH, markeredgecolor='w')\n",
      "wh, bin_edges = np.histogram(women, bins=bins, weights=np.ones(len(women), dtype=float)/len(women))\n",
      "ax.plot(bin_edges[:-1], wh, '-o', color=FEMALE_COLOR, linewidth=LINE_WIDTH, markeredgecolor='w')\n",
      "\n",
      "fake_line_all = Line2D(range(1), range(1), color=ALMOST_BLACK, marker='o',markersize=15, linestyle='None', markeredgecolor='w')\n",
      "fake_line_f = Line2D(range(1), range(1), color=FEMALE_COLOR, marker='o',markersize=15, linestyle='None', markeredgecolor='w')\n",
      "ax.legend((fake_line_all,fake_line_f),('Men','Women'), numpoints=1, loc='upper left', frameon=False, fontsize=LABEL_SIZE)\n",
      "ax.set_xlim(0, bins[-2])\n",
      "ax.set_ylabel('Fraction of hires', fontsize=LABEL_SIZE)\n",
      "ax.set_xlabel('Probability of hire', fontsize=LABEL_SIZE)\n",
      "\n",
      "#hist(men, bins=bins, normed=True, color=ALMOST_BLACK)\n",
      "#hist(women, bins=bins, normed=True, color=FEMALE_COLOR)"
     ],
     "language": "python",
     "metadata": {},
     "outputs": [
      {
       "metadata": {},
       "output_type": "pyout",
       "prompt_number": 370,
       "text": [
        "<matplotlib.text.Text at 0x130407310>"
       ]
      },
      {
       "metadata": {},
       "output_type": "display_data",
       "png": "[encoded data removed]",
       "text": [
        "<matplotlib.figure.Figure at 0x12ff9f090>"
       ]
      }
     ],
     "prompt_number": 370
    },
    {
     "cell_type": "code",
     "collapsed": false,
     "input": [
      "bin_edges[:-1]"
     ],
     "language": "python",
     "metadata": {},
     "outputs": [
      {
       "metadata": {},
       "output_type": "pyout",
       "prompt_number": 367,
       "text": [
        "array([ 0.  ,  0.01,  0.02,  0.03,  0.04,  0.05,  0.06,  0.07,  0.08,\n",
        "        0.09,  0.1 ])"
       ]
      }
     ],
     "prompt_number": 367
    },
    {
     "cell_type": "code",
     "collapsed": false,
     "input": [
      "''' How many times does the person's actual hiring location appear in the list? '''\n",
      "men = []\n",
      "women = []\n",
      "for i, person in enumerate(job_lists):\n",
      "    if get_frac_outperformed(person) > 0.5:\n",
      "        val = float(Counter(job_lists[person])[person.first_asst_job_location])/len(job_lists[person])\n",
      "        if person.is_female:\n",
      "            women.append(val)\n",
      "        else:\n",
      "            men.append(val)\n",
      "        \n",
      "stat, pval = mannwhitneyu(men, women)\n",
      "sig = pval < sig_level    \n",
      "print sig, pval\n",
      "print 'Women : ', np.median(women)\n",
      "print 'Men   : ', np.median(men)"
     ],
     "language": "python",
     "metadata": {},
     "outputs": [
      {
       "output_type": "stream",
       "stream": "stdout",
       "text": [
        "True 0.00794272285909\n",
        "Women :  0.011\n",
        "Men   :  0.016\n"
       ]
      }
     ],
     "prompt_number": 47
    },
    {
     "cell_type": "code",
     "collapsed": false,
     "input": [
      "fig, ax = plt.subplots(figsize=(6,4))\n",
      "\n",
      "bins = np.arange(12)/100.\n",
      "mh, bin_edges = np.histogram(men, bins=bins, weights=np.ones(len(men), dtype=float)/len(men))\n",
      "ax.plot(bin_edges[:-1], mh, '-o', color=ALMOST_BLACK, linewidth=LINE_WIDTH, markeredgecolor='w')\n",
      "wh, bin_edges = np.histogram(women, bins=bins, weights=np.ones(len(women), dtype=float)/len(women))\n",
      "ax.plot(bin_edges[:-1], wh, '-o', color=FEMALE_COLOR, linewidth=LINE_WIDTH, markeredgecolor='w')\n",
      "\n",
      "fake_line_all = Line2D(range(1), range(1), color=ALMOST_BLACK, marker='o',markersize=15, linestyle='None', markeredgecolor='w')\n",
      "fake_line_f = Line2D(range(1), range(1), color=FEMALE_COLOR, marker='o',markersize=15, linestyle='None', markeredgecolor='w')\n",
      "ax.legend((fake_line_all,fake_line_f),('Men','Women'), numpoints=1, loc='upper left', frameon=False, fontsize=LABEL_SIZE)\n",
      "ax.set_xlim(0, bins[-2])\n",
      "ax.set_ylabel('Fraction of hires', fontsize=LABEL_SIZE)\n",
      "ax.set_xlabel('Probability of hire', fontsize=LABEL_SIZE)\n",
      "\n",
      "#hist(men, bins=bins, normed=True, color=ALMOST_BLACK)\n",
      "#hist(women, bins=bins, normed=True, color=FEMALE_COLOR)"
     ],
     "language": "python",
     "metadata": {},
     "outputs": [
      {
       "metadata": {},
       "output_type": "pyout",
       "prompt_number": 44,
       "text": [
        "<matplotlib.text.Text at 0x110353b90>"
       ]
      },
      {
       "metadata": {},
       "output_type": "display_data",
       "png": "[encoded data removed]",
       "text": [
        "<matplotlib.figure.Figure at 0x111132650>"
       ]
      }
     ],
     "prompt_number": 44
    },
    {
     "cell_type": "code",
     "collapsed": false,
     "input": [],
     "language": "python",
     "metadata": {},
     "outputs": []
    }
   ],
   "metadata": {}
  }
 ]
}