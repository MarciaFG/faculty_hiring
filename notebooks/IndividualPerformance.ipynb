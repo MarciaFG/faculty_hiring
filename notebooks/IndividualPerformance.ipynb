{
 "metadata": {
  "name": "",
  "signature": "sha256:84c6b2053baa70f902adf482095d9532ebc61760bec843d02c148330e4495722"
 },
 "nbformat": 3,
 "nbformat_minor": 0,
 "worksheets": [
  {
   "cells": [
    {
     "cell_type": "code",
     "collapsed": false,
     "input": [
      "from faculty_hiring.misc.plotting import *  # Definitions for LABEL_SIZE and such\n",
      "from faculty_hiring.misc.gaussian_kde import gaussian_kde\n",
      "from faculty_hiring.models.simulation_engine import SimulationEngine\n",
      "from faculty_hiring.models.sigmoid_models import SigmoidModel\n",
      "\n",
      "import re\n",
      "import os\n",
      "import cPickle as pickle\n",
      "from collections import Counter\n",
      "from faculty_hiring.parse import faculty_parser, institution_parser\n",
      "from faculty_hiring.parse import load\n",
      "from faculty_hiring.scripts import add_zscores as cur\n",
      "from scipy.stats import ttest_ind, ks_2samp, chi2_contingency, mannwhitneyu\n",
      "from scipy.optimize import curve_fit, minimize\n",
      "from scipy.misc import factorial, comb\n",
      "from mpl_toolkits.axes_grid1 import make_axes_locatable\n",
      "\n",
      "import scipy as sp\n",
      "import numpy as np\n",
      "import palettable"
     ],
     "language": "python",
     "metadata": {},
     "outputs": [],
     "prompt_number": 249
    },
    {
     "cell_type": "code",
     "collapsed": false,
     "input": [
      "cmap = palettable.tableau.Tableau_10.mpl_colormap\n",
      "colors = palettable.tableau.Tableau_10.mpl_colors\n",
      "sig_level = 0.05\n",
      "\n",
      "faculty_file = '/Users/samway//Documents/Work/ClausetLab/projects/faculty_hiring/data/faculty_cs_0930.txt'\n",
      "inst_file = '/Users/samway/Documents/Work/ClausetLab/projects/faculty_hiring/data/inst_cs.txt'\n",
      "dblp_dir = '/Users/samway/Documents/Work/ClausetLab/projects/faculty_hiring/data/profiles_DBLP_all/'\n",
      "gs_dir = '/Users/samway/Documents/Work/ClausetLab/projects/faculty_hiring/data/profiles_GS_all/'\n",
      "\n",
      "figures_dir = '/Users/samway/Documents/Work/ClausetLab/projects/faculty_hiring/notebooks/figures/'\n",
      "traj_figures_dir = '/Users/samway/Documents/Work/ClausetLab/projects/faculty_hiring/notebooks/figures/trajectories/'"
     ],
     "language": "python",
     "metadata": {},
     "outputs": [],
     "prompt_number": 2
    },
    {
     "cell_type": "code",
     "collapsed": false,
     "input": [
      "inst = institution_parser.parse_institution_records(open(inst_file))\n",
      "candidate_pools, job_pools, job_ranks, year_range = load.load_assistant_prof_pools(open(faculty_file),\n",
      "                                                                                   school_info=inst,\n",
      "                                                                                   ranking='pi_rescaled',\n",
      "                                                                                   year_start=1970,\n",
      "                                                                                   year_stop=2012,\n",
      "                                                                                   year_step=1)\n",
      "\n",
      "model_weights = np.array([33.50515855,-115.91673249,-91.18207735,10.74285411,40.06731808,4.32774111,0.85881908])  # 'all'\n",
      "model = SigmoidModel(prob_function='all', weights=model_weights)\n",
      "simulator = SimulationEngine(candidate_pools, job_pools, job_ranks, inst, model)\n",
      "\n",
      "#model_weights = np.array([54.60023718,-100.2430182,-134.20413473,33.18501126,54.58562812,24.29300306]) # 'no_gd'\n",
      "#model = SigmoidModel(prob_function='no_gd', weights=model_weights)\n",
      "#simulator = SimulationEngine(candidate_pools, job_pools, job_ranks, inst, model)\n",
      "\n",
      "num_rounds = len(candidate_pools)\n",
      "num_iterations = 1000\n",
      "women = []\n",
      "everyone = []\n",
      "for pool in candidate_pools:\n",
      "    for person, rank in pool:\n",
      "        if person.is_female:\n",
      "            women.append(person)\n",
      "        everyone.append(person)"
     ],
     "language": "python",
     "metadata": {},
     "outputs": [],
     "prompt_number": 42
    },
    {
     "cell_type": "code",
     "collapsed": false,
     "input": [
      "job_lists100 = {p:[] for p in everyone}\n",
      "\n",
      "for t in xrange(100):\n",
      "    if t % 10 == 0:\n",
      "        print t\n",
      "    hires = simulator.generate_network(one_list=False)  # one_list=False keeps things separated by year!\n",
      "    for r, hiring_round in enumerate(hires):\n",
      "        for person, place in hiring_round:\n",
      "            job_lists100[person].append(place)\n",
      "                \n",
      "print 'Done!'"
     ],
     "language": "python",
     "metadata": {},
     "outputs": [
      {
       "output_type": "stream",
       "stream": "stdout",
       "text": [
        "0\n",
        "10"
       ]
      },
      {
       "output_type": "stream",
       "stream": "stdout",
       "text": [
        "\n",
        "20"
       ]
      },
      {
       "output_type": "stream",
       "stream": "stdout",
       "text": [
        "\n",
        "30"
       ]
      },
      {
       "output_type": "stream",
       "stream": "stdout",
       "text": [
        "\n",
        "40"
       ]
      },
      {
       "output_type": "stream",
       "stream": "stdout",
       "text": [
        "\n",
        "50"
       ]
      },
      {
       "output_type": "stream",
       "stream": "stdout",
       "text": [
        "\n",
        "60"
       ]
      },
      {
       "output_type": "stream",
       "stream": "stdout",
       "text": [
        "\n",
        "70"
       ]
      },
      {
       "output_type": "stream",
       "stream": "stdout",
       "text": [
        "\n",
        "80"
       ]
      },
      {
       "output_type": "stream",
       "stream": "stdout",
       "text": [
        "\n",
        "90"
       ]
      },
      {
       "output_type": "stream",
       "stream": "stdout",
       "text": [
        "\n",
        "Done!"
       ]
      },
      {
       "output_type": "stream",
       "stream": "stdout",
       "text": [
        "\n"
       ]
      }
     ],
     "prompt_number": 76
    },
    {
     "cell_type": "code",
     "collapsed": false,
     "input": [
      "job_lists = {p:[] for p in everyone}\n",
      "\n",
      "for t in xrange(num_iterations):\n",
      "    if t % 100 == 0:\n",
      "        print t\n",
      "    hires = simulator.generate_network(one_list=False)  # one_list=False keeps things separated by year!\n",
      "    for r, hiring_round in enumerate(hires):\n",
      "        for person, place in hiring_round:\n",
      "            job_lists[person].append(place)\n",
      "                \n",
      "print 'Done!'"
     ],
     "language": "python",
     "metadata": {},
     "outputs": [
      {
       "output_type": "stream",
       "stream": "stdout",
       "text": [
        "0\n",
        "100"
       ]
      },
      {
       "output_type": "stream",
       "stream": "stdout",
       "text": [
        "\n",
        "200"
       ]
      },
      {
       "output_type": "stream",
       "stream": "stdout",
       "text": [
        "\n",
        "300"
       ]
      },
      {
       "output_type": "stream",
       "stream": "stdout",
       "text": [
        "\n",
        "400"
       ]
      },
      {
       "output_type": "stream",
       "stream": "stdout",
       "text": [
        "\n",
        "500"
       ]
      },
      {
       "output_type": "stream",
       "stream": "stdout",
       "text": [
        "\n",
        "600"
       ]
      },
      {
       "output_type": "stream",
       "stream": "stdout",
       "text": [
        "\n",
        "700"
       ]
      },
      {
       "output_type": "stream",
       "stream": "stdout",
       "text": [
        "\n",
        "800"
       ]
      },
      {
       "output_type": "stream",
       "stream": "stdout",
       "text": [
        "\n",
        "900"
       ]
      },
      {
       "output_type": "stream",
       "stream": "stdout",
       "text": [
        "\n",
        "Done!"
       ]
      },
      {
       "output_type": "stream",
       "stream": "stdout",
       "text": [
        "\n"
       ]
      }
     ],
     "prompt_number": 43
    },
    {
     "cell_type": "code",
     "collapsed": false,
     "input": [
      "if False:\n",
      "    with open('jobLists1k.pkl', 'wb') as handle:\n",
      "        pickle.dump(job_lists, handle)\n",
      "if False:\n",
      "    with open('jobLists1k.pkl', 'rb') as handle:\n",
      "        job_lists = pickle.load(handle)"
     ],
     "language": "python",
     "metadata": {},
     "outputs": [],
     "prompt_number": 26
    },
    {
     "cell_type": "heading",
     "level": 2,
     "metadata": {},
     "source": [
      "Rank differences"
     ]
    },
    {
     "cell_type": "code",
     "collapsed": false,
     "input": [
      "person = everyone[0]\n",
      "ranking = 'pi_rescaled'\n",
      "men_diffs = []\n",
      "women_diffs = []\n",
      "\n",
      "# NEGATIVE MEANS SIMULATED JOB RANK < ACTUAL JOB RANK: THE PERSON PLACED HIGHER THAN WE'D EXPECT\n",
      "# POSTIVE MEANS SIMULATED JOB RANK > ACTUAL JOB RANK: THE PERSON PLACED LOWER THAN WE'D EXPECT\n",
      "for person in everyone:\n",
      "    for i, place in enumerate(job_lists[person]):\n",
      "        job_rank = inst.get(place, inst['UNKNOWN'])[ranking]\n",
      "        if person.is_female:\n",
      "            women_diffs.append(job_rank - person.first_asst_job_rank)\n",
      "        else:\n",
      "            men_diffs.append(job_rank - person.first_asst_job_rank)"
     ],
     "language": "python",
     "metadata": {},
     "outputs": [],
     "prompt_number": 251
    },
    {
     "cell_type": "code",
     "collapsed": false,
     "input": [
      "stat, pval = mannwhitneyu(men_diffs, women_diffs)\n",
      "sig = pval < sig_level    \n",
      "print sig, pval\n",
      "\n",
      "print 'PhD-Job Rank:'\n",
      "print 'MEN  : ', np.median(men_diffs)\n",
      "print 'WOMEN: ', np.median(women_diffs)"
     ],
     "language": "python",
     "metadata": {},
     "outputs": [
      {
       "output_type": "stream",
       "stream": "stdout",
       "text": [
        "True 0.0\n",
        "PhD-Job Rank:\n",
        "MEN  :  "
       ]
      },
      {
       "output_type": "stream",
       "stream": "stdout",
       "text": [
        "0.0\n",
        "WOMEN:  "
       ]
      },
      {
       "output_type": "stream",
       "stream": "stdout",
       "text": [
        "-0.00468832411947\n"
       ]
      }
     ],
     "prompt_number": 252
    },
    {
     "cell_type": "code",
     "collapsed": false,
     "input": [
      "bins = np.linspace(-1, 1, 100)\n",
      "\n",
      "x = linspace(-1,1, 100)\n",
      "\n",
      "'''\n",
      "men_bst = np.random.choice(men_nsh, 100000)\n",
      "pdf = gaussian_kde(men_bst)\n",
      "y = pdf(x)\n",
      "plot(x,y,linewidth=2, color=ALMOST_BLACK)\n",
      "\n",
      "women_bst = np.random.choice(women_nsh, 100000)\n",
      "pdf = gaussian_kde(women_bst)\n",
      "y = pdf(x)\n",
      "plot(x,y,linewidth=2, color=FEMALE_COLOR)\n",
      "'''\n",
      "\n",
      "hist(men_diffs, bins=bins, normed=True, color=DARK_COLOR, edgecolor=ALMOST_BLACK)\n",
      "hist(women_diffs, bins=bins, normed=True, color=FEMALE_COLOR, edgecolor=ALMOST_BLACK)\n",
      "plt.show()"
     ],
     "language": "python",
     "metadata": {},
     "outputs": [
      {
       "metadata": {},
       "output_type": "display_data",
       "png": "[encoded data removed]",
       "text": [
        "<matplotlib.figure.Figure at 0x11b524d90>"
       ]
      }
     ],
     "prompt_number": 248
    },
    {
     "cell_type": "code",
     "collapsed": false,
     "input": [
      "# EXCLUDING SELF-HIRES (nsh=no self hires)\n",
      "men_nsh = np.array(men_diffs)\n",
      "women_nsh = np.array(women_diffs)\n",
      "\n",
      "men_nsh = men_nsh[np.where(men_nsh != 0.)]\n",
      "women_nsh = women_nsh[np.where(women_nsh != 0.)]\n",
      "\n",
      "stat, pval = mannwhitneyu(men_nsh, women_nsh)\n",
      "sig = pval < sig_level    \n",
      "print sig, pval\n",
      "\n",
      "print 'PhD-Job Rank:'\n",
      "print 'MEN  : ', np.mean(men_nsh)\n",
      "print 'WOMEN: ', np.mean(women_nsh)"
     ],
     "language": "python",
     "metadata": {},
     "outputs": [
      {
       "output_type": "stream",
       "stream": "stdout",
       "text": [
        "True 0.0\n",
        "PhD-Job Rank:\n",
        "MEN  :  0.0112251622686\n",
        "WOMEN:  -0.0195573705318\n"
       ]
      }
     ],
     "prompt_number": 253
    },
    {
     "cell_type": "code",
     "collapsed": false,
     "input": [
      "bins = np.linspace(-1, 1, 100)\n",
      "\n",
      "x = linspace(-1,1, 100)\n",
      "\n",
      "'''\n",
      "men_bst = np.random.choice(men_nsh, 100000)\n",
      "pdf = gaussian_kde(men_bst)\n",
      "y = pdf(x)\n",
      "plot(x,y,linewidth=2, color=ALMOST_BLACK)\n",
      "\n",
      "women_bst = np.random.choice(women_nsh, 100000)\n",
      "pdf = gaussian_kde(women_bst)\n",
      "y = pdf(x)\n",
      "plot(x,y,linewidth=2, color=FEMALE_COLOR)\n",
      "'''\n",
      "\n",
      "hist(men_nsh, bins=bins, normed=True, color=DARK_COLOR, edgecolor=ALMOST_BLACK)\n",
      "hist(women_nsh, bins=bins, normed=True, color=FEMALE_COLOR, edgecolor=ALMOST_BLACK)\n",
      "plt.show()"
     ],
     "language": "python",
     "metadata": {},
     "outputs": [
      {
       "metadata": {},
       "output_type": "display_data",
       "png": "[encoded data removed]",
       "text": [
        "<matplotlib.figure.Figure at 0x11babb610>"
       ]
      }
     ],
     "prompt_number": 247
    },
    {
     "cell_type": "heading",
     "level": 2,
     "metadata": {},
     "source": [
      "Only people who moved down/up"
     ]
    },
    {
     "cell_type": "code",
     "collapsed": false,
     "input": [
      "ranking = 'pi_rescaled'\n",
      "men = []\n",
      "women = []\n",
      "\n",
      "for person in everyone:\n",
      "    if person.first_asst_job_rank < person.phd_rank: # MOVED DOWN\n",
      "        for i, place in enumerate(job_lists[person]):\n",
      "            job_rank = inst.get(place, inst['UNKNOWN'])[ranking]\n",
      "            if person.is_female:\n",
      "                women.append(job_rank - person.first_asst_job_rank)\n",
      "            else:\n",
      "                men.append(job_rank - person.first_asst_job_rank)\n",
      "                \n",
      "stat, pval = ttest_ind(men, women)\n",
      "sig = pval < sig_level    \n",
      "print sig, pval\n",
      "\n",
      "print 'MEN', sp.stats.ttest_1samp(men, 0.)\n",
      "print 'WOMEN', sp.stats.ttest_1samp(women, 0.)\n",
      "print ''\n",
      "\n",
      "print 'PhD-Job Rank:'\n",
      "print 'MEN  : ', np.mean(men)\n",
      "print 'WOMEN: ', np.mean(women)"
     ],
     "language": "python",
     "metadata": {},
     "outputs": [
      {
       "output_type": "stream",
       "stream": "stdout",
       "text": [
        "True 0.0\n",
        "MEN "
       ]
      },
      {
       "output_type": "stream",
       "stream": "stdout",
       "text": [
        "Ttest_1sampResult(statistic=136.86775367001749, pvalue=0.0)\n",
        "WOMEN "
       ]
      },
      {
       "output_type": "stream",
       "stream": "stdout",
       "text": [
        "Ttest_1sampResult(statistic=-16.962653114763942, pvalue=1.6463107202877976e-64)\n",
        "\n",
        "PhD-Job Rank:\n",
        "MEN  :  "
       ]
      },
      {
       "output_type": "stream",
       "stream": "stdout",
       "text": [
        "0.0339425893573\n",
        "WOMEN:  "
       ]
      },
      {
       "output_type": "stream",
       "stream": "stdout",
       "text": [
        "-0.00905101822253\n"
       ]
      }
     ],
     "prompt_number": 161
    },
    {
     "cell_type": "code",
     "collapsed": false,
     "input": [
      "ranking = 'pi_rescaled'\n",
      "men = []\n",
      "women = []\n",
      "\n",
      "for person in everyone:\n",
      "    if person.first_asst_job_rank > person.phd_rank: # MOVED UP\n",
      "        for i, place in enumerate(job_lists[person]):\n",
      "            job_rank = inst.get(place, inst['UNKNOWN'])[ranking]\n",
      "            if person.is_female:\n",
      "                women.append(job_rank - person.first_asst_job_rank)\n",
      "            else:\n",
      "                men.append(job_rank - person.first_asst_job_rank)\n",
      "                \n",
      "stat, pval = ttest_ind(men, women)\n",
      "sig = pval < sig_level    \n",
      "print sig, pval\n",
      "\n",
      "print 'PhD-Job Rank:'\n",
      "print 'MEN  : ', np.mean(men)\n",
      "print 'WOMEN: ', np.mean(women)"
     ],
     "language": "python",
     "metadata": {},
     "outputs": [
      {
       "output_type": "stream",
       "stream": "stdout",
       "text": [
        "True 1.50432059832e-246\n",
        "PhD-Job Rank:"
       ]
      },
      {
       "output_type": "stream",
       "stream": "stdout",
       "text": [
        "\n",
        "MEN  :  "
       ]
      },
      {
       "output_type": "stream",
       "stream": "stdout",
       "text": [
        "-0.0935315885276\n",
        "WOMEN:  -0.0519886869\n"
       ]
      }
     ],
     "prompt_number": 156
    },
    {
     "cell_type": "code",
     "collapsed": false,
     "input": [
      "sp.stats.ttest_1samp(men, 0.)"
     ],
     "language": "python",
     "metadata": {},
     "outputs": [
      {
       "metadata": {},
       "output_type": "pyout",
       "prompt_number": 159,
       "text": [
        "Ttest_1sampResult(statistic=-202.58094106355185, pvalue=0.0)"
       ]
      }
     ],
     "prompt_number": 159
    },
    {
     "cell_type": "code",
     "collapsed": false,
     "input": [
      "hist(men_diffs, bins=bins, normed=True)\n",
      "hist(women_diffs, bins=bins, normed=True, alpha=0.8)\n",
      "plt.show()"
     ],
     "language": "python",
     "metadata": {},
     "outputs": [
      {
       "metadata": {},
       "output_type": "display_data",
       "png": "[encoded data removed]",
       "text": [
        "<matplotlib.figure.Figure at 0x117f66910>"
       ]
      }
     ],
     "prompt_number": 155
    },
    {
     "cell_type": "code",
     "collapsed": false,
     "input": [
      "ranking = 'pi_rescaled'\n",
      "men_diffs = []\n",
      "women_diffs = []\n",
      "\n",
      "for person in everyone:\n",
      "    if person.first_asst_job_region == person.phd_region: # STAYED IN THE SAME REGION\n",
      "        for i, place in enumerate(job_lists[person]):\n",
      "            job_rank = inst.get(place, inst['UNKNOWN'])[ranking]\n",
      "            if person.is_female:\n",
      "                women_diffs.append(job_rank - person.first_asst_job_rank)\n",
      "            else:\n",
      "                men_diffs.append(job_rank - person.first_asst_job_rank)\n",
      "                \n",
      "stat, pval = ttest_ind(men_diffs, women_diffs)\n",
      "sig = pval < sig_level    \n",
      "print sig, pval\n",
      "\n",
      "print 'PhD-Job Rank:'\n",
      "print 'MEN  : ', np.mean(men_diffs)\n",
      "print 'WOMEN: ', np.mean(women_diffs)"
     ],
     "language": "python",
     "metadata": {},
     "outputs": [
      {
       "output_type": "stream",
       "stream": "stdout",
       "text": [
        "True 0.0\n",
        "Negative means the actual job rank is lower than simulated\n",
        "PhD-Job Rank:\n",
        "MEN  :  "
       ]
      },
      {
       "output_type": "stream",
       "stream": "stdout",
       "text": [
        "0.0272935487353\n",
        "WOMEN:  "
       ]
      },
      {
       "output_type": "stream",
       "stream": "stdout",
       "text": [
        "-0.036121312061\n"
       ]
      }
     ],
     "prompt_number": 51
    },
    {
     "cell_type": "heading",
     "level": 2,
     "metadata": {},
     "source": [
      "Over time"
     ]
    },
    {
     "cell_type": "code",
     "collapsed": false,
     "input": [
      "years = np.arange(1970, 2012)\n",
      "diffs_by_year = {year:[] for year in years}\n",
      "people_per_year = {year:0. for year in years}\n",
      "\n",
      "for person in everyone:\n",
      "    #if not person.is_female:\n",
      "    #    continue  # FEMALES ONLY \n",
      "    \n",
      "    year = person.first_asst_job_year\n",
      "    people_per_year[year] += 1\n",
      "    \n",
      "    for i, place in enumerate(job_lists[person]):\n",
      "        job_rank = inst.get(place, inst['UNKNOWN'])[ranking]\n",
      "        diffs_by_year[year].append(job_rank - person.first_asst_job_rank)"
     ],
     "language": "python",
     "metadata": {},
     "outputs": [],
     "prompt_number": 120
    },
    {
     "cell_type": "code",
     "collapsed": false,
     "input": [
      "def mean_confidence_interval(data, confidence=0.95):\n",
      "    a = 1.0*np.array(data)\n",
      "    n = len(a)\n",
      "    m, se = np.mean(a), sp.stats.sem(a)\n",
      "    h = se * sp.stats.t._ppf((1+confidence)/2., n-1)\n",
      "    return m, m-h, m+h"
     ],
     "language": "python",
     "metadata": {},
     "outputs": [],
     "prompt_number": 108
    },
    {
     "cell_type": "code",
     "collapsed": false,
     "input": [
      "fig, ax = plt.subplots(figsize=(8,4))\n",
      "\n",
      "averages = []\n",
      "uppers = []\n",
      "lowers = []\n",
      "\n",
      "for year in years:\n",
      "    d = np.array(diffs_by_year[year])**2\n",
      "    m, l, u = mean_confidence_interval(d)\n",
      "    averages.append(m)\n",
      "    #uppers.append(np.percentile(d, 95))\n",
      "    #lowers.append(np.percentile(d, 5))\n",
      "    uppers.append(u)\n",
      "    lowers.append(l)\n",
      "\n",
      "ax.fill_between(years, lowers, uppers, color=LIGHT_COLOR, edgecolor=\"None\")\n",
      "hide_right_top_axis(ax)\n",
      "\n",
      "ax.plot(years, averages, color=ALMOST_BLACK)\n",
      "ax.set_xlim(1970, 2011)\n",
      "ax.set_ylabel(\"Mean squared placement\\nerror per person\", fontsize=LABEL_SIZE)\n",
      "ax.set_xlabel(\"Hiring year\", fontsize=LABEL_SIZE)\n",
      "\n",
      "plt.show() "
     ],
     "language": "python",
     "metadata": {},
     "outputs": [
      {
       "metadata": {},
       "output_type": "display_data",
       "png": "[encoded data removed]",
       "text": [
        "<matplotlib.figure.Figure at 0x10c515110>"
       ]
      }
     ],
     "prompt_number": 132
    },
    {
     "cell_type": "heading",
     "level": 2,
     "metadata": {},
     "source": [
      "By year, by group"
     ]
    },
    {
     "cell_type": "code",
     "collapsed": false,
     "input": [
      "years = np.arange(1970, 2012)\n",
      "diffs_by_year = {year:[] for year in years}\n",
      "men_diffs_by_year = {year:[] for year in years}\n",
      "women_diffs_by_year = {year:[] for year in years}\n",
      "people_per_year = {year:0. for year in years}\n",
      "\n",
      "for person in everyone:   \n",
      "    year = person.first_asst_job_year\n",
      "    people_per_year[year] += 1\n",
      "    \n",
      "    for i, place in enumerate(job_lists[person]):\n",
      "        job_rank = inst.get(place, inst['UNKNOWN'])[ranking]\n",
      "        diffs_by_year[year].append(job_rank - person.first_asst_job_rank)\n",
      "        if person.is_female:\n",
      "            women_diffs_by_year[year].append(job_rank - person.first_asst_job_rank)\n",
      "        else:\n",
      "            men_diffs_by_year[year].append(job_rank - person.first_asst_job_rank)"
     ],
     "language": "python",
     "metadata": {},
     "outputs": [],
     "prompt_number": 173
    },
    {
     "cell_type": "code",
     "collapsed": false,
     "input": [
      "fig, ax = plt.subplots(figsize=(8,4))\n",
      "\n",
      "selected_years = years[5:]\n",
      "both = np.zeros(len(selected_years), dtype=float)\n",
      "men = np.zeros_like(both)\n",
      "women = np.zeros_like(both)\n",
      "\n",
      "for i, year in enumerate(selected_years):\n",
      "    #both[i] = np.mean(np.random.choice(np.array(diffs_by_year[year]), 10000))\n",
      "    #men[i] = np.mean(np.random.choice(np.array(men_diffs_by_year[year]), 10000))\n",
      "    #women[i] = np.mean(np.random.choice(np.array(women_diffs_by_year[year]), 10000))\n",
      "    \n",
      "    both[i] = np.mean(np.array(diffs_by_year[year])**2)\n",
      "    men[i] = np.mean(np.array(men_diffs_by_year[year])**2)\n",
      "    women[i] = np.mean(np.array(women_diffs_by_year[year])**2)\n",
      "\n",
      "#ax.plot(selected_years, both, '--', color=ALMOST_BLACK, linewidth=LINE_WIDTH)\n",
      "ax.plot(selected_years, men, color=ALMOST_BLACK, linewidth=LINE_WIDTH)\n",
      "ax.plot(selected_years, women, color=FEMALE_COLOR, linewidth=LINE_WIDTH)\n",
      "ax.plot(selected_years, np.abs(men-women), color=ALMOST_BLACK, linewidth=LINE_WIDTH)\n",
      "\n",
      "ax.set_xlim(selected_years[0], selected_years[-1])\n",
      "ax.set_ylabel(\"Mean squared placement error\", fontsize=LABEL_SIZE)\n",
      "ax.set_xlabel(\"Hiring year\", fontsize=LABEL_SIZE)\n",
      "hide_right_top_axis(ax)\n",
      "\n",
      "fake_line_1 = Line2D(range(1), range(1), color=FEMALE_COLOR, marker='o',markersize=15, linestyle='None', markeredgecolor='w')\n",
      "fake_line_2 = Line2D(range(1), range(1), color=ALMOST_BLACK, marker='o',markersize=15, linestyle='None', markeredgecolor='w')\n",
      "ax.legend([fake_line_1, fake_line_2],['Women', 'Men'], numpoints=1, loc='upper left', frameon=False, fontsize=LABEL_SIZE)\n",
      "\n",
      "plt.show() "
     ],
     "language": "python",
     "metadata": {},
     "outputs": [
      {
       "metadata": {},
       "output_type": "display_data",
       "png": "[encoded data removed]",
       "text": [
        "<matplotlib.figure.Figure at 0x1161d1c90>"
       ]
      }
     ],
     "prompt_number": 225
    },
    {
     "cell_type": "heading",
     "level": 2,
     "metadata": {},
     "source": [
      "Before & After 2002"
     ]
    },
    {
     "cell_type": "code",
     "collapsed": false,
     "input": [
      "years = np.arange(1970, 2012)\n",
      "split_at = 2002\n",
      "women_pre = []\n",
      "women_post = []\n",
      "\n",
      "for person in everyone:   \n",
      "    if person.is_female:\n",
      "        year = person.first_asst_job_year\n",
      "        if year <= split_at:\n",
      "            selected_list = women_pre\n",
      "        else:\n",
      "            selected_list = women_post\n",
      "\n",
      "        for i, place in enumerate(job_lists[person]):\n",
      "            job_rank = inst.get(place, inst['UNKNOWN'])[ranking]\n",
      "            selected_list.append(job_rank - person.first_asst_job_rank)\n",
      "            \n",
      "stat, pval = mannwhitneyu(women_pre, women_post)\n",
      "sig = pval < sig_level    \n",
      "print sig, pval\n",
      "\n",
      "print 'PhD-Job Rank:'\n",
      "print 'BEFORE %d : ' % split_at, np.mean(women_pre)\n",
      "print 'AFTER  %d : ' % split_at, np.mean(women_post)"
     ],
     "language": "python",
     "metadata": {},
     "outputs": [
      {
       "output_type": "stream",
       "stream": "stdout",
       "text": [
        "True 0.0182313312781\n",
        "PhD-Job Rank:\n",
        "BEFORE 2002 :  -0.0192118484547\n",
        "AFTER  2002 :  "
       ]
      },
      {
       "output_type": "stream",
       "stream": "stdout",
       "text": [
        "-0.0187302887292\n"
       ]
      }
     ],
     "prompt_number": 254
    },
    {
     "cell_type": "code",
     "collapsed": false,
     "input": [
      "hist(women_pre, bins=bins, normed=True)\n",
      "hist(women_post, bins=bins, normed=True, alpha=0.8)\n",
      "plt.show()"
     ],
     "language": "python",
     "metadata": {},
     "outputs": [
      {
       "metadata": {},
       "output_type": "display_data",
       "png": "[encoded data removed]",
       "text": [
        "<matplotlib.figure.Figure at 0x11b5242d0>"
       ]
      }
     ],
     "prompt_number": 255
    },
    {
     "cell_type": "code",
     "collapsed": false,
     "input": [
      "years = np.arange(1970, 2012)\n",
      "split_at = 2002\n",
      "counts = np.zeros((2,2), dtype=float)\n",
      "\n",
      "for person in everyone:   \n",
      "    if person.is_female:\n",
      "        post = int(person.first_asst_job_year > split_at)       \n",
      "        \n",
      "        for i, place in enumerate(job_lists[person]):\n",
      "            job_rank = inst.get(place, inst['UNKNOWN'])[ranking]\n",
      "            if person.first_asst_job_rank < job_rank:  # BELOW\n",
      "                movement_index = 0\n",
      "            elif person.first_asst_job_rank > job_rank:  # ABOVE\n",
      "                movement_index = 1\n",
      "            else:\n",
      "                continue # skip self-hires\n",
      "\n",
      "            counts[post][movement_index] += 1.\n",
      "            \n",
      "print 'pre \\t', counts[0,:]\n",
      "print 'post\\t', counts[1,:]\n",
      "chi2, pval, dof, ex = chi2_contingency(counts)\n",
      "\n",
      "print '\\nchi2 pval: ', pval\n",
      "print \"pre fraction:\", (counts[0,1] / np.sum(counts[0,:]))\n",
      "print \"post fraction:\", (counts[1,1] / np.sum(counts[1,:]))"
     ],
     "language": "python",
     "metadata": {},
     "outputs": [
      {
       "output_type": "stream",
       "stream": "stdout",
       "text": [
        "pre \t[ 111089.  120932.]\n",
        "post\t[ 111803.  121275.]\n",
        "\n",
        "chi2 pval:  0.544541415138\n",
        "pre fraction: 0.521211442068\n",
        "post fraction: 0.520319378062\n"
       ]
      }
     ],
     "prompt_number": 256
    },
    {
     "cell_type": "code",
     "collapsed": false,
     "input": [
      "years = np.arange(1970, 2012)\n",
      "split_at = 2002\n",
      "counts = np.zeros((2,2), dtype=float)\n",
      "t = 0\n",
      "\n",
      "for person in everyone:   \n",
      "    if person.is_female: # and person.first_asst_job_year > split_at:\n",
      "        postdoc = int(person.has_postdoc)\n",
      "        temp_diffs = []\n",
      "        for i, place in enumerate(job_lists[person]):\n",
      "            job_rank = inst.get(place, inst['UNKNOWN'])[ranking]\n",
      "            temp_diffs.append(person.first_asst_job_rank - job_rank)\n",
      "        \n",
      "        if np.median(temp_diffs) > 0:\n",
      "            overunder = 0\n",
      "        else:\n",
      "            overunder = 1\n",
      "        #print np.median(temp_diffs)\n",
      "\n",
      "        counts[postdoc][overunder] += 1.\n",
      "        \n",
      "print 'pre \\t', counts[0,:]\n",
      "print 'post\\t', counts[1,:]\n",
      "chi2, pval, dof, ex = chi2_contingency(counts)\n",
      "\n",
      "print '\\nchi2 pval: ', pval\n",
      "print \"no_pd fraction:\", (counts[0,1] / np.sum(counts[0,:]))\n",
      "print \"y_pd  fraction:\", (counts[1,1] / np.sum(counts[1,:]))"
     ],
     "language": "python",
     "metadata": {},
     "outputs": [
      {
       "output_type": "stream",
       "stream": "stdout",
       "text": [
        "pre \t[ 179.  175.]\n",
        "post\t[ 61.  71.]\n",
        "\n",
        "chi2 pval:  0.452223786923\n",
        "no_pd fraction: 0.494350282486\n",
        "y_pd  fraction: 0.537878787879\n"
       ]
      }
     ],
     "prompt_number": 270
    },
    {
     "cell_type": "code",
     "collapsed": false,
     "input": [
      "years = np.arange(1970, 2012)\n",
      "split_at = 2002\n",
      "counts = np.zeros((2,2), dtype=float)\n",
      "y_pd = []\n",
      "n_pd = []\n",
      "\n",
      "for person in everyone:   \n",
      "    if person.is_female: # and person.first_asst_job_year > split_at:\n",
      "        if person.has_postdoc:\n",
      "            selected_list = y_pd\n",
      "        else:\n",
      "            selected_list = n_pd\n",
      "        temp_diffs = []\n",
      "        \n",
      "        for i, place in enumerate(job_lists[person]):\n",
      "            job_rank = inst.get(place, inst['UNKNOWN'])[ranking]\n",
      "            selected_list.append(person.first_asst_job_rank - job_rank)\n",
      "        \n",
      "stat, pval = mannwhitneyu(y_pd, n_pd)\n",
      "sig = pval < sig_level    \n",
      "print sig, pval\n",
      "print 'Number w/   : ', len(y_pd)\n",
      "print 'Number w/o  : ', len(n_pd)\n",
      "print 'With postdoc median    : ', np.median(y_pd)\n",
      "print 'W/o postdoc median     : ', np.median(n_pd)"
     ],
     "language": "python",
     "metadata": {},
     "outputs": [
      {
       "output_type": "stream",
       "stream": "stdout",
       "text": [
        "True 4.43607794893e-192\n",
        "Number w/   :  131144\n",
        "Number w/o  :  348272\n",
        "With postdoc median    :  0.0\n",
        "W/o postdoc median     :  "
       ]
      },
      {
       "output_type": "stream",
       "stream": "stdout",
       "text": [
        "0.0121115039753\n"
       ]
      }
     ],
     "prompt_number": 269
    },
    {
     "cell_type": "code",
     "collapsed": false,
     "input": [],
     "language": "python",
     "metadata": {},
     "outputs": []
    }
   ],
   "metadata": {}
  }
 ]
}