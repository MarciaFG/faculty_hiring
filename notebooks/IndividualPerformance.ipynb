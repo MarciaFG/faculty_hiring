{
 "metadata": {
  "name": "",
  "signature": "sha256:2246590c1ba11979a6aa78b2d7585233c54e6abbedffdd0e496e5d6eb7ae8515"
 },
 "nbformat": 3,
 "nbformat_minor": 0,
 "worksheets": [
  {
   "cells": [
    {
     "cell_type": "code",
     "collapsed": false,
     "input": [
      "from faculty_hiring.misc.plotting import *  # Definitions for LABEL_SIZE and such\n",
      "from faculty_hiring.misc.gaussian_kde import gaussian_kde\n",
      "from faculty_hiring.models.simulation_engine import SimulationEngine\n",
      "from faculty_hiring.models.sigmoid_models import SigmoidModel\n",
      "\n",
      "import re\n",
      "import os\n",
      "import cPickle as pickle\n",
      "from collections import Counter\n",
      "from faculty_hiring.parse import faculty_parser, institution_parser\n",
      "from faculty_hiring.parse import load\n",
      "from faculty_hiring.scripts import add_zscores as cur\n",
      "from scipy.stats import ttest_ind, ks_2samp, chi2_contingency\n",
      "from scipy.optimize import curve_fit, minimize\n",
      "from scipy.misc import factorial, comb\n",
      "from mpl_toolkits.axes_grid1 import make_axes_locatable\n",
      "\n",
      "import scipy as sp\n",
      "import numpy as np\n",
      "import palettable"
     ],
     "language": "python",
     "metadata": {},
     "outputs": [],
     "prompt_number": 1
    },
    {
     "cell_type": "code",
     "collapsed": false,
     "input": [
      "cmap = palettable.tableau.Tableau_10.mpl_colormap\n",
      "colors = palettable.tableau.Tableau_10.mpl_colors\n",
      "sig_level = 0.05\n",
      "\n",
      "faculty_file = '/Users/samway//Documents/Work/ClausetLab/projects/faculty_hiring/data/faculty_cs_0930.txt'\n",
      "inst_file = '/Users/samway/Documents/Work/ClausetLab/projects/faculty_hiring/data/inst_cs.txt'\n",
      "dblp_dir = '/Users/samway/Documents/Work/ClausetLab/projects/faculty_hiring/data/profiles_DBLP_all/'\n",
      "gs_dir = '/Users/samway/Documents/Work/ClausetLab/projects/faculty_hiring/data/profiles_GS_all/'\n",
      "\n",
      "figures_dir = '/Users/samway/Documents/Work/ClausetLab/projects/faculty_hiring/notebooks/figures/'\n",
      "traj_figures_dir = '/Users/samway/Documents/Work/ClausetLab/projects/faculty_hiring/notebooks/figures/trajectories/'"
     ],
     "language": "python",
     "metadata": {},
     "outputs": [],
     "prompt_number": 2
    },
    {
     "cell_type": "code",
     "collapsed": false,
     "input": [
      "inst = institution_parser.parse_institution_records(open(inst_file))\n",
      "candidate_pools, job_pools, job_ranks, year_range = load.load_assistant_prof_pools(open(faculty_file),\n",
      "                                                                                   school_info=inst,\n",
      "                                                                                   ranking='pi_rescaled',\n",
      "                                                                                   year_start=1970,\n",
      "                                                                                   year_stop=2012,\n",
      "                                                                                   year_step=1)\n",
      "\n",
      "model_weights = np.array([33.50515855,-115.91673249,-91.18207735,10.74285411,40.06731808,4.32774111,0.85881908])  # 'all'\n",
      "model = SigmoidModel(prob_function='all', weights=model_weights)\n",
      "simulator = SimulationEngine(candidate_pools, job_pools, job_ranks, inst, model)\n",
      "\n",
      "#model_weights = np.array([54.60023718,-100.2430182,-134.20413473,33.18501126,54.58562812,24.29300306]) # 'no_gd'\n",
      "#model = SigmoidModel(prob_function='no_gd', weights=model_weights)\n",
      "#simulator = SimulationEngine(candidate_pools, job_pools, job_ranks, inst, model)\n",
      "\n",
      "num_rounds = len(candidate_pools)\n",
      "num_iterations = 1000\n",
      "women = []\n",
      "everyone = []\n",
      "for pool in candidate_pools:\n",
      "    for person, rank in pool:\n",
      "        if person.is_female:\n",
      "            women.append(person)\n",
      "        everyone.append(person)"
     ],
     "language": "python",
     "metadata": {},
     "outputs": [],
     "prompt_number": 42
    },
    {
     "cell_type": "code",
     "collapsed": false,
     "input": [
      "job_lists100 = {p:[] for p in everyone}\n",
      "\n",
      "for t in xrange(100):\n",
      "    if t % 10 == 0:\n",
      "        print t\n",
      "    hires = simulator.generate_network(one_list=False)  # one_list=False keeps things separated by year!\n",
      "    for r, hiring_round in enumerate(hires):\n",
      "        for person, place in hiring_round:\n",
      "            job_lists100[person].append(place)\n",
      "                \n",
      "print 'Done!'"
     ],
     "language": "python",
     "metadata": {},
     "outputs": [
      {
       "output_type": "stream",
       "stream": "stdout",
       "text": [
        "0\n",
        "10"
       ]
      },
      {
       "output_type": "stream",
       "stream": "stdout",
       "text": [
        "\n",
        "20"
       ]
      },
      {
       "output_type": "stream",
       "stream": "stdout",
       "text": [
        "\n",
        "30"
       ]
      },
      {
       "output_type": "stream",
       "stream": "stdout",
       "text": [
        "\n",
        "40"
       ]
      },
      {
       "output_type": "stream",
       "stream": "stdout",
       "text": [
        "\n",
        "50"
       ]
      },
      {
       "output_type": "stream",
       "stream": "stdout",
       "text": [
        "\n",
        "60"
       ]
      },
      {
       "output_type": "stream",
       "stream": "stdout",
       "text": [
        "\n",
        "70"
       ]
      },
      {
       "output_type": "stream",
       "stream": "stdout",
       "text": [
        "\n",
        "80"
       ]
      },
      {
       "output_type": "stream",
       "stream": "stdout",
       "text": [
        "\n",
        "90"
       ]
      },
      {
       "output_type": "stream",
       "stream": "stdout",
       "text": [
        "\n",
        "Done!"
       ]
      },
      {
       "output_type": "stream",
       "stream": "stdout",
       "text": [
        "\n"
       ]
      }
     ],
     "prompt_number": 76
    },
    {
     "cell_type": "code",
     "collapsed": false,
     "input": [
      "job_lists = {p:[] for p in everyone}\n",
      "\n",
      "for t in xrange(num_iterations):\n",
      "    if t % 100 == 0:\n",
      "        print t\n",
      "    hires = simulator.generate_network(one_list=False)  # one_list=False keeps things separated by year!\n",
      "    for r, hiring_round in enumerate(hires):\n",
      "        for person, place in hiring_round:\n",
      "            job_lists[person].append(place)\n",
      "                \n",
      "print 'Done!'"
     ],
     "language": "python",
     "metadata": {},
     "outputs": [
      {
       "output_type": "stream",
       "stream": "stdout",
       "text": [
        "0\n",
        "100"
       ]
      },
      {
       "output_type": "stream",
       "stream": "stdout",
       "text": [
        "\n",
        "200"
       ]
      },
      {
       "output_type": "stream",
       "stream": "stdout",
       "text": [
        "\n",
        "300"
       ]
      },
      {
       "output_type": "stream",
       "stream": "stdout",
       "text": [
        "\n",
        "400"
       ]
      },
      {
       "output_type": "stream",
       "stream": "stdout",
       "text": [
        "\n",
        "500"
       ]
      },
      {
       "output_type": "stream",
       "stream": "stdout",
       "text": [
        "\n",
        "600"
       ]
      },
      {
       "output_type": "stream",
       "stream": "stdout",
       "text": [
        "\n",
        "700"
       ]
      },
      {
       "output_type": "stream",
       "stream": "stdout",
       "text": [
        "\n",
        "800"
       ]
      },
      {
       "output_type": "stream",
       "stream": "stdout",
       "text": [
        "\n",
        "900"
       ]
      },
      {
       "output_type": "stream",
       "stream": "stdout",
       "text": [
        "\n",
        "Done!"
       ]
      },
      {
       "output_type": "stream",
       "stream": "stdout",
       "text": [
        "\n"
       ]
      }
     ],
     "prompt_number": 43
    },
    {
     "cell_type": "code",
     "collapsed": false,
     "input": [
      "if False:\n",
      "    with open('jobLists1k.pkl', 'wb') as handle:\n",
      "        pickle.dump(job_lists, handle)\n",
      "if False:\n",
      "    with open('jobLists1k.pkl', 'rb') as handle:\n",
      "        job_lists = pickle.load(handle)"
     ],
     "language": "python",
     "metadata": {},
     "outputs": [],
     "prompt_number": 26
    },
    {
     "cell_type": "heading",
     "level": 2,
     "metadata": {},
     "source": [
      "Rank differences"
     ]
    },
    {
     "cell_type": "code",
     "collapsed": false,
     "input": [
      "person = everyone[0]\n",
      "ranking = 'pi_rescaled'\n",
      "men_diffs = []\n",
      "women_diffs = []\n",
      "\n",
      "for person in everyone:\n",
      "    for i, place in enumerate(job_lists[person]):\n",
      "        job_rank = inst.get(place, inst['UNKNOWN'])[ranking]\n",
      "        if person.is_female:\n",
      "            women_diffs.append(job_rank - person.first_asst_job_rank)\n",
      "        else:\n",
      "            men_diffs.append(job_rank - person.first_asst_job_rank)"
     ],
     "language": "python",
     "metadata": {},
     "outputs": [],
     "prompt_number": 44
    },
    {
     "cell_type": "code",
     "collapsed": false,
     "input": [
      "stat, pval = ttest_ind(men_diffs, women_diffs)\n",
      "sig = pval < sig_level    \n",
      "print sig, pval\n",
      "\n",
      "print 'Negative means the actual job rank is lower than simulated'\n",
      "print 'PhD-Job Rank:'\n",
      "print 'MEN  : ', np.mean(men_diffs)\n",
      "print 'WOMEN: ', np.mean(women_diffs)"
     ],
     "language": "python",
     "metadata": {},
     "outputs": [
      {
       "output_type": "stream",
       "stream": "stdout",
       "text": [
        "True 0.0\n",
        "Negative means the actual job rank is lower than simulated\n",
        "PhD-Job Rank:\n",
        "MEN  :  "
       ]
      },
      {
       "output_type": "stream",
       "stream": "stdout",
       "text": [
        "0.0108569374785\n",
        "WOMEN:  "
       ]
      },
      {
       "output_type": "stream",
       "stream": "stdout",
       "text": [
        "-0.0189733206171\n"
       ]
      }
     ],
     "prompt_number": 45
    },
    {
     "cell_type": "code",
     "collapsed": false,
     "input": [
      "# EXCLUDING SELF-HIRES (nsh=no self hires)\n",
      "men_nsh = np.array(men_diffs)\n",
      "women_nsh = np.array(women_diffs)\n",
      "\n",
      "men_nsh = men_nsh[np.where(men_nsh != 0.)]\n",
      "women_nsh = women_nsh[np.where(women_nsh != 0.)]\n",
      "\n",
      "stat, pval = ttest_ind(men_nsh, women_nsh)\n",
      "sig = pval < sig_level    \n",
      "print sig, pval\n",
      "\n",
      "print 'Negative means the actual job rank is lower than simulated'\n",
      "print 'PhD-Job Rank:'\n",
      "print 'MEN  : ', np.mean(men_nsh)\n",
      "print 'WOMEN: ', np.mean(women_nsh)"
     ],
     "language": "python",
     "metadata": {},
     "outputs": [
      {
       "output_type": "stream",
       "stream": "stdout",
       "text": [
        "True 0.0\n",
        "Negative means the actual job rank is lower than simulated\n",
        "PhD-Job Rank:\n",
        "MEN  :  0.0112251622686\n",
        "WOMEN:  -0.0195573705318\n"
       ]
      }
     ],
     "prompt_number": 46
    },
    {
     "cell_type": "code",
     "collapsed": false,
     "input": [
      "bins = np.linspace(-1, 1, 100)\n",
      "'''\n",
      "x = linspace(-1,1, 100)\n",
      "pdf = gaussian_kde(men_nsh)\n",
      "y = pdf(x)\n",
      "plot(x,np.cumsum(y),linewidth=2, color=ALMOST_BLACK)\n",
      "\n",
      "pdf = gaussian_kde(women_nsh)\n",
      "y = pdf(x)\n",
      "plot(x,np.cumsum(y),linewidth=2, color=FEMALE_COLOR)\n",
      "'''\n",
      "\n",
      "hist(men_nsh, bins=bins, normed=True)\n",
      "hist(women_nsh, bins=bins, normed=True)\n",
      "plt.show()"
     ],
     "language": "python",
     "metadata": {},
     "outputs": [
      {
       "metadata": {},
       "output_type": "display_data",
       "png": "[encoded data removed]",
       "text": [
        "<matplotlib.figure.Figure at 0x10a03a950>"
       ]
      }
     ],
     "prompt_number": 47
    },
    {
     "cell_type": "heading",
     "level": 2,
     "metadata": {},
     "source": [
      "Only people who moved down/up"
     ]
    },
    {
     "cell_type": "code",
     "collapsed": false,
     "input": [
      "ranking = 'pi_rescaled'\n",
      "men_diffs = []\n",
      "women_diffs = []\n",
      "\n",
      "for person in everyone:\n",
      "    if person.first_asst_job_rank < person.phd_rank: # MOVED DOWN\n",
      "        for i, place in enumerate(job_lists[person]):\n",
      "            job_rank = inst.get(place, inst['UNKNOWN'])[ranking]\n",
      "            if person.is_female:\n",
      "                women_diffs.append(job_rank - person.first_asst_job_rank)\n",
      "            else:\n",
      "                men_diffs.append(job_rank - person.first_asst_job_rank)\n",
      "                \n",
      "stat, pval = ttest_ind(men_diffs, women_diffs)\n",
      "sig = pval < sig_level    \n",
      "print sig, pval\n",
      "\n",
      "print 'Negative means the actual job rank is lower than simulated'\n",
      "print 'PhD-Job Rank:'\n",
      "print 'MEN  : ', np.mean(men_diffs)\n",
      "print 'WOMEN: ', np.mean(women_diffs)"
     ],
     "language": "python",
     "metadata": {},
     "outputs": [
      {
       "output_type": "stream",
       "stream": "stdout",
       "text": [
        "True 0.0\n",
        "Negative means the actual job rank is lower than simulated\n",
        "PhD-Job Rank:\n",
        "MEN  :  "
       ]
      },
      {
       "output_type": "stream",
       "stream": "stdout",
       "text": [
        "0.0339425893573\n",
        "WOMEN:  "
       ]
      },
      {
       "output_type": "stream",
       "stream": "stdout",
       "text": [
        "-0.00905101822253\n"
       ]
      }
     ],
     "prompt_number": 48
    },
    {
     "cell_type": "code",
     "collapsed": false,
     "input": [
      "ranking = 'pi_rescaled'\n",
      "men_diffs = []\n",
      "women_diffs = []\n",
      "\n",
      "for person in everyone:\n",
      "    if person.first_asst_job_rank > person.phd_rank: # MOVED UP\n",
      "        for i, place in enumerate(job_lists[person]):\n",
      "            job_rank = inst.get(place, inst['UNKNOWN'])[ranking]\n",
      "            if person.is_female:\n",
      "                women_diffs.append(job_rank - person.first_asst_job_rank)\n",
      "            else:\n",
      "                men_diffs.append(job_rank - person.first_asst_job_rank)\n",
      "                \n",
      "stat, pval = ttest_ind(men_diffs, women_diffs)\n",
      "sig = pval < sig_level    \n",
      "print sig, pval\n",
      "\n",
      "print 'Negative means the actual job rank is lower than simulated'\n",
      "print 'PhD-Job Rank:'\n",
      "print 'MEN  : ', np.mean(men_diffs)\n",
      "print 'WOMEN: ', np.mean(women_diffs)"
     ],
     "language": "python",
     "metadata": {},
     "outputs": [
      {
       "output_type": "stream",
       "stream": "stdout",
       "text": [
        "True 1.50432059832e-246\n",
        "Negative means the actual job rank is lower than simulated\n",
        "PhD-Job Rank:\n",
        "MEN  :  "
       ]
      },
      {
       "output_type": "stream",
       "stream": "stdout",
       "text": [
        "-0.0935315885276\n",
        "WOMEN:  -0.0519886869\n"
       ]
      }
     ],
     "prompt_number": 49
    },
    {
     "cell_type": "code",
     "collapsed": false,
     "input": [
      "hist(men_diffs, bins=bins, normed=True)\n",
      "hist(women_diffs, bins=bins, normed=True, alpha=0.8)\n",
      "plt.show()"
     ],
     "language": "python",
     "metadata": {},
     "outputs": [
      {
       "metadata": {},
       "output_type": "display_data",
       "png": "[encoded data removed]",
       "text": [
        "<matplotlib.figure.Figure at 0x112335910>"
       ]
      }
     ],
     "prompt_number": 50
    },
    {
     "cell_type": "code",
     "collapsed": false,
     "input": [
      "ranking = 'pi_rescaled'\n",
      "men_diffs = []\n",
      "women_diffs = []\n",
      "\n",
      "for person in everyone:\n",
      "    if person.first_asst_job_region == person.phd_region: # STAYED IN THE SAME REGION\n",
      "        for i, place in enumerate(job_lists[person]):\n",
      "            job_rank = inst.get(place, inst['UNKNOWN'])[ranking]\n",
      "            if person.is_female:\n",
      "                women_diffs.append(job_rank - person.first_asst_job_rank)\n",
      "            else:\n",
      "                men_diffs.append(job_rank - person.first_asst_job_rank)\n",
      "                \n",
      "stat, pval = ttest_ind(men_diffs, women_diffs)\n",
      "sig = pval < sig_level    \n",
      "print sig, pval\n",
      "\n",
      "print 'Negative means the actual job rank is lower than simulated'\n",
      "print 'PhD-Job Rank:'\n",
      "print 'MEN  : ', np.mean(men_diffs)\n",
      "print 'WOMEN: ', np.mean(women_diffs)"
     ],
     "language": "python",
     "metadata": {},
     "outputs": [
      {
       "output_type": "stream",
       "stream": "stdout",
       "text": [
        "True 0.0\n",
        "Negative means the actual job rank is lower than simulated\n",
        "PhD-Job Rank:\n",
        "MEN  :  "
       ]
      },
      {
       "output_type": "stream",
       "stream": "stdout",
       "text": [
        "0.0272935487353\n",
        "WOMEN:  "
       ]
      },
      {
       "output_type": "stream",
       "stream": "stdout",
       "text": [
        "-0.036121312061\n"
       ]
      }
     ],
     "prompt_number": 51
    },
    {
     "cell_type": "heading",
     "level": 2,
     "metadata": {},
     "source": [
      "Over time"
     ]
    },
    {
     "cell_type": "code",
     "collapsed": false,
     "input": [
      "years = np.arange(1970, 2012)\n",
      "diffs_by_year = {year:[] for year in years}\n",
      "\n",
      "for person in everyone:\n",
      "    year = person.first_asst_job_year\n",
      "    \n",
      "    for i, place in enumerate(job_lists[person]):\n",
      "        job_rank = inst.get(place, inst['UNKNOWN'])[ranking]\n",
      "        diffs_by_year[year].append(job_rank - person.first_asst_job_rank)"
     ],
     "language": "python",
     "metadata": {},
     "outputs": [],
     "prompt_number": 80
    },
    {
     "cell_type": "code",
     "collapsed": false,
     "input": [
      "def mean_confidence_interval(data, confidence=0.95):\n",
      "    a = 1.0*np.array(data)\n",
      "    n = len(a)\n",
      "    m, se = np.mean(a), sp.stats.sem(a)\n",
      "    h = se * sp.stats.t._ppf((1+confidence)/2., n-1)\n",
      "    return m, m-h, m+h"
     ],
     "language": "python",
     "metadata": {},
     "outputs": [],
     "prompt_number": 81
    },
    {
     "cell_type": "code",
     "collapsed": false,
     "input": [
      "fig, ax = plt.subplots(figsize=(8,4))\n",
      "\n",
      "averages = []\n",
      "uppers = []\n",
      "lowers = []\n",
      "\n",
      "for year in years:\n",
      "    m, l, u = mean_confidence_interval(diffs_by_year[year])\n",
      "    averages.append(m)\n",
      "    uppers.append(u)\n",
      "    lowers.append(l)\n",
      "\n",
      "ax.fill_between(years, lowers, uppers, color=LIGHT_COLOR, edgecolor=\"None\")\n",
      "hide_right_top_axis(ax)\n",
      "\n",
      "ax.plot(years, averages, color=ALMOST_BLACK)\n",
      "ax.set_xlim(1970, 2011)\n",
      "plt.show() "
     ],
     "language": "python",
     "metadata": {},
     "outputs": [
      {
       "metadata": {},
       "output_type": "display_data",
       "png": "[encoded data removed]",
       "text": [
        "<matplotlib.figure.Figure at 0x1155b89d0>"
       ]
      }
     ],
     "prompt_number": 82
    },
    {
     "cell_type": "code",
     "collapsed": false,
     "input": [
      "fig, ax = plt.subplots(figsize=(8,4))\n",
      "\n",
      "averages = []\n",
      "uppers = []\n",
      "lowers = []\n",
      "\n",
      "for year in years:\n",
      "    m, l, u = mean_confidence_interval(diffs_by_year[year])\n",
      "    averages.append(m)\n",
      "    uppers.append(u)\n",
      "    lowers.append(l)\n",
      "\n",
      "ax.fill_between(years, lowers, uppers, color=LIGHT_COLOR, edgecolor=\"None\")\n",
      "hide_right_top_axis(ax)\n",
      "\n",
      "ax.plot(years, averages, color=ALMOST_BLACK)\n",
      "ax.set_xlim(1970, 2011)\n",
      "plt.show() "
     ],
     "language": "python",
     "metadata": {},
     "outputs": [
      {
       "metadata": {},
       "output_type": "display_data",
       "png": "[encoded data removed]",
       "text": [
        "<matplotlib.figure.Figure at 0x11572cf10>"
       ]
      }
     ],
     "prompt_number": 79
    },
    {
     "cell_type": "code",
     "collapsed": false,
     "input": [],
     "language": "python",
     "metadata": {},
     "outputs": []
    }
   ],
   "metadata": {}
  }
 ]
}